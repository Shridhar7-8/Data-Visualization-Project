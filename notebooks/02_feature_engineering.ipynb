{
  "cells": [
    {
      "cell_type": "markdown",
      "metadata": {
        "id": "hrDOIMiMZNCC"
      },
      "source": [
        "# Hospital Readmission Prediction - Feature Engineering\n",
        "\n",
        "This notebook focuses on feature engineering for the hospital readmission prediction model. We'll transform raw features into more informative ones and prepare the data for modeling."
      ]
    },
    {
      "cell_type": "code",
      "execution_count": 72,
      "metadata": {
        "id": "_-OU6-2YZNCE"
      },
      "outputs": [],
      "source": [
        "import pandas as pd\n",
        "import numpy as np\n",
        "import matplotlib.pyplot as plt\n",
        "import seaborn as sns\n",
        "from sklearn.preprocessing import StandardScaler\n",
        "from sklearn.feature_selection import SelectKBest, f_classif, RFE\n",
        "from sklearn.ensemble import RandomForestClassifier\n",
        "import warnings\n",
        "plt.style.use('seaborn-v0_8-whitegrid')\n",
        "sns.set_palette('Set2')\n",
        "pd.set_option('display.max_columns', None)\n",
        "pd.set_option('display.width', 1000)\n",
        "warnings.filterwarnings('ignore')"
      ]
    },
    {
      "cell_type": "markdown",
      "metadata": {
        "id": "dHQMcGJAZNCF"
      },
      "source": [
        "## 1. Load the Data"
      ]
    },
    {
      "cell_type": "code",
      "execution_count": 73,
      "metadata": {
        "id": "lQACXwpWZNCF",
        "colab": {
          "base_uri": "https://localhost:8080/",
          "height": 347
        },
        "outputId": "435a372b-49c6-4145-965f-b2026b66a510"
      },
      "outputs": [
        {
          "output_type": "stream",
          "name": "stdout",
          "text": [
            "Dataset shape: (101766, 50)\n"
          ]
        },
        {
          "output_type": "execute_result",
          "data": {
            "text/plain": [
              "   encounter_id  patient_nbr             race  gender      age weight  admission_type_id  discharge_disposition_id  admission_source_id  time_in_hospital payer_code         medical_specialty  num_lab_procedures  num_procedures  num_medications  number_outpatient  number_emergency  number_inpatient  diag_1  diag_2 diag_3  number_diagnoses max_glu_serum A1Cresult metformin repaglinide nateglinide chlorpropamide glimepiride acetohexamide glipizide glyburide tolbutamide pioglitazone rosiglitazone acarbose miglitol troglitazone tolazamide examide citoglipton insulin glyburide-metformin glipizide-metformin glimepiride-pioglitazone metformin-rosiglitazone metformin-pioglitazone change diabetesMed readmitted\n",
              "0       2278392      8222157        Caucasian  Female   [0-10)      ?                  6                        25                    1                 1          ?  Pediatrics-Endocrinology                  41               0                1                  0                 0                 0  250.83       ?      ?                 1           NaN       NaN        No          No          No             No          No            No        No        No          No           No            No       No       No           No         No      No          No      No                  No                  No                       No                      No                     No     No          No         NO\n",
              "1        149190     55629189        Caucasian  Female  [10-20)      ?                  1                         1                    7                 3          ?                         ?                  59               0               18                  0                 0                 0     276  250.01    255                 9           NaN       NaN        No          No          No             No          No            No        No        No          No           No            No       No       No           No         No      No          No      Up                  No                  No                       No                      No                     No     Ch         Yes        >30\n",
              "2         64410     86047875  AfricanAmerican  Female  [20-30)      ?                  1                         1                    7                 2          ?                         ?                  11               5               13                  2                 0                 1     648     250    V27                 6           NaN       NaN        No          No          No             No          No            No    Steady        No          No           No            No       No       No           No         No      No          No      No                  No                  No                       No                      No                     No     No         Yes         NO\n",
              "3        500364     82442376        Caucasian    Male  [30-40)      ?                  1                         1                    7                 2          ?                         ?                  44               1               16                  0                 0                 0       8  250.43    403                 7           NaN       NaN        No          No          No             No          No            No        No        No          No           No            No       No       No           No         No      No          No      Up                  No                  No                       No                      No                     No     Ch         Yes         NO\n",
              "4         16680     42519267        Caucasian    Male  [40-50)      ?                  1                         1                    7                 1          ?                         ?                  51               0                8                  0                 0                 0     197     157    250                 5           NaN       NaN        No          No          No             No          No            No    Steady        No          No           No            No       No       No           No         No      No          No  Steady                  No                  No                       No                      No                     No     Ch         Yes         NO"
            ],
            "text/html": [
              "\n",
              "  <div id=\"df-60d50a6c-fb70-4ab4-a950-5f579578e00e\" class=\"colab-df-container\">\n",
              "    <div>\n",
              "<style scoped>\n",
              "    .dataframe tbody tr th:only-of-type {\n",
              "        vertical-align: middle;\n",
              "    }\n",
              "\n",
              "    .dataframe tbody tr th {\n",
              "        vertical-align: top;\n",
              "    }\n",
              "\n",
              "    .dataframe thead th {\n",
              "        text-align: right;\n",
              "    }\n",
              "</style>\n",
              "<table border=\"1\" class=\"dataframe\">\n",
              "  <thead>\n",
              "    <tr style=\"text-align: right;\">\n",
              "      <th></th>\n",
              "      <th>encounter_id</th>\n",
              "      <th>patient_nbr</th>\n",
              "      <th>race</th>\n",
              "      <th>gender</th>\n",
              "      <th>age</th>\n",
              "      <th>weight</th>\n",
              "      <th>admission_type_id</th>\n",
              "      <th>discharge_disposition_id</th>\n",
              "      <th>admission_source_id</th>\n",
              "      <th>time_in_hospital</th>\n",
              "      <th>payer_code</th>\n",
              "      <th>medical_specialty</th>\n",
              "      <th>num_lab_procedures</th>\n",
              "      <th>num_procedures</th>\n",
              "      <th>num_medications</th>\n",
              "      <th>number_outpatient</th>\n",
              "      <th>number_emergency</th>\n",
              "      <th>number_inpatient</th>\n",
              "      <th>diag_1</th>\n",
              "      <th>diag_2</th>\n",
              "      <th>diag_3</th>\n",
              "      <th>number_diagnoses</th>\n",
              "      <th>max_glu_serum</th>\n",
              "      <th>A1Cresult</th>\n",
              "      <th>metformin</th>\n",
              "      <th>repaglinide</th>\n",
              "      <th>nateglinide</th>\n",
              "      <th>chlorpropamide</th>\n",
              "      <th>glimepiride</th>\n",
              "      <th>acetohexamide</th>\n",
              "      <th>glipizide</th>\n",
              "      <th>glyburide</th>\n",
              "      <th>tolbutamide</th>\n",
              "      <th>pioglitazone</th>\n",
              "      <th>rosiglitazone</th>\n",
              "      <th>acarbose</th>\n",
              "      <th>miglitol</th>\n",
              "      <th>troglitazone</th>\n",
              "      <th>tolazamide</th>\n",
              "      <th>examide</th>\n",
              "      <th>citoglipton</th>\n",
              "      <th>insulin</th>\n",
              "      <th>glyburide-metformin</th>\n",
              "      <th>glipizide-metformin</th>\n",
              "      <th>glimepiride-pioglitazone</th>\n",
              "      <th>metformin-rosiglitazone</th>\n",
              "      <th>metformin-pioglitazone</th>\n",
              "      <th>change</th>\n",
              "      <th>diabetesMed</th>\n",
              "      <th>readmitted</th>\n",
              "    </tr>\n",
              "  </thead>\n",
              "  <tbody>\n",
              "    <tr>\n",
              "      <th>0</th>\n",
              "      <td>2278392</td>\n",
              "      <td>8222157</td>\n",
              "      <td>Caucasian</td>\n",
              "      <td>Female</td>\n",
              "      <td>[0-10)</td>\n",
              "      <td>?</td>\n",
              "      <td>6</td>\n",
              "      <td>25</td>\n",
              "      <td>1</td>\n",
              "      <td>1</td>\n",
              "      <td>?</td>\n",
              "      <td>Pediatrics-Endocrinology</td>\n",
              "      <td>41</td>\n",
              "      <td>0</td>\n",
              "      <td>1</td>\n",
              "      <td>0</td>\n",
              "      <td>0</td>\n",
              "      <td>0</td>\n",
              "      <td>250.83</td>\n",
              "      <td>?</td>\n",
              "      <td>?</td>\n",
              "      <td>1</td>\n",
              "      <td>NaN</td>\n",
              "      <td>NaN</td>\n",
              "      <td>No</td>\n",
              "      <td>No</td>\n",
              "      <td>No</td>\n",
              "      <td>No</td>\n",
              "      <td>No</td>\n",
              "      <td>No</td>\n",
              "      <td>No</td>\n",
              "      <td>No</td>\n",
              "      <td>No</td>\n",
              "      <td>No</td>\n",
              "      <td>No</td>\n",
              "      <td>No</td>\n",
              "      <td>No</td>\n",
              "      <td>No</td>\n",
              "      <td>No</td>\n",
              "      <td>No</td>\n",
              "      <td>No</td>\n",
              "      <td>No</td>\n",
              "      <td>No</td>\n",
              "      <td>No</td>\n",
              "      <td>No</td>\n",
              "      <td>No</td>\n",
              "      <td>No</td>\n",
              "      <td>No</td>\n",
              "      <td>No</td>\n",
              "      <td>NO</td>\n",
              "    </tr>\n",
              "    <tr>\n",
              "      <th>1</th>\n",
              "      <td>149190</td>\n",
              "      <td>55629189</td>\n",
              "      <td>Caucasian</td>\n",
              "      <td>Female</td>\n",
              "      <td>[10-20)</td>\n",
              "      <td>?</td>\n",
              "      <td>1</td>\n",
              "      <td>1</td>\n",
              "      <td>7</td>\n",
              "      <td>3</td>\n",
              "      <td>?</td>\n",
              "      <td>?</td>\n",
              "      <td>59</td>\n",
              "      <td>0</td>\n",
              "      <td>18</td>\n",
              "      <td>0</td>\n",
              "      <td>0</td>\n",
              "      <td>0</td>\n",
              "      <td>276</td>\n",
              "      <td>250.01</td>\n",
              "      <td>255</td>\n",
              "      <td>9</td>\n",
              "      <td>NaN</td>\n",
              "      <td>NaN</td>\n",
              "      <td>No</td>\n",
              "      <td>No</td>\n",
              "      <td>No</td>\n",
              "      <td>No</td>\n",
              "      <td>No</td>\n",
              "      <td>No</td>\n",
              "      <td>No</td>\n",
              "      <td>No</td>\n",
              "      <td>No</td>\n",
              "      <td>No</td>\n",
              "      <td>No</td>\n",
              "      <td>No</td>\n",
              "      <td>No</td>\n",
              "      <td>No</td>\n",
              "      <td>No</td>\n",
              "      <td>No</td>\n",
              "      <td>No</td>\n",
              "      <td>Up</td>\n",
              "      <td>No</td>\n",
              "      <td>No</td>\n",
              "      <td>No</td>\n",
              "      <td>No</td>\n",
              "      <td>No</td>\n",
              "      <td>Ch</td>\n",
              "      <td>Yes</td>\n",
              "      <td>&gt;30</td>\n",
              "    </tr>\n",
              "    <tr>\n",
              "      <th>2</th>\n",
              "      <td>64410</td>\n",
              "      <td>86047875</td>\n",
              "      <td>AfricanAmerican</td>\n",
              "      <td>Female</td>\n",
              "      <td>[20-30)</td>\n",
              "      <td>?</td>\n",
              "      <td>1</td>\n",
              "      <td>1</td>\n",
              "      <td>7</td>\n",
              "      <td>2</td>\n",
              "      <td>?</td>\n",
              "      <td>?</td>\n",
              "      <td>11</td>\n",
              "      <td>5</td>\n",
              "      <td>13</td>\n",
              "      <td>2</td>\n",
              "      <td>0</td>\n",
              "      <td>1</td>\n",
              "      <td>648</td>\n",
              "      <td>250</td>\n",
              "      <td>V27</td>\n",
              "      <td>6</td>\n",
              "      <td>NaN</td>\n",
              "      <td>NaN</td>\n",
              "      <td>No</td>\n",
              "      <td>No</td>\n",
              "      <td>No</td>\n",
              "      <td>No</td>\n",
              "      <td>No</td>\n",
              "      <td>No</td>\n",
              "      <td>Steady</td>\n",
              "      <td>No</td>\n",
              "      <td>No</td>\n",
              "      <td>No</td>\n",
              "      <td>No</td>\n",
              "      <td>No</td>\n",
              "      <td>No</td>\n",
              "      <td>No</td>\n",
              "      <td>No</td>\n",
              "      <td>No</td>\n",
              "      <td>No</td>\n",
              "      <td>No</td>\n",
              "      <td>No</td>\n",
              "      <td>No</td>\n",
              "      <td>No</td>\n",
              "      <td>No</td>\n",
              "      <td>No</td>\n",
              "      <td>No</td>\n",
              "      <td>Yes</td>\n",
              "      <td>NO</td>\n",
              "    </tr>\n",
              "    <tr>\n",
              "      <th>3</th>\n",
              "      <td>500364</td>\n",
              "      <td>82442376</td>\n",
              "      <td>Caucasian</td>\n",
              "      <td>Male</td>\n",
              "      <td>[30-40)</td>\n",
              "      <td>?</td>\n",
              "      <td>1</td>\n",
              "      <td>1</td>\n",
              "      <td>7</td>\n",
              "      <td>2</td>\n",
              "      <td>?</td>\n",
              "      <td>?</td>\n",
              "      <td>44</td>\n",
              "      <td>1</td>\n",
              "      <td>16</td>\n",
              "      <td>0</td>\n",
              "      <td>0</td>\n",
              "      <td>0</td>\n",
              "      <td>8</td>\n",
              "      <td>250.43</td>\n",
              "      <td>403</td>\n",
              "      <td>7</td>\n",
              "      <td>NaN</td>\n",
              "      <td>NaN</td>\n",
              "      <td>No</td>\n",
              "      <td>No</td>\n",
              "      <td>No</td>\n",
              "      <td>No</td>\n",
              "      <td>No</td>\n",
              "      <td>No</td>\n",
              "      <td>No</td>\n",
              "      <td>No</td>\n",
              "      <td>No</td>\n",
              "      <td>No</td>\n",
              "      <td>No</td>\n",
              "      <td>No</td>\n",
              "      <td>No</td>\n",
              "      <td>No</td>\n",
              "      <td>No</td>\n",
              "      <td>No</td>\n",
              "      <td>No</td>\n",
              "      <td>Up</td>\n",
              "      <td>No</td>\n",
              "      <td>No</td>\n",
              "      <td>No</td>\n",
              "      <td>No</td>\n",
              "      <td>No</td>\n",
              "      <td>Ch</td>\n",
              "      <td>Yes</td>\n",
              "      <td>NO</td>\n",
              "    </tr>\n",
              "    <tr>\n",
              "      <th>4</th>\n",
              "      <td>16680</td>\n",
              "      <td>42519267</td>\n",
              "      <td>Caucasian</td>\n",
              "      <td>Male</td>\n",
              "      <td>[40-50)</td>\n",
              "      <td>?</td>\n",
              "      <td>1</td>\n",
              "      <td>1</td>\n",
              "      <td>7</td>\n",
              "      <td>1</td>\n",
              "      <td>?</td>\n",
              "      <td>?</td>\n",
              "      <td>51</td>\n",
              "      <td>0</td>\n",
              "      <td>8</td>\n",
              "      <td>0</td>\n",
              "      <td>0</td>\n",
              "      <td>0</td>\n",
              "      <td>197</td>\n",
              "      <td>157</td>\n",
              "      <td>250</td>\n",
              "      <td>5</td>\n",
              "      <td>NaN</td>\n",
              "      <td>NaN</td>\n",
              "      <td>No</td>\n",
              "      <td>No</td>\n",
              "      <td>No</td>\n",
              "      <td>No</td>\n",
              "      <td>No</td>\n",
              "      <td>No</td>\n",
              "      <td>Steady</td>\n",
              "      <td>No</td>\n",
              "      <td>No</td>\n",
              "      <td>No</td>\n",
              "      <td>No</td>\n",
              "      <td>No</td>\n",
              "      <td>No</td>\n",
              "      <td>No</td>\n",
              "      <td>No</td>\n",
              "      <td>No</td>\n",
              "      <td>No</td>\n",
              "      <td>Steady</td>\n",
              "      <td>No</td>\n",
              "      <td>No</td>\n",
              "      <td>No</td>\n",
              "      <td>No</td>\n",
              "      <td>No</td>\n",
              "      <td>Ch</td>\n",
              "      <td>Yes</td>\n",
              "      <td>NO</td>\n",
              "    </tr>\n",
              "  </tbody>\n",
              "</table>\n",
              "</div>\n",
              "    <div class=\"colab-df-buttons\">\n",
              "\n",
              "  <div class=\"colab-df-container\">\n",
              "    <button class=\"colab-df-convert\" onclick=\"convertToInteractive('df-60d50a6c-fb70-4ab4-a950-5f579578e00e')\"\n",
              "            title=\"Convert this dataframe to an interactive table.\"\n",
              "            style=\"display:none;\">\n",
              "\n",
              "  <svg xmlns=\"http://www.w3.org/2000/svg\" height=\"24px\" viewBox=\"0 -960 960 960\">\n",
              "    <path d=\"M120-120v-720h720v720H120Zm60-500h600v-160H180v160Zm220 220h160v-160H400v160Zm0 220h160v-160H400v160ZM180-400h160v-160H180v160Zm440 0h160v-160H620v160ZM180-180h160v-160H180v160Zm440 0h160v-160H620v160Z\"/>\n",
              "  </svg>\n",
              "    </button>\n",
              "\n",
              "  <style>\n",
              "    .colab-df-container {\n",
              "      display:flex;\n",
              "      gap: 12px;\n",
              "    }\n",
              "\n",
              "    .colab-df-convert {\n",
              "      background-color: #E8F0FE;\n",
              "      border: none;\n",
              "      border-radius: 50%;\n",
              "      cursor: pointer;\n",
              "      display: none;\n",
              "      fill: #1967D2;\n",
              "      height: 32px;\n",
              "      padding: 0 0 0 0;\n",
              "      width: 32px;\n",
              "    }\n",
              "\n",
              "    .colab-df-convert:hover {\n",
              "      background-color: #E2EBFA;\n",
              "      box-shadow: 0px 1px 2px rgba(60, 64, 67, 0.3), 0px 1px 3px 1px rgba(60, 64, 67, 0.15);\n",
              "      fill: #174EA6;\n",
              "    }\n",
              "\n",
              "    .colab-df-buttons div {\n",
              "      margin-bottom: 4px;\n",
              "    }\n",
              "\n",
              "    [theme=dark] .colab-df-convert {\n",
              "      background-color: #3B4455;\n",
              "      fill: #D2E3FC;\n",
              "    }\n",
              "\n",
              "    [theme=dark] .colab-df-convert:hover {\n",
              "      background-color: #434B5C;\n",
              "      box-shadow: 0px 1px 3px 1px rgba(0, 0, 0, 0.15);\n",
              "      filter: drop-shadow(0px 1px 2px rgba(0, 0, 0, 0.3));\n",
              "      fill: #FFFFFF;\n",
              "    }\n",
              "  </style>\n",
              "\n",
              "    <script>\n",
              "      const buttonEl =\n",
              "        document.querySelector('#df-60d50a6c-fb70-4ab4-a950-5f579578e00e button.colab-df-convert');\n",
              "      buttonEl.style.display =\n",
              "        google.colab.kernel.accessAllowed ? 'block' : 'none';\n",
              "\n",
              "      async function convertToInteractive(key) {\n",
              "        const element = document.querySelector('#df-60d50a6c-fb70-4ab4-a950-5f579578e00e');\n",
              "        const dataTable =\n",
              "          await google.colab.kernel.invokeFunction('convertToInteractive',\n",
              "                                                    [key], {});\n",
              "        if (!dataTable) return;\n",
              "\n",
              "        const docLinkHtml = 'Like what you see? Visit the ' +\n",
              "          '<a target=\"_blank\" href=https://colab.research.google.com/notebooks/data_table.ipynb>data table notebook</a>'\n",
              "          + ' to learn more about interactive tables.';\n",
              "        element.innerHTML = '';\n",
              "        dataTable['output_type'] = 'display_data';\n",
              "        await google.colab.output.renderOutput(dataTable, element);\n",
              "        const docLink = document.createElement('div');\n",
              "        docLink.innerHTML = docLinkHtml;\n",
              "        element.appendChild(docLink);\n",
              "      }\n",
              "    </script>\n",
              "  </div>\n",
              "\n",
              "\n",
              "<div id=\"df-38f5deec-1e37-47ba-88b9-d2d3617d9145\">\n",
              "  <button class=\"colab-df-quickchart\" onclick=\"quickchart('df-38f5deec-1e37-47ba-88b9-d2d3617d9145')\"\n",
              "            title=\"Suggest charts\"\n",
              "            style=\"display:none;\">\n",
              "\n",
              "<svg xmlns=\"http://www.w3.org/2000/svg\" height=\"24px\"viewBox=\"0 0 24 24\"\n",
              "     width=\"24px\">\n",
              "    <g>\n",
              "        <path d=\"M19 3H5c-1.1 0-2 .9-2 2v14c0 1.1.9 2 2 2h14c1.1 0 2-.9 2-2V5c0-1.1-.9-2-2-2zM9 17H7v-7h2v7zm4 0h-2V7h2v10zm4 0h-2v-4h2v4z\"/>\n",
              "    </g>\n",
              "</svg>\n",
              "  </button>\n",
              "\n",
              "<style>\n",
              "  .colab-df-quickchart {\n",
              "      --bg-color: #E8F0FE;\n",
              "      --fill-color: #1967D2;\n",
              "      --hover-bg-color: #E2EBFA;\n",
              "      --hover-fill-color: #174EA6;\n",
              "      --disabled-fill-color: #AAA;\n",
              "      --disabled-bg-color: #DDD;\n",
              "  }\n",
              "\n",
              "  [theme=dark] .colab-df-quickchart {\n",
              "      --bg-color: #3B4455;\n",
              "      --fill-color: #D2E3FC;\n",
              "      --hover-bg-color: #434B5C;\n",
              "      --hover-fill-color: #FFFFFF;\n",
              "      --disabled-bg-color: #3B4455;\n",
              "      --disabled-fill-color: #666;\n",
              "  }\n",
              "\n",
              "  .colab-df-quickchart {\n",
              "    background-color: var(--bg-color);\n",
              "    border: none;\n",
              "    border-radius: 50%;\n",
              "    cursor: pointer;\n",
              "    display: none;\n",
              "    fill: var(--fill-color);\n",
              "    height: 32px;\n",
              "    padding: 0;\n",
              "    width: 32px;\n",
              "  }\n",
              "\n",
              "  .colab-df-quickchart:hover {\n",
              "    background-color: var(--hover-bg-color);\n",
              "    box-shadow: 0 1px 2px rgba(60, 64, 67, 0.3), 0 1px 3px 1px rgba(60, 64, 67, 0.15);\n",
              "    fill: var(--button-hover-fill-color);\n",
              "  }\n",
              "\n",
              "  .colab-df-quickchart-complete:disabled,\n",
              "  .colab-df-quickchart-complete:disabled:hover {\n",
              "    background-color: var(--disabled-bg-color);\n",
              "    fill: var(--disabled-fill-color);\n",
              "    box-shadow: none;\n",
              "  }\n",
              "\n",
              "  .colab-df-spinner {\n",
              "    border: 2px solid var(--fill-color);\n",
              "    border-color: transparent;\n",
              "    border-bottom-color: var(--fill-color);\n",
              "    animation:\n",
              "      spin 1s steps(1) infinite;\n",
              "  }\n",
              "\n",
              "  @keyframes spin {\n",
              "    0% {\n",
              "      border-color: transparent;\n",
              "      border-bottom-color: var(--fill-color);\n",
              "      border-left-color: var(--fill-color);\n",
              "    }\n",
              "    20% {\n",
              "      border-color: transparent;\n",
              "      border-left-color: var(--fill-color);\n",
              "      border-top-color: var(--fill-color);\n",
              "    }\n",
              "    30% {\n",
              "      border-color: transparent;\n",
              "      border-left-color: var(--fill-color);\n",
              "      border-top-color: var(--fill-color);\n",
              "      border-right-color: var(--fill-color);\n",
              "    }\n",
              "    40% {\n",
              "      border-color: transparent;\n",
              "      border-right-color: var(--fill-color);\n",
              "      border-top-color: var(--fill-color);\n",
              "    }\n",
              "    60% {\n",
              "      border-color: transparent;\n",
              "      border-right-color: var(--fill-color);\n",
              "    }\n",
              "    80% {\n",
              "      border-color: transparent;\n",
              "      border-right-color: var(--fill-color);\n",
              "      border-bottom-color: var(--fill-color);\n",
              "    }\n",
              "    90% {\n",
              "      border-color: transparent;\n",
              "      border-bottom-color: var(--fill-color);\n",
              "    }\n",
              "  }\n",
              "</style>\n",
              "\n",
              "  <script>\n",
              "    async function quickchart(key) {\n",
              "      const quickchartButtonEl =\n",
              "        document.querySelector('#' + key + ' button');\n",
              "      quickchartButtonEl.disabled = true;  // To prevent multiple clicks.\n",
              "      quickchartButtonEl.classList.add('colab-df-spinner');\n",
              "      try {\n",
              "        const charts = await google.colab.kernel.invokeFunction(\n",
              "            'suggestCharts', [key], {});\n",
              "      } catch (error) {\n",
              "        console.error('Error during call to suggestCharts:', error);\n",
              "      }\n",
              "      quickchartButtonEl.classList.remove('colab-df-spinner');\n",
              "      quickchartButtonEl.classList.add('colab-df-quickchart-complete');\n",
              "    }\n",
              "    (() => {\n",
              "      let quickchartButtonEl =\n",
              "        document.querySelector('#df-38f5deec-1e37-47ba-88b9-d2d3617d9145 button');\n",
              "      quickchartButtonEl.style.display =\n",
              "        google.colab.kernel.accessAllowed ? 'block' : 'none';\n",
              "    })();\n",
              "  </script>\n",
              "</div>\n",
              "\n",
              "    </div>\n",
              "  </div>\n"
            ],
            "application/vnd.google.colaboratory.intrinsic+json": {
              "type": "dataframe",
              "variable_name": "data"
            }
          },
          "metadata": {},
          "execution_count": 73
        }
      ],
      "source": [
        "data = pd.read_csv('diabetic_data.csv')\n",
        "print(f\"Dataset shape: {data.shape}\")\n",
        "data.head()"
      ]
    },
    {
      "cell_type": "markdown",
      "metadata": {
        "id": "DR_VhZrJZNCG"
      },
      "source": [
        "## 2. Basic Preprocessing"
      ]
    },
    {
      "cell_type": "code",
      "source": [
        "print(f\"Dataset shape: {data.shape}\")"
      ],
      "metadata": {
        "colab": {
          "base_uri": "https://localhost:8080/"
        },
        "id": "we9I_Eb8yFqd",
        "outputId": "529ca09c-1095-4d48-bf98-35c68fadb6b1"
      },
      "execution_count": 74,
      "outputs": [
        {
          "output_type": "stream",
          "name": "stdout",
          "text": [
            "Dataset shape: (101766, 50)\n"
          ]
        }
      ]
    },
    {
      "cell_type": "markdown",
      "source": [
        "Droped column which has more than 40% missing value"
      ],
      "metadata": {
        "id": "bid4hypbEn_3"
      }
    },
    {
      "cell_type": "code",
      "execution_count": 75,
      "metadata": {
        "id": "FNPvdEPYZNCG",
        "colab": {
          "base_uri": "https://localhost:8080/"
        },
        "outputId": "5ef6ea50-48c0-4f8a-d24e-f5f08260cf59"
      },
      "outputs": [
        {
          "output_type": "stream",
          "name": "stdout",
          "text": [
            "Columns with more than 40% missing values:\n",
            "['weight', 'medical_specialty', 'max_glu_serum', 'A1Cresult']\n"
          ]
        }
      ],
      "source": [
        "import numpy as np\n",
        "import pandas as pd\n",
        "data = data.replace('?', np.nan)\n",
        "missing_threshold = 0.4\n",
        "high_missing = data.columns[data.isnull().mean() > missing_threshold]\n",
        "print(\"Columns with more than 40% missing values:\")\n",
        "print(high_missing.tolist())\n",
        "data.drop(columns=high_missing, inplace=True)"
      ]
    },
    {
      "cell_type": "code",
      "source": [
        "print(f\"Dataset shape: {data.shape}\")"
      ],
      "metadata": {
        "colab": {
          "base_uri": "https://localhost:8080/"
        },
        "id": "3I97FSc3y1cE",
        "outputId": "c41e1503-18ba-4164-f7b6-6213daace5f6"
      },
      "execution_count": 76,
      "outputs": [
        {
          "output_type": "stream",
          "name": "stdout",
          "text": [
            "Dataset shape: (101766, 46)\n"
          ]
        }
      ]
    },
    {
      "cell_type": "code",
      "source": [
        "missing_count = data.isna().sum()\n",
        "missing_percent = (data.isna().mean() * 100).round(2)\n",
        "missing_info = pd.DataFrame({\n",
        "    'Missing Count': missing_count,\n",
        "    'Missing %': missing_percent\n",
        "})\n",
        "missing_info = missing_info[missing_info['Missing Count'] > 0].sort_values(by='Missing Count', ascending=False)\n",
        "print(missing_info)"
      ],
      "metadata": {
        "id": "eZtCIaJvvS6g",
        "colab": {
          "base_uri": "https://localhost:8080/"
        },
        "outputId": "95bd18d3-29f1-4a6b-b4d8-b2db7c63a59f"
      },
      "execution_count": 77,
      "outputs": [
        {
          "output_type": "stream",
          "name": "stdout",
          "text": [
            "            Missing Count  Missing %\n",
            "payer_code          40256      39.56\n",
            "race                 2273       2.23\n",
            "diag_3               1423       1.40\n",
            "diag_2                358       0.35\n",
            "diag_1                 21       0.02\n"
          ]
        }
      ]
    },
    {
      "cell_type": "markdown",
      "source": [
        "missing vlaue in payer_code and race column have imputed by mode"
      ],
      "metadata": {
        "id": "xHz3ULCLEzLe"
      }
    },
    {
      "cell_type": "code",
      "source": [
        "for col in ['payer_code', 'race']:\n",
        "    mode_val = data[col].mode()[0]\n",
        "    data[col] = data[col].fillna(mode_val)"
      ],
      "metadata": {
        "id": "yydBy2sKv1eH"
      },
      "execution_count": 78,
      "outputs": []
    },
    {
      "cell_type": "code",
      "source": [
        "cols = ['diag_1', 'diag_2', 'diag_3']\n",
        "total_nans = data[cols].isna().sum().sum()\n",
        "print(\"Total NaN values in diag_1, diag_2, and diag_3:\", total_nans)"
      ],
      "metadata": {
        "colab": {
          "base_uri": "https://localhost:8080/"
        },
        "id": "VF2lWkIG8hIg",
        "outputId": "b472d976-a741-4deb-9edf-6c092f64d980"
      },
      "execution_count": 79,
      "outputs": [
        {
          "output_type": "stream",
          "name": "stdout",
          "text": [
            "Total NaN values in diag_1, diag_2, and diag_3: 1802\n"
          ]
        }
      ]
    },
    {
      "cell_type": "markdown",
      "source": [
        "missing value in 3 diagonsis column imputed by 00"
      ],
      "metadata": {
        "id": "Oevi58_jFCog"
      }
    },
    {
      "cell_type": "code",
      "source": [
        "cols = ['diag_1', 'diag_2', 'diag_3']\n",
        "data[cols] = data[cols].fillna('00')"
      ],
      "metadata": {
        "id": "wMCs8TuJ1t2P"
      },
      "execution_count": 80,
      "outputs": []
    },
    {
      "cell_type": "code",
      "source": [
        "cols = ['diag_1', 'diag_2', 'diag_3']\n",
        "total_nans = data[cols].isna().sum().sum()\n",
        "print(\"Total NaN values in diag_1, diag_2, and diag_3:\", total_nans)"
      ],
      "metadata": {
        "colab": {
          "base_uri": "https://localhost:8080/"
        },
        "id": "OvLZJtPu_0mc",
        "outputId": "ec44dbbc-3fd3-421b-9df3-219934ab2edd"
      },
      "execution_count": 81,
      "outputs": [
        {
          "output_type": "stream",
          "name": "stdout",
          "text": [
            "Total NaN values in diag_1, diag_2, and diag_3: 0\n"
          ]
        }
      ]
    },
    {
      "cell_type": "markdown",
      "source": [],
      "metadata": {
        "id": "EKvsv4RcFO_Z"
      }
    },
    {
      "cell_type": "markdown",
      "source": [
        "Groupby in admission_type_id column"
      ],
      "metadata": {
        "id": "qfZKvYdgFSVq"
      }
    },
    {
      "cell_type": "code",
      "source": [
        "#Map IDs to Meaningful Labels\n",
        "admission_type_map = {\n",
        "    1: 'Emergency',\n",
        "    2: 'Urgent',\n",
        "    3: 'Elective',\n",
        "    4: 'Newborn',\n",
        "    5: 'Not Available',\n",
        "    6: 'NULL',\n",
        "    7: 'Trauma Center',\n",
        "    8: 'Not Mapped'\n",
        "}\n",
        "data['admission_type'] = data['admission_type_id'].map(admission_type_map)\n",
        "data['admission_type'] = data['admission_type'].replace(\n",
        "    ['Not Available', 'NULL', 'Not Mapped'], 'Unknown'\n",
        ")\n",
        "data.drop(columns=['admission_type_id'], inplace=True)"
      ],
      "metadata": {
        "id": "dCJ-n5ekwbxM"
      },
      "execution_count": 82,
      "outputs": []
    },
    {
      "cell_type": "code",
      "source": [
        "print(data['admission_type'].value_counts())\n",
        "print(\"\\nNumber of unique admission types:\", data['admission_type'].nunique())"
      ],
      "metadata": {
        "id": "YWhmfnVf3Ok_",
        "outputId": "e5bfc962-1097-4173-d91f-b8451250d586",
        "colab": {
          "base_uri": "https://localhost:8080/"
        }
      },
      "execution_count": 83,
      "outputs": [
        {
          "output_type": "stream",
          "name": "stdout",
          "text": [
            "admission_type\n",
            "Emergency        53990\n",
            "Elective         18869\n",
            "Urgent           18480\n",
            "Unknown          10396\n",
            "Trauma Center       21\n",
            "Newborn             10\n",
            "Name: count, dtype: int64\n",
            "\n",
            "Number of unique admission types: 6\n"
          ]
        }
      ]
    },
    {
      "cell_type": "markdown",
      "source": [
        "Groupby in discharge_disposition_id column"
      ],
      "metadata": {
        "id": "bXvgtMl3Fbz7"
      }
    },
    {
      "cell_type": "code",
      "source": [
        "def map_discharge(value):\n",
        "    if value in [1, 6, 8]:\n",
        "        return 'home'\n",
        "    elif value in [2,3,4,5,7,9,10,12,15,16,17,22,23,24,27,28,29,30]:\n",
        "        return 'transferred'\n",
        "    elif value in [11,13,14,19,20,21]:\n",
        "        return 'expired/hospice'\n",
        "    else:\n",
        "        return 'other'\n",
        "data['discharge_group'] = data['discharge_disposition_id'].apply(map_discharge)\n",
        "data['discharge_group'].value_counts()\n",
        "data.drop(['discharge_disposition_id'], axis=1, inplace=True)"
      ],
      "metadata": {
        "id": "6u2s15gw3U3f"
      },
      "execution_count": 84,
      "outputs": []
    },
    {
      "cell_type": "code",
      "source": [
        "\n",
        "# 1. Map age intervals to three broader age groups\n",
        "age_group_map = {\n",
        "    '[0-10)': 'young',\n",
        "    '[10-20)': 'young',\n",
        "    '[20-30)': 'young',\n",
        "    '[30-40)': 'middle-aged',\n",
        "    '[40-50)': 'middle-aged',\n",
        "    '[50-60)': 'middle-aged',\n",
        "    '[60-70)': 'older',\n",
        "    '[70-80)': 'older',\n",
        "    '[80-90)': 'older',\n",
        "    '[90-100)': 'older'\n",
        "}\n",
        "\n",
        "data['age_group_3cat'] = data['age'].map(age_group_map)\n",
        "data.drop(['age'], axis=1, inplace=True)"
      ],
      "metadata": {
        "id": "fcJ7VCCC34et"
      },
      "execution_count": 85,
      "outputs": []
    },
    {
      "cell_type": "code",
      "source": [
        "data['age_group_3cat'].value_counts()"
      ],
      "metadata": {
        "id": "FADPKdFp4fBN",
        "outputId": "effacab6-7f23-48c6-f2fa-e1482823f655",
        "colab": {
          "base_uri": "https://localhost:8080/",
          "height": 209
        }
      },
      "execution_count": 86,
      "outputs": [
        {
          "output_type": "execute_result",
          "data": {
            "text/plain": [
              "age_group_3cat\n",
              "older          68541\n",
              "middle-aged    30716\n",
              "young           2509\n",
              "Name: count, dtype: int64"
            ],
            "text/html": [
              "<div>\n",
              "<style scoped>\n",
              "    .dataframe tbody tr th:only-of-type {\n",
              "        vertical-align: middle;\n",
              "    }\n",
              "\n",
              "    .dataframe tbody tr th {\n",
              "        vertical-align: top;\n",
              "    }\n",
              "\n",
              "    .dataframe thead th {\n",
              "        text-align: right;\n",
              "    }\n",
              "</style>\n",
              "<table border=\"1\" class=\"dataframe\">\n",
              "  <thead>\n",
              "    <tr style=\"text-align: right;\">\n",
              "      <th></th>\n",
              "      <th>count</th>\n",
              "    </tr>\n",
              "    <tr>\n",
              "      <th>age_group_3cat</th>\n",
              "      <th></th>\n",
              "    </tr>\n",
              "  </thead>\n",
              "  <tbody>\n",
              "    <tr>\n",
              "      <th>older</th>\n",
              "      <td>68541</td>\n",
              "    </tr>\n",
              "    <tr>\n",
              "      <th>middle-aged</th>\n",
              "      <td>30716</td>\n",
              "    </tr>\n",
              "    <tr>\n",
              "      <th>young</th>\n",
              "      <td>2509</td>\n",
              "    </tr>\n",
              "  </tbody>\n",
              "</table>\n",
              "</div><br><label><b>dtype:</b> int64</label>"
            ]
          },
          "metadata": {},
          "execution_count": 86
        }
      ]
    },
    {
      "cell_type": "markdown",
      "source": [
        "Groupby in admission_source_id column"
      ],
      "metadata": {
        "id": "vIVPcYZcFk2k"
      }
    },
    {
      "cell_type": "code",
      "source": [
        "# Mapping dictionary\n",
        "admission_source_map = {\n",
        "    1: 'Referral',\n",
        "    2: 'Referral',\n",
        "    3: 'Referral',\n",
        "    4: 'Transfer from Facility',\n",
        "    5: 'Transfer from Facility',\n",
        "    6: 'Transfer from Facility',\n",
        "    7: 'Emergency',\n",
        "    8: 'Legal/Court',\n",
        "    9: 'Other/Unknown',\n",
        "    10: 'Transfer from Facility',\n",
        "    11: 'Birth-Related',\n",
        "    12: 'Birth-Related',\n",
        "    13: 'Birth-Related',\n",
        "    14: 'Birth-Related',\n",
        "    15: 'Other/Unknown',\n",
        "    17: 'Other/Unknown',\n",
        "    18: 'Transfer from Facility',\n",
        "    19: 'Transfer from Facility',\n",
        "    20: 'Other/Unknown',\n",
        "    21: 'Other/Unknown',\n",
        "    22: 'Transfer from Facility',\n",
        "    23: 'Birth-Related',\n",
        "    24: 'Birth-Related',\n",
        "    25: 'Transfer from Facility',\n",
        "    26: 'Transfer from Facility'\n",
        "}\n",
        "\n",
        "# Apply mapping\n",
        "data['admission_source_grouped'] = data['admission_source_id'].map(admission_source_map)\n",
        "data.drop(['admission_source_id'], axis=1, inplace=True)"
      ],
      "metadata": {
        "id": "w7l5qwPF8SvJ"
      },
      "execution_count": 87,
      "outputs": []
    },
    {
      "cell_type": "code",
      "source": [
        "data['admission_source_grouped'].value_counts()"
      ],
      "metadata": {
        "id": "vjGwKIuD8dd7",
        "outputId": "509952fb-3e26-4a32-df1a-5be97f0bd10a",
        "colab": {
          "base_uri": "https://localhost:8080/",
          "height": 303
        }
      },
      "execution_count": 88,
      "outputs": [
        {
          "output_type": "execute_result",
          "data": {
            "text/plain": [
              "admission_source_grouped\n",
              "Emergency                 57494\n",
              "Referral                  30856\n",
              "Other/Unknown              7067\n",
              "Transfer from Facility     6328\n",
              "Legal/Court                  16\n",
              "Birth-Related                 5\n",
              "Name: count, dtype: int64"
            ],
            "text/html": [
              "<div>\n",
              "<style scoped>\n",
              "    .dataframe tbody tr th:only-of-type {\n",
              "        vertical-align: middle;\n",
              "    }\n",
              "\n",
              "    .dataframe tbody tr th {\n",
              "        vertical-align: top;\n",
              "    }\n",
              "\n",
              "    .dataframe thead th {\n",
              "        text-align: right;\n",
              "    }\n",
              "</style>\n",
              "<table border=\"1\" class=\"dataframe\">\n",
              "  <thead>\n",
              "    <tr style=\"text-align: right;\">\n",
              "      <th></th>\n",
              "      <th>count</th>\n",
              "    </tr>\n",
              "    <tr>\n",
              "      <th>admission_source_grouped</th>\n",
              "      <th></th>\n",
              "    </tr>\n",
              "  </thead>\n",
              "  <tbody>\n",
              "    <tr>\n",
              "      <th>Emergency</th>\n",
              "      <td>57494</td>\n",
              "    </tr>\n",
              "    <tr>\n",
              "      <th>Referral</th>\n",
              "      <td>30856</td>\n",
              "    </tr>\n",
              "    <tr>\n",
              "      <th>Other/Unknown</th>\n",
              "      <td>7067</td>\n",
              "    </tr>\n",
              "    <tr>\n",
              "      <th>Transfer from Facility</th>\n",
              "      <td>6328</td>\n",
              "    </tr>\n",
              "    <tr>\n",
              "      <th>Legal/Court</th>\n",
              "      <td>16</td>\n",
              "    </tr>\n",
              "    <tr>\n",
              "      <th>Birth-Related</th>\n",
              "      <td>5</td>\n",
              "    </tr>\n",
              "  </tbody>\n",
              "</table>\n",
              "</div><br><label><b>dtype:</b> int64</label>"
            ]
          },
          "metadata": {},
          "execution_count": 88
        }
      ]
    },
    {
      "cell_type": "markdown",
      "source": [
        "Groupby in diag column and other diagonsis column"
      ],
      "metadata": {
        "id": "XeU9VTy2FwSd"
      }
    },
    {
      "cell_type": "code",
      "source": [
        "# First, convert diagnosis column to numeric safely (some values may be strings like 'V45')\n",
        "def safe_float(x):\n",
        "    try:\n",
        "        return float(x)\n",
        "    except:\n",
        "        return np.nan\n",
        "\n",
        "data['diag_1_code'] = data['diag_1'].apply(safe_float)\n",
        "\n",
        "# Define a function to group ICD-9 codes\n",
        "def group_diagnosis(code):\n",
        "    if pd.isna(code):\n",
        "        return 'Unknown'\n",
        "    if (390 <= code <= 459) or (code == 785):\n",
        "        return 'Circulatory'\n",
        "    elif (460 <= code <= 519) or (code == 786):\n",
        "        return 'Respiratory'\n",
        "    elif (520 <= code <= 579) or (code == 787):\n",
        "        return 'Digestive'\n",
        "    elif 250 <= code < 251:\n",
        "        return 'Diabetes'\n",
        "    elif 800 <= code <= 999:\n",
        "        return 'Injury'\n",
        "    elif 710 <= code <= 739:\n",
        "        return 'Musculoskeletal'\n",
        "    elif (580 <= code <= 629) or (code == 788):\n",
        "        return 'Genitourinary'\n",
        "    elif 140 <= code <= 239:\n",
        "        return 'Neoplasms'\n",
        "    elif code in [780, 781, 784] or (790 <= code <= 799):\n",
        "        return 'Symptoms'\n",
        "    elif (240 <= code <= 279) and not (250 <= code < 251):\n",
        "        return 'Endocrine (non-diabetes)'\n",
        "    elif (680 <= code <= 709) or (code == 782):\n",
        "        return 'Skin'\n",
        "    elif 1 <= code <= 139:\n",
        "        return 'Infectious'\n",
        "    elif 290 <= code <= 319:\n",
        "        return 'Mental'\n",
        "    elif str(code).startswith('E') or str(code).startswith('V'):\n",
        "        return 'External Causes'\n",
        "    elif 280 <= code <= 289:\n",
        "        return 'Blood'\n",
        "    elif 320 <= code <= 359:\n",
        "        return 'Nervous'\n",
        "    elif 630 <= code <= 679:\n",
        "        return 'Pregnancy'\n",
        "    elif 360 <= code <= 389:\n",
        "        return 'Sense Organs'\n",
        "    elif 740 <= code <= 759:\n",
        "        return 'Congenital'\n",
        "    else:\n",
        "        return 'Other'\n",
        "data['diagnosis_grouped'] = data['diag_1_code'].apply(group_diagnosis)\n",
        "data.drop(['diag_1','diag_2','diag_3','diag_1_code'], axis=1, inplace=True)"
      ],
      "metadata": {
        "id": "fsM-nkQg9Ge7"
      },
      "execution_count": 89,
      "outputs": []
    },
    {
      "cell_type": "code",
      "source": [
        "data['diagnosis_grouped'].value_counts()"
      ],
      "metadata": {
        "id": "wjefjJOv9RfY",
        "outputId": "54e63a0c-2bd5-491d-84e9-84adfefc910b",
        "colab": {
          "base_uri": "https://localhost:8080/",
          "height": 742
        }
      },
      "execution_count": 90,
      "outputs": [
        {
          "output_type": "execute_result",
          "data": {
            "text/plain": [
              "diagnosis_grouped\n",
              "Circulatory                 30437\n",
              "Respiratory                 14423\n",
              "Digestive                    9475\n",
              "Diabetes                     8757\n",
              "Injury                       6974\n",
              "Genitourinary                5117\n",
              "Musculoskeletal              4957\n",
              "Neoplasms                    3433\n",
              "Infectious                   2768\n",
              "Endocrine (non-diabetes)     2702\n",
              "Skin                         2614\n",
              "Symptoms                     2539\n",
              "Mental                       2262\n",
              "Unknown                      1645\n",
              "Blood                        1103\n",
              "Nervous                       947\n",
              "Pregnancy                     687\n",
              "Other                         611\n",
              "Sense Organs                  264\n",
              "Congenital                     51\n",
              "Name: count, dtype: int64"
            ],
            "text/html": [
              "<div>\n",
              "<style scoped>\n",
              "    .dataframe tbody tr th:only-of-type {\n",
              "        vertical-align: middle;\n",
              "    }\n",
              "\n",
              "    .dataframe tbody tr th {\n",
              "        vertical-align: top;\n",
              "    }\n",
              "\n",
              "    .dataframe thead th {\n",
              "        text-align: right;\n",
              "    }\n",
              "</style>\n",
              "<table border=\"1\" class=\"dataframe\">\n",
              "  <thead>\n",
              "    <tr style=\"text-align: right;\">\n",
              "      <th></th>\n",
              "      <th>count</th>\n",
              "    </tr>\n",
              "    <tr>\n",
              "      <th>diagnosis_grouped</th>\n",
              "      <th></th>\n",
              "    </tr>\n",
              "  </thead>\n",
              "  <tbody>\n",
              "    <tr>\n",
              "      <th>Circulatory</th>\n",
              "      <td>30437</td>\n",
              "    </tr>\n",
              "    <tr>\n",
              "      <th>Respiratory</th>\n",
              "      <td>14423</td>\n",
              "    </tr>\n",
              "    <tr>\n",
              "      <th>Digestive</th>\n",
              "      <td>9475</td>\n",
              "    </tr>\n",
              "    <tr>\n",
              "      <th>Diabetes</th>\n",
              "      <td>8757</td>\n",
              "    </tr>\n",
              "    <tr>\n",
              "      <th>Injury</th>\n",
              "      <td>6974</td>\n",
              "    </tr>\n",
              "    <tr>\n",
              "      <th>Genitourinary</th>\n",
              "      <td>5117</td>\n",
              "    </tr>\n",
              "    <tr>\n",
              "      <th>Musculoskeletal</th>\n",
              "      <td>4957</td>\n",
              "    </tr>\n",
              "    <tr>\n",
              "      <th>Neoplasms</th>\n",
              "      <td>3433</td>\n",
              "    </tr>\n",
              "    <tr>\n",
              "      <th>Infectious</th>\n",
              "      <td>2768</td>\n",
              "    </tr>\n",
              "    <tr>\n",
              "      <th>Endocrine (non-diabetes)</th>\n",
              "      <td>2702</td>\n",
              "    </tr>\n",
              "    <tr>\n",
              "      <th>Skin</th>\n",
              "      <td>2614</td>\n",
              "    </tr>\n",
              "    <tr>\n",
              "      <th>Symptoms</th>\n",
              "      <td>2539</td>\n",
              "    </tr>\n",
              "    <tr>\n",
              "      <th>Mental</th>\n",
              "      <td>2262</td>\n",
              "    </tr>\n",
              "    <tr>\n",
              "      <th>Unknown</th>\n",
              "      <td>1645</td>\n",
              "    </tr>\n",
              "    <tr>\n",
              "      <th>Blood</th>\n",
              "      <td>1103</td>\n",
              "    </tr>\n",
              "    <tr>\n",
              "      <th>Nervous</th>\n",
              "      <td>947</td>\n",
              "    </tr>\n",
              "    <tr>\n",
              "      <th>Pregnancy</th>\n",
              "      <td>687</td>\n",
              "    </tr>\n",
              "    <tr>\n",
              "      <th>Other</th>\n",
              "      <td>611</td>\n",
              "    </tr>\n",
              "    <tr>\n",
              "      <th>Sense Organs</th>\n",
              "      <td>264</td>\n",
              "    </tr>\n",
              "    <tr>\n",
              "      <th>Congenital</th>\n",
              "      <td>51</td>\n",
              "    </tr>\n",
              "  </tbody>\n",
              "</table>\n",
              "</div><br><label><b>dtype:</b> int64</label>"
            ]
          },
          "metadata": {},
          "execution_count": 90
        }
      ]
    },
    {
      "cell_type": "code",
      "source": [
        "data.info()"
      ],
      "metadata": {
        "id": "Op0FcEQj9Y-R",
        "outputId": "e938dbf6-f59e-41a5-c290-bed18e1f54c3",
        "colab": {
          "base_uri": "https://localhost:8080/"
        }
      },
      "execution_count": 91,
      "outputs": [
        {
          "output_type": "stream",
          "name": "stdout",
          "text": [
            "<class 'pandas.core.frame.DataFrame'>\n",
            "RangeIndex: 101766 entries, 0 to 101765\n",
            "Data columns (total 44 columns):\n",
            " #   Column                    Non-Null Count   Dtype \n",
            "---  ------                    --------------   ----- \n",
            " 0   encounter_id              101766 non-null  int64 \n",
            " 1   patient_nbr               101766 non-null  int64 \n",
            " 2   race                      101766 non-null  object\n",
            " 3   gender                    101766 non-null  object\n",
            " 4   time_in_hospital          101766 non-null  int64 \n",
            " 5   payer_code                101766 non-null  object\n",
            " 6   num_lab_procedures        101766 non-null  int64 \n",
            " 7   num_procedures            101766 non-null  int64 \n",
            " 8   num_medications           101766 non-null  int64 \n",
            " 9   number_outpatient         101766 non-null  int64 \n",
            " 10  number_emergency          101766 non-null  int64 \n",
            " 11  number_inpatient          101766 non-null  int64 \n",
            " 12  number_diagnoses          101766 non-null  int64 \n",
            " 13  metformin                 101766 non-null  object\n",
            " 14  repaglinide               101766 non-null  object\n",
            " 15  nateglinide               101766 non-null  object\n",
            " 16  chlorpropamide            101766 non-null  object\n",
            " 17  glimepiride               101766 non-null  object\n",
            " 18  acetohexamide             101766 non-null  object\n",
            " 19  glipizide                 101766 non-null  object\n",
            " 20  glyburide                 101766 non-null  object\n",
            " 21  tolbutamide               101766 non-null  object\n",
            " 22  pioglitazone              101766 non-null  object\n",
            " 23  rosiglitazone             101766 non-null  object\n",
            " 24  acarbose                  101766 non-null  object\n",
            " 25  miglitol                  101766 non-null  object\n",
            " 26  troglitazone              101766 non-null  object\n",
            " 27  tolazamide                101766 non-null  object\n",
            " 28  examide                   101766 non-null  object\n",
            " 29  citoglipton               101766 non-null  object\n",
            " 30  insulin                   101766 non-null  object\n",
            " 31  glyburide-metformin       101766 non-null  object\n",
            " 32  glipizide-metformin       101766 non-null  object\n",
            " 33  glimepiride-pioglitazone  101766 non-null  object\n",
            " 34  metformin-rosiglitazone   101766 non-null  object\n",
            " 35  metformin-pioglitazone    101766 non-null  object\n",
            " 36  change                    101766 non-null  object\n",
            " 37  diabetesMed               101766 non-null  object\n",
            " 38  readmitted                101766 non-null  object\n",
            " 39  admission_type            101766 non-null  object\n",
            " 40  discharge_group           101766 non-null  object\n",
            " 41  age_group_3cat            101766 non-null  object\n",
            " 42  admission_source_grouped  101766 non-null  object\n",
            " 43  diagnosis_grouped         101766 non-null  object\n",
            "dtypes: int64(10), object(34)\n",
            "memory usage: 34.2+ MB\n"
          ]
        }
      ]
    },
    {
      "cell_type": "markdown",
      "metadata": {
        "id": "wcLnbxvaZNCH"
      },
      "source": [
        "## 3. Feature Engineering"
      ]
    },
    {
      "cell_type": "markdown",
      "source": [
        "Merge inpatient, outpatient, and emergency column in a one column"
      ],
      "metadata": {
        "id": "_0-yiNV8F_Fp"
      }
    },
    {
      "cell_type": "code",
      "execution_count": 92,
      "metadata": {
        "id": "Vaby9ALCZNCH"
      },
      "outputs": [],
      "source": [
        "import pandas as pd\n",
        "def classify_visit(row):\n",
        "    inpatient = row['number_inpatient']\n",
        "    outpatient = row['number_outpatient']\n",
        "    emergency = row['number_emergency']\n",
        "\n",
        "    if emergency > 0:\n",
        "        return 'emergency'\n",
        "    elif inpatient > 10:\n",
        "        return 'high_inpatient'\n",
        "    elif inpatient > 0:\n",
        "        return 'low_inpatient'\n",
        "    elif outpatient >= 19:\n",
        "        return 'high_outpatient_rate'\n",
        "    elif outpatient > 0:\n",
        "        return 'low_outpatient_rate'\n",
        "    else:\n",
        "        return 'novisit'\n",
        "data['VisitType'] = data.apply(classify_visit, axis=1)\n",
        "data.drop(['number_inpatient', 'number_outpatient', 'number_emergency'], axis=1, inplace=True)"
      ]
    },
    {
      "cell_type": "code",
      "source": [
        "print(f\"Dataset shape: {data.shape}\")"
      ],
      "metadata": {
        "id": "pCog43PhMg13",
        "outputId": "13836d62-46f0-4a34-db82-9a3b66f3ac41",
        "colab": {
          "base_uri": "https://localhost:8080/"
        }
      },
      "execution_count": 93,
      "outputs": [
        {
          "output_type": "stream",
          "name": "stdout",
          "text": [
            "Dataset shape: (101766, 42)\n"
          ]
        }
      ]
    },
    {
      "cell_type": "code",
      "execution_count": null,
      "metadata": {
        "id": "48rDiCARZNCI"
      },
      "outputs": [],
      "source": [
        "# # 3.2 Create age groups\n",
        "# bins = [0, 40, 65, 75, 100]\n",
        "# labels = ['<40', '40-65', '65-75', '>75']\n",
        "# data['age_group'] = pd.cut(data['age'], bins=bins, labels=labels)\n",
        "\n",
        "# # Visualize readmission rate by age group\n",
        "# age_group_readmission = data.groupby('age_group')['readmission_30d'].mean() * 100\n",
        "\n",
        "# plt.figure(figsize=(10, 6))\n",
        "# age_group_readmission.plot(kind='bar')\n",
        "# plt.title('Readmission Rate by Age Group')\n",
        "# plt.xlabel('Age Group')\n",
        "# plt.ylabel('Readmission Rate (%)')\n",
        "# plt.show()"
      ]
    },
    {
      "cell_type": "code",
      "execution_count": null,
      "metadata": {
        "id": "9gSdIxWCZNCJ"
      },
      "outputs": [],
      "source": [
        "# # 3.3 Create interaction features\n",
        "# data['age_heart_failure'] = data['age'] * data['heart_failure']\n",
        "# data['age_diabetes'] = data['age'] * data['diabetes']\n",
        "# data['previous_emergency'] = data['previous_admissions'] * data['emergency_admission']\n",
        "# data['medication_count_adherence'] = data['medication_count'] * data['medication_adherence']\n",
        "# data['comorbidity_count'] = data[['diabetes', 'heart_failure', 'copd', 'hypertension', 'renal_disease']].sum(axis=1)\n",
        "\n",
        "# # Visualize readmission rate by comorbidity count\n",
        "# comorbidity_readmission = data.groupby('comorbidity_count')['readmission_30d'].mean() * 100\n",
        "\n",
        "# plt.figure(figsize=(10, 6))\n",
        "# comorbidity_readmission.plot(kind='bar')\n",
        "# plt.title('Readmission Rate by Number of Comorbidities')\n",
        "# plt.xlabel('Number of Comorbidities')\n",
        "# plt.ylabel('Readmission Rate (%)')\n",
        "# plt.show()"
      ]
    },
    {
      "cell_type": "code",
      "execution_count": null,
      "metadata": {
        "id": "gXac-Z7uZNCK"
      },
      "outputs": [],
      "source": [
        "# 3.4 Create risk score based on domain knowledge\n",
        "# data['risk_score'] = (\n",
        "#     0.2 * (data['age'] > 75).astype(int) +\n",
        "#     0.15 * data['diabetes'] +\n",
        "#     0.25 * data['heart_failure'] +\n",
        "#     0.2 * data['copd'] +\n",
        "#     0.1 * data['renal_disease'] +\n",
        "#     0.05 * (data['previous_admissions'] > 2).astype(int) +\n",
        "#     0.15 * (data['medication_count'] > 8).astype(int) -\n",
        "#     0.3 * data['medication_adherence'] +\n",
        "#     0.1 * data['emergency_admission'] +\n",
        "#     0.1 * (data['discharge_disposition'] == 2).astype(int)\n",
        "# )\n",
        "\n",
        "# # Visualize risk score distribution by readmission status\n",
        "# plt.figure(figsize=(10, 6))\n",
        "# sns.histplot(data=data, x='risk_score', hue='readmission_30d', bins=30, multiple='dodge')\n",
        "# plt.title('Risk Score Distribution by Readmission Status')\n",
        "# plt.xlabel('Risk Score')\n",
        "# plt.ylabel('Count')\n",
        "# plt.legend(['Not Readmitted', 'Readmitted'])\n",
        "# plt.show()"
      ]
    },
    {
      "cell_type": "code",
      "execution_count": 94,
      "metadata": {
        "id": "TZtIUZJEZNCK",
        "outputId": "e77ad22c-0662-4bec-c431-978f198a7384",
        "colab": {
          "base_uri": "https://localhost:8080/"
        }
      },
      "outputs": [
        {
          "output_type": "stream",
          "name": "stdout",
          "text": [
            "(101766, 153)\n",
            "Index(['encounter_id', 'patient_nbr', 'time_in_hospital', 'num_lab_procedures', 'num_procedures', 'num_medications', 'number_diagnoses', 'readmitted', 'race_AfricanAmerican', 'race_Asian',\n",
            "       ...\n",
            "       'diagnosis_grouped_Sense Organs', 'diagnosis_grouped_Skin', 'diagnosis_grouped_Symptoms', 'diagnosis_grouped_Unknown', 'VisitType_emergency', 'VisitType_high_inpatient', 'VisitType_high_outpatient_rate', 'VisitType_low_inpatient', 'VisitType_low_outpatient_rate', 'VisitType_novisit'], dtype='object', length=153)\n"
          ]
        }
      ],
      "source": [
        "# Step 1: Identify object columns, excluding 'readmitted'\n",
        "categorical_cols = data.select_dtypes(include='object').columns\n",
        "categorical_cols = categorical_cols.drop('readmitted')  # Exclude target\n",
        "\n",
        "# Step 2: Apply One-Hot Encoding\n",
        "data_encoded = pd.get_dummies(data, columns=categorical_cols, drop_first=False)\n",
        "\n",
        "# Step 3: Your target column 'readmitted' stays untouched\n",
        "print(data_encoded.shape)\n",
        "print(data_encoded.columns)"
      ]
    },
    {
      "cell_type": "markdown",
      "metadata": {
        "id": "hQqlLhOKZNCL"
      },
      "source": [
        "## 4. Feature Selection"
      ]
    },
    {
      "cell_type": "code",
      "execution_count": 96,
      "metadata": {
        "id": "-_BH_eK6ZNCL",
        "outputId": "278422d7-98bb-4a8e-ee17-19f1a6a26a8f",
        "colab": {
          "base_uri": "https://localhost:8080/"
        }
      },
      "outputs": [
        {
          "output_type": "stream",
          "name": "stdout",
          "text": [
            "Features shape: (101766, 152)\n"
          ]
        }
      ],
      "source": [
        "# Prepare data for feature selection\n",
        "# Drop non-feature columns\n",
        "X = data_encoded.drop(columns=['readmitted'])\n",
        "y = data_encoded['readmitted']\n",
        "\n",
        "print(f\"Features shape: {X.shape}\")"
      ]
    },
    {
      "cell_type": "code",
      "source": [
        "# Train the model\n",
        "rf = RandomForestClassifier(n_estimators=100, random_state=42)\n",
        "rf.fit(X, y)\n",
        "\n",
        "# Create a DataFrame for feature importances\n",
        "importances = rf.feature_importances_\n",
        "feature_importance_df = pd.DataFrame({\n",
        "    'Feature': X.columns,\n",
        "    'Importance': importances\n",
        "})\n",
        "\n",
        "# Format to 4 decimal places\n",
        "feature_importance_df['Importance'] = feature_importance_df['Importance'].round(4)\n",
        "\n",
        "# Sort in descending order\n",
        "feature_importance_df = feature_importance_df.sort_values(by='Importance', ascending=False)\n",
        "\n",
        "# Print all\n",
        "print(\"All feature importances (sorted to 4 decimal places):\")\n",
        "print(feature_importance_df.to_string(index=False))"
      ],
      "metadata": {
        "id": "Lq_nrcqIK_sz",
        "outputId": "b7b5c2b9-0a15-4416-fb98-dbf28c3b4aef",
        "colab": {
          "base_uri": "https://localhost:8080/"
        }
      },
      "execution_count": 100,
      "outputs": [
        {
          "output_type": "stream",
          "name": "stdout",
          "text": [
            "All feature importances (sorted to 4 decimal places):\n",
            "                                        Feature  Importance\n",
            "                                   encounter_id      0.1022\n",
            "                                    patient_nbr      0.1008\n",
            "                             num_lab_procedures      0.0836\n",
            "                                num_medications      0.0761\n",
            "                               time_in_hospital      0.0580\n",
            "                               number_diagnoses      0.0406\n",
            "                                 num_procedures      0.0393\n",
            "                              VisitType_novisit      0.0189\n",
            "                  diagnosis_grouped_Circulatory      0.0154\n",
            "                                    gender_Male      0.0147\n",
            "                                  gender_Female      0.0146\n",
            "                        VisitType_low_inpatient      0.0122\n",
            "                                 race_Caucasian      0.0114\n",
            "                                  payer_code_MC      0.0111\n",
            "                  diagnosis_grouped_Respiratory      0.0108\n",
            "                           race_AfricanAmerican      0.0103\n",
            "                                 insulin_Steady      0.0103\n",
            "                           age_group_3cat_older      0.0103\n",
            "                     age_group_3cat_middle-aged      0.0101\n",
            "                       admission_type_Emergency      0.0098\n",
            "                discharge_group_expired/hospice      0.0098\n",
            "                    diagnosis_grouped_Digestive      0.0095\n",
            "                          admission_type_Urgent      0.0092\n",
            "                           discharge_group_home      0.0089\n",
            "                                     insulin_No      0.0089\n",
            "                     diagnosis_grouped_Diabetes      0.0084\n",
            "                            VisitType_emergency      0.0083\n",
            "                                   metformin_No      0.0081\n",
            "             admission_source_grouped_Emergency      0.0079\n",
            "                               metformin_Steady      0.0078\n",
            "                                   glipizide_No      0.0076\n",
            "                                      change_No      0.0076\n",
            "                       diagnosis_grouped_Injury      0.0076\n",
            "                    discharge_group_transferred      0.0075\n",
            "                                      change_Ch      0.0074\n",
            "                               glipizide_Steady      0.0074\n",
            "              admission_source_grouped_Referral      0.0071\n",
            "                diagnosis_grouped_Genitourinary      0.0068\n",
            "                                   glyburide_No      0.0067\n",
            "                                   insulin_Down      0.0067\n",
            "                                     insulin_Up      0.0066\n",
            "                        admission_type_Elective      0.0066\n",
            "                               glyburide_Steady      0.0065\n",
            "                                pioglitazone_No      0.0058\n",
            "                         admission_type_Unknown      0.0057\n",
            "                                  payer_code_HM      0.0055\n",
            "                            pioglitazone_Steady      0.0054\n",
            "                               rosiglitazone_No      0.0052\n",
            "                           rosiglitazone_Steady      0.0051\n",
            "                                  payer_code_SP      0.0048\n",
            "              diagnosis_grouped_Musculoskeletal      0.0047\n",
            "     diagnosis_grouped_Endocrine (non-diabetes)      0.0046\n",
            "                                 glimepiride_No      0.0045\n",
            "                                 diabetesMed_No      0.0045\n",
            "                  VisitType_low_outpatient_rate      0.0045\n",
            "                   diagnosis_grouped_Infectious      0.0045\n",
            "                                diabetesMed_Yes      0.0044\n",
            "                         diagnosis_grouped_Skin      0.0044\n",
            "                                  payer_code_BC      0.0043\n",
            "                             glimepiride_Steady      0.0043\n",
            "admission_source_grouped_Transfer from Facility      0.0043\n",
            "                                  payer_code_MD      0.0042\n",
            "                     diagnosis_grouped_Symptoms      0.0041\n",
            "                    diagnosis_grouped_Neoplasms      0.0041\n",
            "                       diagnosis_grouped_Mental      0.0034\n",
            "         admission_source_grouped_Other/Unknown      0.0033\n",
            "                                  payer_code_CP      0.0032\n",
            "                                  race_Hispanic      0.0029\n",
            "                                  payer_code_UN      0.0028\n",
            "                          discharge_group_other      0.0028\n",
            "                                  payer_code_CM      0.0028\n",
            "                        diagnosis_grouped_Blood      0.0025\n",
            "                           age_group_3cat_young      0.0023\n",
            "                                     race_Other      0.0022\n",
            "                      diagnosis_grouped_Unknown      0.0022\n",
            "                                 repaglinide_No      0.0020\n",
            "                      diagnosis_grouped_Nervous      0.0019\n",
            "                             repaglinide_Steady      0.0018\n",
            "                        diagnosis_grouped_Other      0.0016\n",
            "                                  payer_code_OG      0.0016\n",
            "                                   metformin_Up      0.0015\n",
            "                                   glipizide_Up      0.0013\n",
            "                                   glyburide_Up      0.0013\n",
            "                                 nateglinide_No      0.0011\n",
            "                                     race_Asian      0.0011\n",
            "                             nateglinide_Steady      0.0011\n",
            "                                 glyburide_Down      0.0011\n",
            "                         glyburide-metformin_No      0.0011\n",
            "                                 glipizide_Down      0.0011\n",
            "                     glyburide-metformin_Steady      0.0010\n",
            "                                  payer_code_PO      0.0010\n",
            "                                  payer_code_DM      0.0010\n",
            "                    diagnosis_grouped_Pregnancy      0.0010\n",
            "                                 metformin_Down      0.0010\n",
            "                 diagnosis_grouped_Sense Organs      0.0006\n",
            "                                 glimepiride_Up      0.0006\n",
            "                                    acarbose_No      0.0005\n",
            "                                acarbose_Steady      0.0005\n",
            "                               glimepiride_Down      0.0005\n",
            "                                pioglitazone_Up      0.0005\n",
            "                              pioglitazone_Down      0.0003\n",
            "                               rosiglitazone_Up      0.0003\n",
            "                                  payer_code_CH      0.0003\n",
            "                                  payer_code_MP      0.0002\n",
            "                       VisitType_high_inpatient      0.0002\n",
            "                             rosiglitazone_Down      0.0002\n",
            "                                  payer_code_OT      0.0002\n",
            "                          chlorpropamide_Steady      0.0002\n",
            "                                  payer_code_WC      0.0002\n",
            "                                 repaglinide_Up      0.0002\n",
            "                              chlorpropamide_No      0.0002\n",
            "                   diagnosis_grouped_Congenital      0.0001\n",
            "                                miglitol_Steady      0.0001\n",
            "                              tolazamide_Steady      0.0001\n",
            "                               repaglinide_Down      0.0001\n",
            "                                  payer_code_SI      0.0001\n",
            "                                  tolazamide_No      0.0001\n",
            "                                    miglitol_No      0.0001\n",
            "                                  payer_code_FR      0.0000\n",
            "                         gender_Unknown/Invalid      0.0000\n",
            "                                 citoglipton_No      0.0000\n",
            "                                     examide_No      0.0000\n",
            "                                  tolazamide_Up      0.0000\n",
            "                                troglitazone_No      0.0000\n",
            "                            troglitazone_Steady      0.0000\n",
            "                                  acarbose_Down      0.0000\n",
            "                                  miglitol_Down      0.0000\n",
            "                                    miglitol_Up      0.0000\n",
            "                                    acarbose_Up      0.0000\n",
            "                                 tolbutamide_No      0.0000\n",
            "                             tolbutamide_Steady      0.0000\n",
            "                                 nateglinide_Up      0.0000\n",
            "                              chlorpropamide_Up      0.0000\n",
            "                            chlorpropamide_Down      0.0000\n",
            "                           acetohexamide_Steady      0.0000\n",
            "                               acetohexamide_No      0.0000\n",
            "                               nateglinide_Down      0.0000\n",
            "                   admission_type_Trauma Center      0.0000\n",
            "                glimepiride-pioglitazone_Steady      0.0000\n",
            "                    glimepiride-pioglitazone_No      0.0000\n",
            "                         admission_type_Newborn      0.0000\n",
            "                 metformin-rosiglitazone_Steady      0.0000\n",
            "                         glyburide-metformin_Up      0.0000\n",
            "                       glyburide-metformin_Down      0.0000\n",
            "                         glipizide-metformin_No      0.0000\n",
            "                     glipizide-metformin_Steady      0.0000\n",
            "                      metformin-pioglitazone_No      0.0000\n",
            "                  metformin-pioglitazone_Steady      0.0000\n",
            "                     metformin-rosiglitazone_No      0.0000\n",
            "         admission_source_grouped_Birth-Related      0.0000\n",
            "           admission_source_grouped_Legal/Court      0.0000\n",
            "                 VisitType_high_outpatient_rate      0.0000\n"
          ]
        }
      ]
    },
    {
      "cell_type": "code",
      "execution_count": 101,
      "metadata": {
        "id": "xYe72chfZNCM",
        "outputId": "a848db10-59c8-477a-d6df-02c2641e7019",
        "colab": {
          "base_uri": "https://localhost:8080/",
          "height": 1000
        }
      },
      "outputs": [
        {
          "output_type": "display_data",
          "data": {
            "text/plain": [
              "<Figure size 1200x800 with 1 Axes>"
            ],
            "image/png": "[encoded data removed]"
          },
          "metadata": {}
        },
        {
          "output_type": "stream",
          "name": "stdout",
          "text": [
            "Top 20 features by importance:\n",
            "1. encounter_id: 0.1022\n",
            "2. patient_nbr: 0.1008\n",
            "3. num_lab_procedures: 0.0836\n",
            "4. num_medications: 0.0761\n",
            "5. time_in_hospital: 0.0580\n",
            "6. number_diagnoses: 0.0406\n",
            "7. num_procedures: 0.0393\n",
            "8. VisitType_novisit: 0.0189\n",
            "9. diagnosis_grouped_Circulatory: 0.0154\n",
            "10. gender_Male: 0.0147\n",
            "11. gender_Female: 0.0146\n",
            "12. VisitType_low_inpatient: 0.0122\n",
            "13. race_Caucasian: 0.0114\n",
            "14. payer_code_MC: 0.0111\n",
            "15. diagnosis_grouped_Respiratory: 0.0108\n",
            "16. age_group_3cat_older: 0.0103\n",
            "17. race_AfricanAmerican: 0.0103\n",
            "18. insulin_Steady: 0.0103\n",
            "19. age_group_3cat_middle-aged: 0.0101\n",
            "20. admission_type_Emergency: 0.0098\n"
          ]
        }
      ],
      "source": [
        "# 4.1 Feature importance using Random Forest\n",
        "rf = RandomForestClassifier(n_estimators=100, random_state=42)\n",
        "rf.fit(X, y)\n",
        "\n",
        "# Get feature importances\n",
        "importances = rf.feature_importances_\n",
        "indices = np.argsort(importances)[::-1]\n",
        "\n",
        "# Plot the top 20 features\n",
        "plt.figure(figsize=(12, 8))\n",
        "plt.title('Feature Importances')\n",
        "plt.bar(range(20), importances[indices][:20], align='center')\n",
        "plt.xticks(range(20), X.columns[indices][:20], rotation=90)\n",
        "plt.tight_layout()\n",
        "plt.show()\n",
        "print(\"Top 20 features by importance:\")\n",
        "for i in range(20):\n",
        "    print(f\"{i+1}. {X.columns[indices][i]}: {importances[indices][i]:.4f}\")"
      ]
    },
    {
      "cell_type": "code",
      "execution_count": null,
      "metadata": {
        "id": "1aPMCVBuZNCM"
      },
      "outputs": [],
      "source": [
        "# 4.2 Statistical feature selection using ANOVA F-value\n",
        "selector = SelectKBest(f_classif, k=20)\n",
        "X_new = selector.fit_transform(X, y)\n",
        "\n",
        "# Get selected feature names\n",
        "mask = selector.get_support()\n",
        "selected_features = X.columns[mask]\n",
        "\n",
        "# Get scores\n",
        "scores = selector.scores_\n",
        "selected_scores = scores[mask]\n",
        "\n",
        "# Sort by score\n",
        "sorted_indices = np.argsort(selected_scores)[::-1]\n",
        "sorted_features = selected_features[sorted_indices]\n",
        "sorted_scores = selected_scores[sorted_indices]\n",
        "\n",
        "# Plot\n",
        "plt.figure(figsize=(12, 8))\n",
        "plt.title('Feature Selection using ANOVA F-value')\n",
        "plt.bar(range(len(sorted_features)), sorted_scores, align='center')\n",
        "plt.xticks(range(len(sorted_features)), sorted_features, rotation=90)\n",
        "plt.tight_layout()\n",
        "plt.show()\n",
        "\n",
        "print(\"Top 20 features by ANOVA F-value:\")\n",
        "for i, (feature, score) in enumerate(zip(sorted_features, sorted_scores)):\n",
        "    print(f\"{i+1}. {feature}: {score:.4f}\")"
      ]
    },
    {
      "cell_type": "code",
      "execution_count": null,
      "metadata": {
        "id": "LIrK45I9ZNCN"
      },
      "outputs": [],
      "source": [
        "# 4.3 Recursive Feature Elimination (RFE)\n",
        "rfe = RFE(estimator=RandomForestClassifier(n_estimators=100, random_state=42), n_features_to_select=20)\n",
        "rfe.fit(X, y)\n",
        "\n",
        "# Get selected feature names\n",
        "rfe_mask = rfe.get_support()\n",
        "rfe_features = X.columns[rfe_mask]\n",
        "\n",
        "print(\"Top 20 features selected by RFE:\")\n",
        "for i, feature in enumerate(rfe_features):\n",
        "    print(f\"{i+1}. {feature}\")"
      ]
    },
    {
      "cell_type": "markdown",
      "metadata": {
        "id": "hhgqB2W1ZNCO"
      },
      "source": [
        "## 5. Compare Feature Selection Methods"
      ]
    },
    {
      "cell_type": "code",
      "execution_count": null,
      "metadata": {
        "id": "OB_oUZzNZNCO"
      },
      "outputs": [],
      "source": [
        "# Compare the features selected by different methods\n",
        "rf_features = X.columns[indices][:20]\n",
        "anova_features = sorted_features\n",
        "\n",
        "# Find common features\n",
        "common_all = set(rf_features) & set(anova_features) & set(rfe_features)\n",
        "common_rf_anova = set(rf_features) & set(anova_features)\n",
        "common_rf_rfe = set(rf_features) & set(rfe_features)\n",
        "common_anova_rfe = set(anova_features) & set(rfe_features)\n",
        "\n",
        "print(f\"Features common to all methods: {len(common_all)}\")\n",
        "print(f\"Features common to RF and ANOVA: {len(common_rf_anova)}\")\n",
        "print(f\"Features common to RF and RFE: {len(common_rf_rfe)}\")\n",
        "print(f\"Features common to ANOVA and RFE: {len(common_anova_rfe)}\")\n",
        "\n",
        "print(\"\\nFeatures common to all methods:\")\n",
        "for feature in common_all:\n",
        "    print(f\"- {feature}\")"
      ]
    },
    {
      "cell_type": "markdown",
      "metadata": {
        "id": "toVdwlfHZNCO"
      },
      "source": [
        "## 6. Final Feature Set"
      ]
    },
    {
      "cell_type": "code",
      "execution_count": null,
      "metadata": {
        "id": "nOQVf3jnZNCO"
      },
      "outputs": [],
      "source": [
        "# Create a final feature set based on the analysis\n",
        "# We'll use features that appear in at least 2 of the 3 methods\n",
        "all_selected_features = list(rf_features) + list(anova_features) + list(rfe_features)\n",
        "feature_counts = pd.Series(all_selected_features).value_counts()\n",
        "final_features = feature_counts[feature_counts >= 2].index.tolist()\n",
        "\n",
        "print(f\"Final feature set size: {len(final_features)}\")\n",
        "print(\"\\nFinal features:\")\n",
        "for feature in final_features:\n",
        "    print(f\"- {feature}\")"
      ]
    },
    {
      "cell_type": "code",
      "execution_count": null,
      "metadata": {
        "id": "0Ugfs6YjZNCP"
      },
      "outputs": [],
      "source": [
        "# Create the final feature matrix\n",
        "X_final = X[final_features]\n",
        "\n",
        "# Scale the features\n",
        "scaler = StandardScaler()\n",
        "X_scaled = scaler.fit_transform(X_final)\n",
        "\n",
        "# Convert back to DataFrame for better visualization\n",
        "X_scaled_data = pd.DataFrame(X_scaled, columns=X_final.columns)\n",
        "\n",
        "print(f\"Final scaled feature matrix shape: {X_scaled_data.shape}\")\n",
        "X_scaled_data.head()"
      ]
    },
    {
      "cell_type": "markdown",
      "metadata": {
        "id": "-g4z9GddZNCP"
      },
      "source": [
        "## 7. Save Processed Data"
      ]
    },
    {
      "cell_type": "code",
      "execution_count": null,
      "metadata": {
        "id": "xoF0cduzZNCP"
      },
      "outputs": [],
      "source": [
        "# Save the final feature set for reference\n",
        "import os\n",
        "os.makedirs('../data/features', exist_ok=True)\n",
        "\n",
        "# Save the list of final features\n",
        "with open('../data/features/final_features.txt', 'w') as f:\n",
        "    for feature in final_features:\n",
        "        f.write(f\"{feature}\\n\")\n",
        "\n",
        "print(f\"Final feature list saved to ../data/features/final_features.txt\")"
      ]
    },
    {
      "cell_type": "code",
      "execution_count": null,
      "metadata": {
        "id": "8ME_49knZNCQ"
      },
      "outputs": [],
      "source": [
        "# Save the full processed dataset\n",
        "# Add the target variable back\n",
        "X_scaled_data['readmission_30d'] = y.values\n",
        "\n",
        "# Save to CSV\n",
        "X_scaled_data.to_csv('../data/features/processed_features.csv', index=False)\n",
        "print(f\"Processed features saved to ../data/features/processed_features.csv\")"
      ]
    },
    {
      "cell_type": "markdown",
      "metadata": {
        "id": "TJor7AqZZNCQ"
      },
      "source": [
        "## 8. Summary of Feature Engineering\n",
        "\n",
        "In this notebook, we performed several feature engineering steps:\n",
        "\n",
        "1. **Temporal Features**:\n",
        "   - Extracted month, day of week, and quarter from admission date\n",
        "   - Created a weekend admission indicator\n",
        "\n",
        "2. **Categorical Transformations**:\n",
        "   - Created age groups\n",
        "   - One-hot encoded categorical variables\n",
        "\n",
        "3. **Interaction Features**:\n",
        "   - Combined age with medical conditions\n",
        "   - Created previous emergency admissions\n",
        "   - Combined medication count and adherence\n",
        "   - Created comorbidity count\n",
        "\n",
        "4. **Domain Knowledge Features**:\n",
        "   - Created a risk score based on clinical factors\n",
        "\n",
        "5. **Feature Selection**:\n",
        "   - Used Random Forest importance\n",
        "   - Applied ANOVA F-value selection\n",
        "   - Performed Recursive Feature Elimination\n",
        "   - Selected features that appeared in at least 2 methods\n",
        "\n",
        "6. **Feature Scaling**:\n",
        "   - Standardized the final feature set\n",
        "\n",
        "The final feature set includes a mix of demographic, medical, temporal, and interaction features that show strong predictive power for hospital readmissions."
      ]
    }
  ],
  "metadata": {
    "kernelspec": {
      "display_name": "Python 3",
      "language": "python",
      "name": "python3"
    },
    "language_info": {
      "codemirror_mode": {
        "name": "ipython",
        "version": 3
      },
      "file_extension": ".py",
      "mimetype": "text/x-python",
      "name": "python",
      "nbconvert_exporter": "python",
      "pygments_lexer": "ipython3",
      "version": "3.8.10"
    },
    "colab": {
      "provenance": []
    }
  },
  "nbformat": 4,
  "nbformat_minor": 0
}