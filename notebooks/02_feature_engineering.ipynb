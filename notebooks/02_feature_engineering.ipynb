{
  "cells": [
    {
      "cell_type": "markdown",
      "metadata": {
        "id": "hrDOIMiMZNCC"
      },
      "source": [
        "# **Hospital Readmission Prediction - Feature Engineering**\n",
        "\n",
        "This notebook focuses on feature engineering for the hospital readmission prediction model. We'll transform raw features into more informative ones and prepare the data for modeling."
      ]
    },
    {
      "cell_type": "code",
      "execution_count": 225,
      "metadata": {
        "id": "_-OU6-2YZNCE"
      },
      "outputs": [],
      "source": [
        "import pandas as pd\n",
        "import numpy as np\n",
        "import matplotlib.pyplot as plt\n",
        "import seaborn as sns\n",
        "from sklearn.preprocessing import StandardScaler\n",
        "from sklearn.feature_selection import SelectKBest, f_classif, RFE\n",
        "from sklearn.ensemble import RandomForestClassifier\n",
        "import warnings\n",
        "plt.style.use('seaborn-v0_8-whitegrid')\n",
        "sns.set_palette('Set2')\n",
        "pd.set_option('display.max_columns', None)\n",
        "pd.set_option('display.width', 1000)\n",
        "warnings.filterwarnings('ignore')"
      ]
    },
    {
      "cell_type": "markdown",
      "metadata": {
        "id": "dHQMcGJAZNCF"
      },
      "source": [
        "## 1. **Load the Data**"
      ]
    },
    {
      "cell_type": "code",
      "execution_count": 226,
      "metadata": {
        "id": "lQACXwpWZNCF",
        "colab": {
          "base_uri": "https://localhost:8080/",
          "height": 347
        },
        "outputId": "e90abe81-01db-4ff1-991f-f60a05260cf8"
      },
      "outputs": [
        {
          "output_type": "stream",
          "name": "stdout",
          "text": [
            "Dataset shape: (101766, 50)\n"
          ]
        },
        {
          "output_type": "execute_result",
          "data": {
            "text/plain": [
              "   encounter_id  patient_nbr             race  gender      age weight  admission_type_id  discharge_disposition_id  admission_source_id  time_in_hospital payer_code         medical_specialty  num_lab_procedures  num_procedures  num_medications  number_outpatient  number_emergency  number_inpatient  diag_1  diag_2 diag_3  number_diagnoses max_glu_serum A1Cresult metformin repaglinide nateglinide chlorpropamide glimepiride acetohexamide glipizide glyburide tolbutamide pioglitazone rosiglitazone acarbose miglitol troglitazone tolazamide examide citoglipton insulin glyburide-metformin glipizide-metformin glimepiride-pioglitazone metformin-rosiglitazone metformin-pioglitazone change diabetesMed readmitted\n",
              "0       2278392      8222157        Caucasian  Female   [0-10)      ?                  6                        25                    1                 1          ?  Pediatrics-Endocrinology                  41               0                1                  0                 0                 0  250.83       ?      ?                 1           NaN       NaN        No          No          No             No          No            No        No        No          No           No            No       No       No           No         No      No          No      No                  No                  No                       No                      No                     No     No          No         NO\n",
              "1        149190     55629189        Caucasian  Female  [10-20)      ?                  1                         1                    7                 3          ?                         ?                  59               0               18                  0                 0                 0     276  250.01    255                 9           NaN       NaN        No          No          No             No          No            No        No        No          No           No            No       No       No           No         No      No          No      Up                  No                  No                       No                      No                     No     Ch         Yes        >30\n",
              "2         64410     86047875  AfricanAmerican  Female  [20-30)      ?                  1                         1                    7                 2          ?                         ?                  11               5               13                  2                 0                 1     648     250    V27                 6           NaN       NaN        No          No          No             No          No            No    Steady        No          No           No            No       No       No           No         No      No          No      No                  No                  No                       No                      No                     No     No         Yes         NO\n",
              "3        500364     82442376        Caucasian    Male  [30-40)      ?                  1                         1                    7                 2          ?                         ?                  44               1               16                  0                 0                 0       8  250.43    403                 7           NaN       NaN        No          No          No             No          No            No        No        No          No           No            No       No       No           No         No      No          No      Up                  No                  No                       No                      No                     No     Ch         Yes         NO\n",
              "4         16680     42519267        Caucasian    Male  [40-50)      ?                  1                         1                    7                 1          ?                         ?                  51               0                8                  0                 0                 0     197     157    250                 5           NaN       NaN        No          No          No             No          No            No    Steady        No          No           No            No       No       No           No         No      No          No  Steady                  No                  No                       No                      No                     No     Ch         Yes         NO"
            ],
            "text/html": [
              "\n",
              "  <div id=\"df-b0abe4fa-41e9-44c4-aeb2-e3e0a12f8cb1\" class=\"colab-df-container\">\n",
              "    <div>\n",
              "<style scoped>\n",
              "    .dataframe tbody tr th:only-of-type {\n",
              "        vertical-align: middle;\n",
              "    }\n",
              "\n",
              "    .dataframe tbody tr th {\n",
              "        vertical-align: top;\n",
              "    }\n",
              "\n",
              "    .dataframe thead th {\n",
              "        text-align: right;\n",
              "    }\n",
              "</style>\n",
              "<table border=\"1\" class=\"dataframe\">\n",
              "  <thead>\n",
              "    <tr style=\"text-align: right;\">\n",
              "      <th></th>\n",
              "      <th>encounter_id</th>\n",
              "      <th>patient_nbr</th>\n",
              "      <th>race</th>\n",
              "      <th>gender</th>\n",
              "      <th>age</th>\n",
              "      <th>weight</th>\n",
              "      <th>admission_type_id</th>\n",
              "      <th>discharge_disposition_id</th>\n",
              "      <th>admission_source_id</th>\n",
              "      <th>time_in_hospital</th>\n",
              "      <th>payer_code</th>\n",
              "      <th>medical_specialty</th>\n",
              "      <th>num_lab_procedures</th>\n",
              "      <th>num_procedures</th>\n",
              "      <th>num_medications</th>\n",
              "      <th>number_outpatient</th>\n",
              "      <th>number_emergency</th>\n",
              "      <th>number_inpatient</th>\n",
              "      <th>diag_1</th>\n",
              "      <th>diag_2</th>\n",
              "      <th>diag_3</th>\n",
              "      <th>number_diagnoses</th>\n",
              "      <th>max_glu_serum</th>\n",
              "      <th>A1Cresult</th>\n",
              "      <th>metformin</th>\n",
              "      <th>repaglinide</th>\n",
              "      <th>nateglinide</th>\n",
              "      <th>chlorpropamide</th>\n",
              "      <th>glimepiride</th>\n",
              "      <th>acetohexamide</th>\n",
              "      <th>glipizide</th>\n",
              "      <th>glyburide</th>\n",
              "      <th>tolbutamide</th>\n",
              "      <th>pioglitazone</th>\n",
              "      <th>rosiglitazone</th>\n",
              "      <th>acarbose</th>\n",
              "      <th>miglitol</th>\n",
              "      <th>troglitazone</th>\n",
              "      <th>tolazamide</th>\n",
              "      <th>examide</th>\n",
              "      <th>citoglipton</th>\n",
              "      <th>insulin</th>\n",
              "      <th>glyburide-metformin</th>\n",
              "      <th>glipizide-metformin</th>\n",
              "      <th>glimepiride-pioglitazone</th>\n",
              "      <th>metformin-rosiglitazone</th>\n",
              "      <th>metformin-pioglitazone</th>\n",
              "      <th>change</th>\n",
              "      <th>diabetesMed</th>\n",
              "      <th>readmitted</th>\n",
              "    </tr>\n",
              "  </thead>\n",
              "  <tbody>\n",
              "    <tr>\n",
              "      <th>0</th>\n",
              "      <td>2278392</td>\n",
              "      <td>8222157</td>\n",
              "      <td>Caucasian</td>\n",
              "      <td>Female</td>\n",
              "      <td>[0-10)</td>\n",
              "      <td>?</td>\n",
              "      <td>6</td>\n",
              "      <td>25</td>\n",
              "      <td>1</td>\n",
              "      <td>1</td>\n",
              "      <td>?</td>\n",
              "      <td>Pediatrics-Endocrinology</td>\n",
              "      <td>41</td>\n",
              "      <td>0</td>\n",
              "      <td>1</td>\n",
              "      <td>0</td>\n",
              "      <td>0</td>\n",
              "      <td>0</td>\n",
              "      <td>250.83</td>\n",
              "      <td>?</td>\n",
              "      <td>?</td>\n",
              "      <td>1</td>\n",
              "      <td>NaN</td>\n",
              "      <td>NaN</td>\n",
              "      <td>No</td>\n",
              "      <td>No</td>\n",
              "      <td>No</td>\n",
              "      <td>No</td>\n",
              "      <td>No</td>\n",
              "      <td>No</td>\n",
              "      <td>No</td>\n",
              "      <td>No</td>\n",
              "      <td>No</td>\n",
              "      <td>No</td>\n",
              "      <td>No</td>\n",
              "      <td>No</td>\n",
              "      <td>No</td>\n",
              "      <td>No</td>\n",
              "      <td>No</td>\n",
              "      <td>No</td>\n",
              "      <td>No</td>\n",
              "      <td>No</td>\n",
              "      <td>No</td>\n",
              "      <td>No</td>\n",
              "      <td>No</td>\n",
              "      <td>No</td>\n",
              "      <td>No</td>\n",
              "      <td>No</td>\n",
              "      <td>No</td>\n",
              "      <td>NO</td>\n",
              "    </tr>\n",
              "    <tr>\n",
              "      <th>1</th>\n",
              "      <td>149190</td>\n",
              "      <td>55629189</td>\n",
              "      <td>Caucasian</td>\n",
              "      <td>Female</td>\n",
              "      <td>[10-20)</td>\n",
              "      <td>?</td>\n",
              "      <td>1</td>\n",
              "      <td>1</td>\n",
              "      <td>7</td>\n",
              "      <td>3</td>\n",
              "      <td>?</td>\n",
              "      <td>?</td>\n",
              "      <td>59</td>\n",
              "      <td>0</td>\n",
              "      <td>18</td>\n",
              "      <td>0</td>\n",
              "      <td>0</td>\n",
              "      <td>0</td>\n",
              "      <td>276</td>\n",
              "      <td>250.01</td>\n",
              "      <td>255</td>\n",
              "      <td>9</td>\n",
              "      <td>NaN</td>\n",
              "      <td>NaN</td>\n",
              "      <td>No</td>\n",
              "      <td>No</td>\n",
              "      <td>No</td>\n",
              "      <td>No</td>\n",
              "      <td>No</td>\n",
              "      <td>No</td>\n",
              "      <td>No</td>\n",
              "      <td>No</td>\n",
              "      <td>No</td>\n",
              "      <td>No</td>\n",
              "      <td>No</td>\n",
              "      <td>No</td>\n",
              "      <td>No</td>\n",
              "      <td>No</td>\n",
              "      <td>No</td>\n",
              "      <td>No</td>\n",
              "      <td>No</td>\n",
              "      <td>Up</td>\n",
              "      <td>No</td>\n",
              "      <td>No</td>\n",
              "      <td>No</td>\n",
              "      <td>No</td>\n",
              "      <td>No</td>\n",
              "      <td>Ch</td>\n",
              "      <td>Yes</td>\n",
              "      <td>&gt;30</td>\n",
              "    </tr>\n",
              "    <tr>\n",
              "      <th>2</th>\n",
              "      <td>64410</td>\n",
              "      <td>86047875</td>\n",
              "      <td>AfricanAmerican</td>\n",
              "      <td>Female</td>\n",
              "      <td>[20-30)</td>\n",
              "      <td>?</td>\n",
              "      <td>1</td>\n",
              "      <td>1</td>\n",
              "      <td>7</td>\n",
              "      <td>2</td>\n",
              "      <td>?</td>\n",
              "      <td>?</td>\n",
              "      <td>11</td>\n",
              "      <td>5</td>\n",
              "      <td>13</td>\n",
              "      <td>2</td>\n",
              "      <td>0</td>\n",
              "      <td>1</td>\n",
              "      <td>648</td>\n",
              "      <td>250</td>\n",
              "      <td>V27</td>\n",
              "      <td>6</td>\n",
              "      <td>NaN</td>\n",
              "      <td>NaN</td>\n",
              "      <td>No</td>\n",
              "      <td>No</td>\n",
              "      <td>No</td>\n",
              "      <td>No</td>\n",
              "      <td>No</td>\n",
              "      <td>No</td>\n",
              "      <td>Steady</td>\n",
              "      <td>No</td>\n",
              "      <td>No</td>\n",
              "      <td>No</td>\n",
              "      <td>No</td>\n",
              "      <td>No</td>\n",
              "      <td>No</td>\n",
              "      <td>No</td>\n",
              "      <td>No</td>\n",
              "      <td>No</td>\n",
              "      <td>No</td>\n",
              "      <td>No</td>\n",
              "      <td>No</td>\n",
              "      <td>No</td>\n",
              "      <td>No</td>\n",
              "      <td>No</td>\n",
              "      <td>No</td>\n",
              "      <td>No</td>\n",
              "      <td>Yes</td>\n",
              "      <td>NO</td>\n",
              "    </tr>\n",
              "    <tr>\n",
              "      <th>3</th>\n",
              "      <td>500364</td>\n",
              "      <td>82442376</td>\n",
              "      <td>Caucasian</td>\n",
              "      <td>Male</td>\n",
              "      <td>[30-40)</td>\n",
              "      <td>?</td>\n",
              "      <td>1</td>\n",
              "      <td>1</td>\n",
              "      <td>7</td>\n",
              "      <td>2</td>\n",
              "      <td>?</td>\n",
              "      <td>?</td>\n",
              "      <td>44</td>\n",
              "      <td>1</td>\n",
              "      <td>16</td>\n",
              "      <td>0</td>\n",
              "      <td>0</td>\n",
              "      <td>0</td>\n",
              "      <td>8</td>\n",
              "      <td>250.43</td>\n",
              "      <td>403</td>\n",
              "      <td>7</td>\n",
              "      <td>NaN</td>\n",
              "      <td>NaN</td>\n",
              "      <td>No</td>\n",
              "      <td>No</td>\n",
              "      <td>No</td>\n",
              "      <td>No</td>\n",
              "      <td>No</td>\n",
              "      <td>No</td>\n",
              "      <td>No</td>\n",
              "      <td>No</td>\n",
              "      <td>No</td>\n",
              "      <td>No</td>\n",
              "      <td>No</td>\n",
              "      <td>No</td>\n",
              "      <td>No</td>\n",
              "      <td>No</td>\n",
              "      <td>No</td>\n",
              "      <td>No</td>\n",
              "      <td>No</td>\n",
              "      <td>Up</td>\n",
              "      <td>No</td>\n",
              "      <td>No</td>\n",
              "      <td>No</td>\n",
              "      <td>No</td>\n",
              "      <td>No</td>\n",
              "      <td>Ch</td>\n",
              "      <td>Yes</td>\n",
              "      <td>NO</td>\n",
              "    </tr>\n",
              "    <tr>\n",
              "      <th>4</th>\n",
              "      <td>16680</td>\n",
              "      <td>42519267</td>\n",
              "      <td>Caucasian</td>\n",
              "      <td>Male</td>\n",
              "      <td>[40-50)</td>\n",
              "      <td>?</td>\n",
              "      <td>1</td>\n",
              "      <td>1</td>\n",
              "      <td>7</td>\n",
              "      <td>1</td>\n",
              "      <td>?</td>\n",
              "      <td>?</td>\n",
              "      <td>51</td>\n",
              "      <td>0</td>\n",
              "      <td>8</td>\n",
              "      <td>0</td>\n",
              "      <td>0</td>\n",
              "      <td>0</td>\n",
              "      <td>197</td>\n",
              "      <td>157</td>\n",
              "      <td>250</td>\n",
              "      <td>5</td>\n",
              "      <td>NaN</td>\n",
              "      <td>NaN</td>\n",
              "      <td>No</td>\n",
              "      <td>No</td>\n",
              "      <td>No</td>\n",
              "      <td>No</td>\n",
              "      <td>No</td>\n",
              "      <td>No</td>\n",
              "      <td>Steady</td>\n",
              "      <td>No</td>\n",
              "      <td>No</td>\n",
              "      <td>No</td>\n",
              "      <td>No</td>\n",
              "      <td>No</td>\n",
              "      <td>No</td>\n",
              "      <td>No</td>\n",
              "      <td>No</td>\n",
              "      <td>No</td>\n",
              "      <td>No</td>\n",
              "      <td>Steady</td>\n",
              "      <td>No</td>\n",
              "      <td>No</td>\n",
              "      <td>No</td>\n",
              "      <td>No</td>\n",
              "      <td>No</td>\n",
              "      <td>Ch</td>\n",
              "      <td>Yes</td>\n",
              "      <td>NO</td>\n",
              "    </tr>\n",
              "  </tbody>\n",
              "</table>\n",
              "</div>\n",
              "    <div class=\"colab-df-buttons\">\n",
              "\n",
              "  <div class=\"colab-df-container\">\n",
              "    <button class=\"colab-df-convert\" onclick=\"convertToInteractive('df-b0abe4fa-41e9-44c4-aeb2-e3e0a12f8cb1')\"\n",
              "            title=\"Convert this dataframe to an interactive table.\"\n",
              "            style=\"display:none;\">\n",
              "\n",
              "  <svg xmlns=\"http://www.w3.org/2000/svg\" height=\"24px\" viewBox=\"0 -960 960 960\">\n",
              "    <path d=\"M120-120v-720h720v720H120Zm60-500h600v-160H180v160Zm220 220h160v-160H400v160Zm0 220h160v-160H400v160ZM180-400h160v-160H180v160Zm440 0h160v-160H620v160ZM180-180h160v-160H180v160Zm440 0h160v-160H620v160Z\"/>\n",
              "  </svg>\n",
              "    </button>\n",
              "\n",
              "  <style>\n",
              "    .colab-df-container {\n",
              "      display:flex;\n",
              "      gap: 12px;\n",
              "    }\n",
              "\n",
              "    .colab-df-convert {\n",
              "      background-color: #E8F0FE;\n",
              "      border: none;\n",
              "      border-radius: 50%;\n",
              "      cursor: pointer;\n",
              "      display: none;\n",
              "      fill: #1967D2;\n",
              "      height: 32px;\n",
              "      padding: 0 0 0 0;\n",
              "      width: 32px;\n",
              "    }\n",
              "\n",
              "    .colab-df-convert:hover {\n",
              "      background-color: #E2EBFA;\n",
              "      box-shadow: 0px 1px 2px rgba(60, 64, 67, 0.3), 0px 1px 3px 1px rgba(60, 64, 67, 0.15);\n",
              "      fill: #174EA6;\n",
              "    }\n",
              "\n",
              "    .colab-df-buttons div {\n",
              "      margin-bottom: 4px;\n",
              "    }\n",
              "\n",
              "    [theme=dark] .colab-df-convert {\n",
              "      background-color: #3B4455;\n",
              "      fill: #D2E3FC;\n",
              "    }\n",
              "\n",
              "    [theme=dark] .colab-df-convert:hover {\n",
              "      background-color: #434B5C;\n",
              "      box-shadow: 0px 1px 3px 1px rgba(0, 0, 0, 0.15);\n",
              "      filter: drop-shadow(0px 1px 2px rgba(0, 0, 0, 0.3));\n",
              "      fill: #FFFFFF;\n",
              "    }\n",
              "  </style>\n",
              "\n",
              "    <script>\n",
              "      const buttonEl =\n",
              "        document.querySelector('#df-b0abe4fa-41e9-44c4-aeb2-e3e0a12f8cb1 button.colab-df-convert');\n",
              "      buttonEl.style.display =\n",
              "        google.colab.kernel.accessAllowed ? 'block' : 'none';\n",
              "\n",
              "      async function convertToInteractive(key) {\n",
              "        const element = document.querySelector('#df-b0abe4fa-41e9-44c4-aeb2-e3e0a12f8cb1');\n",
              "        const dataTable =\n",
              "          await google.colab.kernel.invokeFunction('convertToInteractive',\n",
              "                                                    [key], {});\n",
              "        if (!dataTable) return;\n",
              "\n",
              "        const docLinkHtml = 'Like what you see? Visit the ' +\n",
              "          '<a target=\"_blank\" href=https://colab.research.google.com/notebooks/data_table.ipynb>data table notebook</a>'\n",
              "          + ' to learn more about interactive tables.';\n",
              "        element.innerHTML = '';\n",
              "        dataTable['output_type'] = 'display_data';\n",
              "        await google.colab.output.renderOutput(dataTable, element);\n",
              "        const docLink = document.createElement('div');\n",
              "        docLink.innerHTML = docLinkHtml;\n",
              "        element.appendChild(docLink);\n",
              "      }\n",
              "    </script>\n",
              "  </div>\n",
              "\n",
              "\n",
              "<div id=\"df-4e022bdc-78fc-484d-8599-bde944823489\">\n",
              "  <button class=\"colab-df-quickchart\" onclick=\"quickchart('df-4e022bdc-78fc-484d-8599-bde944823489')\"\n",
              "            title=\"Suggest charts\"\n",
              "            style=\"display:none;\">\n",
              "\n",
              "<svg xmlns=\"http://www.w3.org/2000/svg\" height=\"24px\"viewBox=\"0 0 24 24\"\n",
              "     width=\"24px\">\n",
              "    <g>\n",
              "        <path d=\"M19 3H5c-1.1 0-2 .9-2 2v14c0 1.1.9 2 2 2h14c1.1 0 2-.9 2-2V5c0-1.1-.9-2-2-2zM9 17H7v-7h2v7zm4 0h-2V7h2v10zm4 0h-2v-4h2v4z\"/>\n",
              "    </g>\n",
              "</svg>\n",
              "  </button>\n",
              "\n",
              "<style>\n",
              "  .colab-df-quickchart {\n",
              "      --bg-color: #E8F0FE;\n",
              "      --fill-color: #1967D2;\n",
              "      --hover-bg-color: #E2EBFA;\n",
              "      --hover-fill-color: #174EA6;\n",
              "      --disabled-fill-color: #AAA;\n",
              "      --disabled-bg-color: #DDD;\n",
              "  }\n",
              "\n",
              "  [theme=dark] .colab-df-quickchart {\n",
              "      --bg-color: #3B4455;\n",
              "      --fill-color: #D2E3FC;\n",
              "      --hover-bg-color: #434B5C;\n",
              "      --hover-fill-color: #FFFFFF;\n",
              "      --disabled-bg-color: #3B4455;\n",
              "      --disabled-fill-color: #666;\n",
              "  }\n",
              "\n",
              "  .colab-df-quickchart {\n",
              "    background-color: var(--bg-color);\n",
              "    border: none;\n",
              "    border-radius: 50%;\n",
              "    cursor: pointer;\n",
              "    display: none;\n",
              "    fill: var(--fill-color);\n",
              "    height: 32px;\n",
              "    padding: 0;\n",
              "    width: 32px;\n",
              "  }\n",
              "\n",
              "  .colab-df-quickchart:hover {\n",
              "    background-color: var(--hover-bg-color);\n",
              "    box-shadow: 0 1px 2px rgba(60, 64, 67, 0.3), 0 1px 3px 1px rgba(60, 64, 67, 0.15);\n",
              "    fill: var(--button-hover-fill-color);\n",
              "  }\n",
              "\n",
              "  .colab-df-quickchart-complete:disabled,\n",
              "  .colab-df-quickchart-complete:disabled:hover {\n",
              "    background-color: var(--disabled-bg-color);\n",
              "    fill: var(--disabled-fill-color);\n",
              "    box-shadow: none;\n",
              "  }\n",
              "\n",
              "  .colab-df-spinner {\n",
              "    border: 2px solid var(--fill-color);\n",
              "    border-color: transparent;\n",
              "    border-bottom-color: var(--fill-color);\n",
              "    animation:\n",
              "      spin 1s steps(1) infinite;\n",
              "  }\n",
              "\n",
              "  @keyframes spin {\n",
              "    0% {\n",
              "      border-color: transparent;\n",
              "      border-bottom-color: var(--fill-color);\n",
              "      border-left-color: var(--fill-color);\n",
              "    }\n",
              "    20% {\n",
              "      border-color: transparent;\n",
              "      border-left-color: var(--fill-color);\n",
              "      border-top-color: var(--fill-color);\n",
              "    }\n",
              "    30% {\n",
              "      border-color: transparent;\n",
              "      border-left-color: var(--fill-color);\n",
              "      border-top-color: var(--fill-color);\n",
              "      border-right-color: var(--fill-color);\n",
              "    }\n",
              "    40% {\n",
              "      border-color: transparent;\n",
              "      border-right-color: var(--fill-color);\n",
              "      border-top-color: var(--fill-color);\n",
              "    }\n",
              "    60% {\n",
              "      border-color: transparent;\n",
              "      border-right-color: var(--fill-color);\n",
              "    }\n",
              "    80% {\n",
              "      border-color: transparent;\n",
              "      border-right-color: var(--fill-color);\n",
              "      border-bottom-color: var(--fill-color);\n",
              "    }\n",
              "    90% {\n",
              "      border-color: transparent;\n",
              "      border-bottom-color: var(--fill-color);\n",
              "    }\n",
              "  }\n",
              "</style>\n",
              "\n",
              "  <script>\n",
              "    async function quickchart(key) {\n",
              "      const quickchartButtonEl =\n",
              "        document.querySelector('#' + key + ' button');\n",
              "      quickchartButtonEl.disabled = true;  // To prevent multiple clicks.\n",
              "      quickchartButtonEl.classList.add('colab-df-spinner');\n",
              "      try {\n",
              "        const charts = await google.colab.kernel.invokeFunction(\n",
              "            'suggestCharts', [key], {});\n",
              "      } catch (error) {\n",
              "        console.error('Error during call to suggestCharts:', error);\n",
              "      }\n",
              "      quickchartButtonEl.classList.remove('colab-df-spinner');\n",
              "      quickchartButtonEl.classList.add('colab-df-quickchart-complete');\n",
              "    }\n",
              "    (() => {\n",
              "      let quickchartButtonEl =\n",
              "        document.querySelector('#df-4e022bdc-78fc-484d-8599-bde944823489 button');\n",
              "      quickchartButtonEl.style.display =\n",
              "        google.colab.kernel.accessAllowed ? 'block' : 'none';\n",
              "    })();\n",
              "  </script>\n",
              "</div>\n",
              "\n",
              "    </div>\n",
              "  </div>\n"
            ],
            "application/vnd.google.colaboratory.intrinsic+json": {
              "type": "dataframe",
              "variable_name": "data"
            }
          },
          "metadata": {},
          "execution_count": 226
        }
      ],
      "source": [
        "data = pd.read_csv('diabetic_data.csv')\n",
        "print(f\"Dataset shape: {data.shape}\")\n",
        "data.head()"
      ]
    },
    {
      "cell_type": "markdown",
      "metadata": {
        "id": "DR_VhZrJZNCG"
      },
      "source": [
        "# 2. **Basic Preprocessing**"
      ]
    },
    {
      "cell_type": "code",
      "source": [
        "print(f\"Dataset shape: {data.shape}\")"
      ],
      "metadata": {
        "colab": {
          "base_uri": "https://localhost:8080/"
        },
        "id": "we9I_Eb8yFqd",
        "outputId": "cb1ab607-be09-4183-da96-f2b6b8cafec6"
      },
      "execution_count": 227,
      "outputs": [
        {
          "output_type": "stream",
          "name": "stdout",
          "text": [
            "Dataset shape: (101766, 50)\n"
          ]
        }
      ]
    },
    {
      "cell_type": "code",
      "source": [
        "data['encounter_count'] = data.groupby('patient_nbr')['encounter_id'].transform('count')\n"
      ],
      "metadata": {
        "id": "4cPxcf78bNG0"
      },
      "execution_count": 178,
      "outputs": []
    },
    {
      "cell_type": "markdown",
      "source": [
        "##Removed columns with over 40% missing data.\n",
        "\n",
        "---\n",
        "\n"
      ],
      "metadata": {
        "id": "bid4hypbEn_3"
      }
    },
    {
      "cell_type": "code",
      "source": [],
      "metadata": {
        "id": "1ASo06KZPZbB"
      },
      "execution_count": 120,
      "outputs": []
    },
    {
      "cell_type": "code",
      "execution_count": 228,
      "metadata": {
        "id": "FNPvdEPYZNCG",
        "colab": {
          "base_uri": "https://localhost:8080/"
        },
        "outputId": "29e98f7d-1374-4661-8d5e-0dc0040220aa"
      },
      "outputs": [
        {
          "output_type": "stream",
          "name": "stdout",
          "text": [
            "Columns with more than 40% missing values:\n",
            "['weight', 'medical_specialty', 'max_glu_serum', 'A1Cresult']\n"
          ]
        }
      ],
      "source": [
        "import numpy as np\n",
        "import pandas as pd\n",
        "data = data.replace('?', np.nan)\n",
        "missing_threshold = 0.4\n",
        "high_missing = data.columns[data.isnull().mean() > missing_threshold]\n",
        "print(\"Columns with more than 40% missing values:\")\n",
        "print(high_missing.tolist())\n",
        "data.drop(columns=high_missing, inplace=True)"
      ]
    },
    {
      "cell_type": "code",
      "source": [
        "print(f\"Dataset shape: {data.shape}\")"
      ],
      "metadata": {
        "colab": {
          "base_uri": "https://localhost:8080/"
        },
        "id": "3I97FSc3y1cE",
        "outputId": "d605d0b8-8b01-4189-e180-095e472eed8d"
      },
      "execution_count": 229,
      "outputs": [
        {
          "output_type": "stream",
          "name": "stdout",
          "text": [
            "Dataset shape: (101766, 46)\n"
          ]
        }
      ]
    },
    {
      "cell_type": "code",
      "source": [
        "missing_count = data.isna().sum()\n",
        "missing_percent = (data.isna().mean() * 100).round(2)\n",
        "missing_info = pd.DataFrame({\n",
        "    'Missing Count': missing_count,\n",
        "    'Missing %': missing_percent\n",
        "})\n",
        "missing_info = missing_info[missing_info['Missing Count'] > 0].sort_values(by='Missing Count', ascending=False)\n",
        "print(missing_info)"
      ],
      "metadata": {
        "id": "eZtCIaJvvS6g",
        "colab": {
          "base_uri": "https://localhost:8080/"
        },
        "outputId": "02ff37ab-e72f-406a-aa13-0fec2be3ab04"
      },
      "execution_count": 230,
      "outputs": [
        {
          "output_type": "stream",
          "name": "stdout",
          "text": [
            "            Missing Count  Missing %\n",
            "payer_code          40256      39.56\n",
            "race                 2273       2.23\n",
            "diag_3               1423       1.40\n",
            "diag_2                358       0.35\n",
            "diag_1                 21       0.02\n"
          ]
        }
      ]
    },
    {
      "cell_type": "markdown",
      "source": [
        "##Missing values in the 'payer_code' and 'race' columns have been imputed using the mode."
      ],
      "metadata": {
        "id": "xHz3ULCLEzLe"
      }
    },
    {
      "cell_type": "code",
      "source": [
        "for col in ['payer_code', 'race']:\n",
        "    mode_val = data[col].mode()[0]\n",
        "    data[col] = data[col].fillna(mode_val)"
      ],
      "metadata": {
        "id": "yydBy2sKv1eH"
      },
      "execution_count": 231,
      "outputs": []
    },
    {
      "cell_type": "code",
      "source": [
        "cols = ['diag_1', 'diag_2', 'diag_3']\n",
        "total_nans = data[cols].isna().sum().sum()\n",
        "print(\"Total NaN values in diag_1, diag_2, and diag_3:\", total_nans)"
      ],
      "metadata": {
        "colab": {
          "base_uri": "https://localhost:8080/"
        },
        "id": "VF2lWkIG8hIg",
        "outputId": "859531ef-2139-426a-bf63-86a491bee3df"
      },
      "execution_count": 232,
      "outputs": [
        {
          "output_type": "stream",
          "name": "stdout",
          "text": [
            "Total NaN values in diag_1, diag_2, and diag_3: 1802\n"
          ]
        }
      ]
    },
    {
      "cell_type": "markdown",
      "source": [
        "##Missing values in the three diagnosis columns were imputed with '00'."
      ],
      "metadata": {
        "id": "Oevi58_jFCog"
      }
    },
    {
      "cell_type": "markdown",
      "source": [],
      "metadata": {
        "id": "UPpO_9LNUi6v"
      }
    },
    {
      "cell_type": "code",
      "source": [
        "cols = ['diag_1', 'diag_2', 'diag_3']\n",
        "data[cols] = data[cols].fillna('Unknown')"
      ],
      "metadata": {
        "id": "wMCs8TuJ1t2P"
      },
      "execution_count": 233,
      "outputs": []
    },
    {
      "cell_type": "code",
      "source": [
        "cols = ['diag_1', 'diag_2', 'diag_3']\n",
        "total_nans = data[cols].isna().sum().sum()\n",
        "print(\"Total NaN values in diag_1, diag_2, and diag_3:\", total_nans)"
      ],
      "metadata": {
        "colab": {
          "base_uri": "https://localhost:8080/"
        },
        "id": "OvLZJtPu_0mc",
        "outputId": "40e3b041-c588-4389-e788-4390ac0a43c9"
      },
      "execution_count": 234,
      "outputs": [
        {
          "output_type": "stream",
          "name": "stdout",
          "text": [
            "Total NaN values in diag_1, diag_2, and diag_3: 0\n"
          ]
        }
      ]
    },
    {
      "cell_type": "markdown",
      "source": [
        "# 3. **Feature Engineering**"
      ],
      "metadata": {
        "id": "EKvsv4RcFO_Z"
      }
    },
    {
      "cell_type": "markdown",
      "source": [
        "##Created a 'VisitType' feature by classifying visit patterns from inpatient, outpatient, and emergency columns. Dropped original columns after transformation."
      ],
      "metadata": {
        "id": "RCTgxw_kcN1w"
      }
    },
    {
      "cell_type": "code",
      "execution_count": null,
      "metadata": {
        "id": "Vaby9ALCZNCH"
      },
      "outputs": [],
      "source": [
        "import pandas as pd\n",
        "def classify_visit(row):\n",
        "    inpatient = row['number_inpatient']\n",
        "    outpatient = row['number_outpatient']\n",
        "    emergency = row['number_emergency']\n",
        "\n",
        "    if emergency > 0:\n",
        "        return 'emergency'\n",
        "    elif inpatient > 10:\n",
        "        return 'high_inpatient'\n",
        "    elif inpatient > 0:\n",
        "        return 'low_inpatient'\n",
        "    elif outpatient >= 19:\n",
        "        return 'high_outpatient_rate'\n",
        "    elif outpatient > 0:\n",
        "        return 'low_outpatient_rate'\n",
        "    else:\n",
        "        return 'novisit'\n",
        "data['VisitType'] = data.apply(classify_visit, axis=1)\n",
        "data.drop(['number_inpatient', 'number_outpatient', 'number_emergency'], axis=1, inplace=True)"
      ]
    },
    {
      "cell_type": "markdown",
      "source": [
        "**This code maps numeric admission_type_id values to readable category labels (like 'Emergency', 'Elective', etc.) using a dictionary, creates a new column admission_type with these labels, and then drops the original admission_type_id column.**"
      ],
      "metadata": {
        "id": "qfZKvYdgFSVq"
      }
    },
    {
      "cell_type": "markdown",
      "source": [],
      "metadata": {
        "id": "oZxRM7JgbVEJ"
      }
    },
    {
      "cell_type": "code",
      "source": [
        "# Map admission_type_id to descriptive labels\n",
        "admission_type_map = {\n",
        "    1: 'Emergency',\n",
        "    2: 'Urgent',\n",
        "    3: 'Elective',\n",
        "    4: 'Newborn',\n",
        "    5: 'Unknown',  # Previously 'Not Available'\n",
        "    6: 'Unknown',  # Previously 'NULL'\n",
        "    7: 'Trauma Center',\n",
        "    8: 'Unknown'   # Previously 'Not Mapped'\n",
        "}\n",
        "\n",
        "# Apply mapping and drop original column\n",
        "data['admission_type'] = data['admission_type_id'].map(admission_type_map)\n",
        "data.drop(columns=['admission_type_id'], inplace=True)\n"
      ],
      "metadata": {
        "id": "dCJ-n5ekwbxM"
      },
      "execution_count": 235,
      "outputs": []
    },
    {
      "cell_type": "code",
      "source": [
        "data['admission_group'] = data['admission_type'].map({\n",
        "    'Emergency': 'Unplanned',\n",
        "    'Urgent': 'Unplanned',\n",
        "    'Elective': 'Planned',\n",
        "    'Unknown': 'Unknown',  # includes NULL, Not Available\n",
        "})\n"
      ],
      "metadata": {
        "id": "t7JqCL33Wr_O"
      },
      "execution_count": 237,
      "outputs": []
    },
    {
      "cell_type": "markdown",
      "source": [
        "**This line creates a new column expiration_ind that flags whether a patient's discharge disposition indicates death (based on specific ID values). It assigns 1 if true (i.e., patient expired) and 0 otherwise.**"
      ],
      "metadata": {
        "id": "gBocRMTbwGAq"
      }
    },
    {
      "cell_type": "code",
      "source": [
        "data['expiration_ind'] = data['discharge_disposition_id'].isin([11,13,14,19,20,21]).astype('int')"
      ],
      "metadata": {
        "id": "Mrs9QwNZixFB"
      },
      "execution_count": 239,
      "outputs": []
    },
    {
      "cell_type": "markdown",
      "source": [
        " discharge_disposition_id column"
      ],
      "metadata": {
        "id": "bXvgtMl3Fbz7"
      }
    },
    {
      "cell_type": "markdown",
      "source": [
        "**This code maps the discharge_disposition_id values to broader categories (like 'Home', 'Transferred Hospital', etc.) using discharge_group_map, then creates a new column discharge_group with these values. It finally drops the original discharge_disposition_id column for simplification.**"
      ],
      "metadata": {
        "id": "XMj9b8chwO-Q"
      }
    },
    {
      "cell_type": "code",
      "source": [
        "discharge_group_map = {\n",
        "    1: 'Home',\n",
        "    6: 'Home',\n",
        "    8: 'Home',\n",
        "\n",
        "    3: 'SNF/ICF/Rehab',\n",
        "    4: 'SNF/ICF/Rehab',\n",
        "    22: 'SNF/ICF/Rehab',\n",
        "    23: 'SNF/ICF/Rehab',\n",
        "    24: 'SNF/ICF/Rehab',\n",
        "    15: 'SNF/ICF/Rehab',\n",
        "\n",
        "    2: 'Transferred Hospital',\n",
        "    5: 'Transferred Hospital',\n",
        "    27: 'Transferred Hospital',\n",
        "    28: 'Transferred Hospital',\n",
        "    29: 'Transferred Hospital',\n",
        "    30: 'Transferred Hospital',\n",
        "\n",
        "    12: 'Outpatient Follow-up',\n",
        "    16: 'Outpatient Follow-up',\n",
        "    17: 'Outpatient Follow-up',\n",
        "\n",
        "    9: 'Inpatient Readmit',\n",
        "    7: 'Left AMA',\n",
        "\n",
        "    18: 'Unknown/Invalid',\n",
        "    25: 'Unknown/Invalid',\n",
        "    26: 'Unknown/Invalid'\n",
        "}\n",
        "\n",
        "# Apply mapping\n",
        "data['discharge_group'] = data['discharge_disposition_id'].map(discharge_group_map)\n",
        "\n",
        "data.drop(['discharge_disposition_id'], axis=1, inplace=True)"
      ],
      "metadata": {
        "id": "6u2s15gw3U3f"
      },
      "execution_count": 186,
      "outputs": []
    },
    {
      "cell_type": "markdown",
      "source": [
        "**This code maps the admission_source_id values to descriptive labels (such as 'Physician Referral', 'Emergency Room', etc.) using the admission_source_id dictionary. It then creates a new column admission_source_grouped with these mapped values and drops the original admission_source_id column.**"
      ],
      "metadata": {
        "id": "5pYpvfcGwVg2"
      }
    },
    {
      "cell_type": "code",
      "source": [
        "admission_source_id = { 1 : 'Physician Referral'\n",
        ", 2 : 'Clinic Referral'\n",
        ", 3 : 'HMO Referral'\n",
        ", 4 : 'Transfer from a hospital'\n",
        ", 5 : 'Transfer from a Skilled Nursing Facility (SNF)'\n",
        ", 6 : 'Transfer from another health care facility'\n",
        ", 7 : 'Emergency Room'\n",
        ", 8 : 'Court/Law Enforcement'\n",
        ", 9 :  'Not Available'\n",
        ", 10 : 'Transfer from critial access hospital'\n",
        ", 11 : 'Normal Delivery'\n",
        ", 12 : 'Premature Delivery'\n",
        ", 13 : 'Sick Baby'\n",
        ", 14 : 'Extramural Birth'\n",
        ", 15 : 'Not Available'\n",
        ", 17 : 'NULL'\n",
        ", 18 : 'Transfer From Another Home Health Agency'\n",
        ", 19 : 'Readmission to Same Home Health Agency'\n",
        ", 20 : 'Not Mapped'\n",
        ", 21 : 'Unknown/Invalid'\n",
        ", 22 : 'Transfer from hospital inpt/same fac reslt in a sep claim'\n",
        ", 23 : 'Born inside this hospital'\n",
        ", 24 : 'Born outside this hospital'\n",
        ", 25 : 'Transfer from Ambulatory Surgery Center'\n",
        ", 26 : 'Transfer from Hospice'\n",
        "                      }\n",
        "# Apply mapping\n",
        "data['admission_source_grouped'] = data['admission_source_id'].map(admission_source_id)\n",
        "data.drop(['admission_source_id'], axis=1, inplace=True)"
      ],
      "metadata": {
        "id": "w7l5qwPF8SvJ"
      },
      "execution_count": 187,
      "outputs": []
    },
    {
      "cell_type": "code",
      "source": [
        "data['is_clinic_or_transfer'] = data['admission_source_grouped'].isin([\n",
        "    'Clinic Referral',\n",
        "    'Transfer from a hospital',\n",
        "    'Transfer from another health care facility'\n",
        "]).astype(int)\n"
      ],
      "metadata": {
        "id": "eUlpbIa62_Kl"
      },
      "execution_count": 188,
      "outputs": []
    },
    {
      "cell_type": "markdown",
      "source": [
        "**This code creates multiple new indicator columns based on the admission_type and discharge_group columns, grouping them into categories like 'Emergency', 'Elective', and 'Home' vs 'Transferred Hospital'. It then aggregates the counts of these grouped categories at the patient level (using groupby on patient_nbr), creating columns like mb_admission_grp_1_ct and mb_discharge_grp_1_ct to capture the frequency of these categories for each patient.**"
      ],
      "metadata": {
        "id": "XYk7MO5mwjrU"
      }
    },
    {
      "cell_type": "code",
      "source": [
        "data['admission_grp_1_ind'] = data['admission_type'].isin(['Emergency', 'Unknown']).astype(int)\n",
        "data['admission_grp_2_ind'] = data['admission_type'].isin(['Elective', 'Trauma Center']).astype(int)\n",
        "\n",
        "data['discharge_grp_1_ind'] = data['discharge_group'].isin([\n",
        "    'Home', 'SNF/ICF/Rehab', 'Unknown/Invalid'\n",
        "]).astype(int)\n",
        "\n",
        "data['discharge_grp_2_ind'] = data['discharge_group'].isin([\n",
        "    'Left AMA', 'Transferred Hospital', 'Inpatient Readmit', 'Outpatient Follow-up'\n",
        "]).astype(int)\n",
        "\n",
        "data['admission_type_ind'] = data['admission_source_grouped'].isin([\n",
        "    'Clinic Referral', 'Transfer from a hospital', 'Transfer from another health care facility'\n",
        "]).astype(int)\n"
      ],
      "metadata": {
        "id": "vi-vw8bN6Xk7"
      },
      "execution_count": 189,
      "outputs": []
    },
    {
      "cell_type": "code",
      "source": [
        "data['mb_admission_grp_1_ct'] = data.groupby('patient_nbr')['admission_grp_1_ind'].transform('sum')\n",
        "data['mb_admission_grp_2_ct'] = data.groupby('patient_nbr')['admission_grp_2_ind'].transform('sum')\n",
        "data['mb_discharge_grp_1_ct'] = data.groupby('patient_nbr')['discharge_grp_1_ind'].transform('sum')\n",
        "data['mb_discharge_grp_2_ct'] = data.groupby('patient_nbr')['discharge_grp_2_ind'].transform('sum')\n",
        "data['mb_admission_type_ct']  = data.groupby('patient_nbr')['admission_type_ind'].transform('sum')\n"
      ],
      "metadata": {
        "id": "L04glcyu6deF"
      },
      "execution_count": 190,
      "outputs": []
    },
    {
      "cell_type": "markdown",
      "source": [],
      "metadata": {
        "id": "qg2i_4yJwrsn"
      }
    },
    {
      "cell_type": "code",
      "source": [
        "data.info()"
      ],
      "metadata": {
        "id": "WzvGCp9QHTMh",
        "outputId": "a3432d1e-7428-458f-af1b-c73c786578ae",
        "colab": {
          "base_uri": "https://localhost:8080/"
        }
      },
      "execution_count": 131,
      "outputs": [
        {
          "output_type": "stream",
          "name": "stdout",
          "text": [
            "<class 'pandas.core.frame.DataFrame'>\n",
            "RangeIndex: 101766 entries, 0 to 101765\n",
            "Data columns (total 59 columns):\n",
            " #   Column                    Non-Null Count   Dtype \n",
            "---  ------                    --------------   ----- \n",
            " 0   encounter_id              101766 non-null  int64 \n",
            " 1   patient_nbr               101766 non-null  int64 \n",
            " 2   race                      99493 non-null   object\n",
            " 3   gender                    101766 non-null  object\n",
            " 4   age                       101766 non-null  object\n",
            " 5   time_in_hospital          101766 non-null  int64 \n",
            " 6   payer_code                61510 non-null   object\n",
            " 7   num_lab_procedures        101766 non-null  int64 \n",
            " 8   num_procedures            101766 non-null  int64 \n",
            " 9   num_medications           101766 non-null  int64 \n",
            " 10  number_outpatient         101766 non-null  int64 \n",
            " 11  number_emergency          101766 non-null  int64 \n",
            " 12  number_inpatient          101766 non-null  int64 \n",
            " 13  diag_1                    101745 non-null  object\n",
            " 14  diag_2                    101408 non-null  object\n",
            " 15  diag_3                    100343 non-null  object\n",
            " 16  number_diagnoses          101766 non-null  int64 \n",
            " 17  metformin                 101766 non-null  object\n",
            " 18  repaglinide               101766 non-null  object\n",
            " 19  nateglinide               101766 non-null  object\n",
            " 20  chlorpropamide            101766 non-null  object\n",
            " 21  glimepiride               101766 non-null  object\n",
            " 22  acetohexamide             101766 non-null  object\n",
            " 23  glipizide                 101766 non-null  object\n",
            " 24  glyburide                 101766 non-null  object\n",
            " 25  tolbutamide               101766 non-null  object\n",
            " 26  pioglitazone              101766 non-null  object\n",
            " 27  rosiglitazone             101766 non-null  object\n",
            " 28  acarbose                  101766 non-null  object\n",
            " 29  miglitol                  101766 non-null  object\n",
            " 30  troglitazone              101766 non-null  object\n",
            " 31  tolazamide                101766 non-null  object\n",
            " 32  examide                   101766 non-null  object\n",
            " 33  citoglipton               101766 non-null  object\n",
            " 34  insulin                   101766 non-null  object\n",
            " 35  glyburide-metformin       101766 non-null  object\n",
            " 36  glipizide-metformin       101766 non-null  object\n",
            " 37  glimepiride-pioglitazone  101766 non-null  object\n",
            " 38  metformin-rosiglitazone   101766 non-null  object\n",
            " 39  metformin-pioglitazone    101766 non-null  object\n",
            " 40  change                    101766 non-null  object\n",
            " 41  diabetesMed               101766 non-null  object\n",
            " 42  readmitted                101766 non-null  object\n",
            " 43  encounter_count           101766 non-null  int64 \n",
            " 44  admission_type            101766 non-null  object\n",
            " 45  admission_group           101735 non-null  object\n",
            " 46  discharge_group           99337 non-null   object\n",
            " 47  admission_source_grouped  101766 non-null  object\n",
            " 48  is_clinic_or_transfer     101766 non-null  int64 \n",
            " 49  admission_grp_1_ind       101766 non-null  int64 \n",
            " 50  admission_grp_2_ind       101766 non-null  int64 \n",
            " 51  discharge_grp_1_ind       101766 non-null  int64 \n",
            " 52  discharge_grp_2_ind       101766 non-null  int64 \n",
            " 53  admission_type_ind        101766 non-null  int64 \n",
            " 54  mb_admission_grp_1_ct     101766 non-null  int64 \n",
            " 55  mb_admission_grp_2_ct     101766 non-null  int64 \n",
            " 56  mb_discharge_grp_1_ct     101766 non-null  int64 \n",
            " 57  mb_discharge_grp_2_ct     101766 non-null  int64 \n",
            " 58  mb_admission_type_ct      101766 non-null  int64 \n",
            "dtypes: int64(22), object(37)\n",
            "memory usage: 45.8+ MB\n"
          ]
        }
      ]
    },
    {
      "cell_type": "markdown",
      "source": [
        "**This code combines the diag_1, diag_2, and diag_3 columns into a single column using melt. It then counts the number of unique diagnoses for each patient and stores the result in the distinct_diag_count column. After that, it merges this count back into the original data DataFrame. Finally, it deletes the temporary variables diagnosis_melted and distinct_counts to clean up memory.**"
      ],
      "metadata": {
        "id": "Ey6hbdjlwsaZ"
      }
    },
    {
      "cell_type": "code",
      "source": [
        "# Combine diag_1, diag_2, diag_3 into one column\n",
        "diagnosis_melted = data.melt(id_vars=['patient_nbr'], value_vars=['diag_1', 'diag_2', 'diag_3'])\n",
        "\n",
        "# Count number of unique diagnoses per patient\n",
        "distinct_counts = diagnosis_melted.groupby('patient_nbr')['value'].nunique().reset_index()\n",
        "\n",
        "# Step 3: Rename the column for clarity\n",
        "distinct_counts.columns = ['patient_nbr', 'distinct_diag_count']\n",
        "\n",
        "# Step 4: Merge the count back to the original dataset\n",
        "data = data.merge(distinct_counts, on='patient_nbr', how='left')\n",
        "\n",
        "# Step 5: Clean up temp variables\n",
        "del diagnosis_melted, distinct_counts"
      ],
      "metadata": {
        "id": "q1p-jPRKIV-F"
      },
      "execution_count": 191,
      "outputs": []
    },
    {
      "cell_type": "code",
      "source": [
        "\n",
        "\n"
      ],
      "metadata": {
        "id": "jKIWmojmMQaS"
      },
      "execution_count": 132,
      "outputs": []
    },
    {
      "cell_type": "code",
      "source": [
        "import matplotlib.pyplot as plt\n",
        "import seaborn as sns\n",
        "\n",
        "# Set the plot size\n",
        "plt.figure(figsize=(7, 5))\n",
        "\n",
        "# Plot histogram of distinct diagnosis counts\n",
        "sns.countplot(x='distinct_diag_count', data=data, palette='pastel')\n",
        "\n",
        "# Titles and labels\n",
        "plt.title('Number of Unique Diagnosis Codes per Patient', fontsize=14)\n",
        "plt.xlabel('Distinct Diagnosis Count (from diag_1, diag_2, diag_3)', fontsize=12)\n",
        "plt.ylabel('Number of Patients', fontsize=12)\n",
        "plt.grid(axis='y', linestyle='--', alpha=0.7)\n",
        "plt.tight_layout()\n",
        "plt.show()\n"
      ],
      "metadata": {
        "id": "FpHsQehkJXAr",
        "outputId": "cf2aa1a1-6c47-4edf-959c-d73cbba7a7bb",
        "colab": {
          "base_uri": "https://localhost:8080/",
          "height": 507
        }
      },
      "execution_count": 193,
      "outputs": [
        {
          "output_type": "display_data",
          "data": {
            "text/plain": [
              "<Figure size 700x500 with 1 Axes>"
            ],
            "image/png": "[encoded data removed]"
          },
          "metadata": {}
        }
      ]
    },
    {
      "cell_type": "markdown",
      "source": [
        "**This code first loads a CSV file containing a mapping of diagnosis codes to their descriptions (unique_diag_df_edit.csv). It then creates a dictionary (diag_map_dict) where the diagnosis codes are the keys, and their descriptions are the values. The diag_1, diag_2, and diag_3 columns in the data DataFrame are mapped to their corresponding descriptions using this dictionary. Additionally, the code calculates the frequency of each diagnosis code in diag_1, diag_2, and diag_3 and adds these frequencies as new columns (diag_1_freq, diag_2_freq, and diag_3_freq) to the data DataFrame.**"
      ],
      "metadata": {
        "id": "xvTKhEibxYtd"
      }
    },
    {
      "cell_type": "code",
      "source": [
        "import pandas as pd\n",
        "\n",
        "# Load mapping CSV\n",
        "diag_map_df = pd.read_csv('unique_diag_df_edit.csv')\n",
        "\n",
        "# Display first few rows to verify\n",
        "print(diag_map_df.head())\n",
        "\n",
        "diag_map_dict = diag_map_df.set_index('diagnosis_cd')['diagnosis'].to_dict()\n",
        "\n",
        "data['diag_1_desc'] = data['diag_1'].map(diag_map_dict)\n",
        "data['diag_2_desc'] = data['diag_2'].map(diag_map_dict)\n",
        "data['diag_3_desc'] = data['diag_3'].map(diag_map_dict)\n",
        "\n",
        "# Calculate frequency of each diagnosis code for diag_1, diag_2, and diag_3\n",
        "data['diag_1_freq'] = data.groupby('diag_1')['diag_1'].transform('count')\n",
        "data['diag_2_freq'] = data.groupby('diag_2')['diag_2'].transform('count')\n",
        "data['diag_3_freq'] = data.groupby('diag_3')['diag_3'].transform('count')\n"
      ],
      "metadata": {
        "id": "RFkMrU92MSZ6",
        "outputId": "a79abaec-4390-4924-be1d-d8506ec29eab",
        "colab": {
          "base_uri": "https://localhost:8080/"
        }
      },
      "execution_count": 194,
      "outputs": [
        {
          "output_type": "stream",
          "name": "stdout",
          "text": [
            "  diagnosis_cd                 diagnosis\n",
            "0            3      SALMONELLA ENTERITIS\n",
            "1            5      STAPH FOOD POISONING\n",
            "2            7             BALANTIDIASIS\n",
            "3            8   INTEST INFEC E COLI NOS\n",
            "4            9  INFECTIOUS ENTERITIS NOS\n"
          ]
        }
      ]
    },
    {
      "cell_type": "markdown",
      "source": [
        "In this section, we preprocess the diagnosis\n",
        "\n",
        "columns (diag_1, diag_2, diag_3) by performing the following steps:\n",
        "\n",
        "Convert to String & Handle Missing Values: Convert diagnosis columns to strings and fill missing values with 'UNK'.\n",
        "\n",
        "Create Diagnosis Array: Combine the three diagnosis columns into a list (diagnosis_array) and sort it for consistency.\n",
        "\n",
        "Convert to Tuples: Convert the sorted diagnosis array into tuples for grouping purposes.\n",
        "\n",
        "Count Frequency of Diagnosis Tuples: Count how often each unique diagnosis combination appears.\n",
        "\n",
        "Assign Sorted Diagnoses: Separate the sorted diagnosis codes into new columns (diag_1_sort, diag_2_sort, diag_3_sort).\n",
        "\n",
        "Calculate Frequency by Position: Calculate the frequency of each diagnosis code at each position.\n",
        "\n",
        "Clean Up Temporary Columns: Drop temporary columns used during the process.\n",
        "\n",
        "Map to Descriptions: Map the diagnosis codes to descriptive labels using the diag_map_dict.\n",
        "\n",
        "Optimize Memory: Delete the mapping dictionary to save memory.\n",
        "\n",
        "This process ensures the diagnosis data is clean, consistent, and ready for further analysis."
      ],
      "metadata": {
        "id": "1hF7gsl0xg8m"
      }
    },
    {
      "cell_type": "code",
      "source": [
        "# Step 1: Convert diagnosis columns to string and fill NaNs with 'UNK'\n",
        "data[['diag_1', 'diag_2', 'diag_3']] = data[['diag_1', 'diag_2', 'diag_3']].fillna('UNK').astype(str)\n",
        "\n",
        "# Step 2: Create 'diagnosis_array' column (a list of diag_1, diag_2, diag_3)\n",
        "data['diagnosis_array'] = data[['diag_1', 'diag_2', 'diag_3']].values.tolist()\n",
        "\n",
        "# Step 3: Sort 'diagnosis_array'\n",
        "data['diagnosis_array'] = data['diagnosis_array'].apply(sorted)\n",
        "\n",
        "# Step 4: Convert list to tuple (to make it hashable for groupby)\n",
        "data['diagnosis_array_tuple'] = data['diagnosis_array'].apply(tuple)\n",
        "\n",
        "# Step 5: Count frequency of each diagnosis tuple\n",
        "data['diagnosis_tuple_freq'] = data.groupby('diagnosis_array_tuple')['diagnosis_array_tuple'].transform('count')\n",
        "\n",
        "# Step 6: Assign sorted elements back to individual columns\n",
        "data[['diag_1_sort', 'diag_2_sort', 'diag_3_sort']] = pd.DataFrame(data['diagnosis_array'].tolist(), index=data.index)\n",
        "\n",
        "# Step 7: Calculate frequency of each diagnosis code in each position\n",
        "data['diag_1_sort_freq'] = data.groupby('diag_1_sort')['diag_1_sort'].transform('count')\n",
        "data['diag_2_sort_freq'] = data.groupby('diag_2_sort')['diag_2_sort'].transform('count')\n",
        "data['diag_3_sort_freq'] = data.groupby('diag_3_sort')['diag_3_sort'].transform('count')\n",
        "\n",
        "# Step 8: Drop temporary 'diagnosis_array_tuple' column\n",
        "data.drop(columns=['diagnosis_array_tuple'], inplace=True)\n",
        "\n",
        "# Step 9: Reformat diagnosis_array as a string tuple\n",
        "data['diagnosis_tuple'] = data['diagnosis_array'].apply(lambda x: f\"({' '.join(x)})\")\n",
        "\n",
        "# Step 10: Drop temporary diagnosis_array list\n",
        "data.drop(columns=['diagnosis_array'], inplace=True)\n",
        "\n",
        "# Step 11: Map diagnosis codes to descriptive labels using a dictionary\n",
        "# Ensure diag_map_dict is defined beforehand (e.g., loaded from CSV)\n",
        "data['diagnosis_1_sort'] = data['diag_1_sort'].map(diag_map_dict)\n",
        "data['diagnosis_2_sort'] = data['diag_2_sort'].map(diag_map_dict)\n",
        "data['diagnosis_3_sort'] = data['diag_3_sort'].map(diag_map_dict)\n",
        "\n",
        "# Step 12: Optionally delete the dictionary to save memory\n",
        "del diag_map_dict\n"
      ],
      "metadata": {
        "id": "O2doyd6oSZ6K"
      },
      "execution_count": 198,
      "outputs": []
    },
    {
      "cell_type": "markdown",
      "source": [
        "**The code creates a new dataframe dx_events with diagnosis indicator columns for each code in dx_list. It fills missing diagnosis fields, checks if each code appears in any of the diagnosis columns (diag_1, diag_2, diag_3), and adds an indicator for each diagnosis code. Finally, it prints the shape of the dataframe.**"
      ],
      "metadata": {
        "id": "oNYF6o_xyLSc"
      }
    },
    {
      "cell_type": "code",
      "source": [
        "dx_list=[ '428'\n",
        ", '403'\n",
        ", '707'\n",
        ", '585'\n",
        ", '491'\n",
        ", '396'\n",
        ", '440'\n",
        ", '453'\n",
        ", '571'\n",
        ", '284'\n",
        ", '304'\n",
        ", '482'\n",
        ", '150'\n",
        ", '282'\n",
        ", '332'\n",
        ", '443'\n",
        ", '719'\n",
        ", '423'\n",
        ", '281'\n",
        ", '536'\n",
        ", '368'\n",
        ", '515'\n",
        ", '595'\n",
        ", '572'\n",
        ", '681'\n",
        ", '581'\n",
        ", '537'\n",
        ", '490'\n",
        ", '583'\n",
        ", 'V46'\n",
        ", '519'\n",
        ", '300'\n",
        ", '567'\n",
        ", 'E92'\n",
        ", 'V49'\n",
        ", '094'\n",
        ", '514'\n",
        ", '494'\n",
        ", '042'\n",
        ", '404'\n",
        ", '346'\n",
        ", '792'\n",
        ", '398'\n",
        ", '753'\n",
        ", '577'\n",
        ", '730'\n",
        ", '444'\n",
        ", '459'\n",
        ", '790'\n",
        ", '337'\n",
        ", '397'\n",
        ", '292'\n",
        ", 'V42'\n",
        ", '289']"
      ],
      "metadata": {
        "id": "LXR0R8Zda9IH"
      },
      "execution_count": 199,
      "outputs": []
    },
    {
      "cell_type": "code",
      "source": [
        "# Create dx_events with the selected columns\n",
        "dx_events = data[['patient_nbr', 'encounter_id', 'diag_1', 'diag_2', 'diag_3']].copy(deep=True)\n",
        "\n",
        "# Fill missing diagnosis fields with empty strings for safe comparison\n",
        "dx_events[['diag_1', 'diag_2', 'diag_3']] = dx_events[['diag_1', 'diag_2', 'diag_3']].astype(str).fillna('')\n",
        "\n",
        "# For each diagnosis code in dx_list, create an indicator column\n",
        "for dx in dx_list:\n",
        "    dx_events[f'dx_{dx}_ind'] = dx_events[['diag_1', 'diag_2', 'diag_3']].apply(\n",
        "        lambda row: int(dx in row.values), axis=1\n",
        "    )\n",
        "\n",
        "# Show the final shape\n",
        "print(dx_events.shape)\n"
      ],
      "metadata": {
        "id": "glW20WZ-bGKL",
        "outputId": "da518ddb-a494-4bf5-cb57-8636ad389829",
        "colab": {
          "base_uri": "https://localhost:8080/"
        }
      },
      "execution_count": 200,
      "outputs": [
        {
          "output_type": "stream",
          "name": "stdout",
          "text": [
            "(101766, 59)\n"
          ]
        }
      ]
    },
    {
      "cell_type": "code",
      "source": [
        "# Ensure diag_1 to diag_3 are strings (for comparison)\n",
        "data[['diag_1', 'diag_2', 'diag_3']] = data[['diag_1', 'diag_2', 'diag_3']].astype(str).fillna('')\n",
        "\n",
        "# Populate each column with 1 if the diagnosis appears, else 0\n",
        "for dx in dx_list:\n",
        "    data[f'dx_{dx}_ind'] = ((data['diag_1'] == dx) |\n",
        "                            (data['diag_2'] == dx) |\n",
        "                            (data['diag_3'] == dx)).astype(int)\n",
        "\n",
        "print('done')\n"
      ],
      "metadata": {
        "id": "opOrjGOibcwl",
        "outputId": "c14dee33-ee37-4030-b61d-b99625b5ec24",
        "colab": {
          "base_uri": "https://localhost:8080/"
        }
      },
      "execution_count": 201,
      "outputs": [
        {
          "output_type": "stream",
          "name": "stdout",
          "text": [
            "done\n"
          ]
        }
      ]
    },
    {
      "cell_type": "markdown",
      "source": [
        "**The code groups the data by patient_nbr and computes the maximum and sum for each diagnosis indicator in dx_list. The resulting columns are renamed to a SQL-style format (e.g., dx_XXX_ind_max, dx_XXX_ind_sum). The grouped data is then saved to a CSV file and the original indicator columns are removed from the data to save memory.**"
      ],
      "metadata": {
        "id": "6oZJWj4nyXHU"
      }
    },
    {
      "cell_type": "code",
      "source": [
        "# Group by patient_nbr and compute max and sum for each diagnosis indicator\n",
        "dx_aggregated = data.groupby('patient_nbr').agg(\n",
        "    {f'dx_{dx}_ind': ['max', 'sum'] for dx in dx_list}\n",
        ")\n",
        "\n",
        "# Rename columns to SQL-style naming: dx_XXX_ind_max, dx_XXX_ind_sum\n",
        "dx_aggregated.columns = [f'{col[0]}_{col[1]}' for col in dx_aggregated.columns]\n",
        "\n",
        "# Reset index to bring patient_nbr back as a column\n",
        "dx_aggregated = dx_aggregated.reset_index()\n",
        "\n",
        "# Save to CSV\n",
        "dx_aggregated.to_csv('dx_aggregated_ck.csv', index=False)\n",
        "\n",
        "# Optional: remove the original indicators from the main dataset to save memory\n",
        "for dx in dx_list:\n",
        "    del data[f'dx_{dx}_ind']\n"
      ],
      "metadata": {
        "id": "R5sl6LuibwGz"
      },
      "execution_count": 202,
      "outputs": []
    },
    {
      "cell_type": "code",
      "source": [
        "import matplotlib.pyplot as plt\n",
        "\n",
        "# Extract only 'max' columns (whether patient ever had the diagnosis)\n",
        "max_cols = [col for col in dx_aggregated.columns if col.endswith('_max')]\n",
        "\n",
        "# Sum each max column to get patient counts\n",
        "diagnosis_counts = dx_aggregated[max_cols].sum().sort_values(ascending=False)\n",
        "\n",
        "# Convert column names back to diagnosis codes for display\n",
        "diagnosis_codes = [col.replace('dx_', '').replace('_ind_max', '') for col in diagnosis_counts.index]\n",
        "\n",
        "# Plot\n",
        "plt.figure(figsize=(12,6))\n",
        "plt.bar(diagnosis_codes[:20], diagnosis_counts.values[:20], color='skyblue')\n",
        "plt.title(\"Top 10 Most Common Diagnoses by Patient Count\")\n",
        "plt.xlabel(\"Diagnosis Code\")\n",
        "plt.ylabel(\"Number of Patients\")\n",
        "plt.xticks(rotation=45)\n",
        "plt.tight_layout()\n",
        "plt.show()\n"
      ],
      "metadata": {
        "id": "-IOEJdQSbzAH",
        "outputId": "5dd45560-f2e0-4b7d-e550-790de71e7d87",
        "colab": {
          "base_uri": "https://localhost:8080/",
          "height": 607
        }
      },
      "execution_count": 203,
      "outputs": [
        {
          "output_type": "display_data",
          "data": {
            "text/plain": [
              "<Figure size 1200x600 with 1 Axes>"
            ],
            "image/png": "[encoded data removed]"
          },
          "metadata": {}
        }
      ]
    },
    {
      "cell_type": "code",
      "source": [
        "# Print original shape of data\n",
        "print(data.shape)\n",
        "\n",
        "# Merge dx_aggregated into data based on patient_nbr\n",
        "data = data.merge(dx_aggregated, on='patient_nbr', how='left')\n",
        "\n",
        "# Print new shape after merge\n",
        "print(data.shape)\n",
        "\n",
        "# Clean up to free memory\n",
        "del dx_aggregated\n"
      ],
      "metadata": {
        "id": "oAETvmSbcxgz",
        "outputId": "3cc738a1-aaf8-41f1-e5ee-56de221fb9da",
        "colab": {
          "base_uri": "https://localhost:8080/"
        }
      },
      "execution_count": 204,
      "outputs": [
        {
          "output_type": "stream",
          "name": "stdout",
          "text": [
            "(101766, 78)\n",
            "(101766, 186)\n"
          ]
        }
      ]
    },
    {
      "cell_type": "markdown",
      "source": [
        "**The code creates three new indicator columns (alcohol_ind, obesity_ind, mh_ind) by checking if the diagnosis descriptions contain the respective terms (\"ALCOHOL\", \"OBESITY\", \"MALIGNANT HYPERTENSION\") in any of the diagnosis columns (diagnosis_1_sort, diagnosis_2_sort, diagnosis_3_sort). If any of these terms are found, the corresponding indicator is set to 1; otherwise, it is set to 0.**"
      ],
      "metadata": {
        "id": "t19xwIC_yjyz"
      }
    },
    {
      "cell_type": "code",
      "source": [
        "# Alcohol indicator\n",
        "data['alcohol_ind'] = data[['diagnosis_1_sort', 'diagnosis_2_sort', 'diagnosis_3_sort']].apply(\n",
        "    lambda row: int(any('ALCOHOL' in str(val).upper() for val in row)), axis=1\n",
        ")\n",
        "\n",
        "# Obesity indicator\n",
        "data['obesity_ind'] = data[['diagnosis_1_sort', 'diagnosis_2_sort', 'diagnosis_3_sort']].apply(\n",
        "    lambda row: int(any('OBESITY' in str(val).upper() for val in row)), axis=1\n",
        ")\n",
        "\n",
        "# Malignant Hypertension indicator\n",
        "data['mh_ind'] = data[['diagnosis_1_sort', 'diagnosis_2_sort', 'diagnosis_3_sort']].apply(\n",
        "    lambda row: int(any('MALIGNANT HYPERTENSION' in str(val).upper() for val in row)), axis=1\n",
        ")\n"
      ],
      "metadata": {
        "id": "8bbaRJjBc89g"
      },
      "execution_count": 205,
      "outputs": []
    },
    {
      "cell_type": "code",
      "source": [
        "# Initialize the drop list\n",
        "drop = []\n",
        "\n",
        "# Create history indicators by grouping on 'patient_nbr' and taking the max value\n",
        "data['alcohol_history_ind'] = data.groupby('patient_nbr')['alcohol_ind'].transform('max')\n",
        "data['obesity_history_ind'] = data.groupby('patient_nbr')['obesity_ind'].transform('max')\n",
        "data['mh_history_ind'] = data.groupby('patient_nbr')['mh_ind'].transform('max')\n",
        "\n",
        "# Add the individual indicator columns to the drop list\n",
        "drop.extend(['alcohol_ind', 'obesity_ind', 'mh_ind'])\n",
        "\n",
        "# Drop the columns from the dataframe\n",
        "data.drop(columns=drop, inplace=True)\n"
      ],
      "metadata": {
        "id": "A41bv0SodrdA"
      },
      "execution_count": 206,
      "outputs": []
    },
    {
      "cell_type": "code",
      "source": [
        "# Create a binary indicator for whether the patient was admitted or not\n",
        "data['admitted_ind'] = (data['readmitted'] != 'NO').astype(int)\n",
        "\n",
        "# You can now drop the other readmission-related columns if you no longer need them\n",
        "drop_columns = ['readmitted_lt30_ind', 'readmitted_gt30_ind', 'readmitted_no_ind']\n",
        "data.drop(columns=drop_columns, inplace=True)\n"
      ],
      "metadata": {
        "id": "6SgRtVsugJd2",
        "outputId": "83f7205a-347f-478c-9a7d-8526249821f0",
        "colab": {
          "base_uri": "https://localhost:8080/",
          "height": 321
        }
      },
      "execution_count": 240,
      "outputs": [
        {
          "output_type": "error",
          "ename": "KeyError",
          "evalue": "\"['readmitted_lt30_ind', 'readmitted_gt30_ind', 'readmitted_no_ind'] not found in axis\"",
          "traceback": [
            "\u001b[0;31m---------------------------------------------------------------------------\u001b[0m",
            "\u001b[0;31mKeyError\u001b[0m                                  Traceback (most recent call last)",
            "\u001b[0;32m<ipython-input-240-a705066ea5ae>\u001b[0m in \u001b[0;36m<cell line: 0>\u001b[0;34m()\u001b[0m\n\u001b[1;32m      4\u001b[0m \u001b[0;31m# You can now drop the other readmission-related columns if you no longer need them\u001b[0m\u001b[0;34m\u001b[0m\u001b[0;34m\u001b[0m\u001b[0m\n\u001b[1;32m      5\u001b[0m \u001b[0mdrop_columns\u001b[0m \u001b[0;34m=\u001b[0m \u001b[0;34m[\u001b[0m\u001b[0;34m'readmitted_lt30_ind'\u001b[0m\u001b[0;34m,\u001b[0m \u001b[0;34m'readmitted_gt30_ind'\u001b[0m\u001b[0;34m,\u001b[0m \u001b[0;34m'readmitted_no_ind'\u001b[0m\u001b[0;34m]\u001b[0m\u001b[0;34m\u001b[0m\u001b[0;34m\u001b[0m\u001b[0m\n\u001b[0;32m----> 6\u001b[0;31m \u001b[0mdata\u001b[0m\u001b[0;34m.\u001b[0m\u001b[0mdrop\u001b[0m\u001b[0;34m(\u001b[0m\u001b[0mcolumns\u001b[0m\u001b[0;34m=\u001b[0m\u001b[0mdrop_columns\u001b[0m\u001b[0;34m,\u001b[0m \u001b[0minplace\u001b[0m\u001b[0;34m=\u001b[0m\u001b[0;32mTrue\u001b[0m\u001b[0;34m)\u001b[0m\u001b[0;34m\u001b[0m\u001b[0;34m\u001b[0m\u001b[0m\n\u001b[0m",
            "\u001b[0;32m/usr/local/lib/python3.11/dist-packages/pandas/core/frame.py\u001b[0m in \u001b[0;36mdrop\u001b[0;34m(self, labels, axis, index, columns, level, inplace, errors)\u001b[0m\n\u001b[1;32m   5579\u001b[0m                 \u001b[0mweight\u001b[0m  \u001b[0;36m1.0\u001b[0m     \u001b[0;36m0.8\u001b[0m\u001b[0;34m\u001b[0m\u001b[0;34m\u001b[0m\u001b[0m\n\u001b[1;32m   5580\u001b[0m         \"\"\"\n\u001b[0;32m-> 5581\u001b[0;31m         return super().drop(\n\u001b[0m\u001b[1;32m   5582\u001b[0m             \u001b[0mlabels\u001b[0m\u001b[0;34m=\u001b[0m\u001b[0mlabels\u001b[0m\u001b[0;34m,\u001b[0m\u001b[0;34m\u001b[0m\u001b[0;34m\u001b[0m\u001b[0m\n\u001b[1;32m   5583\u001b[0m             \u001b[0maxis\u001b[0m\u001b[0;34m=\u001b[0m\u001b[0maxis\u001b[0m\u001b[0;34m,\u001b[0m\u001b[0;34m\u001b[0m\u001b[0;34m\u001b[0m\u001b[0m\n",
            "\u001b[0;32m/usr/local/lib/python3.11/dist-packages/pandas/core/generic.py\u001b[0m in \u001b[0;36mdrop\u001b[0;34m(self, labels, axis, index, columns, level, inplace, errors)\u001b[0m\n\u001b[1;32m   4786\u001b[0m         \u001b[0;32mfor\u001b[0m \u001b[0maxis\u001b[0m\u001b[0;34m,\u001b[0m \u001b[0mlabels\u001b[0m \u001b[0;32min\u001b[0m \u001b[0maxes\u001b[0m\u001b[0;34m.\u001b[0m\u001b[0mitems\u001b[0m\u001b[0;34m(\u001b[0m\u001b[0;34m)\u001b[0m\u001b[0;34m:\u001b[0m\u001b[0;34m\u001b[0m\u001b[0;34m\u001b[0m\u001b[0m\n\u001b[1;32m   4787\u001b[0m             \u001b[0;32mif\u001b[0m \u001b[0mlabels\u001b[0m \u001b[0;32mis\u001b[0m \u001b[0;32mnot\u001b[0m \u001b[0;32mNone\u001b[0m\u001b[0;34m:\u001b[0m\u001b[0;34m\u001b[0m\u001b[0;34m\u001b[0m\u001b[0m\n\u001b[0;32m-> 4788\u001b[0;31m                 \u001b[0mobj\u001b[0m \u001b[0;34m=\u001b[0m \u001b[0mobj\u001b[0m\u001b[0;34m.\u001b[0m\u001b[0m_drop_axis\u001b[0m\u001b[0;34m(\u001b[0m\u001b[0mlabels\u001b[0m\u001b[0;34m,\u001b[0m \u001b[0maxis\u001b[0m\u001b[0;34m,\u001b[0m \u001b[0mlevel\u001b[0m\u001b[0;34m=\u001b[0m\u001b[0mlevel\u001b[0m\u001b[0;34m,\u001b[0m \u001b[0merrors\u001b[0m\u001b[0;34m=\u001b[0m\u001b[0merrors\u001b[0m\u001b[0;34m)\u001b[0m\u001b[0;34m\u001b[0m\u001b[0;34m\u001b[0m\u001b[0m\n\u001b[0m\u001b[1;32m   4789\u001b[0m \u001b[0;34m\u001b[0m\u001b[0m\n\u001b[1;32m   4790\u001b[0m         \u001b[0;32mif\u001b[0m \u001b[0minplace\u001b[0m\u001b[0;34m:\u001b[0m\u001b[0;34m\u001b[0m\u001b[0;34m\u001b[0m\u001b[0m\n",
            "\u001b[0;32m/usr/local/lib/python3.11/dist-packages/pandas/core/generic.py\u001b[0m in \u001b[0;36m_drop_axis\u001b[0;34m(self, labels, axis, level, errors, only_slice)\u001b[0m\n\u001b[1;32m   4828\u001b[0m                 \u001b[0mnew_axis\u001b[0m \u001b[0;34m=\u001b[0m \u001b[0maxis\u001b[0m\u001b[0;34m.\u001b[0m\u001b[0mdrop\u001b[0m\u001b[0;34m(\u001b[0m\u001b[0mlabels\u001b[0m\u001b[0;34m,\u001b[0m \u001b[0mlevel\u001b[0m\u001b[0;34m=\u001b[0m\u001b[0mlevel\u001b[0m\u001b[0;34m,\u001b[0m \u001b[0merrors\u001b[0m\u001b[0;34m=\u001b[0m\u001b[0merrors\u001b[0m\u001b[0;34m)\u001b[0m\u001b[0;34m\u001b[0m\u001b[0;34m\u001b[0m\u001b[0m\n\u001b[1;32m   4829\u001b[0m             \u001b[0;32melse\u001b[0m\u001b[0;34m:\u001b[0m\u001b[0;34m\u001b[0m\u001b[0;34m\u001b[0m\u001b[0m\n\u001b[0;32m-> 4830\u001b[0;31m                 \u001b[0mnew_axis\u001b[0m \u001b[0;34m=\u001b[0m \u001b[0maxis\u001b[0m\u001b[0;34m.\u001b[0m\u001b[0mdrop\u001b[0m\u001b[0;34m(\u001b[0m\u001b[0mlabels\u001b[0m\u001b[0;34m,\u001b[0m \u001b[0merrors\u001b[0m\u001b[0;34m=\u001b[0m\u001b[0merrors\u001b[0m\u001b[0;34m)\u001b[0m\u001b[0;34m\u001b[0m\u001b[0;34m\u001b[0m\u001b[0m\n\u001b[0m\u001b[1;32m   4831\u001b[0m             \u001b[0mindexer\u001b[0m \u001b[0;34m=\u001b[0m \u001b[0maxis\u001b[0m\u001b[0;34m.\u001b[0m\u001b[0mget_indexer\u001b[0m\u001b[0;34m(\u001b[0m\u001b[0mnew_axis\u001b[0m\u001b[0;34m)\u001b[0m\u001b[0;34m\u001b[0m\u001b[0;34m\u001b[0m\u001b[0m\n\u001b[1;32m   4832\u001b[0m \u001b[0;34m\u001b[0m\u001b[0m\n",
            "\u001b[0;32m/usr/local/lib/python3.11/dist-packages/pandas/core/indexes/base.py\u001b[0m in \u001b[0;36mdrop\u001b[0;34m(self, labels, errors)\u001b[0m\n\u001b[1;32m   7068\u001b[0m         \u001b[0;32mif\u001b[0m \u001b[0mmask\u001b[0m\u001b[0;34m.\u001b[0m\u001b[0many\u001b[0m\u001b[0;34m(\u001b[0m\u001b[0;34m)\u001b[0m\u001b[0;34m:\u001b[0m\u001b[0;34m\u001b[0m\u001b[0;34m\u001b[0m\u001b[0m\n\u001b[1;32m   7069\u001b[0m             \u001b[0;32mif\u001b[0m \u001b[0merrors\u001b[0m \u001b[0;34m!=\u001b[0m \u001b[0;34m\"ignore\"\u001b[0m\u001b[0;34m:\u001b[0m\u001b[0;34m\u001b[0m\u001b[0;34m\u001b[0m\u001b[0m\n\u001b[0;32m-> 7070\u001b[0;31m                 \u001b[0;32mraise\u001b[0m \u001b[0mKeyError\u001b[0m\u001b[0;34m(\u001b[0m\u001b[0;34mf\"{labels[mask].tolist()} not found in axis\"\u001b[0m\u001b[0;34m)\u001b[0m\u001b[0;34m\u001b[0m\u001b[0;34m\u001b[0m\u001b[0m\n\u001b[0m\u001b[1;32m   7071\u001b[0m             \u001b[0mindexer\u001b[0m \u001b[0;34m=\u001b[0m \u001b[0mindexer\u001b[0m\u001b[0;34m[\u001b[0m\u001b[0;34m~\u001b[0m\u001b[0mmask\u001b[0m\u001b[0;34m]\u001b[0m\u001b[0;34m\u001b[0m\u001b[0;34m\u001b[0m\u001b[0m\n\u001b[1;32m   7072\u001b[0m         \u001b[0;32mreturn\u001b[0m \u001b[0mself\u001b[0m\u001b[0;34m.\u001b[0m\u001b[0mdelete\u001b[0m\u001b[0;34m(\u001b[0m\u001b[0mindexer\u001b[0m\u001b[0;34m)\u001b[0m\u001b[0;34m\u001b[0m\u001b[0;34m\u001b[0m\u001b[0m\n",
            "\u001b[0;31mKeyError\u001b[0m: \"['readmitted_lt30_ind', 'readmitted_gt30_ind', 'readmitted_no_ind'] not found in axis\""
          ]
        }
      ]
    },
    {
      "cell_type": "markdown",
      "source": [
        "**The code creates new patient-level features by aggregating data for each patient using groupby on the patient_nbr column. It calculates the total counts of various factors, such as the number of encounters (encounter_ct), time spent in the hospital (mb_time_in_hospital), readmissions (mb_readmitted_ct), lab procedures (mb_num_lab_procedures_ct), medications (mb_num_medications_ct), and more. These aggregated values are added as new columns to the dataset.**"
      ],
      "metadata": {
        "id": "OOwIOGAwzBPd"
      }
    },
    {
      "cell_type": "code",
      "source": [
        "# Add patient-level features\n",
        "data['encounter_ct'] = data['patient_nbr'].map(data.groupby('patient_nbr')['encounter_id'].nunique())\n",
        "data['mb_time_in_hospital'] = data.groupby('patient_nbr')['time_in_hospital'].transform('sum')\n",
        "data['mb_readmitted_ct'] = data.groupby('patient_nbr')['admitted_ind'].transform('sum')\n",
        "data['mb_num_lab_procedures_ct'] = data.groupby('patient_nbr')['num_lab_procedures'].transform('sum')\n",
        "data['mb_num_procedures_ct'] = data.groupby('patient_nbr')['num_procedures'].transform('sum')\n",
        "data['mb_num_medications_ct'] = data.groupby('patient_nbr')['num_medications'].transform('sum')\n",
        "data['mb_number_outpatient_ct'] = data.groupby('patient_nbr')['number_outpatient'].transform('sum')\n",
        "data['mb_number_emergency_ct'] = data.groupby('patient_nbr')['number_emergency'].transform('sum')\n",
        "data['mb_number_inpatient_ct'] = data.groupby('patient_nbr')['number_inpatient'].transform('sum')\n",
        "data['mb_number_diagnoses_ct'] = data.groupby('patient_nbr')['number_diagnoses'].transform('sum')\n",
        "\n",
        "\n"
      ],
      "metadata": {
        "id": "DMdNS7magVb2"
      },
      "execution_count": 168,
      "outputs": []
    },
    {
      "cell_type": "markdown",
      "source": [],
      "metadata": {
        "id": "Iuabfps0zAS4"
      }
    },
    {
      "cell_type": "markdown",
      "source": [
        "##Age Column"
      ],
      "metadata": {
        "id": "GaAsEbKJbhzD"
      }
    },
    {
      "cell_type": "code",
      "source": [
        "# Create age group indicators\n",
        "data['under10_ind'] = data['age'].isin(['[0-10)']).astype(int)\n",
        "data['over80_ind'] = data['age'].isin(['[80-90)', '[90-100)']).astype(int)\n",
        "\n",
        "# Add patient-level features based on age group indicators\n",
        "data['mb_under10_ind'] = data.groupby('patient_nbr')['under10_ind'].transform('max')\n",
        "data['mb_over80_ind'] = data.groupby('patient_nbr')['over80_ind'].transform('max')\n",
        "\n",
        "# Drop unnecessary columns\n",
        "drop_columns = ['under10_ind', 'over80_ind']\n",
        "data.drop(columns=drop_columns, inplace=True)\n"
      ],
      "metadata": {
        "id": "jeuZZlCYdqzJ"
      },
      "execution_count": 210,
      "outputs": []
    },
    {
      "cell_type": "code",
      "source": [
        "print(data.shape)\n",
        "\n",
        "# Remove very young and very old members, members who died, unknown gender\n",
        "data = data[\n",
        "    (data['expiration_ind'] != 1) &\n",
        "    (data['mb_under10_ind'] != 1) &\n",
        "    (data['mb_over80_ind'] != 1) &\n",
        "    (data['gender'] != 'Unknown/Invalid') &  # Exclude records with gender 'Unknown/Invalid'\n",
        "    (data['encounter_count'] < 14)  # Exclude records with encounter count >= 14\n",
        "]\n",
        "\n",
        "print(data.shape)\n",
        "\n",
        "# Drop columns used for filtering\n",
        "drop.extend(['mb_under10_ind', 'mb_over80_ind', 'expiration_ind'])\n"
      ],
      "metadata": {
        "id": "uUBW5quehKIW",
        "outputId": "77c266b8-cf90-4bee-8bd4-6f11b858a286",
        "colab": {
          "base_uri": "https://localhost:8080/"
        }
      },
      "execution_count": 215,
      "outputs": [
        {
          "output_type": "stream",
          "name": "stdout",
          "text": [
            "(101766, 192)\n",
            "(78743, 192)\n"
          ]
        }
      ]
    },
    {
      "cell_type": "code",
      "source": [
        "for i, col in enumerate(data.columns):\n",
        "    print(f\"{i}: {col}\")\n",
        "\n"
      ],
      "metadata": {
        "id": "S3A1Vue-pICS",
        "outputId": "31624e11-c069-4a3a-9bfc-0a1991e2ca2c",
        "colab": {
          "base_uri": "https://localhost:8080/"
        }
      },
      "execution_count": 220,
      "outputs": [
        {
          "output_type": "stream",
          "name": "stdout",
          "text": [
            "0: encounter_id\n",
            "1: patient_nbr\n",
            "2: race\n",
            "3: gender\n",
            "4: age\n",
            "5: time_in_hospital\n",
            "6: payer_code\n",
            "7: num_lab_procedures\n",
            "8: num_procedures\n",
            "9: num_medications\n",
            "10: number_outpatient\n",
            "11: number_emergency\n",
            "12: number_inpatient\n",
            "13: diag_1\n",
            "14: diag_2\n",
            "15: diag_3\n",
            "16: number_diagnoses\n",
            "17: metformin\n",
            "18: repaglinide\n",
            "19: nateglinide\n",
            "20: chlorpropamide\n",
            "21: glimepiride\n",
            "22: acetohexamide\n",
            "23: glipizide\n",
            "24: glyburide\n",
            "25: tolbutamide\n",
            "26: pioglitazone\n",
            "27: rosiglitazone\n",
            "28: acarbose\n",
            "29: miglitol\n",
            "30: troglitazone\n",
            "31: tolazamide\n",
            "32: examide\n",
            "33: citoglipton\n",
            "34: insulin\n",
            "35: glyburide-metformin\n",
            "36: glipizide-metformin\n",
            "37: glimepiride-pioglitazone\n",
            "38: metformin-rosiglitazone\n",
            "39: metformin-pioglitazone\n",
            "40: change\n",
            "41: diabetesMed\n",
            "42: readmitted\n",
            "43: encounter_count\n",
            "44: admission_type\n",
            "45: admission_group\n",
            "46: expiration_ind\n",
            "47: discharge_group\n",
            "48: admission_source_grouped\n",
            "49: is_clinic_or_transfer\n",
            "50: admission_grp_1_ind\n",
            "51: admission_grp_2_ind\n",
            "52: discharge_grp_1_ind\n",
            "53: discharge_grp_2_ind\n",
            "54: admission_type_ind\n",
            "55: mb_admission_grp_1_ct\n",
            "56: mb_admission_grp_2_ct\n",
            "57: mb_discharge_grp_1_ct\n",
            "58: mb_discharge_grp_2_ct\n",
            "59: mb_admission_type_ct\n",
            "60: distinct_diag_count\n",
            "61: diag_1_desc\n",
            "62: diag_2_desc\n",
            "63: diag_3_desc\n",
            "64: diag_1_freq\n",
            "65: diag_2_freq\n",
            "66: diag_3_freq\n",
            "67: diagnosis_tuple_freq\n",
            "68: diag_1_sort\n",
            "69: diag_2_sort\n",
            "70: diag_3_sort\n",
            "71: diag_1_sort_freq\n",
            "72: diag_2_sort_freq\n",
            "73: diag_3_sort_freq\n",
            "74: diagnosis_tuple\n",
            "75: diagnosis_1_sort\n",
            "76: diagnosis_2_sort\n",
            "77: diagnosis_3_sort\n",
            "78: dx_428_ind_max\n",
            "79: dx_428_ind_sum\n",
            "80: dx_403_ind_max\n",
            "81: dx_403_ind_sum\n",
            "82: dx_707_ind_max\n",
            "83: dx_707_ind_sum\n",
            "84: dx_585_ind_max\n",
            "85: dx_585_ind_sum\n",
            "86: dx_491_ind_max\n",
            "87: dx_491_ind_sum\n",
            "88: dx_396_ind_max\n",
            "89: dx_396_ind_sum\n",
            "90: dx_440_ind_max\n",
            "91: dx_440_ind_sum\n",
            "92: dx_453_ind_max\n",
            "93: dx_453_ind_sum\n",
            "94: dx_571_ind_max\n",
            "95: dx_571_ind_sum\n",
            "96: dx_284_ind_max\n",
            "97: dx_284_ind_sum\n",
            "98: dx_304_ind_max\n",
            "99: dx_304_ind_sum\n",
            "100: dx_482_ind_max\n",
            "101: dx_482_ind_sum\n",
            "102: dx_150_ind_max\n",
            "103: dx_150_ind_sum\n",
            "104: dx_282_ind_max\n",
            "105: dx_282_ind_sum\n",
            "106: dx_332_ind_max\n",
            "107: dx_332_ind_sum\n",
            "108: dx_443_ind_max\n",
            "109: dx_443_ind_sum\n",
            "110: dx_719_ind_max\n",
            "111: dx_719_ind_sum\n",
            "112: dx_423_ind_max\n",
            "113: dx_423_ind_sum\n",
            "114: dx_281_ind_max\n",
            "115: dx_281_ind_sum\n",
            "116: dx_536_ind_max\n",
            "117: dx_536_ind_sum\n",
            "118: dx_368_ind_max\n",
            "119: dx_368_ind_sum\n",
            "120: dx_515_ind_max\n",
            "121: dx_515_ind_sum\n",
            "122: dx_595_ind_max\n",
            "123: dx_595_ind_sum\n",
            "124: dx_572_ind_max\n",
            "125: dx_572_ind_sum\n",
            "126: dx_681_ind_max\n",
            "127: dx_681_ind_sum\n",
            "128: dx_581_ind_max\n",
            "129: dx_581_ind_sum\n",
            "130: dx_537_ind_max\n",
            "131: dx_537_ind_sum\n",
            "132: dx_490_ind_max\n",
            "133: dx_490_ind_sum\n",
            "134: dx_583_ind_max\n",
            "135: dx_583_ind_sum\n",
            "136: dx_V46_ind_max\n",
            "137: dx_V46_ind_sum\n",
            "138: dx_519_ind_max\n",
            "139: dx_519_ind_sum\n",
            "140: dx_300_ind_max\n",
            "141: dx_300_ind_sum\n",
            "142: dx_567_ind_max\n",
            "143: dx_567_ind_sum\n",
            "144: dx_E92_ind_max\n",
            "145: dx_E92_ind_sum\n",
            "146: dx_V49_ind_max\n",
            "147: dx_V49_ind_sum\n",
            "148: dx_094_ind_max\n",
            "149: dx_094_ind_sum\n",
            "150: dx_514_ind_max\n",
            "151: dx_514_ind_sum\n",
            "152: dx_494_ind_max\n",
            "153: dx_494_ind_sum\n",
            "154: dx_042_ind_max\n",
            "155: dx_042_ind_sum\n",
            "156: dx_404_ind_max\n",
            "157: dx_404_ind_sum\n",
            "158: dx_346_ind_max\n",
            "159: dx_346_ind_sum\n",
            "160: dx_792_ind_max\n",
            "161: dx_792_ind_sum\n",
            "162: dx_398_ind_max\n",
            "163: dx_398_ind_sum\n",
            "164: dx_753_ind_max\n",
            "165: dx_753_ind_sum\n",
            "166: dx_577_ind_max\n",
            "167: dx_577_ind_sum\n",
            "168: dx_730_ind_max\n",
            "169: dx_730_ind_sum\n",
            "170: dx_444_ind_max\n",
            "171: dx_444_ind_sum\n",
            "172: dx_459_ind_max\n",
            "173: dx_459_ind_sum\n",
            "174: dx_790_ind_max\n",
            "175: dx_790_ind_sum\n",
            "176: dx_337_ind_max\n",
            "177: dx_337_ind_sum\n",
            "178: dx_397_ind_max\n",
            "179: dx_397_ind_sum\n",
            "180: dx_292_ind_max\n",
            "181: dx_292_ind_sum\n",
            "182: dx_V42_ind_max\n",
            "183: dx_V42_ind_sum\n",
            "184: dx_289_ind_max\n",
            "185: dx_289_ind_sum\n",
            "186: alcohol_history_ind\n",
            "187: obesity_history_ind\n",
            "188: mh_history_ind\n",
            "189: admitted_ind\n",
            "190: mb_under10_ind\n",
            "191: mb_over80_ind\n"
          ]
        }
      ]
    },
    {
      "cell_type": "code",
      "source": [
        "drop=[ 'diag_1', 'diag_2', 'diag_3', 'diagnosis_tuple_freq'\n",
        ", 'diag_1_freq', 'diag_2_freq', 'diag_3_freq'\n",
        "\n",
        ",  'diag_1_sort' ,'diag_2_sort' ,'diag_3_sort'\n",
        ", 'diagnosis_1_sort', 'diagnosis_2_sort', 'diagnosis_3_sort'\n",
        ", 'diag_1_sort_freq', 'diag_2_sort_freq', 'diag_3_sort_freq']"
      ],
      "metadata": {
        "id": "QXVZd-Xrrd42"
      },
      "execution_count": 223,
      "outputs": []
    },
    {
      "cell_type": "code",
      "source": [
        "# Drop columns listed in the 'drop' list\n",
        "data.drop(columns=drop, inplace=True)\n",
        "\n",
        "# Save the cleaned and prepared DataFrame to a CSV file\n",
        "data.to_csv(\"p004_data_MLprep.csv\", index=False)\n",
        "\n",
        "# Show the shape and column info of the final DataFrame\n",
        "print(data.shape)\n",
        "print(data.info())\n"
      ],
      "metadata": {
        "id": "fDQwFU8Orw8H",
        "outputId": "41683ab8-b7fb-400c-afb4-66979db3a75e",
        "colab": {
          "base_uri": "https://localhost:8080/"
        }
      },
      "execution_count": 224,
      "outputs": [
        {
          "output_type": "stream",
          "name": "stdout",
          "text": [
            "(78743, 176)\n",
            "<class 'pandas.core.frame.DataFrame'>\n",
            "Index: 78743 entries, 1 to 101765\n",
            "Columns: 176 entries, encounter_id to mb_over80_ind\n",
            "dtypes: int64(138), object(38)\n",
            "memory usage: 106.3+ MB\n",
            "None\n"
          ]
        }
      ]
    },
    {
      "cell_type": "code",
      "source": [
        "from sklearn.preprocessing import MinMaxScaler\n",
        "cols_to_normalize = ['time_in_hospital', 'num_lab_procedures', 'num_procedures', 'num_medications', 'number_diagnoses']\n",
        "scaler = MinMaxScaler()\n",
        "data[cols_to_normalize] = scaler.fit_transform(data[cols_to_normalize])"
      ],
      "metadata": {
        "id": "K4ZSOAxxA14I"
      },
      "execution_count": null,
      "outputs": []
    },
    {
      "cell_type": "code",
      "source": [
        "print(f\"Dataset shape: {data.shape}\")"
      ],
      "metadata": {
        "id": "pCog43PhMg13",
        "outputId": "26a16912-9e8e-4ee0-bdc7-69f3716434db",
        "colab": {
          "base_uri": "https://localhost:8080/"
        }
      },
      "execution_count": null,
      "outputs": [
        {
          "output_type": "stream",
          "name": "stdout",
          "text": [
            "Dataset shape: (101766, 42)\n"
          ]
        }
      ]
    },
    {
      "cell_type": "markdown",
      "source": [
        "Performed one-hot encoding on all categorical columns, excluding the target variable readmitted. The encoding retained all categories to preserve complete category information. The readmitted column was left untouched for use as the target variable in modeling."
      ],
      "metadata": {
        "id": "sVj8hFQJcmaJ"
      }
    },
    {
      "cell_type": "code",
      "execution_count": null,
      "metadata": {
        "id": "TZtIUZJEZNCK",
        "outputId": "02b5ef80-34c9-40eb-fcce-3206c5ad627f",
        "colab": {
          "base_uri": "https://localhost:8080/"
        }
      },
      "outputs": [
        {
          "output_type": "stream",
          "name": "stdout",
          "text": [
            "(101766, 153)\n",
            "Index(['encounter_id', 'patient_nbr', 'time_in_hospital', 'num_lab_procedures', 'num_procedures', 'num_medications', 'number_diagnoses', 'readmitted', 'race_AfricanAmerican', 'race_Asian',\n",
            "       ...\n",
            "       'diagnosis_grouped_Sense Organs', 'diagnosis_grouped_Skin', 'diagnosis_grouped_Symptoms', 'diagnosis_grouped_Unknown', 'VisitType_emergency', 'VisitType_high_inpatient', 'VisitType_high_outpatient_rate', 'VisitType_low_inpatient', 'VisitType_low_outpatient_rate', 'VisitType_novisit'], dtype='object', length=153)\n"
          ]
        }
      ],
      "source": [
        "# Step 1: Identify object columns, excluding 'readmitted'\n",
        "categorical_cols = data.select_dtypes(include='object').columns\n",
        "categorical_cols = categorical_cols.drop('readmitted')  # Exclude target\n",
        "\n",
        "# Step 2: Apply One-Hot Encoding\n",
        "data_encoded = pd.get_dummies(data, columns=categorical_cols, drop_first=False)\n",
        "\n",
        "# Step 3: Your target column 'readmitted' stays untouched\n",
        "print(data_encoded.shape)\n",
        "print(data_encoded.columns)"
      ]
    },
    {
      "cell_type": "markdown",
      "metadata": {
        "id": "hQqlLhOKZNCL"
      },
      "source": [
        "# 4. **Feature Selection**"
      ]
    },
    {
      "cell_type": "markdown",
      "source": [
        "Separated features and target variable for model training and feature selection. Dropped the readmitted column from the dataset to form the feature matrix X, while retaining it as the target variable y"
      ],
      "metadata": {
        "id": "F8k7B1U5czfH"
      }
    },
    {
      "cell_type": "code",
      "execution_count": null,
      "metadata": {
        "id": "-_BH_eK6ZNCL",
        "outputId": "5427e584-f3da-483a-ccc3-1b68f933ba60",
        "colab": {
          "base_uri": "https://localhost:8080/"
        }
      },
      "outputs": [
        {
          "output_type": "stream",
          "name": "stdout",
          "text": [
            "Features shape: (101766, 152)\n"
          ]
        }
      ],
      "source": [
        "# Prepare data for feature selection\n",
        "# Drop non-feature columns\n",
        "X = data_encoded.drop(columns=['readmitted'])\n",
        "y = data_encoded['readmitted']\n",
        "\n",
        "print(f\"Features shape: {X.shape}\")"
      ]
    },
    {
      "cell_type": "markdown",
      "source": [
        "Trained a Random Forest classifier to evaluate feature importance. Computed the importance scores for all features and sorted them in descending order. The top 20 features were visualized using a bar chart to highlight the most influential variables contributing to the target prediction (readmitted)"
      ],
      "metadata": {
        "id": "uok2ZvnZc-7J"
      }
    },
    {
      "cell_type": "code",
      "execution_count": null,
      "metadata": {
        "id": "xYe72chfZNCM",
        "outputId": "e5aae7a0-73b6-4d16-84a5-3bf762fbd5f5",
        "colab": {
          "base_uri": "https://localhost:8080/",
          "height": 1000
        }
      },
      "outputs": [
        {
          "output_type": "stream",
          "name": "stdout",
          "text": [
            "All feature importances (sorted to 4 decimal places):\n",
            "                                        Feature  Importance\n",
            "                                   encounter_id      0.1022\n",
            "                                    patient_nbr      0.1008\n",
            "                             num_lab_procedures      0.0836\n",
            "                                num_medications      0.0761\n",
            "                               time_in_hospital      0.0580\n",
            "                               number_diagnoses      0.0406\n",
            "                                 num_procedures      0.0393\n",
            "                              VisitType_novisit      0.0189\n",
            "                  diagnosis_grouped_Circulatory      0.0154\n",
            "                                    gender_Male      0.0147\n",
            "                                  gender_Female      0.0146\n",
            "                        VisitType_low_inpatient      0.0122\n",
            "                                 race_Caucasian      0.0114\n",
            "                                  payer_code_MC      0.0111\n",
            "                  diagnosis_grouped_Respiratory      0.0108\n",
            "                           race_AfricanAmerican      0.0103\n",
            "                                 insulin_Steady      0.0103\n",
            "                           age_group_3cat_older      0.0103\n",
            "                     age_group_3cat_middle-aged      0.0101\n",
            "                       admission_type_Emergency      0.0098\n",
            "                discharge_group_expired/hospice      0.0098\n",
            "                    diagnosis_grouped_Digestive      0.0095\n",
            "                          admission_type_Urgent      0.0092\n",
            "                           discharge_group_home      0.0089\n",
            "                                     insulin_No      0.0089\n",
            "                     diagnosis_grouped_Diabetes      0.0084\n",
            "                            VisitType_emergency      0.0083\n",
            "                                   metformin_No      0.0081\n",
            "             admission_source_grouped_Emergency      0.0079\n",
            "                               metformin_Steady      0.0078\n",
            "                                   glipizide_No      0.0076\n",
            "                                      change_No      0.0076\n",
            "                       diagnosis_grouped_Injury      0.0076\n",
            "                    discharge_group_transferred      0.0075\n",
            "                                      change_Ch      0.0074\n",
            "                               glipizide_Steady      0.0074\n",
            "              admission_source_grouped_Referral      0.0071\n",
            "                diagnosis_grouped_Genitourinary      0.0068\n",
            "                                   glyburide_No      0.0067\n",
            "                                   insulin_Down      0.0067\n",
            "                                     insulin_Up      0.0066\n",
            "                        admission_type_Elective      0.0066\n",
            "                               glyburide_Steady      0.0065\n",
            "                                pioglitazone_No      0.0058\n",
            "                         admission_type_Unknown      0.0057\n",
            "                                  payer_code_HM      0.0055\n",
            "                            pioglitazone_Steady      0.0054\n",
            "                               rosiglitazone_No      0.0052\n",
            "                           rosiglitazone_Steady      0.0051\n",
            "                                  payer_code_SP      0.0048\n",
            "              diagnosis_grouped_Musculoskeletal      0.0047\n",
            "     diagnosis_grouped_Endocrine (non-diabetes)      0.0046\n",
            "                                 glimepiride_No      0.0045\n",
            "                                 diabetesMed_No      0.0045\n",
            "                  VisitType_low_outpatient_rate      0.0045\n",
            "                   diagnosis_grouped_Infectious      0.0045\n",
            "                                diabetesMed_Yes      0.0044\n",
            "                         diagnosis_grouped_Skin      0.0044\n",
            "                                  payer_code_BC      0.0043\n",
            "                             glimepiride_Steady      0.0043\n",
            "admission_source_grouped_Transfer from Facility      0.0043\n",
            "                                  payer_code_MD      0.0042\n",
            "                     diagnosis_grouped_Symptoms      0.0041\n",
            "                    diagnosis_grouped_Neoplasms      0.0041\n",
            "                       diagnosis_grouped_Mental      0.0034\n",
            "         admission_source_grouped_Other/Unknown      0.0033\n",
            "                                  payer_code_CP      0.0032\n",
            "                                  race_Hispanic      0.0029\n",
            "                                  payer_code_UN      0.0028\n",
            "                          discharge_group_other      0.0028\n",
            "                                  payer_code_CM      0.0028\n",
            "                        diagnosis_grouped_Blood      0.0025\n",
            "                           age_group_3cat_young      0.0023\n",
            "                                     race_Other      0.0022\n",
            "                      diagnosis_grouped_Unknown      0.0022\n",
            "                                 repaglinide_No      0.0020\n",
            "                      diagnosis_grouped_Nervous      0.0019\n",
            "                             repaglinide_Steady      0.0018\n",
            "                        diagnosis_grouped_Other      0.0016\n",
            "                                  payer_code_OG      0.0016\n",
            "                                   metformin_Up      0.0015\n",
            "                                   glipizide_Up      0.0013\n",
            "                                   glyburide_Up      0.0013\n",
            "                                 nateglinide_No      0.0011\n",
            "                                     race_Asian      0.0011\n",
            "                             nateglinide_Steady      0.0011\n",
            "                                 glyburide_Down      0.0011\n",
            "                         glyburide-metformin_No      0.0011\n",
            "                                 glipizide_Down      0.0011\n",
            "                     glyburide-metformin_Steady      0.0010\n",
            "                                  payer_code_PO      0.0010\n",
            "                                  payer_code_DM      0.0010\n",
            "                    diagnosis_grouped_Pregnancy      0.0010\n",
            "                                 metformin_Down      0.0010\n",
            "                 diagnosis_grouped_Sense Organs      0.0006\n",
            "                                 glimepiride_Up      0.0006\n",
            "                                    acarbose_No      0.0005\n",
            "                                acarbose_Steady      0.0005\n",
            "                               glimepiride_Down      0.0005\n",
            "                                pioglitazone_Up      0.0005\n",
            "                              pioglitazone_Down      0.0003\n",
            "                               rosiglitazone_Up      0.0003\n",
            "                                  payer_code_CH      0.0003\n",
            "                                  payer_code_MP      0.0002\n",
            "                       VisitType_high_inpatient      0.0002\n",
            "                             rosiglitazone_Down      0.0002\n",
            "                                  payer_code_OT      0.0002\n",
            "                          chlorpropamide_Steady      0.0002\n",
            "                                  payer_code_WC      0.0002\n",
            "                                 repaglinide_Up      0.0002\n",
            "                              chlorpropamide_No      0.0002\n",
            "                   diagnosis_grouped_Congenital      0.0001\n",
            "                                miglitol_Steady      0.0001\n",
            "                              tolazamide_Steady      0.0001\n",
            "                               repaglinide_Down      0.0001\n",
            "                                  payer_code_SI      0.0001\n",
            "                                  tolazamide_No      0.0001\n",
            "                                    miglitol_No      0.0001\n",
            "                                  payer_code_FR      0.0000\n",
            "                         gender_Unknown/Invalid      0.0000\n",
            "                                 citoglipton_No      0.0000\n",
            "                                     examide_No      0.0000\n",
            "                                  tolazamide_Up      0.0000\n",
            "                                troglitazone_No      0.0000\n",
            "                            troglitazone_Steady      0.0000\n",
            "                                  acarbose_Down      0.0000\n",
            "                                  miglitol_Down      0.0000\n",
            "                                    miglitol_Up      0.0000\n",
            "                                    acarbose_Up      0.0000\n",
            "                                 tolbutamide_No      0.0000\n",
            "                             tolbutamide_Steady      0.0000\n",
            "                                 nateglinide_Up      0.0000\n",
            "                              chlorpropamide_Up      0.0000\n",
            "                            chlorpropamide_Down      0.0000\n",
            "                           acetohexamide_Steady      0.0000\n",
            "                               acetohexamide_No      0.0000\n",
            "                               nateglinide_Down      0.0000\n",
            "                   admission_type_Trauma Center      0.0000\n",
            "                glimepiride-pioglitazone_Steady      0.0000\n",
            "                    glimepiride-pioglitazone_No      0.0000\n",
            "                         admission_type_Newborn      0.0000\n",
            "                 metformin-rosiglitazone_Steady      0.0000\n",
            "                         glyburide-metformin_Up      0.0000\n",
            "                       glyburide-metformin_Down      0.0000\n",
            "                         glipizide-metformin_No      0.0000\n",
            "                     glipizide-metformin_Steady      0.0000\n",
            "                      metformin-pioglitazone_No      0.0000\n",
            "                  metformin-pioglitazone_Steady      0.0000\n",
            "                     metformin-rosiglitazone_No      0.0000\n",
            "         admission_source_grouped_Birth-Related      0.0000\n",
            "           admission_source_grouped_Legal/Court      0.0000\n",
            "                 VisitType_high_outpatient_rate      0.0000\n"
          ]
        },
        {
          "output_type": "display_data",
          "data": {
            "text/plain": [
              "<Figure size 1200x800 with 1 Axes>"
            ],
            "image/png": "[encoded data removed]"
          },
          "metadata": {}
        },
        {
          "output_type": "stream",
          "name": "stdout",
          "text": [
            "\n",
            "Top 20 features by importance:\n",
            "1. encounter_id: 0.1022\n",
            "2. patient_nbr: 0.1008\n",
            "3. num_lab_procedures: 0.0836\n",
            "4. num_medications: 0.0761\n",
            "5. time_in_hospital: 0.0580\n",
            "6. number_diagnoses: 0.0406\n",
            "7. num_procedures: 0.0393\n",
            "8. VisitType_novisit: 0.0189\n",
            "9. diagnosis_grouped_Circulatory: 0.0154\n",
            "10. gender_Male: 0.0147\n",
            "11. gender_Female: 0.0146\n",
            "12. VisitType_low_inpatient: 0.0122\n",
            "13. race_Caucasian: 0.0114\n",
            "14. payer_code_MC: 0.0111\n",
            "15. diagnosis_grouped_Respiratory: 0.0108\n",
            "16. age_group_3cat_older: 0.0103\n",
            "17. race_AfricanAmerican: 0.0103\n",
            "18. insulin_Steady: 0.0103\n",
            "19. age_group_3cat_middle-aged: 0.0101\n",
            "20. admission_type_Emergency: 0.0098\n"
          ]
        }
      ],
      "source": [
        "import pandas as pd\n",
        "import numpy as np\n",
        "import matplotlib.pyplot as plt\n",
        "from sklearn.ensemble import RandomForestClassifier\n",
        "\n",
        "# Train the model\n",
        "rf = RandomForestClassifier(n_estimators=100, random_state=42)\n",
        "rf.fit(X, y)\n",
        "\n",
        "# Get feature importances\n",
        "importances = rf.feature_importances_\n",
        "indices = np.argsort(importances)[::-1]\n",
        "\n",
        "# Create DataFrame of feature importances\n",
        "feature_importance_df = pd.DataFrame({\n",
        "    'Feature': X.columns,\n",
        "    'Importance': importances\n",
        "})\n",
        "\n",
        "# Round to 4 decimal places\n",
        "feature_importance_df['Importance'] = feature_importance_df['Importance'].round(4)\n",
        "\n",
        "# Sort descending\n",
        "feature_importance_df = feature_importance_df.sort_values(by='Importance', ascending=False)\n",
        "\n",
        "# Print all feature importances\n",
        "print(\"All feature importances (sorted to 4 decimal places):\")\n",
        "print(feature_importance_df.to_string(index=False))\n",
        "\n",
        "# Plot the top 20 features\n",
        "plt.figure(figsize=(12, 8))\n",
        "plt.title('Top 20 Feature Importances')\n",
        "plt.bar(range(20), importances[indices][:20], align='center')\n",
        "plt.xticks(range(20), X.columns[indices][:20], rotation=90)\n",
        "plt.tight_layout()\n",
        "plt.show()\n",
        "\n",
        "# Print top 20 features\n",
        "print(\"\\nTop 20 features by importance:\")\n",
        "for i in range(20):\n",
        "    print(f\"{i+1}. {X.columns[indices][i]}: {importances[indices][i]:.4f}\")"
      ]
    },
    {
      "cell_type": "markdown",
      "source": [
        "Risk score"
      ],
      "metadata": {
        "id": "RXazgSkA_2o6"
      }
    },
    {
      "cell_type": "markdown",
      "source": [
        "Created a weighted risk_score using top features based on Random Forest importance values"
      ],
      "metadata": {
        "id": "gFkAGRwfdKUl"
      }
    },
    {
      "cell_type": "code",
      "source": [
        "data_encoded['risk_score'] = (\n",
        "    0.1654 * data_encoded['num_lab_procedures'] +\n",
        "    0.1505 * data_encoded['num_medications'] +\n",
        "    0.1148 * data_encoded['time_in_hospital'] +\n",
        "    0.0803 * data_encoded['number_diagnoses'] +\n",
        "    0.0778 * data_encoded['num_procedures'] +\n",
        "    0.0374 * data_encoded['VisitType_novisit'] +\n",
        "    0.0305 * data_encoded['diagnosis_grouped_Circulatory'] +\n",
        "    0.0291 * data_encoded['gender_Male'] +\n",
        "    0.0289 * data_encoded['gender_Female'] +\n",
        "    0.0241 * data_encoded['VisitType_low_inpatient'] +\n",
        "    0.0226 * data_encoded['race_Caucasian'] +\n",
        "    0.0220 * data_encoded['payer_code_MC'] +\n",
        "    0.0214 * data_encoded['diagnosis_grouped_Respiratory'] +\n",
        "    0.0204 * data_encoded['age_group_3cat_older'] +\n",
        "    0.0204 * data_encoded['race_AfricanAmerican'] +\n",
        "    0.0204 * data_encoded['insulin_Steady'] +\n",
        "    0.0200 * data_encoded['age_group_3cat_middle-aged'] +\n",
        "    0.0194 * data_encoded['admission_type_Emergency']\n",
        ")"
      ],
      "metadata": {
        "id": "G4aw8J3r8Oc1"
      },
      "execution_count": null,
      "outputs": []
    },
    {
      "cell_type": "markdown",
      "source": [
        "Used SelectKBest with ANOVA F-test to select and rank the top 20 most predictive features for readmission."
      ],
      "metadata": {
        "id": "7DgLmFUjIdEy"
      }
    },
    {
      "cell_type": "code",
      "execution_count": null,
      "metadata": {
        "id": "1aPMCVBuZNCM",
        "colab": {
          "base_uri": "https://localhost:8080/",
          "height": 1000
        },
        "outputId": "522abbdc-14aa-4e18-dd4a-31ead79e13fb"
      },
      "outputs": [
        {
          "output_type": "display_data",
          "data": {
            "text/plain": [
              "<Figure size 1200x800 with 1 Axes>"
            ],
            "image/png": "[encoded data removed]"
          },
          "metadata": {}
        },
        {
          "output_type": "stream",
          "name": "stdout",
          "text": [
            "Top 20 features by ANOVA F-value:\n",
            "1. VisitType_novisit: 2589.8966\n",
            "2. VisitType_low_inpatient: 1260.7213\n",
            "3. discharge_group_expired/hospice: 921.4184\n",
            "4. VisitType_emergency: 806.4953\n",
            "5. number_diagnoses: 655.4650\n",
            "6. discharge_group_transferred: 378.0386\n",
            "7. admission_source_grouped_Transfer from Facility: 353.1232\n",
            "8. discharge_group_home: 318.2088\n",
            "9. patient_nbr: 306.2444\n",
            "10. admission_source_grouped_Emergency: 294.3911\n",
            "11. diabetesMed_Yes: 193.9865\n",
            "12. diabetesMed_No: 193.9865\n",
            "13. time_in_hospital: 170.3309\n",
            "14. num_medications: 136.7492\n",
            "15. insulin_Down: 136.0915\n",
            "16. admission_type_Elective: 131.9449\n",
            "17. diagnosis_grouped_Neoplasms: 124.0881\n",
            "18. insulin_No: 117.7605\n",
            "19. change_No: 108.1387\n",
            "20. change_Ch: 108.1387\n"
          ]
        }
      ],
      "source": [
        "# 4.2 Statistical feature selection using ANOVA F-value\n",
        "selector = SelectKBest(f_classif, k=20)\n",
        "X_new = selector.fit_transform(X, y)\n",
        "\n",
        "# Get selected feature names\n",
        "mask = selector.get_support()\n",
        "selected_features = X.columns[mask]\n",
        "\n",
        "# Get scores\n",
        "scores = selector.scores_\n",
        "selected_scores = scores[mask]\n",
        "\n",
        "# Sort by score\n",
        "sorted_indices = np.argsort(selected_scores)[::-1]\n",
        "sorted_features = selected_features[sorted_indices]\n",
        "sorted_scores = selected_scores[sorted_indices]\n",
        "\n",
        "# Plot\n",
        "plt.figure(figsize=(12, 8))\n",
        "plt.title('Feature Selection using ANOVA F-value')\n",
        "plt.bar(range(len(sorted_features)), sorted_scores, align='center')\n",
        "plt.xticks(range(len(sorted_features)), sorted_features, rotation=90)\n",
        "plt.tight_layout()\n",
        "plt.show()\n",
        "\n",
        "print(\"Top 20 features by ANOVA F-value:\")\n",
        "for i, (feature, score) in enumerate(zip(sorted_features, sorted_scores)):\n",
        "    print(f\"{i+1}. {feature}: {score:.4f}\")"
      ]
    },
    {
      "cell_type": "code",
      "execution_count": null,
      "metadata": {
        "id": "LIrK45I9ZNCN",
        "colab": {
          "base_uri": "https://localhost:8080/"
        },
        "outputId": "bb0bf951-cf81-4bf0-a636-428ff257e846"
      },
      "outputs": [
        {
          "output_type": "stream",
          "name": "stdout",
          "text": [
            "Top 20 features selected by RFE:\n",
            "1. encounter_id\n",
            "2. patient_nbr\n",
            "3. time_in_hospital\n",
            "4. num_lab_procedures\n",
            "5. num_procedures\n",
            "6. num_medications\n",
            "7. number_diagnoses\n",
            "8. race_Caucasian\n",
            "9. gender_Female\n",
            "10. gender_Male\n",
            "11. payer_code_MC\n",
            "12. metformin_No\n",
            "13. glipizide_No\n",
            "14. insulin_Steady\n",
            "15. change_Ch\n",
            "16. admission_type_Emergency\n",
            "17. admission_type_Urgent\n",
            "18. age_group_3cat_older\n",
            "19. diagnosis_grouped_Circulatory\n",
            "20. VisitType_novisit\n"
          ]
        }
      ],
      "source": [
        "# 4.3 Recursive Feature Elimination (RFE)\n",
        "rfe = RFE(estimator=RandomForestClassifier(n_estimators=100, random_state=42), n_features_to_select=20)\n",
        "rfe.fit(X, y)\n",
        "\n",
        "# Get selected feature names\n",
        "rfe_mask = rfe.get_support()\n",
        "rfe_features = X.columns[rfe_mask]\n",
        "\n",
        "print(\"Top 20 features selected by RFE:\")\n",
        "for i, feature in enumerate(rfe_features):\n",
        "    print(f\"{i+1}. {feature}\")"
      ]
    },
    {
      "cell_type": "markdown",
      "metadata": {
        "id": "hhgqB2W1ZNCO"
      },
      "source": [
        "## 5. Compare Feature Selection Methods"
      ]
    },
    {
      "cell_type": "code",
      "execution_count": null,
      "metadata": {
        "id": "OB_oUZzNZNCO",
        "colab": {
          "base_uri": "https://localhost:8080/"
        },
        "outputId": "c88e874a-d4bc-41c2-e8c9-b1b4ce1ca75d"
      },
      "outputs": [
        {
          "output_type": "stream",
          "name": "stdout",
          "text": [
            "Features common to all methods: 5\n",
            "Features common to RF and ANOVA: 6\n",
            "Features common to RF and RFE: 16\n",
            "Features common to ANOVA and RFE: 6\n",
            "\n",
            "Features common to all methods:\n",
            "- number_diagnoses\n",
            "- patient_nbr\n",
            "- VisitType_novisit\n",
            "- time_in_hospital\n",
            "- num_medications\n"
          ]
        }
      ],
      "source": [
        "# Compare the features selected by different methods\n",
        "rf_features = X.columns[indices][:20]\n",
        "anova_features = sorted_features\n",
        "\n",
        "# Find common features\n",
        "common_all = set(rf_features) & set(anova_features) & set(rfe_features)\n",
        "common_rf_anova = set(rf_features) & set(anova_features)\n",
        "common_rf_rfe = set(rf_features) & set(rfe_features)\n",
        "common_anova_rfe = set(anova_features) & set(rfe_features)\n",
        "\n",
        "print(f\"Features common to all methods: {len(common_all)}\")\n",
        "print(f\"Features common to RF and ANOVA: {len(common_rf_anova)}\")\n",
        "print(f\"Features common to RF and RFE: {len(common_rf_rfe)}\")\n",
        "print(f\"Features common to ANOVA and RFE: {len(common_anova_rfe)}\")\n",
        "\n",
        "print(\"\\nFeatures common to all methods:\")\n",
        "for feature in common_all:\n",
        "    print(f\"- {feature}\")"
      ]
    },
    {
      "cell_type": "markdown",
      "metadata": {
        "id": "toVdwlfHZNCO"
      },
      "source": [
        "## 6. Final Feature Set"
      ]
    },
    {
      "cell_type": "code",
      "execution_count": null,
      "metadata": {
        "id": "nOQVf3jnZNCO",
        "colab": {
          "base_uri": "https://localhost:8080/"
        },
        "outputId": "d8ad0152-f4fe-4120-ba0f-13be9f0f25d0"
      },
      "outputs": [
        {
          "output_type": "stream",
          "name": "stdout",
          "text": [
            "Final feature set size: 18\n",
            "\n",
            "Final features:\n",
            "- patient_nbr\n",
            "- time_in_hospital\n",
            "- num_medications\n",
            "- VisitType_novisit\n",
            "- number_diagnoses\n",
            "- num_lab_procedures\n",
            "- encounter_id\n",
            "- num_procedures\n",
            "- diagnosis_grouped_Circulatory\n",
            "- gender_Male\n",
            "- gender_Female\n",
            "- VisitType_low_inpatient\n",
            "- race_Caucasian\n",
            "- payer_code_MC\n",
            "- age_group_3cat_older\n",
            "- admission_type_Emergency\n",
            "- insulin_Steady\n",
            "- change_Ch\n"
          ]
        }
      ],
      "source": [
        "# Create a final feature set based on the analysis\n",
        "# We'll use features that appear in at least 2 of the 3 methods\n",
        "all_selected_features = list(rf_features) + list(anova_features) + list(rfe_features)\n",
        "feature_counts = pd.Series(all_selected_features).value_counts()\n",
        "final_features = feature_counts[feature_counts >= 2].index.tolist()\n",
        "\n",
        "print(f\"Final feature set size: {len(final_features)}\")\n",
        "print(\"\\nFinal features:\")\n",
        "for feature in final_features:\n",
        "    print(f\"- {feature}\")"
      ]
    },
    {
      "cell_type": "code",
      "execution_count": null,
      "metadata": {
        "id": "0Ugfs6YjZNCP",
        "colab": {
          "base_uri": "https://localhost:8080/",
          "height": 243
        },
        "outputId": "e0b936a2-d386-4f50-ab7f-be3a29f8f1ac"
      },
      "outputs": [
        {
          "output_type": "stream",
          "name": "stdout",
          "text": [
            "Final scaled feature matrix shape: (101766, 18)\n"
          ]
        },
        {
          "output_type": "execute_result",
          "data": {
            "text/plain": [
              "   patient_nbr  time_in_hospital  num_medications  VisitType_novisit  number_diagnoses  num_lab_procedures  encounter_id  num_procedures  diagnosis_grouped_Circulatory  gender_Male  gender_Female  VisitType_low_inpatient  race_Caucasian  payer_code_MC  age_group_3cat_older  admission_type_Emergency  insulin_Steady  change_Ch\n",
              "0    -1.191545         -1.137649        -1.848268           0.907110         -3.321596           -0.106517     -1.587330       -0.785398                      -0.653233    -0.927397       0.927452                -0.605681        0.546351       0.632379             -1.436292                 -1.063045       -0.659546  -0.926591\n",
              "1     0.033564         -0.467653         0.243390           0.907110          0.815784            0.808384     -1.608075       -0.785398                      -0.653233    -0.927397       0.927452                -0.605681        0.546351       0.632379             -1.436292                  0.940694       -0.659546   1.079225\n",
              "2     0.819654         -0.802651        -0.371804          -1.102402         -0.735733           -1.631351     -1.608901        2.145781                      -0.653233    -0.927397       0.927452                 1.651035       -1.830325       0.632379             -1.436292                  0.940694       -0.659546  -0.926591\n",
              "3     0.726480         -0.802651        -0.002688           0.907110         -0.218561            0.045967     -1.604653       -0.199162                      -0.653233     1.078287      -1.078223                -0.605681        0.546351       0.632379             -1.436292                  0.940694       -0.659546   1.079225\n",
              "4    -0.305227         -1.137649        -0.986997           0.907110         -1.252906            0.401761     -1.609366       -0.785398                      -0.653233     1.078287      -1.078223                -0.605681        0.546351       0.632379             -1.436292                  0.940694        1.516194   1.079225"
            ],
            "text/html": [
              "\n",
              "  <div id=\"df-14a89340-866c-4966-a1d0-5ddcae58455b\" class=\"colab-df-container\">\n",
              "    <div>\n",
              "<style scoped>\n",
              "    .dataframe tbody tr th:only-of-type {\n",
              "        vertical-align: middle;\n",
              "    }\n",
              "\n",
              "    .dataframe tbody tr th {\n",
              "        vertical-align: top;\n",
              "    }\n",
              "\n",
              "    .dataframe thead th {\n",
              "        text-align: right;\n",
              "    }\n",
              "</style>\n",
              "<table border=\"1\" class=\"dataframe\">\n",
              "  <thead>\n",
              "    <tr style=\"text-align: right;\">\n",
              "      <th></th>\n",
              "      <th>patient_nbr</th>\n",
              "      <th>time_in_hospital</th>\n",
              "      <th>num_medications</th>\n",
              "      <th>VisitType_novisit</th>\n",
              "      <th>number_diagnoses</th>\n",
              "      <th>num_lab_procedures</th>\n",
              "      <th>encounter_id</th>\n",
              "      <th>num_procedures</th>\n",
              "      <th>diagnosis_grouped_Circulatory</th>\n",
              "      <th>gender_Male</th>\n",
              "      <th>gender_Female</th>\n",
              "      <th>VisitType_low_inpatient</th>\n",
              "      <th>race_Caucasian</th>\n",
              "      <th>payer_code_MC</th>\n",
              "      <th>age_group_3cat_older</th>\n",
              "      <th>admission_type_Emergency</th>\n",
              "      <th>insulin_Steady</th>\n",
              "      <th>change_Ch</th>\n",
              "    </tr>\n",
              "  </thead>\n",
              "  <tbody>\n",
              "    <tr>\n",
              "      <th>0</th>\n",
              "      <td>-1.191545</td>\n",
              "      <td>-1.137649</td>\n",
              "      <td>-1.848268</td>\n",
              "      <td>0.907110</td>\n",
              "      <td>-3.321596</td>\n",
              "      <td>-0.106517</td>\n",
              "      <td>-1.587330</td>\n",
              "      <td>-0.785398</td>\n",
              "      <td>-0.653233</td>\n",
              "      <td>-0.927397</td>\n",
              "      <td>0.927452</td>\n",
              "      <td>-0.605681</td>\n",
              "      <td>0.546351</td>\n",
              "      <td>0.632379</td>\n",
              "      <td>-1.436292</td>\n",
              "      <td>-1.063045</td>\n",
              "      <td>-0.659546</td>\n",
              "      <td>-0.926591</td>\n",
              "    </tr>\n",
              "    <tr>\n",
              "      <th>1</th>\n",
              "      <td>0.033564</td>\n",
              "      <td>-0.467653</td>\n",
              "      <td>0.243390</td>\n",
              "      <td>0.907110</td>\n",
              "      <td>0.815784</td>\n",
              "      <td>0.808384</td>\n",
              "      <td>-1.608075</td>\n",
              "      <td>-0.785398</td>\n",
              "      <td>-0.653233</td>\n",
              "      <td>-0.927397</td>\n",
              "      <td>0.927452</td>\n",
              "      <td>-0.605681</td>\n",
              "      <td>0.546351</td>\n",
              "      <td>0.632379</td>\n",
              "      <td>-1.436292</td>\n",
              "      <td>0.940694</td>\n",
              "      <td>-0.659546</td>\n",
              "      <td>1.079225</td>\n",
              "    </tr>\n",
              "    <tr>\n",
              "      <th>2</th>\n",
              "      <td>0.819654</td>\n",
              "      <td>-0.802651</td>\n",
              "      <td>-0.371804</td>\n",
              "      <td>-1.102402</td>\n",
              "      <td>-0.735733</td>\n",
              "      <td>-1.631351</td>\n",
              "      <td>-1.608901</td>\n",
              "      <td>2.145781</td>\n",
              "      <td>-0.653233</td>\n",
              "      <td>-0.927397</td>\n",
              "      <td>0.927452</td>\n",
              "      <td>1.651035</td>\n",
              "      <td>-1.830325</td>\n",
              "      <td>0.632379</td>\n",
              "      <td>-1.436292</td>\n",
              "      <td>0.940694</td>\n",
              "      <td>-0.659546</td>\n",
              "      <td>-0.926591</td>\n",
              "    </tr>\n",
              "    <tr>\n",
              "      <th>3</th>\n",
              "      <td>0.726480</td>\n",
              "      <td>-0.802651</td>\n",
              "      <td>-0.002688</td>\n",
              "      <td>0.907110</td>\n",
              "      <td>-0.218561</td>\n",
              "      <td>0.045967</td>\n",
              "      <td>-1.604653</td>\n",
              "      <td>-0.199162</td>\n",
              "      <td>-0.653233</td>\n",
              "      <td>1.078287</td>\n",
              "      <td>-1.078223</td>\n",
              "      <td>-0.605681</td>\n",
              "      <td>0.546351</td>\n",
              "      <td>0.632379</td>\n",
              "      <td>-1.436292</td>\n",
              "      <td>0.940694</td>\n",
              "      <td>-0.659546</td>\n",
              "      <td>1.079225</td>\n",
              "    </tr>\n",
              "    <tr>\n",
              "      <th>4</th>\n",
              "      <td>-0.305227</td>\n",
              "      <td>-1.137649</td>\n",
              "      <td>-0.986997</td>\n",
              "      <td>0.907110</td>\n",
              "      <td>-1.252906</td>\n",
              "      <td>0.401761</td>\n",
              "      <td>-1.609366</td>\n",
              "      <td>-0.785398</td>\n",
              "      <td>-0.653233</td>\n",
              "      <td>1.078287</td>\n",
              "      <td>-1.078223</td>\n",
              "      <td>-0.605681</td>\n",
              "      <td>0.546351</td>\n",
              "      <td>0.632379</td>\n",
              "      <td>-1.436292</td>\n",
              "      <td>0.940694</td>\n",
              "      <td>1.516194</td>\n",
              "      <td>1.079225</td>\n",
              "    </tr>\n",
              "  </tbody>\n",
              "</table>\n",
              "</div>\n",
              "    <div class=\"colab-df-buttons\">\n",
              "\n",
              "  <div class=\"colab-df-container\">\n",
              "    <button class=\"colab-df-convert\" onclick=\"convertToInteractive('df-14a89340-866c-4966-a1d0-5ddcae58455b')\"\n",
              "            title=\"Convert this dataframe to an interactive table.\"\n",
              "            style=\"display:none;\">\n",
              "\n",
              "  <svg xmlns=\"http://www.w3.org/2000/svg\" height=\"24px\" viewBox=\"0 -960 960 960\">\n",
              "    <path d=\"M120-120v-720h720v720H120Zm60-500h600v-160H180v160Zm220 220h160v-160H400v160Zm0 220h160v-160H400v160ZM180-400h160v-160H180v160Zm440 0h160v-160H620v160ZM180-180h160v-160H180v160Zm440 0h160v-160H620v160Z\"/>\n",
              "  </svg>\n",
              "    </button>\n",
              "\n",
              "  <style>\n",
              "    .colab-df-container {\n",
              "      display:flex;\n",
              "      gap: 12px;\n",
              "    }\n",
              "\n",
              "    .colab-df-convert {\n",
              "      background-color: #E8F0FE;\n",
              "      border: none;\n",
              "      border-radius: 50%;\n",
              "      cursor: pointer;\n",
              "      display: none;\n",
              "      fill: #1967D2;\n",
              "      height: 32px;\n",
              "      padding: 0 0 0 0;\n",
              "      width: 32px;\n",
              "    }\n",
              "\n",
              "    .colab-df-convert:hover {\n",
              "      background-color: #E2EBFA;\n",
              "      box-shadow: 0px 1px 2px rgba(60, 64, 67, 0.3), 0px 1px 3px 1px rgba(60, 64, 67, 0.15);\n",
              "      fill: #174EA6;\n",
              "    }\n",
              "\n",
              "    .colab-df-buttons div {\n",
              "      margin-bottom: 4px;\n",
              "    }\n",
              "\n",
              "    [theme=dark] .colab-df-convert {\n",
              "      background-color: #3B4455;\n",
              "      fill: #D2E3FC;\n",
              "    }\n",
              "\n",
              "    [theme=dark] .colab-df-convert:hover {\n",
              "      background-color: #434B5C;\n",
              "      box-shadow: 0px 1px 3px 1px rgba(0, 0, 0, 0.15);\n",
              "      filter: drop-shadow(0px 1px 2px rgba(0, 0, 0, 0.3));\n",
              "      fill: #FFFFFF;\n",
              "    }\n",
              "  </style>\n",
              "\n",
              "    <script>\n",
              "      const buttonEl =\n",
              "        document.querySelector('#df-14a89340-866c-4966-a1d0-5ddcae58455b button.colab-df-convert');\n",
              "      buttonEl.style.display =\n",
              "        google.colab.kernel.accessAllowed ? 'block' : 'none';\n",
              "\n",
              "      async function convertToInteractive(key) {\n",
              "        const element = document.querySelector('#df-14a89340-866c-4966-a1d0-5ddcae58455b');\n",
              "        const dataTable =\n",
              "          await google.colab.kernel.invokeFunction('convertToInteractive',\n",
              "                                                    [key], {});\n",
              "        if (!dataTable) return;\n",
              "\n",
              "        const docLinkHtml = 'Like what you see? Visit the ' +\n",
              "          '<a target=\"_blank\" href=https://colab.research.google.com/notebooks/data_table.ipynb>data table notebook</a>'\n",
              "          + ' to learn more about interactive tables.';\n",
              "        element.innerHTML = '';\n",
              "        dataTable['output_type'] = 'display_data';\n",
              "        await google.colab.output.renderOutput(dataTable, element);\n",
              "        const docLink = document.createElement('div');\n",
              "        docLink.innerHTML = docLinkHtml;\n",
              "        element.appendChild(docLink);\n",
              "      }\n",
              "    </script>\n",
              "  </div>\n",
              "\n",
              "\n",
              "<div id=\"df-8f7b273c-a7f0-4e7f-9ed9-733742438a61\">\n",
              "  <button class=\"colab-df-quickchart\" onclick=\"quickchart('df-8f7b273c-a7f0-4e7f-9ed9-733742438a61')\"\n",
              "            title=\"Suggest charts\"\n",
              "            style=\"display:none;\">\n",
              "\n",
              "<svg xmlns=\"http://www.w3.org/2000/svg\" height=\"24px\"viewBox=\"0 0 24 24\"\n",
              "     width=\"24px\">\n",
              "    <g>\n",
              "        <path d=\"M19 3H5c-1.1 0-2 .9-2 2v14c0 1.1.9 2 2 2h14c1.1 0 2-.9 2-2V5c0-1.1-.9-2-2-2zM9 17H7v-7h2v7zm4 0h-2V7h2v10zm4 0h-2v-4h2v4z\"/>\n",
              "    </g>\n",
              "</svg>\n",
              "  </button>\n",
              "\n",
              "<style>\n",
              "  .colab-df-quickchart {\n",
              "      --bg-color: #E8F0FE;\n",
              "      --fill-color: #1967D2;\n",
              "      --hover-bg-color: #E2EBFA;\n",
              "      --hover-fill-color: #174EA6;\n",
              "      --disabled-fill-color: #AAA;\n",
              "      --disabled-bg-color: #DDD;\n",
              "  }\n",
              "\n",
              "  [theme=dark] .colab-df-quickchart {\n",
              "      --bg-color: #3B4455;\n",
              "      --fill-color: #D2E3FC;\n",
              "      --hover-bg-color: #434B5C;\n",
              "      --hover-fill-color: #FFFFFF;\n",
              "      --disabled-bg-color: #3B4455;\n",
              "      --disabled-fill-color: #666;\n",
              "  }\n",
              "\n",
              "  .colab-df-quickchart {\n",
              "    background-color: var(--bg-color);\n",
              "    border: none;\n",
              "    border-radius: 50%;\n",
              "    cursor: pointer;\n",
              "    display: none;\n",
              "    fill: var(--fill-color);\n",
              "    height: 32px;\n",
              "    padding: 0;\n",
              "    width: 32px;\n",
              "  }\n",
              "\n",
              "  .colab-df-quickchart:hover {\n",
              "    background-color: var(--hover-bg-color);\n",
              "    box-shadow: 0 1px 2px rgba(60, 64, 67, 0.3), 0 1px 3px 1px rgba(60, 64, 67, 0.15);\n",
              "    fill: var(--button-hover-fill-color);\n",
              "  }\n",
              "\n",
              "  .colab-df-quickchart-complete:disabled,\n",
              "  .colab-df-quickchart-complete:disabled:hover {\n",
              "    background-color: var(--disabled-bg-color);\n",
              "    fill: var(--disabled-fill-color);\n",
              "    box-shadow: none;\n",
              "  }\n",
              "\n",
              "  .colab-df-spinner {\n",
              "    border: 2px solid var(--fill-color);\n",
              "    border-color: transparent;\n",
              "    border-bottom-color: var(--fill-color);\n",
              "    animation:\n",
              "      spin 1s steps(1) infinite;\n",
              "  }\n",
              "\n",
              "  @keyframes spin {\n",
              "    0% {\n",
              "      border-color: transparent;\n",
              "      border-bottom-color: var(--fill-color);\n",
              "      border-left-color: var(--fill-color);\n",
              "    }\n",
              "    20% {\n",
              "      border-color: transparent;\n",
              "      border-left-color: var(--fill-color);\n",
              "      border-top-color: var(--fill-color);\n",
              "    }\n",
              "    30% {\n",
              "      border-color: transparent;\n",
              "      border-left-color: var(--fill-color);\n",
              "      border-top-color: var(--fill-color);\n",
              "      border-right-color: var(--fill-color);\n",
              "    }\n",
              "    40% {\n",
              "      border-color: transparent;\n",
              "      border-right-color: var(--fill-color);\n",
              "      border-top-color: var(--fill-color);\n",
              "    }\n",
              "    60% {\n",
              "      border-color: transparent;\n",
              "      border-right-color: var(--fill-color);\n",
              "    }\n",
              "    80% {\n",
              "      border-color: transparent;\n",
              "      border-right-color: var(--fill-color);\n",
              "      border-bottom-color: var(--fill-color);\n",
              "    }\n",
              "    90% {\n",
              "      border-color: transparent;\n",
              "      border-bottom-color: var(--fill-color);\n",
              "    }\n",
              "  }\n",
              "</style>\n",
              "\n",
              "  <script>\n",
              "    async function quickchart(key) {\n",
              "      const quickchartButtonEl =\n",
              "        document.querySelector('#' + key + ' button');\n",
              "      quickchartButtonEl.disabled = true;  // To prevent multiple clicks.\n",
              "      quickchartButtonEl.classList.add('colab-df-spinner');\n",
              "      try {\n",
              "        const charts = await google.colab.kernel.invokeFunction(\n",
              "            'suggestCharts', [key], {});\n",
              "      } catch (error) {\n",
              "        console.error('Error during call to suggestCharts:', error);\n",
              "      }\n",
              "      quickchartButtonEl.classList.remove('colab-df-spinner');\n",
              "      quickchartButtonEl.classList.add('colab-df-quickchart-complete');\n",
              "    }\n",
              "    (() => {\n",
              "      let quickchartButtonEl =\n",
              "        document.querySelector('#df-8f7b273c-a7f0-4e7f-9ed9-733742438a61 button');\n",
              "      quickchartButtonEl.style.display =\n",
              "        google.colab.kernel.accessAllowed ? 'block' : 'none';\n",
              "    })();\n",
              "  </script>\n",
              "</div>\n",
              "\n",
              "    </div>\n",
              "  </div>\n"
            ],
            "application/vnd.google.colaboratory.intrinsic+json": {
              "type": "dataframe",
              "variable_name": "X_scaled_data"
            }
          },
          "metadata": {},
          "execution_count": 35
        }
      ],
      "source": [
        "# Create the final feature matrix\n",
        "X_final = X[final_features]\n",
        "\n",
        "# Scale the features\n",
        "scaler = StandardScaler()\n",
        "X_scaled = scaler.fit_transform(X_final)\n",
        "\n",
        "# Convert back to DataFrame for better visualization\n",
        "X_scaled_data = pd.DataFrame(X_scaled, columns=X_final.columns)\n",
        "\n",
        "print(f\"Final scaled feature matrix shape: {X_scaled_data.shape}\")\n",
        "X_scaled_data.head()"
      ]
    },
    {
      "cell_type": "markdown",
      "metadata": {
        "id": "-g4z9GddZNCP"
      },
      "source": [
        "## 7. Save Processed Data"
      ]
    },
    {
      "cell_type": "code",
      "execution_count": null,
      "metadata": {
        "id": "xoF0cduzZNCP",
        "colab": {
          "base_uri": "https://localhost:8080/"
        },
        "outputId": "a9ddec88-a2d8-4b7b-aabf-e48c7a7ec6cb",
        "collapsed": true
      },
      "outputs": [
        {
          "output_type": "stream",
          "name": "stdout",
          "text": [
            "✅ Final feature list saved to /content/features/final_features.txt\n"
          ]
        }
      ],
      "source": [
        "# Save the final feature set for reference in Colab\n",
        "import os\n",
        "\n",
        "# Create a directory under /content\n",
        "os.makedirs('/content/features', exist_ok=True)\n",
        "\n",
        "# Save the list of final features\n",
        "with open('/content/features/final_features.txt', 'w') as f:\n",
        "    for feature in final_features:\n",
        "        f.write(f\"{feature}\\n\")\n",
        "\n",
        "print(\"Final feature list saved to /content/features/final_features.txt\")\n"
      ]
    },
    {
      "cell_type": "code",
      "execution_count": null,
      "metadata": {
        "id": "8ME_49knZNCQ",
        "colab": {
          "base_uri": "https://localhost:8080/"
        },
        "outputId": "c74de23f-87fd-4fda-ff65-72d0250cf548",
        "collapsed": true
      },
      "outputs": [
        {
          "output_type": "stream",
          "name": "stdout",
          "text": [
            "✅ Processed features saved to /content/features/processed_features.csv\n"
          ]
        }
      ],
      "source": [
        "# Save the full processed dataset in Colab\n",
        "import os\n",
        "\n",
        "# Make sure the directory exists\n",
        "os.makedirs('/content/features', exist_ok=True)\n",
        "\n",
        "# Add the target variable back\n",
        "X_scaled_data['readmission_30d'] = y.values\n",
        "\n",
        "# Save to CSV\n",
        "X_scaled_data.to_csv('/content/features/processed_features.csv', index=False)\n",
        "\n",
        "print(\" Processed features saved to /content/features/processed_features.csv\")\n"
      ]
    },
    {
      "cell_type": "markdown",
      "metadata": {
        "id": "TJor7AqZZNCQ"
      },
      "source": [
        "# 5. **Summary of Feature Engineering**\n",
        "\n",
        "In this notebook, we engineered features to predict 30-day hospital readmission in diabetic patients using both domain knowledge and data-driven techniques.\n",
        "\n",
        "1. **Categorical Transformations**\n",
        "\n",
        "  Grouped age into clinically meaningful categories (e.g., age_group_3cat_older).\n",
        "\n",
        "2. **Applied one-hot encoding to categorical variables:**\n",
        "\n",
        "    Demographics: gender_Female, gender_Male, race_Caucasian\n",
        "\n",
        "    Insurance: payer_code_MC\n",
        "\n",
        "    Admission type: admission_type_Emergency, admission_type_Urgent\n",
        "\n",
        "    Medications: metformin_No, glipizide_No, insulin_Steady, change_Ch\n",
        "\n",
        "3. **Interaction & Grouped Features**\n",
        "\n",
        "    Created diagnosis_grouped_Circulatory using ICD-9 diagnosis code groupings.\n",
        "\n",
        "    Created VisitType_novisit to indicate missing outpatient, inpatient, or emergency encounters.\n",
        "\n",
        "4. **Clinical & Numerical Features**\n",
        "    \n",
        "    Included essential numeric predictors:\n",
        "\n",
        "    time_in_hospital,\n",
        "    num_lab_procedures,\n",
        "    num_procedures, num_medications, number_diagnoses\n",
        "\n",
        "    Retained IDs (encounter_id, patient_nbr) for reference and tracking.\n",
        "    \n",
        "\n",
        "5. **Feature Selection**\n",
        "    \n",
        "    We used three methods to select the most predictive features:\n",
        "\n",
        "    ANOVA F-value: Statistical test to identify features most correlated with readmission.\n",
        "\n",
        "    Random Forest Feature Importance: Used to rank features based on their contribution to prediction.\n",
        "\n",
        "    Recursive Feature Elimination (RFE): Wrapper method to iteratively select the most relevant features.\n",
        "\n",
        "6. **Top 20 features selected (appeared in at least 2 methods):t**\n",
        "    encounter_id\n",
        "\n",
        "    patient_nbr\n",
        "\n",
        "    time_in_hospital\n",
        "\n",
        "    num_lab_procedures\n",
        "\n",
        "    num_procedures\n",
        "\n",
        "    num_medications\n",
        "\n",
        "    number_diagnoses\n",
        "\n",
        "    race_Caucasian\n",
        "\n",
        "    gender_Female\n",
        "\n",
        "    gender_Male\n",
        "\n",
        "    payer_code_MC\n",
        "\n",
        "    metformin_No\n",
        "\n",
        "    glipizide_No\n",
        "\n",
        "    insulin_Steady\n",
        "\n",
        "    change_Ch\n",
        "\n",
        "    admission_type_Emergency\n",
        "\n",
        "    admission_type_Urgent\n",
        "\n",
        "    age_group_3cat_older\n",
        "\n",
        "    diagnosis_grouped_Circulatory\n",
        "\n",
        "    VisitType_novisit\n",
        "\n",
        "7. **Feature Scaling**\n",
        "    \n",
        "    Final selected features were standardized to ensure compatibility across machine learning models.\n",
        "\n",
        "\n",
        "The final feature set includes a mix of demographic, medical, temporal, and interaction features that show strong predictive power for hospital readmissions."
      ]
    }
  ],
  "metadata": {
    "kernelspec": {
      "display_name": "Python 3",
      "language": "python",
      "name": "python3"
    },
    "language_info": {
      "codemirror_mode": {
        "name": "ipython",
        "version": 3
      },
      "file_extension": ".py",
      "mimetype": "text/x-python",
      "name": "python",
      "nbconvert_exporter": "python",
      "pygments_lexer": "ipython3",
      "version": "3.8.10"
    },
    "colab": {
      "provenance": []
    }
  },
  "nbformat": 4,
  "nbformat_minor": 0
}