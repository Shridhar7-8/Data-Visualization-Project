{
  "cells": [
    {
      "cell_type": "markdown",
      "metadata": {
        "id": "hrDOIMiMZNCC"
      },
      "source": [
        "# **Hospital Readmission Prediction - Feature Engineering**\n",
        "\n",
        "This notebook focuses on feature engineering for the hospital readmission prediction model. We'll transform raw features into more informative ones and prepare the data for modeling."
      ]
    },
    {
      "cell_type": "code",
      "execution_count": 290,
      "metadata": {
        "id": "_-OU6-2YZNCE"
      },
      "outputs": [],
      "source": [
        "import pandas as pd\n",
        "import numpy as np\n",
        "import matplotlib.pyplot as plt\n",
        "import seaborn as sns\n",
        "from sklearn.preprocessing import StandardScaler\n",
        "from sklearn.feature_selection import SelectKBest, f_classif, RFE\n",
        "from sklearn.ensemble import RandomForestClassifier\n",
        "import warnings\n",
        "plt.style.use('seaborn-v0_8-whitegrid')\n",
        "sns.set_palette('Set2')\n",
        "pd.set_option('display.max_columns', None)\n",
        "pd.set_option('display.width', 1000)\n",
        "warnings.filterwarnings('ignore')"
      ]
    },
    {
      "cell_type": "markdown",
      "metadata": {
        "id": "dHQMcGJAZNCF"
      },
      "source": [
        "## 1. **Load the Data**"
      ]
    },
    {
      "cell_type": "code",
      "execution_count": 291,
      "metadata": {
        "id": "lQACXwpWZNCF",
        "colab": {
          "base_uri": "https://localhost:8080/",
          "height": 347
        },
        "outputId": "23a17426-29e6-432d-e087-55bd75567f2b"
      },
      "outputs": [
        {
          "output_type": "stream",
          "name": "stdout",
          "text": [
            "Dataset shape: (101766, 50)\n"
          ]
        },
        {
          "output_type": "execute_result",
          "data": {
            "text/plain": [
              "   encounter_id  patient_nbr             race  gender      age weight  admission_type_id  discharge_disposition_id  admission_source_id  time_in_hospital payer_code         medical_specialty  num_lab_procedures  num_procedures  num_medications  number_outpatient  number_emergency  number_inpatient  diag_1  diag_2 diag_3  number_diagnoses max_glu_serum A1Cresult metformin repaglinide nateglinide chlorpropamide glimepiride acetohexamide glipizide glyburide tolbutamide pioglitazone rosiglitazone acarbose miglitol troglitazone tolazamide examide citoglipton insulin glyburide-metformin glipizide-metformin glimepiride-pioglitazone metformin-rosiglitazone metformin-pioglitazone change diabetesMed readmitted\n",
              "0       2278392      8222157        Caucasian  Female   [0-10)      ?                  6                        25                    1                 1          ?  Pediatrics-Endocrinology                  41               0                1                  0                 0                 0  250.83       ?      ?                 1           NaN       NaN        No          No          No             No          No            No        No        No          No           No            No       No       No           No         No      No          No      No                  No                  No                       No                      No                     No     No          No         NO\n",
              "1        149190     55629189        Caucasian  Female  [10-20)      ?                  1                         1                    7                 3          ?                         ?                  59               0               18                  0                 0                 0     276  250.01    255                 9           NaN       NaN        No          No          No             No          No            No        No        No          No           No            No       No       No           No         No      No          No      Up                  No                  No                       No                      No                     No     Ch         Yes        >30\n",
              "2         64410     86047875  AfricanAmerican  Female  [20-30)      ?                  1                         1                    7                 2          ?                         ?                  11               5               13                  2                 0                 1     648     250    V27                 6           NaN       NaN        No          No          No             No          No            No    Steady        No          No           No            No       No       No           No         No      No          No      No                  No                  No                       No                      No                     No     No         Yes         NO\n",
              "3        500364     82442376        Caucasian    Male  [30-40)      ?                  1                         1                    7                 2          ?                         ?                  44               1               16                  0                 0                 0       8  250.43    403                 7           NaN       NaN        No          No          No             No          No            No        No        No          No           No            No       No       No           No         No      No          No      Up                  No                  No                       No                      No                     No     Ch         Yes         NO\n",
              "4         16680     42519267        Caucasian    Male  [40-50)      ?                  1                         1                    7                 1          ?                         ?                  51               0                8                  0                 0                 0     197     157    250                 5           NaN       NaN        No          No          No             No          No            No    Steady        No          No           No            No       No       No           No         No      No          No  Steady                  No                  No                       No                      No                     No     Ch         Yes         NO"
            ],
            "text/html": [
              "\n",
              "  <div id=\"df-b65bd05e-6fbf-4d13-b8fd-6a6edc941b81\" class=\"colab-df-container\">\n",
              "    <div>\n",
              "<style scoped>\n",
              "    .dataframe tbody tr th:only-of-type {\n",
              "        vertical-align: middle;\n",
              "    }\n",
              "\n",
              "    .dataframe tbody tr th {\n",
              "        vertical-align: top;\n",
              "    }\n",
              "\n",
              "    .dataframe thead th {\n",
              "        text-align: right;\n",
              "    }\n",
              "</style>\n",
              "<table border=\"1\" class=\"dataframe\">\n",
              "  <thead>\n",
              "    <tr style=\"text-align: right;\">\n",
              "      <th></th>\n",
              "      <th>encounter_id</th>\n",
              "      <th>patient_nbr</th>\n",
              "      <th>race</th>\n",
              "      <th>gender</th>\n",
              "      <th>age</th>\n",
              "      <th>weight</th>\n",
              "      <th>admission_type_id</th>\n",
              "      <th>discharge_disposition_id</th>\n",
              "      <th>admission_source_id</th>\n",
              "      <th>time_in_hospital</th>\n",
              "      <th>payer_code</th>\n",
              "      <th>medical_specialty</th>\n",
              "      <th>num_lab_procedures</th>\n",
              "      <th>num_procedures</th>\n",
              "      <th>num_medications</th>\n",
              "      <th>number_outpatient</th>\n",
              "      <th>number_emergency</th>\n",
              "      <th>number_inpatient</th>\n",
              "      <th>diag_1</th>\n",
              "      <th>diag_2</th>\n",
              "      <th>diag_3</th>\n",
              "      <th>number_diagnoses</th>\n",
              "      <th>max_glu_serum</th>\n",
              "      <th>A1Cresult</th>\n",
              "      <th>metformin</th>\n",
              "      <th>repaglinide</th>\n",
              "      <th>nateglinide</th>\n",
              "      <th>chlorpropamide</th>\n",
              "      <th>glimepiride</th>\n",
              "      <th>acetohexamide</th>\n",
              "      <th>glipizide</th>\n",
              "      <th>glyburide</th>\n",
              "      <th>tolbutamide</th>\n",
              "      <th>pioglitazone</th>\n",
              "      <th>rosiglitazone</th>\n",
              "      <th>acarbose</th>\n",
              "      <th>miglitol</th>\n",
              "      <th>troglitazone</th>\n",
              "      <th>tolazamide</th>\n",
              "      <th>examide</th>\n",
              "      <th>citoglipton</th>\n",
              "      <th>insulin</th>\n",
              "      <th>glyburide-metformin</th>\n",
              "      <th>glipizide-metformin</th>\n",
              "      <th>glimepiride-pioglitazone</th>\n",
              "      <th>metformin-rosiglitazone</th>\n",
              "      <th>metformin-pioglitazone</th>\n",
              "      <th>change</th>\n",
              "      <th>diabetesMed</th>\n",
              "      <th>readmitted</th>\n",
              "    </tr>\n",
              "  </thead>\n",
              "  <tbody>\n",
              "    <tr>\n",
              "      <th>0</th>\n",
              "      <td>2278392</td>\n",
              "      <td>8222157</td>\n",
              "      <td>Caucasian</td>\n",
              "      <td>Female</td>\n",
              "      <td>[0-10)</td>\n",
              "      <td>?</td>\n",
              "      <td>6</td>\n",
              "      <td>25</td>\n",
              "      <td>1</td>\n",
              "      <td>1</td>\n",
              "      <td>?</td>\n",
              "      <td>Pediatrics-Endocrinology</td>\n",
              "      <td>41</td>\n",
              "      <td>0</td>\n",
              "      <td>1</td>\n",
              "      <td>0</td>\n",
              "      <td>0</td>\n",
              "      <td>0</td>\n",
              "      <td>250.83</td>\n",
              "      <td>?</td>\n",
              "      <td>?</td>\n",
              "      <td>1</td>\n",
              "      <td>NaN</td>\n",
              "      <td>NaN</td>\n",
              "      <td>No</td>\n",
              "      <td>No</td>\n",
              "      <td>No</td>\n",
              "      <td>No</td>\n",
              "      <td>No</td>\n",
              "      <td>No</td>\n",
              "      <td>No</td>\n",
              "      <td>No</td>\n",
              "      <td>No</td>\n",
              "      <td>No</td>\n",
              "      <td>No</td>\n",
              "      <td>No</td>\n",
              "      <td>No</td>\n",
              "      <td>No</td>\n",
              "      <td>No</td>\n",
              "      <td>No</td>\n",
              "      <td>No</td>\n",
              "      <td>No</td>\n",
              "      <td>No</td>\n",
              "      <td>No</td>\n",
              "      <td>No</td>\n",
              "      <td>No</td>\n",
              "      <td>No</td>\n",
              "      <td>No</td>\n",
              "      <td>No</td>\n",
              "      <td>NO</td>\n",
              "    </tr>\n",
              "    <tr>\n",
              "      <th>1</th>\n",
              "      <td>149190</td>\n",
              "      <td>55629189</td>\n",
              "      <td>Caucasian</td>\n",
              "      <td>Female</td>\n",
              "      <td>[10-20)</td>\n",
              "      <td>?</td>\n",
              "      <td>1</td>\n",
              "      <td>1</td>\n",
              "      <td>7</td>\n",
              "      <td>3</td>\n",
              "      <td>?</td>\n",
              "      <td>?</td>\n",
              "      <td>59</td>\n",
              "      <td>0</td>\n",
              "      <td>18</td>\n",
              "      <td>0</td>\n",
              "      <td>0</td>\n",
              "      <td>0</td>\n",
              "      <td>276</td>\n",
              "      <td>250.01</td>\n",
              "      <td>255</td>\n",
              "      <td>9</td>\n",
              "      <td>NaN</td>\n",
              "      <td>NaN</td>\n",
              "      <td>No</td>\n",
              "      <td>No</td>\n",
              "      <td>No</td>\n",
              "      <td>No</td>\n",
              "      <td>No</td>\n",
              "      <td>No</td>\n",
              "      <td>No</td>\n",
              "      <td>No</td>\n",
              "      <td>No</td>\n",
              "      <td>No</td>\n",
              "      <td>No</td>\n",
              "      <td>No</td>\n",
              "      <td>No</td>\n",
              "      <td>No</td>\n",
              "      <td>No</td>\n",
              "      <td>No</td>\n",
              "      <td>No</td>\n",
              "      <td>Up</td>\n",
              "      <td>No</td>\n",
              "      <td>No</td>\n",
              "      <td>No</td>\n",
              "      <td>No</td>\n",
              "      <td>No</td>\n",
              "      <td>Ch</td>\n",
              "      <td>Yes</td>\n",
              "      <td>&gt;30</td>\n",
              "    </tr>\n",
              "    <tr>\n",
              "      <th>2</th>\n",
              "      <td>64410</td>\n",
              "      <td>86047875</td>\n",
              "      <td>AfricanAmerican</td>\n",
              "      <td>Female</td>\n",
              "      <td>[20-30)</td>\n",
              "      <td>?</td>\n",
              "      <td>1</td>\n",
              "      <td>1</td>\n",
              "      <td>7</td>\n",
              "      <td>2</td>\n",
              "      <td>?</td>\n",
              "      <td>?</td>\n",
              "      <td>11</td>\n",
              "      <td>5</td>\n",
              "      <td>13</td>\n",
              "      <td>2</td>\n",
              "      <td>0</td>\n",
              "      <td>1</td>\n",
              "      <td>648</td>\n",
              "      <td>250</td>\n",
              "      <td>V27</td>\n",
              "      <td>6</td>\n",
              "      <td>NaN</td>\n",
              "      <td>NaN</td>\n",
              "      <td>No</td>\n",
              "      <td>No</td>\n",
              "      <td>No</td>\n",
              "      <td>No</td>\n",
              "      <td>No</td>\n",
              "      <td>No</td>\n",
              "      <td>Steady</td>\n",
              "      <td>No</td>\n",
              "      <td>No</td>\n",
              "      <td>No</td>\n",
              "      <td>No</td>\n",
              "      <td>No</td>\n",
              "      <td>No</td>\n",
              "      <td>No</td>\n",
              "      <td>No</td>\n",
              "      <td>No</td>\n",
              "      <td>No</td>\n",
              "      <td>No</td>\n",
              "      <td>No</td>\n",
              "      <td>No</td>\n",
              "      <td>No</td>\n",
              "      <td>No</td>\n",
              "      <td>No</td>\n",
              "      <td>No</td>\n",
              "      <td>Yes</td>\n",
              "      <td>NO</td>\n",
              "    </tr>\n",
              "    <tr>\n",
              "      <th>3</th>\n",
              "      <td>500364</td>\n",
              "      <td>82442376</td>\n",
              "      <td>Caucasian</td>\n",
              "      <td>Male</td>\n",
              "      <td>[30-40)</td>\n",
              "      <td>?</td>\n",
              "      <td>1</td>\n",
              "      <td>1</td>\n",
              "      <td>7</td>\n",
              "      <td>2</td>\n",
              "      <td>?</td>\n",
              "      <td>?</td>\n",
              "      <td>44</td>\n",
              "      <td>1</td>\n",
              "      <td>16</td>\n",
              "      <td>0</td>\n",
              "      <td>0</td>\n",
              "      <td>0</td>\n",
              "      <td>8</td>\n",
              "      <td>250.43</td>\n",
              "      <td>403</td>\n",
              "      <td>7</td>\n",
              "      <td>NaN</td>\n",
              "      <td>NaN</td>\n",
              "      <td>No</td>\n",
              "      <td>No</td>\n",
              "      <td>No</td>\n",
              "      <td>No</td>\n",
              "      <td>No</td>\n",
              "      <td>No</td>\n",
              "      <td>No</td>\n",
              "      <td>No</td>\n",
              "      <td>No</td>\n",
              "      <td>No</td>\n",
              "      <td>No</td>\n",
              "      <td>No</td>\n",
              "      <td>No</td>\n",
              "      <td>No</td>\n",
              "      <td>No</td>\n",
              "      <td>No</td>\n",
              "      <td>No</td>\n",
              "      <td>Up</td>\n",
              "      <td>No</td>\n",
              "      <td>No</td>\n",
              "      <td>No</td>\n",
              "      <td>No</td>\n",
              "      <td>No</td>\n",
              "      <td>Ch</td>\n",
              "      <td>Yes</td>\n",
              "      <td>NO</td>\n",
              "    </tr>\n",
              "    <tr>\n",
              "      <th>4</th>\n",
              "      <td>16680</td>\n",
              "      <td>42519267</td>\n",
              "      <td>Caucasian</td>\n",
              "      <td>Male</td>\n",
              "      <td>[40-50)</td>\n",
              "      <td>?</td>\n",
              "      <td>1</td>\n",
              "      <td>1</td>\n",
              "      <td>7</td>\n",
              "      <td>1</td>\n",
              "      <td>?</td>\n",
              "      <td>?</td>\n",
              "      <td>51</td>\n",
              "      <td>0</td>\n",
              "      <td>8</td>\n",
              "      <td>0</td>\n",
              "      <td>0</td>\n",
              "      <td>0</td>\n",
              "      <td>197</td>\n",
              "      <td>157</td>\n",
              "      <td>250</td>\n",
              "      <td>5</td>\n",
              "      <td>NaN</td>\n",
              "      <td>NaN</td>\n",
              "      <td>No</td>\n",
              "      <td>No</td>\n",
              "      <td>No</td>\n",
              "      <td>No</td>\n",
              "      <td>No</td>\n",
              "      <td>No</td>\n",
              "      <td>Steady</td>\n",
              "      <td>No</td>\n",
              "      <td>No</td>\n",
              "      <td>No</td>\n",
              "      <td>No</td>\n",
              "      <td>No</td>\n",
              "      <td>No</td>\n",
              "      <td>No</td>\n",
              "      <td>No</td>\n",
              "      <td>No</td>\n",
              "      <td>No</td>\n",
              "      <td>Steady</td>\n",
              "      <td>No</td>\n",
              "      <td>No</td>\n",
              "      <td>No</td>\n",
              "      <td>No</td>\n",
              "      <td>No</td>\n",
              "      <td>Ch</td>\n",
              "      <td>Yes</td>\n",
              "      <td>NO</td>\n",
              "    </tr>\n",
              "  </tbody>\n",
              "</table>\n",
              "</div>\n",
              "    <div class=\"colab-df-buttons\">\n",
              "\n",
              "  <div class=\"colab-df-container\">\n",
              "    <button class=\"colab-df-convert\" onclick=\"convertToInteractive('df-b65bd05e-6fbf-4d13-b8fd-6a6edc941b81')\"\n",
              "            title=\"Convert this dataframe to an interactive table.\"\n",
              "            style=\"display:none;\">\n",
              "\n",
              "  <svg xmlns=\"http://www.w3.org/2000/svg\" height=\"24px\" viewBox=\"0 -960 960 960\">\n",
              "    <path d=\"M120-120v-720h720v720H120Zm60-500h600v-160H180v160Zm220 220h160v-160H400v160Zm0 220h160v-160H400v160ZM180-400h160v-160H180v160Zm440 0h160v-160H620v160ZM180-180h160v-160H180v160Zm440 0h160v-160H620v160Z\"/>\n",
              "  </svg>\n",
              "    </button>\n",
              "\n",
              "  <style>\n",
              "    .colab-df-container {\n",
              "      display:flex;\n",
              "      gap: 12px;\n",
              "    }\n",
              "\n",
              "    .colab-df-convert {\n",
              "      background-color: #E8F0FE;\n",
              "      border: none;\n",
              "      border-radius: 50%;\n",
              "      cursor: pointer;\n",
              "      display: none;\n",
              "      fill: #1967D2;\n",
              "      height: 32px;\n",
              "      padding: 0 0 0 0;\n",
              "      width: 32px;\n",
              "    }\n",
              "\n",
              "    .colab-df-convert:hover {\n",
              "      background-color: #E2EBFA;\n",
              "      box-shadow: 0px 1px 2px rgba(60, 64, 67, 0.3), 0px 1px 3px 1px rgba(60, 64, 67, 0.15);\n",
              "      fill: #174EA6;\n",
              "    }\n",
              "\n",
              "    .colab-df-buttons div {\n",
              "      margin-bottom: 4px;\n",
              "    }\n",
              "\n",
              "    [theme=dark] .colab-df-convert {\n",
              "      background-color: #3B4455;\n",
              "      fill: #D2E3FC;\n",
              "    }\n",
              "\n",
              "    [theme=dark] .colab-df-convert:hover {\n",
              "      background-color: #434B5C;\n",
              "      box-shadow: 0px 1px 3px 1px rgba(0, 0, 0, 0.15);\n",
              "      filter: drop-shadow(0px 1px 2px rgba(0, 0, 0, 0.3));\n",
              "      fill: #FFFFFF;\n",
              "    }\n",
              "  </style>\n",
              "\n",
              "    <script>\n",
              "      const buttonEl =\n",
              "        document.querySelector('#df-b65bd05e-6fbf-4d13-b8fd-6a6edc941b81 button.colab-df-convert');\n",
              "      buttonEl.style.display =\n",
              "        google.colab.kernel.accessAllowed ? 'block' : 'none';\n",
              "\n",
              "      async function convertToInteractive(key) {\n",
              "        const element = document.querySelector('#df-b65bd05e-6fbf-4d13-b8fd-6a6edc941b81');\n",
              "        const dataTable =\n",
              "          await google.colab.kernel.invokeFunction('convertToInteractive',\n",
              "                                                    [key], {});\n",
              "        if (!dataTable) return;\n",
              "\n",
              "        const docLinkHtml = 'Like what you see? Visit the ' +\n",
              "          '<a target=\"_blank\" href=https://colab.research.google.com/notebooks/data_table.ipynb>data table notebook</a>'\n",
              "          + ' to learn more about interactive tables.';\n",
              "        element.innerHTML = '';\n",
              "        dataTable['output_type'] = 'display_data';\n",
              "        await google.colab.output.renderOutput(dataTable, element);\n",
              "        const docLink = document.createElement('div');\n",
              "        docLink.innerHTML = docLinkHtml;\n",
              "        element.appendChild(docLink);\n",
              "      }\n",
              "    </script>\n",
              "  </div>\n",
              "\n",
              "\n",
              "<div id=\"df-8063a909-5fa3-484e-b26c-6d2b4d5ebe26\">\n",
              "  <button class=\"colab-df-quickchart\" onclick=\"quickchart('df-8063a909-5fa3-484e-b26c-6d2b4d5ebe26')\"\n",
              "            title=\"Suggest charts\"\n",
              "            style=\"display:none;\">\n",
              "\n",
              "<svg xmlns=\"http://www.w3.org/2000/svg\" height=\"24px\"viewBox=\"0 0 24 24\"\n",
              "     width=\"24px\">\n",
              "    <g>\n",
              "        <path d=\"M19 3H5c-1.1 0-2 .9-2 2v14c0 1.1.9 2 2 2h14c1.1 0 2-.9 2-2V5c0-1.1-.9-2-2-2zM9 17H7v-7h2v7zm4 0h-2V7h2v10zm4 0h-2v-4h2v4z\"/>\n",
              "    </g>\n",
              "</svg>\n",
              "  </button>\n",
              "\n",
              "<style>\n",
              "  .colab-df-quickchart {\n",
              "      --bg-color: #E8F0FE;\n",
              "      --fill-color: #1967D2;\n",
              "      --hover-bg-color: #E2EBFA;\n",
              "      --hover-fill-color: #174EA6;\n",
              "      --disabled-fill-color: #AAA;\n",
              "      --disabled-bg-color: #DDD;\n",
              "  }\n",
              "\n",
              "  [theme=dark] .colab-df-quickchart {\n",
              "      --bg-color: #3B4455;\n",
              "      --fill-color: #D2E3FC;\n",
              "      --hover-bg-color: #434B5C;\n",
              "      --hover-fill-color: #FFFFFF;\n",
              "      --disabled-bg-color: #3B4455;\n",
              "      --disabled-fill-color: #666;\n",
              "  }\n",
              "\n",
              "  .colab-df-quickchart {\n",
              "    background-color: var(--bg-color);\n",
              "    border: none;\n",
              "    border-radius: 50%;\n",
              "    cursor: pointer;\n",
              "    display: none;\n",
              "    fill: var(--fill-color);\n",
              "    height: 32px;\n",
              "    padding: 0;\n",
              "    width: 32px;\n",
              "  }\n",
              "\n",
              "  .colab-df-quickchart:hover {\n",
              "    background-color: var(--hover-bg-color);\n",
              "    box-shadow: 0 1px 2px rgba(60, 64, 67, 0.3), 0 1px 3px 1px rgba(60, 64, 67, 0.15);\n",
              "    fill: var(--button-hover-fill-color);\n",
              "  }\n",
              "\n",
              "  .colab-df-quickchart-complete:disabled,\n",
              "  .colab-df-quickchart-complete:disabled:hover {\n",
              "    background-color: var(--disabled-bg-color);\n",
              "    fill: var(--disabled-fill-color);\n",
              "    box-shadow: none;\n",
              "  }\n",
              "\n",
              "  .colab-df-spinner {\n",
              "    border: 2px solid var(--fill-color);\n",
              "    border-color: transparent;\n",
              "    border-bottom-color: var(--fill-color);\n",
              "    animation:\n",
              "      spin 1s steps(1) infinite;\n",
              "  }\n",
              "\n",
              "  @keyframes spin {\n",
              "    0% {\n",
              "      border-color: transparent;\n",
              "      border-bottom-color: var(--fill-color);\n",
              "      border-left-color: var(--fill-color);\n",
              "    }\n",
              "    20% {\n",
              "      border-color: transparent;\n",
              "      border-left-color: var(--fill-color);\n",
              "      border-top-color: var(--fill-color);\n",
              "    }\n",
              "    30% {\n",
              "      border-color: transparent;\n",
              "      border-left-color: var(--fill-color);\n",
              "      border-top-color: var(--fill-color);\n",
              "      border-right-color: var(--fill-color);\n",
              "    }\n",
              "    40% {\n",
              "      border-color: transparent;\n",
              "      border-right-color: var(--fill-color);\n",
              "      border-top-color: var(--fill-color);\n",
              "    }\n",
              "    60% {\n",
              "      border-color: transparent;\n",
              "      border-right-color: var(--fill-color);\n",
              "    }\n",
              "    80% {\n",
              "      border-color: transparent;\n",
              "      border-right-color: var(--fill-color);\n",
              "      border-bottom-color: var(--fill-color);\n",
              "    }\n",
              "    90% {\n",
              "      border-color: transparent;\n",
              "      border-bottom-color: var(--fill-color);\n",
              "    }\n",
              "  }\n",
              "</style>\n",
              "\n",
              "  <script>\n",
              "    async function quickchart(key) {\n",
              "      const quickchartButtonEl =\n",
              "        document.querySelector('#' + key + ' button');\n",
              "      quickchartButtonEl.disabled = true;  // To prevent multiple clicks.\n",
              "      quickchartButtonEl.classList.add('colab-df-spinner');\n",
              "      try {\n",
              "        const charts = await google.colab.kernel.invokeFunction(\n",
              "            'suggestCharts', [key], {});\n",
              "      } catch (error) {\n",
              "        console.error('Error during call to suggestCharts:', error);\n",
              "      }\n",
              "      quickchartButtonEl.classList.remove('colab-df-spinner');\n",
              "      quickchartButtonEl.classList.add('colab-df-quickchart-complete');\n",
              "    }\n",
              "    (() => {\n",
              "      let quickchartButtonEl =\n",
              "        document.querySelector('#df-8063a909-5fa3-484e-b26c-6d2b4d5ebe26 button');\n",
              "      quickchartButtonEl.style.display =\n",
              "        google.colab.kernel.accessAllowed ? 'block' : 'none';\n",
              "    })();\n",
              "  </script>\n",
              "</div>\n",
              "\n",
              "    </div>\n",
              "  </div>\n"
            ],
            "application/vnd.google.colaboratory.intrinsic+json": {
              "type": "dataframe",
              "variable_name": "data"
            }
          },
          "metadata": {},
          "execution_count": 291
        }
      ],
      "source": [
        "data = pd.read_csv('diabetic_data.csv')\n",
        "print(f\"Dataset shape: {data.shape}\")\n",
        "data.head()"
      ]
    },
    {
      "cell_type": "markdown",
      "metadata": {
        "id": "DR_VhZrJZNCG"
      },
      "source": [
        "# 2. **Basic Preprocessing**"
      ]
    },
    {
      "cell_type": "code",
      "source": [
        "print(f\"Dataset shape: {data.shape}\")"
      ],
      "metadata": {
        "colab": {
          "base_uri": "https://localhost:8080/"
        },
        "id": "we9I_Eb8yFqd",
        "outputId": "5b567879-5029-4133-c05e-6b59e2079e07"
      },
      "execution_count": 292,
      "outputs": [
        {
          "output_type": "stream",
          "name": "stdout",
          "text": [
            "Dataset shape: (101766, 50)\n"
          ]
        }
      ]
    },
    {
      "cell_type": "code",
      "source": [
        "data['encounter_count'] = data.groupby('patient_nbr')['encounter_id'].transform('count')\n"
      ],
      "metadata": {
        "id": "4cPxcf78bNG0"
      },
      "execution_count": 293,
      "outputs": []
    },
    {
      "cell_type": "markdown",
      "source": [
        "##Removed columns with over 40% missing data.\n",
        "\n",
        "---\n",
        "\n"
      ],
      "metadata": {
        "id": "bid4hypbEn_3"
      }
    },
    {
      "cell_type": "code",
      "source": [],
      "metadata": {
        "id": "1ASo06KZPZbB"
      },
      "execution_count": 293,
      "outputs": []
    },
    {
      "cell_type": "code",
      "execution_count": 294,
      "metadata": {
        "id": "FNPvdEPYZNCG",
        "colab": {
          "base_uri": "https://localhost:8080/"
        },
        "outputId": "332de818-bb87-4471-d052-cd688b04bfdc"
      },
      "outputs": [
        {
          "output_type": "stream",
          "name": "stdout",
          "text": [
            "Columns with more than 40% missing values:\n",
            "['weight', 'medical_specialty', 'max_glu_serum', 'A1Cresult']\n"
          ]
        }
      ],
      "source": [
        "import numpy as np\n",
        "import pandas as pd\n",
        "data = data.replace('?', np.nan)\n",
        "missing_threshold = 0.4\n",
        "high_missing = data.columns[data.isnull().mean() > missing_threshold]\n",
        "print(\"Columns with more than 40% missing values:\")\n",
        "print(high_missing.tolist())\n",
        "data.drop(columns=high_missing, inplace=True)"
      ]
    },
    {
      "cell_type": "code",
      "source": [
        "print(f\"Dataset shape: {data.shape}\")"
      ],
      "metadata": {
        "colab": {
          "base_uri": "https://localhost:8080/"
        },
        "id": "3I97FSc3y1cE",
        "outputId": "812a2ab7-f695-4581-b4ec-97c68c6919f2"
      },
      "execution_count": 295,
      "outputs": [
        {
          "output_type": "stream",
          "name": "stdout",
          "text": [
            "Dataset shape: (101766, 47)\n"
          ]
        }
      ]
    },
    {
      "cell_type": "code",
      "source": [
        "missing_count = data.isna().sum()\n",
        "missing_percent = (data.isna().mean() * 100).round(2)\n",
        "missing_info = pd.DataFrame({\n",
        "    'Missing Count': missing_count,\n",
        "    'Missing %': missing_percent\n",
        "})\n",
        "missing_info = missing_info[missing_info['Missing Count'] > 0].sort_values(by='Missing Count', ascending=False)\n",
        "print(missing_info)"
      ],
      "metadata": {
        "id": "eZtCIaJvvS6g",
        "colab": {
          "base_uri": "https://localhost:8080/"
        },
        "outputId": "2d347c61-b58e-4c79-9245-6797d660a449"
      },
      "execution_count": 296,
      "outputs": [
        {
          "output_type": "stream",
          "name": "stdout",
          "text": [
            "            Missing Count  Missing %\n",
            "payer_code          40256      39.56\n",
            "race                 2273       2.23\n",
            "diag_3               1423       1.40\n",
            "diag_2                358       0.35\n",
            "diag_1                 21       0.02\n"
          ]
        }
      ]
    },
    {
      "cell_type": "markdown",
      "source": [
        "##Missing values in the 'payer_code' and 'race' columns have been imputed using the mode."
      ],
      "metadata": {
        "id": "xHz3ULCLEzLe"
      }
    },
    {
      "cell_type": "code",
      "source": [
        "for col in ['payer_code', 'race']:\n",
        "    mode_val = data[col].mode()[0]\n",
        "    data[col] = data[col].fillna(mode_val)"
      ],
      "metadata": {
        "id": "yydBy2sKv1eH"
      },
      "execution_count": 297,
      "outputs": []
    },
    {
      "cell_type": "code",
      "source": [
        "cols = ['diag_1', 'diag_2', 'diag_3']\n",
        "total_nans = data[cols].isna().sum().sum()\n",
        "print(\"Total NaN values in diag_1, diag_2, and diag_3:\", total_nans)"
      ],
      "metadata": {
        "colab": {
          "base_uri": "https://localhost:8080/"
        },
        "id": "VF2lWkIG8hIg",
        "outputId": "6c620c60-81db-400a-cd3c-9a8457ccfd37"
      },
      "execution_count": 298,
      "outputs": [
        {
          "output_type": "stream",
          "name": "stdout",
          "text": [
            "Total NaN values in diag_1, diag_2, and diag_3: 1802\n"
          ]
        }
      ]
    },
    {
      "cell_type": "markdown",
      "source": [
        "##Missing values in the three diagnosis columns were imputed with '00'."
      ],
      "metadata": {
        "id": "Oevi58_jFCog"
      }
    },
    {
      "cell_type": "markdown",
      "source": [],
      "metadata": {
        "id": "UPpO_9LNUi6v"
      }
    },
    {
      "cell_type": "code",
      "source": [
        "cols = ['diag_1', 'diag_2', 'diag_3']\n",
        "data[cols] = data[cols].fillna('Unknown')"
      ],
      "metadata": {
        "id": "wMCs8TuJ1t2P"
      },
      "execution_count": 299,
      "outputs": []
    },
    {
      "cell_type": "code",
      "source": [
        "cols = ['diag_1', 'diag_2', 'diag_3']\n",
        "total_nans = data[cols].isna().sum().sum()\n",
        "print(\"Total NaN values in diag_1, diag_2, and diag_3:\", total_nans)"
      ],
      "metadata": {
        "colab": {
          "base_uri": "https://localhost:8080/"
        },
        "id": "OvLZJtPu_0mc",
        "outputId": "6d0f0cc0-f949-411f-8313-3df3b5b93644"
      },
      "execution_count": 300,
      "outputs": [
        {
          "output_type": "stream",
          "name": "stdout",
          "text": [
            "Total NaN values in diag_1, diag_2, and diag_3: 0\n"
          ]
        }
      ]
    },
    {
      "cell_type": "markdown",
      "source": [
        "# 3. **Feature Engineering**"
      ],
      "metadata": {
        "id": "EKvsv4RcFO_Z"
      }
    },
    {
      "cell_type": "markdown",
      "source": [
        "##Created a 'VisitType' feature by classifying visit patterns from inpatient, outpatient, and emergency columns. Dropped original columns after transformation."
      ],
      "metadata": {
        "id": "RCTgxw_kcN1w"
      }
    },
    {
      "cell_type": "code",
      "execution_count": 301,
      "metadata": {
        "id": "Vaby9ALCZNCH"
      },
      "outputs": [],
      "source": [
        "# import pandas as pd\n",
        "# def classify_visit(row):\n",
        "#     inpatient = row['number_inpatient']\n",
        "#     outpatient = row['number_outpatient']\n",
        "#     emergency = row['number_emergency']\n",
        "\n",
        "#     if emergency > 0:\n",
        "#         return 'emergency'\n",
        "#     elif inpatient > 10:\n",
        "#         return 'high_inpatient'\n",
        "#     elif inpatient > 0:\n",
        "#         return 'low_inpatient'\n",
        "#     elif outpatient >= 19:\n",
        "#         return 'high_outpatient_rate'\n",
        "#     elif outpatient > 0:\n",
        "#         return 'low_outpatient_rate'\n",
        "#     else:\n",
        "#         return 'novisit'\n",
        "# data['VisitType'] = data.apply(classify_visit, axis=1)\n",
        "# data.drop(['number_inpatient', 'number_outpatient', 'number_emergency'], axis=1, inplace=True)"
      ]
    },
    {
      "cell_type": "markdown",
      "source": [
        "**This code maps numeric admission_type_id values to readable category labels (like 'Emergency', 'Elective', etc.) using a dictionary, creates a new column admission_type with these labels, and then drops the original admission_type_id column.**"
      ],
      "metadata": {
        "id": "qfZKvYdgFSVq"
      }
    },
    {
      "cell_type": "markdown",
      "source": [],
      "metadata": {
        "id": "oZxRM7JgbVEJ"
      }
    },
    {
      "cell_type": "code",
      "source": [
        "# Map admission_type_id to descriptive labels\n",
        "admission_type_map = {\n",
        "    1: 'Emergency',\n",
        "    2: 'Urgent',\n",
        "    3: 'Elective',\n",
        "    4: 'Newborn',\n",
        "    5: 'Unknown',  # Previously 'Not Available'\n",
        "    6: 'Unknown',  # Previously 'NULL'\n",
        "    7: 'Trauma Center',\n",
        "    8: 'Unknown'   # Previously 'Not Mapped'\n",
        "}\n",
        "\n",
        "# Apply mapping and drop original column\n",
        "data['admission_type'] = data['admission_type_id'].map(admission_type_map)\n",
        "data.drop(columns=['admission_type_id'], inplace=True)\n"
      ],
      "metadata": {
        "id": "dCJ-n5ekwbxM"
      },
      "execution_count": 302,
      "outputs": []
    },
    {
      "cell_type": "code",
      "source": [
        "data['admission_group'] = data['admission_type'].map({\n",
        "    'Emergency': 'Unplanned',\n",
        "    'Urgent': 'Unplanned',\n",
        "    'Elective': 'Planned',\n",
        "    'Unknown': 'Unknown',  # includes NULL, Not Available\n",
        "})\n"
      ],
      "metadata": {
        "id": "t7JqCL33Wr_O"
      },
      "execution_count": 303,
      "outputs": []
    },
    {
      "cell_type": "markdown",
      "source": [
        "**This line creates a new column expiration_ind that flags whether a patient's discharge disposition indicates death (based on specific ID values). It assigns 1 if true (i.e., patient expired) and 0 otherwise.**"
      ],
      "metadata": {
        "id": "gBocRMTbwGAq"
      }
    },
    {
      "cell_type": "code",
      "source": [
        "data['expiration_ind'] = data['discharge_disposition_id'].isin([11,13,14,19,20,21]).astype('int')"
      ],
      "metadata": {
        "id": "Mrs9QwNZixFB"
      },
      "execution_count": 304,
      "outputs": []
    },
    {
      "cell_type": "markdown",
      "source": [
        " discharge_disposition_id column"
      ],
      "metadata": {
        "id": "bXvgtMl3Fbz7"
      }
    },
    {
      "cell_type": "markdown",
      "source": [
        "**This code maps the discharge_disposition_id values to broader categories (like 'Home', 'Transferred Hospital', etc.) using discharge_group_map, then creates a new column discharge_group with these values. It finally drops the original discharge_disposition_id column for simplification.**"
      ],
      "metadata": {
        "id": "XMj9b8chwO-Q"
      }
    },
    {
      "cell_type": "code",
      "source": [
        "discharge_group_map = {\n",
        "    1: 'Home',\n",
        "    6: 'Home',\n",
        "    8: 'Home',\n",
        "\n",
        "    3: 'SNF/ICF/Rehab',\n",
        "    4: 'SNF/ICF/Rehab',\n",
        "    22: 'SNF/ICF/Rehab',\n",
        "    23: 'SNF/ICF/Rehab',\n",
        "    24: 'SNF/ICF/Rehab',\n",
        "    15: 'SNF/ICF/Rehab',\n",
        "\n",
        "    2: 'Transferred Hospital',\n",
        "    5: 'Transferred Hospital',\n",
        "    27: 'Transferred Hospital',\n",
        "    28: 'Transferred Hospital',\n",
        "    29: 'Transferred Hospital',\n",
        "    30: 'Transferred Hospital',\n",
        "\n",
        "    12: 'Outpatient Follow-up',\n",
        "    16: 'Outpatient Follow-up',\n",
        "    17: 'Outpatient Follow-up',\n",
        "\n",
        "    9: 'Inpatient Readmit',\n",
        "    7: 'Left AMA',\n",
        "\n",
        "    18: 'Unknown/Invalid',\n",
        "    25: 'Unknown/Invalid',\n",
        "    26: 'Unknown/Invalid'\n",
        "}\n",
        "\n",
        "# Apply mapping\n",
        "data['discharge_group'] = data['discharge_disposition_id'].map(discharge_group_map)\n",
        "\n",
        "data.drop(['discharge_disposition_id'], axis=1, inplace=True)"
      ],
      "metadata": {
        "id": "6u2s15gw3U3f"
      },
      "execution_count": 305,
      "outputs": []
    },
    {
      "cell_type": "markdown",
      "source": [
        "**This code maps the admission_source_id values to descriptive labels (such as 'Physician Referral', 'Emergency Room', etc.) using the admission_source_id dictionary. It then creates a new column admission_source_grouped with these mapped values and drops the original admission_source_id column.**"
      ],
      "metadata": {
        "id": "5pYpvfcGwVg2"
      }
    },
    {
      "cell_type": "code",
      "source": [
        "admission_source_id = { 1 : 'Physician Referral'\n",
        ", 2 : 'Clinic Referral'\n",
        ", 3 : 'HMO Referral'\n",
        ", 4 : 'Transfer from a hospital'\n",
        ", 5 : 'Transfer from a Skilled Nursing Facility (SNF)'\n",
        ", 6 : 'Transfer from another health care facility'\n",
        ", 7 : 'Emergency Room'\n",
        ", 8 : 'Court/Law Enforcement'\n",
        ", 9 :  'Not Available'\n",
        ", 10 : 'Transfer from critial access hospital'\n",
        ", 11 : 'Normal Delivery'\n",
        ", 12 : 'Premature Delivery'\n",
        ", 13 : 'Sick Baby'\n",
        ", 14 : 'Extramural Birth'\n",
        ", 15 : 'Not Available'\n",
        ", 17 : 'NULL'\n",
        ", 18 : 'Transfer From Another Home Health Agency'\n",
        ", 19 : 'Readmission to Same Home Health Agency'\n",
        ", 20 : 'Not Mapped'\n",
        ", 21 : 'Unknown/Invalid'\n",
        ", 22 : 'Transfer from hospital inpt/same fac reslt in a sep claim'\n",
        ", 23 : 'Born inside this hospital'\n",
        ", 24 : 'Born outside this hospital'\n",
        ", 25 : 'Transfer from Ambulatory Surgery Center'\n",
        ", 26 : 'Transfer from Hospice'\n",
        "                      }\n",
        "# Apply mapping\n",
        "data['admission_source_grouped'] = data['admission_source_id'].map(admission_source_id)\n",
        "data.drop(['admission_source_id'], axis=1, inplace=True)"
      ],
      "metadata": {
        "id": "w7l5qwPF8SvJ"
      },
      "execution_count": 306,
      "outputs": []
    },
    {
      "cell_type": "code",
      "source": [
        "data['is_clinic_or_transfer'] = data['admission_source_grouped'].isin([\n",
        "    'Clinic Referral',\n",
        "    'Transfer from a hospital',\n",
        "    'Transfer from another health care facility'\n",
        "]).astype(int)\n"
      ],
      "metadata": {
        "id": "eUlpbIa62_Kl"
      },
      "execution_count": 307,
      "outputs": []
    },
    {
      "cell_type": "markdown",
      "source": [
        "**This code creates multiple new indicator columns based on the admission_type and discharge_group columns, grouping them into categories like 'Emergency', 'Elective', and 'Home' vs 'Transferred Hospital'. It then aggregates the counts of these grouped categories at the patient level (using groupby on patient_nbr), creating columns like mb_admission_grp_1_ct and mb_discharge_grp_1_ct to capture the frequency of these categories for each patient.**"
      ],
      "metadata": {
        "id": "XYk7MO5mwjrU"
      }
    },
    {
      "cell_type": "code",
      "source": [
        "data['admission_grp_1_ind'] = data['admission_type'].isin(['Emergency', 'Unknown']).astype(int)\n",
        "data['admission_grp_2_ind'] = data['admission_type'].isin(['Elective', 'Trauma Center']).astype(int)\n",
        "\n",
        "data['discharge_grp_1_ind'] = data['discharge_group'].isin([\n",
        "    'Home', 'SNF/ICF/Rehab', 'Unknown/Invalid'\n",
        "]).astype(int)\n",
        "\n",
        "data['discharge_grp_2_ind'] = data['discharge_group'].isin([\n",
        "    'Left AMA', 'Transferred Hospital', 'Inpatient Readmit', 'Outpatient Follow-up'\n",
        "]).astype(int)\n",
        "\n",
        "data['admission_type_ind'] = data['admission_source_grouped'].isin([\n",
        "    'Clinic Referral', 'Transfer from a hospital', 'Transfer from another health care facility'\n",
        "]).astype(int)\n"
      ],
      "metadata": {
        "id": "vi-vw8bN6Xk7"
      },
      "execution_count": 308,
      "outputs": []
    },
    {
      "cell_type": "code",
      "source": [
        "data['mb_admission_grp_1_ct'] = data.groupby('patient_nbr')['admission_grp_1_ind'].transform('sum')\n",
        "data['mb_admission_grp_2_ct'] = data.groupby('patient_nbr')['admission_grp_2_ind'].transform('sum')\n",
        "data['mb_discharge_grp_1_ct'] = data.groupby('patient_nbr')['discharge_grp_1_ind'].transform('sum')\n",
        "data['mb_discharge_grp_2_ct'] = data.groupby('patient_nbr')['discharge_grp_2_ind'].transform('sum')\n",
        "data['mb_admission_type_ct']  = data.groupby('patient_nbr')['admission_type_ind'].transform('sum')\n"
      ],
      "metadata": {
        "id": "L04glcyu6deF"
      },
      "execution_count": 309,
      "outputs": []
    },
    {
      "cell_type": "markdown",
      "source": [],
      "metadata": {
        "id": "qg2i_4yJwrsn"
      }
    },
    {
      "cell_type": "code",
      "source": [
        "data.info()"
      ],
      "metadata": {
        "colab": {
          "base_uri": "https://localhost:8080/"
        },
        "id": "WzvGCp9QHTMh",
        "outputId": "6bb2b1f6-9c9f-4d36-d628-8a22941e4c52"
      },
      "execution_count": 310,
      "outputs": [
        {
          "output_type": "stream",
          "name": "stdout",
          "text": [
            "<class 'pandas.core.frame.DataFrame'>\n",
            "RangeIndex: 101766 entries, 0 to 101765\n",
            "Data columns (total 60 columns):\n",
            " #   Column                    Non-Null Count   Dtype \n",
            "---  ------                    --------------   ----- \n",
            " 0   encounter_id              101766 non-null  int64 \n",
            " 1   patient_nbr               101766 non-null  int64 \n",
            " 2   race                      101766 non-null  object\n",
            " 3   gender                    101766 non-null  object\n",
            " 4   age                       101766 non-null  object\n",
            " 5   time_in_hospital          101766 non-null  int64 \n",
            " 6   payer_code                101766 non-null  object\n",
            " 7   num_lab_procedures        101766 non-null  int64 \n",
            " 8   num_procedures            101766 non-null  int64 \n",
            " 9   num_medications           101766 non-null  int64 \n",
            " 10  number_outpatient         101766 non-null  int64 \n",
            " 11  number_emergency          101766 non-null  int64 \n",
            " 12  number_inpatient          101766 non-null  int64 \n",
            " 13  diag_1                    101766 non-null  object\n",
            " 14  diag_2                    101766 non-null  object\n",
            " 15  diag_3                    101766 non-null  object\n",
            " 16  number_diagnoses          101766 non-null  int64 \n",
            " 17  metformin                 101766 non-null  object\n",
            " 18  repaglinide               101766 non-null  object\n",
            " 19  nateglinide               101766 non-null  object\n",
            " 20  chlorpropamide            101766 non-null  object\n",
            " 21  glimepiride               101766 non-null  object\n",
            " 22  acetohexamide             101766 non-null  object\n",
            " 23  glipizide                 101766 non-null  object\n",
            " 24  glyburide                 101766 non-null  object\n",
            " 25  tolbutamide               101766 non-null  object\n",
            " 26  pioglitazone              101766 non-null  object\n",
            " 27  rosiglitazone             101766 non-null  object\n",
            " 28  acarbose                  101766 non-null  object\n",
            " 29  miglitol                  101766 non-null  object\n",
            " 30  troglitazone              101766 non-null  object\n",
            " 31  tolazamide                101766 non-null  object\n",
            " 32  examide                   101766 non-null  object\n",
            " 33  citoglipton               101766 non-null  object\n",
            " 34  insulin                   101766 non-null  object\n",
            " 35  glyburide-metformin       101766 non-null  object\n",
            " 36  glipizide-metformin       101766 non-null  object\n",
            " 37  glimepiride-pioglitazone  101766 non-null  object\n",
            " 38  metformin-rosiglitazone   101766 non-null  object\n",
            " 39  metformin-pioglitazone    101766 non-null  object\n",
            " 40  change                    101766 non-null  object\n",
            " 41  diabetesMed               101766 non-null  object\n",
            " 42  readmitted                101766 non-null  object\n",
            " 43  encounter_count           101766 non-null  int64 \n",
            " 44  admission_type            101766 non-null  object\n",
            " 45  admission_group           101735 non-null  object\n",
            " 46  expiration_ind            101766 non-null  int64 \n",
            " 47  discharge_group           99337 non-null   object\n",
            " 48  admission_source_grouped  101766 non-null  object\n",
            " 49  is_clinic_or_transfer     101766 non-null  int64 \n",
            " 50  admission_grp_1_ind       101766 non-null  int64 \n",
            " 51  admission_grp_2_ind       101766 non-null  int64 \n",
            " 52  discharge_grp_1_ind       101766 non-null  int64 \n",
            " 53  discharge_grp_2_ind       101766 non-null  int64 \n",
            " 54  admission_type_ind        101766 non-null  int64 \n",
            " 55  mb_admission_grp_1_ct     101766 non-null  int64 \n",
            " 56  mb_admission_grp_2_ct     101766 non-null  int64 \n",
            " 57  mb_discharge_grp_1_ct     101766 non-null  int64 \n",
            " 58  mb_discharge_grp_2_ct     101766 non-null  int64 \n",
            " 59  mb_admission_type_ct      101766 non-null  int64 \n",
            "dtypes: int64(23), object(37)\n",
            "memory usage: 46.6+ MB\n"
          ]
        }
      ]
    },
    {
      "cell_type": "markdown",
      "source": [
        "**This code combines the diag_1, diag_2, and diag_3 columns into a single column using melt. It then counts the number of unique diagnoses for each patient and stores the result in the distinct_diag_count column. After that, it merges this count back into the original data DataFrame. Finally, it deletes the temporary variables diagnosis_melted and distinct_counts to clean up memory.**"
      ],
      "metadata": {
        "id": "Ey6hbdjlwsaZ"
      }
    },
    {
      "cell_type": "code",
      "source": [
        "# Combine diag_1, diag_2, diag_3 into one column\n",
        "diagnosis_melted = data.melt(id_vars=['patient_nbr'], value_vars=['diag_1', 'diag_2', 'diag_3'])\n",
        "\n",
        "# Count number of unique diagnoses per patient\n",
        "distinct_counts = diagnosis_melted.groupby('patient_nbr')['value'].nunique().reset_index()\n",
        "\n",
        "# Step 3: Rename the column for clarity\n",
        "distinct_counts.columns = ['patient_nbr', 'distinct_diag_count']\n",
        "\n",
        "# Step 4: Merge the count back to the original dataset\n",
        "data = data.merge(distinct_counts, on='patient_nbr', how='left')\n",
        "\n",
        "# Step 5: Clean up temp variables\n",
        "del diagnosis_melted, distinct_counts"
      ],
      "metadata": {
        "id": "q1p-jPRKIV-F"
      },
      "execution_count": 311,
      "outputs": []
    },
    {
      "cell_type": "code",
      "source": [
        "import matplotlib.pyplot as plt\n",
        "import seaborn as sns\n",
        "\n",
        "# Set the plot size\n",
        "plt.figure(figsize=(7, 5))\n",
        "\n",
        "# Plot histogram of distinct diagnosis counts\n",
        "sns.countplot(x='distinct_diag_count', data=data, palette='pastel')\n",
        "\n",
        "# Titles and labels\n",
        "plt.title('Number of Unique Diagnosis Codes per Patient', fontsize=14)\n",
        "plt.xlabel('Distinct Diagnosis Count (from diag_1, diag_2, diag_3)', fontsize=12)\n",
        "plt.ylabel('Number of Patients', fontsize=12)\n",
        "plt.grid(axis='y', linestyle='--', alpha=0.7)\n",
        "plt.tight_layout()\n",
        "plt.show()\n"
      ],
      "metadata": {
        "colab": {
          "base_uri": "https://localhost:8080/",
          "height": 507
        },
        "id": "FpHsQehkJXAr",
        "outputId": "6af25745-84e6-409c-cc7b-cc056306993b"
      },
      "execution_count": 312,
      "outputs": [
        {
          "output_type": "display_data",
          "data": {
            "text/plain": [
              "<Figure size 700x500 with 1 Axes>"
            ],
            "image/png": "[encoded data removed]"
          },
          "metadata": {}
        }
      ]
    },
    {
      "cell_type": "markdown",
      "source": [
        "**This code first loads a CSV file containing a mapping of diagnosis codes to their descriptions (unique_diag_df_edit.csv). It then creates a dictionary (diag_map_dict) where the diagnosis codes are the keys, and their descriptions are the values. The diag_1, diag_2, and diag_3 columns in the data DataFrame are mapped to their corresponding descriptions using this dictionary. Additionally, the code calculates the frequency of each diagnosis code in diag_1, diag_2, and diag_3 and adds these frequencies as new columns (diag_1_freq, diag_2_freq, and diag_3_freq) to the data DataFrame.**"
      ],
      "metadata": {
        "id": "xvTKhEibxYtd"
      }
    },
    {
      "cell_type": "code",
      "source": [
        "import pandas as pd\n",
        "\n",
        "# Load mapping CSV\n",
        "diag_map_df = pd.read_csv('unique_diag_df_edit.csv')\n",
        "\n",
        "# Display first few rows to verify\n",
        "print(diag_map_df.head())\n",
        "\n",
        "diag_map_dict = diag_map_df.set_index('diagnosis_cd')['diagnosis'].to_dict()\n",
        "\n",
        "data['diag_1_desc'] = data['diag_1'].map(diag_map_dict)\n",
        "data['diag_2_desc'] = data['diag_2'].map(diag_map_dict)\n",
        "data['diag_3_desc'] = data['diag_3'].map(diag_map_dict)\n",
        "\n",
        "# Calculate frequency of each diagnosis code for diag_1, diag_2, and diag_3\n",
        "data['diag_1_freq'] = data.groupby('diag_1')['diag_1'].transform('count')\n",
        "data['diag_2_freq'] = data.groupby('diag_2')['diag_2'].transform('count')\n",
        "data['diag_3_freq'] = data.groupby('diag_3')['diag_3'].transform('count')\n"
      ],
      "metadata": {
        "colab": {
          "base_uri": "https://localhost:8080/"
        },
        "id": "RFkMrU92MSZ6",
        "outputId": "d3a0c8f5-59f6-4bc0-87c5-6cbe6c8d0031"
      },
      "execution_count": 313,
      "outputs": [
        {
          "output_type": "stream",
          "name": "stdout",
          "text": [
            "  diagnosis_cd                 diagnosis\n",
            "0            3      SALMONELLA ENTERITIS\n",
            "1            5      STAPH FOOD POISONING\n",
            "2            7             BALANTIDIASIS\n",
            "3            8   INTEST INFEC E COLI NOS\n",
            "4            9  INFECTIOUS ENTERITIS NOS\n"
          ]
        }
      ]
    },
    {
      "cell_type": "markdown",
      "source": [
        "In this section, we preprocess the diagnosis\n",
        "\n",
        "columns (diag_1, diag_2, diag_3) by performing the following steps:\n",
        "\n",
        "Convert to String & Handle Missing Values: Convert diagnosis columns to strings and fill missing values with 'UNK'.\n",
        "\n",
        "Create Diagnosis Array: Combine the three diagnosis columns into a list (diagnosis_array) and sort it for consistency.\n",
        "\n",
        "Convert to Tuples: Convert the sorted diagnosis array into tuples for grouping purposes.\n",
        "\n",
        "Count Frequency of Diagnosis Tuples: Count how often each unique diagnosis combination appears.\n",
        "\n",
        "Assign Sorted Diagnoses: Separate the sorted diagnosis codes into new columns (diag_1_sort, diag_2_sort, diag_3_sort).\n",
        "\n",
        "Calculate Frequency by Position: Calculate the frequency of each diagnosis code at each position.\n",
        "\n",
        "Clean Up Temporary Columns: Drop temporary columns used during the process.\n",
        "\n",
        "Map to Descriptions: Map the diagnosis codes to descriptive labels using the diag_map_dict.\n",
        "\n",
        "Optimize Memory: Delete the mapping dictionary to save memory.\n",
        "\n",
        "This process ensures the diagnosis data is clean, consistent, and ready for further analysis."
      ],
      "metadata": {
        "id": "1hF7gsl0xg8m"
      }
    },
    {
      "cell_type": "code",
      "source": [
        "# Step 1: Convert diagnosis columns to string and fill NaNs with 'UNK'\n",
        "data[['diag_1', 'diag_2', 'diag_3']] = data[['diag_1', 'diag_2', 'diag_3']].fillna('UNK').astype(str)\n",
        "\n",
        "# Step 2: Create 'diagnosis_array' column (a list of diag_1, diag_2, diag_3)\n",
        "data['diagnosis_array'] = data[['diag_1', 'diag_2', 'diag_3']].values.tolist()\n",
        "\n",
        "# Step 3: Sort 'diagnosis_array'\n",
        "data['diagnosis_array'] = data['diagnosis_array'].apply(sorted)\n",
        "\n",
        "# Step 4: Convert list to tuple (to make it hashable for groupby)\n",
        "data['diagnosis_array_tuple'] = data['diagnosis_array'].apply(tuple)\n",
        "\n",
        "# Step 5: Count frequency of each diagnosis tuple\n",
        "data['diagnosis_tuple_freq'] = data.groupby('diagnosis_array_tuple')['diagnosis_array_tuple'].transform('count')\n",
        "\n",
        "# Step 6: Assign sorted elements back to individual columns\n",
        "data[['diag_1_sort', 'diag_2_sort', 'diag_3_sort']] = pd.DataFrame(data['diagnosis_array'].tolist(), index=data.index)\n",
        "\n",
        "# Step 7: Calculate frequency of each diagnosis code in each position\n",
        "data['diag_1_sort_freq'] = data.groupby('diag_1_sort')['diag_1_sort'].transform('count')\n",
        "data['diag_2_sort_freq'] = data.groupby('diag_2_sort')['diag_2_sort'].transform('count')\n",
        "data['diag_3_sort_freq'] = data.groupby('diag_3_sort')['diag_3_sort'].transform('count')\n",
        "\n",
        "# Step 8: Drop temporary 'diagnosis_array_tuple' column\n",
        "data.drop(columns=['diagnosis_array_tuple'], inplace=True)\n",
        "\n",
        "# Step 9: Reformat diagnosis_array as a string tuple\n",
        "data['diagnosis_tuple'] = data['diagnosis_array'].apply(lambda x: f\"({' '.join(x)})\")\n",
        "\n",
        "# Step 10: Drop temporary diagnosis_array list\n",
        "data.drop(columns=['diagnosis_array'], inplace=True)\n",
        "\n",
        "# Step 11: Map diagnosis codes to descriptive labels using a dictionary\n",
        "# Ensure diag_map_dict is defined beforehand (e.g., loaded from CSV)\n",
        "data['diagnosis_1_sort'] = data['diag_1_sort'].map(diag_map_dict)\n",
        "data['diagnosis_2_sort'] = data['diag_2_sort'].map(diag_map_dict)\n",
        "data['diagnosis_3_sort'] = data['diag_3_sort'].map(diag_map_dict)\n",
        "\n",
        "# Step 12: Optionally delete the dictionary to save memory\n",
        "del diag_map_dict\n"
      ],
      "metadata": {
        "id": "O2doyd6oSZ6K"
      },
      "execution_count": 314,
      "outputs": []
    },
    {
      "cell_type": "markdown",
      "source": [
        "**The code creates a new dataframe dx_events with diagnosis indicator columns for each code in dx_list. It fills missing diagnosis fields, checks if each code appears in any of the diagnosis columns (diag_1, diag_2, diag_3), and adds an indicator for each diagnosis code. Finally, it prints the shape of the dataframe.**"
      ],
      "metadata": {
        "id": "oNYF6o_xyLSc"
      }
    },
    {
      "cell_type": "code",
      "source": [
        "dx_list=[ '428'\n",
        ", '403'\n",
        ", '707'\n",
        ", '585'\n",
        ", '491'\n",
        ", '396'\n",
        ", '440'\n",
        ", '453'\n",
        ", '571'\n",
        ", '284'\n",
        ", '304'\n",
        ", '482'\n",
        ", '150'\n",
        ", '282'\n",
        ", '332'\n",
        ", '443'\n",
        ", '719'\n",
        ", '423'\n",
        ", '281'\n",
        ", '536'\n",
        ", '368'\n",
        ", '515'\n",
        ", '595'\n",
        ", '572'\n",
        ", '681'\n",
        ", '581'\n",
        ", '537'\n",
        ", '490'\n",
        ", '583'\n",
        ", 'V46'\n",
        ", '519'\n",
        ", '300'\n",
        ", '567'\n",
        ", 'E92'\n",
        ", 'V49'\n",
        ", '094'\n",
        ", '514'\n",
        ", '494'\n",
        ", '042'\n",
        ", '404'\n",
        ", '346'\n",
        ", '792'\n",
        ", '398'\n",
        ", '753'\n",
        ", '577'\n",
        ", '730'\n",
        ", '444'\n",
        ", '459'\n",
        ", '790'\n",
        ", '337'\n",
        ", '397'\n",
        ", '292'\n",
        ", 'V42'\n",
        ", '289']"
      ],
      "metadata": {
        "id": "LXR0R8Zda9IH"
      },
      "execution_count": 315,
      "outputs": []
    },
    {
      "cell_type": "code",
      "source": [
        "# Create dx_events with the selected columns\n",
        "dx_events = data[['patient_nbr', 'encounter_id', 'diag_1', 'diag_2', 'diag_3']].copy(deep=True)\n",
        "\n",
        "# Fill missing diagnosis fields with empty strings for safe comparison\n",
        "dx_events[['diag_1', 'diag_2', 'diag_3']] = dx_events[['diag_1', 'diag_2', 'diag_3']].astype(str).fillna('')\n",
        "\n",
        "# For each diagnosis code in dx_list, create an indicator column\n",
        "for dx in dx_list:\n",
        "    dx_events[f'dx_{dx}_ind'] = dx_events[['diag_1', 'diag_2', 'diag_3']].apply(\n",
        "        lambda row: int(dx in row.values), axis=1\n",
        "    )\n",
        "\n",
        "# Show the final shape\n",
        "print(dx_events.shape)\n"
      ],
      "metadata": {
        "colab": {
          "base_uri": "https://localhost:8080/"
        },
        "id": "glW20WZ-bGKL",
        "outputId": "af077a67-12c2-4ef8-8c4c-4327313aef02"
      },
      "execution_count": 316,
      "outputs": [
        {
          "output_type": "stream",
          "name": "stdout",
          "text": [
            "(101766, 59)\n"
          ]
        }
      ]
    },
    {
      "cell_type": "code",
      "source": [
        "# Ensure diag_1 to diag_3 are strings (for comparison)\n",
        "data[['diag_1', 'diag_2', 'diag_3']] = data[['diag_1', 'diag_2', 'diag_3']].astype(str).fillna('')\n",
        "\n",
        "# Populate each column with 1 if the diagnosis appears, else 0\n",
        "for dx in dx_list:\n",
        "    data[f'dx_{dx}_ind'] = ((data['diag_1'] == dx) |\n",
        "                            (data['diag_2'] == dx) |\n",
        "                            (data['diag_3'] == dx)).astype(int)\n",
        "\n",
        "print('done')\n"
      ],
      "metadata": {
        "colab": {
          "base_uri": "https://localhost:8080/"
        },
        "id": "opOrjGOibcwl",
        "outputId": "2a6fc151-a550-4a69-b399-35411059cca8"
      },
      "execution_count": 317,
      "outputs": [
        {
          "output_type": "stream",
          "name": "stdout",
          "text": [
            "done\n"
          ]
        }
      ]
    },
    {
      "cell_type": "markdown",
      "source": [
        "**The code groups the data by patient_nbr and computes the maximum and sum for each diagnosis indicator in dx_list. The resulting columns are renamed to a SQL-style format (e.g., dx_XXX_ind_max, dx_XXX_ind_sum). The grouped data is then saved to a CSV file and the original indicator columns are removed from the data to save memory.**"
      ],
      "metadata": {
        "id": "6oZJWj4nyXHU"
      }
    },
    {
      "cell_type": "code",
      "source": [
        "# Group by patient_nbr and compute max and sum for each diagnosis indicator\n",
        "dx_aggregated = data.groupby('patient_nbr').agg(\n",
        "    {f'dx_{dx}_ind': ['max', 'sum'] for dx in dx_list}\n",
        ")\n",
        "\n",
        "# Rename columns to SQL-style naming: dx_XXX_ind_max, dx_XXX_ind_sum\n",
        "dx_aggregated.columns = [f'{col[0]}_{col[1]}' for col in dx_aggregated.columns]\n",
        "\n",
        "# Reset index to bring patient_nbr back as a column\n",
        "dx_aggregated = dx_aggregated.reset_index()\n",
        "\n",
        "# Save to CSV\n",
        "dx_aggregated.to_csv('dx_aggregated_ck.csv', index=False)\n",
        "\n",
        "# Optional: remove the original indicators from the main dataset to save memory\n",
        "for dx in dx_list:\n",
        "    del data[f'dx_{dx}_ind']\n"
      ],
      "metadata": {
        "id": "R5sl6LuibwGz"
      },
      "execution_count": 318,
      "outputs": []
    },
    {
      "cell_type": "code",
      "source": [
        "import matplotlib.pyplot as plt\n",
        "\n",
        "# Extract only 'max' columns (whether patient ever had the diagnosis)\n",
        "max_cols = [col for col in dx_aggregated.columns if col.endswith('_max')]\n",
        "\n",
        "# Sum each max column to get patient counts\n",
        "diagnosis_counts = dx_aggregated[max_cols].sum().sort_values(ascending=False)\n",
        "\n",
        "# Convert column names back to diagnosis codes for display\n",
        "diagnosis_codes = [col.replace('dx_', '').replace('_ind_max', '') for col in diagnosis_counts.index]\n",
        "\n",
        "# Plot\n",
        "plt.figure(figsize=(12,6))\n",
        "plt.bar(diagnosis_codes[:20], diagnosis_counts.values[:20], color='skyblue')\n",
        "plt.title(\"Top 10 Most Common Diagnoses by Patient Count\")\n",
        "plt.xlabel(\"Diagnosis Code\")\n",
        "plt.ylabel(\"Number of Patients\")\n",
        "plt.xticks(rotation=45)\n",
        "plt.tight_layout()\n",
        "plt.show()\n"
      ],
      "metadata": {
        "colab": {
          "base_uri": "https://localhost:8080/",
          "height": 607
        },
        "id": "-IOEJdQSbzAH",
        "outputId": "447b552d-3ea9-47b7-b497-f8c6f188fd1e"
      },
      "execution_count": 319,
      "outputs": [
        {
          "output_type": "display_data",
          "data": {
            "text/plain": [
              "<Figure size 1200x600 with 1 Axes>"
            ],
            "image/png": "[encoded data removed]"
          },
          "metadata": {}
        }
      ]
    },
    {
      "cell_type": "code",
      "source": [
        "# Print original shape of data\n",
        "print(data.shape)\n",
        "\n",
        "# Merge dx_aggregated into data based on patient_nbr\n",
        "data = data.merge(dx_aggregated, on='patient_nbr', how='left')\n",
        "\n",
        "# Print new shape after merge\n",
        "print(data.shape)\n",
        "\n",
        "# Clean up to free memory\n",
        "del dx_aggregated\n"
      ],
      "metadata": {
        "colab": {
          "base_uri": "https://localhost:8080/"
        },
        "id": "oAETvmSbcxgz",
        "outputId": "e46d3a61-519e-4acb-aae4-9cdd69a17de1"
      },
      "execution_count": 320,
      "outputs": [
        {
          "output_type": "stream",
          "name": "stdout",
          "text": [
            "(101766, 78)\n",
            "(101766, 186)\n"
          ]
        }
      ]
    },
    {
      "cell_type": "markdown",
      "source": [
        "**The code creates three new indicator columns (alcohol_ind, obesity_ind, mh_ind) by checking if the diagnosis descriptions contain the respective terms (\"ALCOHOL\", \"OBESITY\", \"MALIGNANT HYPERTENSION\") in any of the diagnosis columns (diagnosis_1_sort, diagnosis_2_sort, diagnosis_3_sort). If any of these terms are found, the corresponding indicator is set to 1; otherwise, it is set to 0.**"
      ],
      "metadata": {
        "id": "t19xwIC_yjyz"
      }
    },
    {
      "cell_type": "code",
      "source": [
        "# Alcohol indicator\n",
        "data['alcohol_ind'] = data[['diagnosis_1_sort', 'diagnosis_2_sort', 'diagnosis_3_sort']].apply(\n",
        "    lambda row: int(any('ALCOHOL' in str(val).upper() for val in row)), axis=1\n",
        ")\n",
        "\n",
        "# Obesity indicator\n",
        "data['obesity_ind'] = data[['diagnosis_1_sort', 'diagnosis_2_sort', 'diagnosis_3_sort']].apply(\n",
        "    lambda row: int(any('OBESITY' in str(val).upper() for val in row)), axis=1\n",
        ")\n",
        "\n",
        "# Malignant Hypertension indicator\n",
        "data['mh_ind'] = data[['diagnosis_1_sort', 'diagnosis_2_sort', 'diagnosis_3_sort']].apply(\n",
        "    lambda row: int(any('MALIGNANT HYPERTENSION' in str(val).upper() for val in row)), axis=1\n",
        ")\n"
      ],
      "metadata": {
        "id": "8bbaRJjBc89g"
      },
      "execution_count": 321,
      "outputs": []
    },
    {
      "cell_type": "code",
      "source": [
        "# Initialize the drop list\n",
        "drop = []\n",
        "\n",
        "# Create history indicators by grouping on 'patient_nbr' and taking the max value\n",
        "data['alcohol_history_ind'] = data.groupby('patient_nbr')['alcohol_ind'].transform('max')\n",
        "data['obesity_history_ind'] = data.groupby('patient_nbr')['obesity_ind'].transform('max')\n",
        "data['mh_history_ind'] = data.groupby('patient_nbr')['mh_ind'].transform('max')\n",
        "\n",
        "# Add the individual indicator columns to the drop list\n",
        "drop.extend(['alcohol_ind', 'obesity_ind', 'mh_ind'])\n",
        "\n",
        "# Drop the columns from the dataframe\n",
        "data.drop(columns=drop, inplace=True)"
      ],
      "metadata": {
        "id": "A41bv0SodrdA"
      },
      "execution_count": 322,
      "outputs": []
    },
    {
      "cell_type": "code",
      "source": [
        "# Create a binary indicator for whether the patient was admitted or not\n",
        "data['admitted_ind'] = (data['readmitted'] != 'NO').astype(int)"
      ],
      "metadata": {
        "id": "6SgRtVsugJd2"
      },
      "execution_count": 323,
      "outputs": []
    },
    {
      "cell_type": "markdown",
      "source": [
        "**The code creates new patient-level features by aggregating data for each patient using groupby on the patient_nbr column. It calculates the total counts of various factors, such as the number of encounters (encounter_ct), time spent in the hospital (mb_time_in_hospital), readmissions (mb_readmitted_ct), lab procedures (mb_num_lab_procedures_ct), medications (mb_num_medications_ct), and more. These aggregated values are added as new columns to the dataset.**"
      ],
      "metadata": {
        "id": "OOwIOGAwzBPd"
      }
    },
    {
      "cell_type": "code",
      "source": [
        "# Add patient-level features\n",
        "data['encounter_ct'] = data['patient_nbr'].map(data.groupby('patient_nbr')['encounter_id'].nunique())\n",
        "data['mb_time_in_hospital'] = data.groupby('patient_nbr')['time_in_hospital'].transform('sum')\n",
        "data['mb_readmitted_ct'] = data.groupby('patient_nbr')['admitted_ind'].transform('sum')\n",
        "data['mb_num_lab_procedures_ct'] = data.groupby('patient_nbr')['num_lab_procedures'].transform('sum')\n",
        "data['mb_num_procedures_ct'] = data.groupby('patient_nbr')['num_procedures'].transform('sum')\n",
        "data['mb_num_medications_ct'] = data.groupby('patient_nbr')['num_medications'].transform('sum')\n",
        "data['mb_number_outpatient_ct'] = data.groupby('patient_nbr')['number_outpatient'].transform('sum')\n",
        "data['mb_number_emergency_ct'] = data.groupby('patient_nbr')['number_emergency'].transform('sum')\n",
        "data['mb_number_inpatient_ct'] = data.groupby('patient_nbr')['number_inpatient'].transform('sum')\n",
        "data['mb_number_diagnoses_ct'] = data.groupby('patient_nbr')['number_diagnoses'].transform('sum')"
      ],
      "metadata": {
        "id": "DMdNS7magVb2"
      },
      "execution_count": 324,
      "outputs": []
    },
    {
      "cell_type": "markdown",
      "source": [],
      "metadata": {
        "id": "Iuabfps0zAS4"
      }
    },
    {
      "cell_type": "markdown",
      "source": [
        "##Age Column"
      ],
      "metadata": {
        "id": "GaAsEbKJbhzD"
      }
    },
    {
      "cell_type": "code",
      "source": [
        "# Create age group indicators\n",
        "data['under10_ind'] = data['age'].isin(['[0-10)']).astype(int)\n",
        "data['over80_ind'] = data['age'].isin(['[80-90)', '[90-100)']).astype(int)\n",
        "\n",
        "# Add patient-level features based on age group indicators\n",
        "data['mb_under10_ind'] = data.groupby('patient_nbr')['under10_ind'].transform('max')\n",
        "data['mb_over80_ind'] = data.groupby('patient_nbr')['over80_ind'].transform('max')\n",
        "\n",
        "# Drop unnecessary columns\n",
        "drop_columns = ['under10_ind', 'over80_ind']\n",
        "data.drop(columns=drop_columns, inplace=True)\n"
      ],
      "metadata": {
        "id": "jeuZZlCYdqzJ"
      },
      "execution_count": 325,
      "outputs": []
    },
    {
      "cell_type": "code",
      "source": [
        "print(data.shape)\n",
        "\n",
        "# Remove very young and very old members, members who died, unknown gender\n",
        "data = data[\n",
        "    (data['expiration_ind'] != 1) &\n",
        "    (data['mb_under10_ind'] != 1) &\n",
        "    (data['mb_over80_ind'] != 1) &\n",
        "    (data['gender'] != 'Unknown/Invalid') &  # Exclude records with gender 'Unknown/Invalid'\n",
        "    (data['encounter_count'] < 14)  # Exclude records with encounter count >= 14\n",
        "]\n",
        "\n",
        "print(data.shape)\n",
        "\n",
        "# Drop columns used for filtering\n",
        "drop.extend(['mb_under10_ind', 'mb_over80_ind', 'expiration_ind'])\n"
      ],
      "metadata": {
        "colab": {
          "base_uri": "https://localhost:8080/"
        },
        "id": "uUBW5quehKIW",
        "outputId": "ef011de0-be4e-432f-f635-1937ab6b36f6"
      },
      "execution_count": 326,
      "outputs": [
        {
          "output_type": "stream",
          "name": "stdout",
          "text": [
            "(101766, 202)\n",
            "(78743, 202)\n"
          ]
        }
      ]
    },
    {
      "cell_type": "code",
      "source": [
        "for i, col in enumerate(data.columns):\n",
        "    print(f\"{i}: {col}\")\n",
        "\n"
      ],
      "metadata": {
        "colab": {
          "base_uri": "https://localhost:8080/"
        },
        "id": "S3A1Vue-pICS",
        "outputId": "374488f6-c55e-4de6-c9f6-042cf43bc6f5"
      },
      "execution_count": 327,
      "outputs": [
        {
          "output_type": "stream",
          "name": "stdout",
          "text": [
            "0: encounter_id\n",
            "1: patient_nbr\n",
            "2: race\n",
            "3: gender\n",
            "4: age\n",
            "5: time_in_hospital\n",
            "6: payer_code\n",
            "7: num_lab_procedures\n",
            "8: num_procedures\n",
            "9: num_medications\n",
            "10: number_outpatient\n",
            "11: number_emergency\n",
            "12: number_inpatient\n",
            "13: diag_1\n",
            "14: diag_2\n",
            "15: diag_3\n",
            "16: number_diagnoses\n",
            "17: metformin\n",
            "18: repaglinide\n",
            "19: nateglinide\n",
            "20: chlorpropamide\n",
            "21: glimepiride\n",
            "22: acetohexamide\n",
            "23: glipizide\n",
            "24: glyburide\n",
            "25: tolbutamide\n",
            "26: pioglitazone\n",
            "27: rosiglitazone\n",
            "28: acarbose\n",
            "29: miglitol\n",
            "30: troglitazone\n",
            "31: tolazamide\n",
            "32: examide\n",
            "33: citoglipton\n",
            "34: insulin\n",
            "35: glyburide-metformin\n",
            "36: glipizide-metformin\n",
            "37: glimepiride-pioglitazone\n",
            "38: metformin-rosiglitazone\n",
            "39: metformin-pioglitazone\n",
            "40: change\n",
            "41: diabetesMed\n",
            "42: readmitted\n",
            "43: encounter_count\n",
            "44: admission_type\n",
            "45: admission_group\n",
            "46: expiration_ind\n",
            "47: discharge_group\n",
            "48: admission_source_grouped\n",
            "49: is_clinic_or_transfer\n",
            "50: admission_grp_1_ind\n",
            "51: admission_grp_2_ind\n",
            "52: discharge_grp_1_ind\n",
            "53: discharge_grp_2_ind\n",
            "54: admission_type_ind\n",
            "55: mb_admission_grp_1_ct\n",
            "56: mb_admission_grp_2_ct\n",
            "57: mb_discharge_grp_1_ct\n",
            "58: mb_discharge_grp_2_ct\n",
            "59: mb_admission_type_ct\n",
            "60: distinct_diag_count\n",
            "61: diag_1_desc\n",
            "62: diag_2_desc\n",
            "63: diag_3_desc\n",
            "64: diag_1_freq\n",
            "65: diag_2_freq\n",
            "66: diag_3_freq\n",
            "67: diagnosis_tuple_freq\n",
            "68: diag_1_sort\n",
            "69: diag_2_sort\n",
            "70: diag_3_sort\n",
            "71: diag_1_sort_freq\n",
            "72: diag_2_sort_freq\n",
            "73: diag_3_sort_freq\n",
            "74: diagnosis_tuple\n",
            "75: diagnosis_1_sort\n",
            "76: diagnosis_2_sort\n",
            "77: diagnosis_3_sort\n",
            "78: dx_428_ind_max\n",
            "79: dx_428_ind_sum\n",
            "80: dx_403_ind_max\n",
            "81: dx_403_ind_sum\n",
            "82: dx_707_ind_max\n",
            "83: dx_707_ind_sum\n",
            "84: dx_585_ind_max\n",
            "85: dx_585_ind_sum\n",
            "86: dx_491_ind_max\n",
            "87: dx_491_ind_sum\n",
            "88: dx_396_ind_max\n",
            "89: dx_396_ind_sum\n",
            "90: dx_440_ind_max\n",
            "91: dx_440_ind_sum\n",
            "92: dx_453_ind_max\n",
            "93: dx_453_ind_sum\n",
            "94: dx_571_ind_max\n",
            "95: dx_571_ind_sum\n",
            "96: dx_284_ind_max\n",
            "97: dx_284_ind_sum\n",
            "98: dx_304_ind_max\n",
            "99: dx_304_ind_sum\n",
            "100: dx_482_ind_max\n",
            "101: dx_482_ind_sum\n",
            "102: dx_150_ind_max\n",
            "103: dx_150_ind_sum\n",
            "104: dx_282_ind_max\n",
            "105: dx_282_ind_sum\n",
            "106: dx_332_ind_max\n",
            "107: dx_332_ind_sum\n",
            "108: dx_443_ind_max\n",
            "109: dx_443_ind_sum\n",
            "110: dx_719_ind_max\n",
            "111: dx_719_ind_sum\n",
            "112: dx_423_ind_max\n",
            "113: dx_423_ind_sum\n",
            "114: dx_281_ind_max\n",
            "115: dx_281_ind_sum\n",
            "116: dx_536_ind_max\n",
            "117: dx_536_ind_sum\n",
            "118: dx_368_ind_max\n",
            "119: dx_368_ind_sum\n",
            "120: dx_515_ind_max\n",
            "121: dx_515_ind_sum\n",
            "122: dx_595_ind_max\n",
            "123: dx_595_ind_sum\n",
            "124: dx_572_ind_max\n",
            "125: dx_572_ind_sum\n",
            "126: dx_681_ind_max\n",
            "127: dx_681_ind_sum\n",
            "128: dx_581_ind_max\n",
            "129: dx_581_ind_sum\n",
            "130: dx_537_ind_max\n",
            "131: dx_537_ind_sum\n",
            "132: dx_490_ind_max\n",
            "133: dx_490_ind_sum\n",
            "134: dx_583_ind_max\n",
            "135: dx_583_ind_sum\n",
            "136: dx_V46_ind_max\n",
            "137: dx_V46_ind_sum\n",
            "138: dx_519_ind_max\n",
            "139: dx_519_ind_sum\n",
            "140: dx_300_ind_max\n",
            "141: dx_300_ind_sum\n",
            "142: dx_567_ind_max\n",
            "143: dx_567_ind_sum\n",
            "144: dx_E92_ind_max\n",
            "145: dx_E92_ind_sum\n",
            "146: dx_V49_ind_max\n",
            "147: dx_V49_ind_sum\n",
            "148: dx_094_ind_max\n",
            "149: dx_094_ind_sum\n",
            "150: dx_514_ind_max\n",
            "151: dx_514_ind_sum\n",
            "152: dx_494_ind_max\n",
            "153: dx_494_ind_sum\n",
            "154: dx_042_ind_max\n",
            "155: dx_042_ind_sum\n",
            "156: dx_404_ind_max\n",
            "157: dx_404_ind_sum\n",
            "158: dx_346_ind_max\n",
            "159: dx_346_ind_sum\n",
            "160: dx_792_ind_max\n",
            "161: dx_792_ind_sum\n",
            "162: dx_398_ind_max\n",
            "163: dx_398_ind_sum\n",
            "164: dx_753_ind_max\n",
            "165: dx_753_ind_sum\n",
            "166: dx_577_ind_max\n",
            "167: dx_577_ind_sum\n",
            "168: dx_730_ind_max\n",
            "169: dx_730_ind_sum\n",
            "170: dx_444_ind_max\n",
            "171: dx_444_ind_sum\n",
            "172: dx_459_ind_max\n",
            "173: dx_459_ind_sum\n",
            "174: dx_790_ind_max\n",
            "175: dx_790_ind_sum\n",
            "176: dx_337_ind_max\n",
            "177: dx_337_ind_sum\n",
            "178: dx_397_ind_max\n",
            "179: dx_397_ind_sum\n",
            "180: dx_292_ind_max\n",
            "181: dx_292_ind_sum\n",
            "182: dx_V42_ind_max\n",
            "183: dx_V42_ind_sum\n",
            "184: dx_289_ind_max\n",
            "185: dx_289_ind_sum\n",
            "186: alcohol_history_ind\n",
            "187: obesity_history_ind\n",
            "188: mh_history_ind\n",
            "189: admitted_ind\n",
            "190: encounter_ct\n",
            "191: mb_time_in_hospital\n",
            "192: mb_readmitted_ct\n",
            "193: mb_num_lab_procedures_ct\n",
            "194: mb_num_procedures_ct\n",
            "195: mb_num_medications_ct\n",
            "196: mb_number_outpatient_ct\n",
            "197: mb_number_emergency_ct\n",
            "198: mb_number_inpatient_ct\n",
            "199: mb_number_diagnoses_ct\n",
            "200: mb_under10_ind\n",
            "201: mb_over80_ind\n"
          ]
        }
      ]
    },
    {
      "cell_type": "code",
      "source": [],
      "metadata": {
        "id": "Dv_eWy0CIQ-Y"
      },
      "execution_count": 327,
      "outputs": []
    },
    {
      "cell_type": "markdown",
      "source": [
        "## Feature Selection"
      ],
      "metadata": {
        "id": "UbFsoUz3Igk0"
      }
    },
    {
      "cell_type": "code",
      "source": [
        "drop=[ 'diag_1', 'diag_2', 'diag_3', 'diagnosis_tuple_freq'\n",
        ", 'diag_1_freq', 'diag_2_freq', 'diag_3_freq'\n",
        ",'diag_1_desc', 'diag_2_desc', 'diag_3_desc'\n",
        ",  'diag_1_sort' ,'diag_2_sort' ,'diag_3_sort'\n",
        ", 'diagnosis_1_sort', 'diagnosis_2_sort', 'diagnosis_3_sort'\n",
        ", 'diag_1_sort_freq', 'diag_2_sort_freq', 'diag_3_sort_freq']"
      ],
      "metadata": {
        "id": "okTL9aPYIdV4"
      },
      "execution_count": 328,
      "outputs": []
    },
    {
      "cell_type": "code",
      "source": [
        "# Drop columns listed in the 'drop' list\n",
        "data.drop(columns=drop, inplace=True)\n",
        "\n",
        "# Save the cleaned and prepared DataFrame to a CSV file\n",
        "data.to_csv(\"p004_data_MLprep.csv\", index=False)\n",
        "\n",
        "# Show the shape and column info of the final DataFrame\n",
        "print(data.shape)\n",
        "print(data.info())\n"
      ],
      "metadata": {
        "colab": {
          "base_uri": "https://localhost:8080/"
        },
        "id": "fDQwFU8Orw8H",
        "outputId": "67af9b1e-d5b3-4aa9-ad96-e566ded62ccd"
      },
      "execution_count": 329,
      "outputs": [
        {
          "output_type": "stream",
          "name": "stdout",
          "text": [
            "(78743, 183)\n",
            "<class 'pandas.core.frame.DataFrame'>\n",
            "Index: 78743 entries, 1 to 101765\n",
            "Columns: 183 entries, encounter_id to mb_over80_ind\n",
            "dtypes: int64(148), object(35)\n",
            "memory usage: 110.5+ MB\n",
            "None\n"
          ]
        }
      ]
    },
    {
      "cell_type": "code",
      "source": [
        "data.drop(['patient_nbr', 'encounter_id', 'diagnosis_tuple','readmitted'], axis=1, inplace=True)"
      ],
      "metadata": {
        "id": "xffISUTTkjJr"
      },
      "execution_count": 330,
      "outputs": []
    },
    {
      "cell_type": "markdown",
      "source": [],
      "metadata": {
        "id": "uq4E3WCssmXi"
      }
    },
    {
      "cell_type": "code",
      "source": [
        "\n",
        "X = data.drop('admitted_ind', axis=1)\n",
        "y = data['admitted_ind']"
      ],
      "metadata": {
        "id": "K4ZSOAxxA14I"
      },
      "execution_count": 331,
      "outputs": []
    },
    {
      "cell_type": "code",
      "source": [
        "# Step 1: Identify object columns, excluding 'readmitted'\n",
        "categorical_cols = X.select_dtypes(include='object').columns  # Exclude target\n",
        "\n",
        "# Step 2: Apply One-Hot Encoding\n",
        "data_encoded = pd.get_dummies(X, columns=categorical_cols, drop_first=False)\n",
        "\n",
        "# Step 3: Your target column 'readmitted' stays untouched\n",
        "print(data_encoded.shape)\n",
        "print(data_encoded.columns)"
      ],
      "metadata": {
        "id": "xYVoRmKlsvmh",
        "outputId": "b6f30fc5-8ca5-40d9-f5d4-4d86ec49f577",
        "colab": {
          "base_uri": "https://localhost:8080/"
        }
      },
      "execution_count": 332,
      "outputs": [
        {
          "output_type": "stream",
          "name": "stdout",
          "text": [
            "(78743, 281)\n",
            "Index(['time_in_hospital', 'num_lab_procedures', 'num_procedures', 'num_medications', 'number_outpatient', 'number_emergency', 'number_inpatient', 'number_diagnoses', 'encounter_count', 'expiration_ind',\n",
            "       ...\n",
            "       'admission_source_grouped_Not Available', 'admission_source_grouped_Not Mapped', 'admission_source_grouped_Physician Referral', 'admission_source_grouped_Sick Baby', 'admission_source_grouped_Transfer from Ambulatory Surgery Center', 'admission_source_grouped_Transfer from a Skilled Nursing Facility (SNF)', 'admission_source_grouped_Transfer from a hospital', 'admission_source_grouped_Transfer from another health care facility', 'admission_source_grouped_Transfer from critial access hospital', 'admission_source_grouped_Transfer from hospital inpt/same fac reslt in a sep claim'], dtype='object', length=281)\n"
          ]
        }
      ]
    },
    {
      "cell_type": "code",
      "source": [
        "print(data_encoded.dtypes)"
      ],
      "metadata": {
        "id": "MXByMRluz_Cv",
        "outputId": "c996411f-83f2-40bd-d591-8def8a117fc4",
        "colab": {
          "base_uri": "https://localhost:8080/"
        }
      },
      "execution_count": 333,
      "outputs": [
        {
          "output_type": "stream",
          "name": "stdout",
          "text": [
            "time_in_hospital                                                                      int64\n",
            "num_lab_procedures                                                                    int64\n",
            "num_procedures                                                                        int64\n",
            "num_medications                                                                       int64\n",
            "number_outpatient                                                                     int64\n",
            "                                                                                      ...  \n",
            "admission_source_grouped_Transfer from a Skilled Nursing Facility (SNF)                bool\n",
            "admission_source_grouped_Transfer from a hospital                                      bool\n",
            "admission_source_grouped_Transfer from another health care facility                    bool\n",
            "admission_source_grouped_Transfer from critial access hospital                         bool\n",
            "admission_source_grouped_Transfer from hospital inpt/same fac reslt in a sep claim     bool\n",
            "Length: 281, dtype: object\n"
          ]
        }
      ]
    },
    {
      "cell_type": "code",
      "source": [
        "bool_columns = data_encoded.select_dtypes(include=[bool]).columns\n",
        "print(\"Boolean Columns:\", bool_columns)"
      ],
      "metadata": {
        "id": "6FPImZvZy5Hc",
        "outputId": "2c5c56a6-5ba5-490d-ee6f-3517180fc9ff",
        "colab": {
          "base_uri": "https://localhost:8080/"
        }
      },
      "execution_count": 334,
      "outputs": [
        {
          "output_type": "stream",
          "name": "stdout",
          "text": [
            "Boolean Columns: Index(['race_AfricanAmerican', 'race_Asian', 'race_Caucasian', 'race_Hispanic', 'race_Other', 'gender_Female', 'gender_Male', 'age_[10-20)', 'age_[20-30)', 'age_[30-40)',\n",
            "       ...\n",
            "       'admission_source_grouped_Not Available', 'admission_source_grouped_Not Mapped', 'admission_source_grouped_Physician Referral', 'admission_source_grouped_Sick Baby', 'admission_source_grouped_Transfer from Ambulatory Surgery Center', 'admission_source_grouped_Transfer from a Skilled Nursing Facility (SNF)', 'admission_source_grouped_Transfer from a hospital', 'admission_source_grouped_Transfer from another health care facility', 'admission_source_grouped_Transfer from critial access hospital', 'admission_source_grouped_Transfer from hospital inpt/same fac reslt in a sep claim'], dtype='object', length=136)\n"
          ]
        }
      ]
    },
    {
      "cell_type": "code",
      "source": [
        "data_encoded[bool_columns] = data_encoded[bool_columns].astype(int)\n",
        "print(data_encoded.dtypes)"
      ],
      "metadata": {
        "id": "rnYH8J2_0pwe",
        "outputId": "c4836d90-061e-4e9d-a55b-94dc7e4b27af",
        "colab": {
          "base_uri": "https://localhost:8080/"
        }
      },
      "execution_count": 335,
      "outputs": [
        {
          "output_type": "stream",
          "name": "stdout",
          "text": [
            "time_in_hospital                                                                      int64\n",
            "num_lab_procedures                                                                    int64\n",
            "num_procedures                                                                        int64\n",
            "num_medications                                                                       int64\n",
            "number_outpatient                                                                     int64\n",
            "                                                                                      ...  \n",
            "admission_source_grouped_Transfer from a Skilled Nursing Facility (SNF)               int64\n",
            "admission_source_grouped_Transfer from a hospital                                     int64\n",
            "admission_source_grouped_Transfer from another health care facility                   int64\n",
            "admission_source_grouped_Transfer from critial access hospital                        int64\n",
            "admission_source_grouped_Transfer from hospital inpt/same fac reslt in a sep claim    int64\n",
            "Length: 281, dtype: object\n"
          ]
        }
      ]
    },
    {
      "cell_type": "code",
      "source": [
        "categorical_columns = data_encoded.select_dtypes(include=['object', 'category', 'bool']).columns\n",
        "print(\"Categorical columns:\", categorical_columns)"
      ],
      "metadata": {
        "id": "uKClzZgT6oqI",
        "outputId": "dc88f9d6-bfd2-4a61-b8cd-a468e246a10b",
        "colab": {
          "base_uri": "https://localhost:8080/"
        }
      },
      "execution_count": 336,
      "outputs": [
        {
          "output_type": "stream",
          "name": "stdout",
          "text": [
            "Categorical columns: Index([], dtype='object')\n"
          ]
        }
      ]
    },
    {
      "cell_type": "code",
      "source": [
        "import numpy as np\n",
        "import pandas as pd\n",
        "import matplotlib.pyplot as plt\n",
        "from scipy.cluster import hierarchy\n",
        "from scipy.spatial.distance import squareform\n",
        "from sklearn.preprocessing import StandardScaler\n",
        "\n",
        "# Step 1: Function to clean and prepare data\n",
        "def preprocess_data(X):\n",
        "    print(\"✅ Original shape:\", X.shape)\n",
        "    # Keep only numeric columns\n",
        "    X = X.select_dtypes(include=[np.number])\n",
        "    # Replace inf/-inf with NaNs\n",
        "    X = X.replace([np.inf, -np.inf], np.nan)\n",
        "    # Fill NaNs with column mean\n",
        "    X = X.fillna(X.mean())\n",
        "    # Drop constant columns\n",
        "    nunique = X.nunique()\n",
        "    const_cols = nunique[nunique == 1].index\n",
        "    X = X.drop(columns=const_cols)\n",
        "    print(\"✅ Cleaned shape (after dropping constant columns):\", X.shape)\n",
        "    return X\n",
        "\n",
        "def plot_dendrogram(X):\n",
        "    # Step 1: Correlation matrix\n",
        "    corr_matrix = X.corr().abs()\n",
        "\n",
        "    # Step 2: Distance matrix\n",
        "    distance_matrix = 1 - corr_matrix\n",
        "\n",
        "    # Ensure diagonal is zero and all values are in [0, 1]\n",
        "    np.fill_diagonal(distance_matrix.values, 0)\n",
        "    distance_matrix = np.clip(distance_matrix, 0, 1)\n",
        "\n",
        "    # Step 3: Convert to condensed distance matrix\n",
        "    condensed_distance = squareform(distance_matrix.values, checks=False)\n",
        "\n",
        "    # Step 4: Linkage and dendrogram\n",
        "    linkage_matrix = hierarchy.linkage(condensed_distance, method='ward')\n",
        "\n",
        "    plt.figure(figsize=(16, 6))\n",
        "    hierarchy.dendrogram(linkage_matrix)\n",
        "    plt.title(\"Dendrogram\")\n",
        "    plt.xlabel(\"Features\")\n",
        "    plt.ylabel(\"Distance\")\n",
        "    plt.axhline(y=1.0, color='r', linestyle='--')\n",
        "    plt.show()\n",
        "\n",
        "    return linkage_matrix\n",
        "\n",
        "# Step 3: Plot number of clusters vs distance threshold\n",
        "def plot_threshold_vs_clusters(linkage_matrix):\n",
        "    thresholds = np.linspace(0.5, 2.0, 50)\n",
        "    cluster_counts = [len(np.unique(hierarchy.fcluster(linkage_matrix, t=th, criterion='distance'))) for th in thresholds]\n",
        "\n",
        "    plt.figure(figsize=(10, 5))\n",
        "    plt.plot(thresholds, cluster_counts, marker='o')\n",
        "    plt.title(\"Number of Clusters vs. Distance Threshold\")\n",
        "    plt.xlabel(\"Distance Threshold\")\n",
        "    plt.ylabel(\"Number of Clusters\")\n",
        "    plt.grid(True)\n",
        "    plt.show()\n",
        "\n",
        "\n",
        "X_clean = preprocess_data(data_encoded)\n",
        "linkage_matrix = plot_dendrogram(X_clean)\n",
        "plot_threshold_vs_clusters(linkage_matrix)\n",
        "\n"
      ],
      "metadata": {
        "id": "26mddOJhBohz",
        "outputId": "bf44f115-f1aa-4429-a6d4-d44c14dc84ee",
        "colab": {
          "base_uri": "https://localhost:8080/",
          "height": 1000
        }
      },
      "execution_count": 337,
      "outputs": [
        {
          "output_type": "stream",
          "name": "stdout",
          "text": [
            "✅ Original shape: (78743, 281)\n",
            "✅ Cleaned shape (after dropping constant columns): (78743, 270)\n"
          ]
        },
        {
          "output_type": "display_data",
          "data": {
            "text/plain": [
              "<Figure size 1600x600 with 1 Axes>"
            ],
            "image/png": "[encoded data removed]"
          },
          "metadata": {}
        },
        {
          "output_type": "display_data",
          "data": {
            "text/plain": [
              "<Figure size 1000x500 with 1 Axes>"
            ],
            "image/png": "[encoded data removed]"
          },
          "metadata": {}
        }
      ]
    },
    {
      "cell_type": "code",
      "source": [
        "import pandas as pd\n",
        "\n",
        "def cluster_features(X, y, num_clusters=30):\n",
        "    print(\"Step 1: Extracting numeric columns...\")\n",
        "    X_numeric = X.select_dtypes(include=[np.number])\n",
        "\n",
        "    print(\"Step 2: Cleaning NaNs and infs...\")\n",
        "    X_clean = X_numeric.replace([np.inf, -np.inf], np.nan)\n",
        "    X_clean = X_clean.fillna(X_clean.mean())\n",
        "\n",
        "    # Drop constant columns\n",
        "    nunique = X_clean.nunique()\n",
        "    constant_cols = nunique[nunique <= 1].index\n",
        "    X_clean = X_clean.drop(columns=constant_cols)\n",
        "    print(f\" Step 3: Removed {len(constant_cols)} constant columns. Remaining: {X_clean.shape[1]}\")\n",
        "\n",
        "    print(\"Step 4: Computing correlation matrix...\")\n",
        "    corr_matrix = X_clean.corr().abs()\n",
        "\n",
        "    print(\" Step 5: Creating distance matrix...\")\n",
        "    distance_matrix = 1 - corr_matrix\n",
        "\n",
        "    # Clip values to avoid negative distances due to numerical issues\n",
        "    distance_matrix = distance_matrix.clip(lower=0.0, upper=1.0)\n",
        "    condensed_distance = squareform(distance_matrix.values, checks=False)\n",
        "\n",
        "    # Final checks before clustering\n",
        "    if not np.all(np.isfinite(condensed_distance)):\n",
        "        raise ValueError(\"Condensed distance matrix contains non-finite values!\")\n",
        "    if np.any(condensed_distance < 0):\n",
        "        raise ValueError(\" Condensed distance matrix contains negative values!\")\n",
        "\n",
        "    print(\" Step 6: Performing hierarchical clustering...\")\n",
        "    linkage_matrix = hierarchy.linkage(condensed_distance, method='ward')\n",
        "\n",
        "    print(\" Step 7: Forming clusters...\")\n",
        "    clusters = hierarchy.fcluster(linkage_matrix, t=num_clusters, criterion='maxclust')\n",
        "\n",
        "    print(\"Step 8: Selecting representative features per cluster...\")\n",
        "    selected_features = []\n",
        "    for cluster_id in np.unique(clusters):\n",
        "        cluster_indices = np.where(clusters == cluster_id)[0]\n",
        "        cluster_columns = X_clean.columns[cluster_indices]\n",
        "\n",
        "        # Pick feature in cluster most correlated with target\n",
        "        best_feature = cluster_columns[np.argmax(X_clean[cluster_columns].corrwith(y).abs())]\n",
        "        selected_features.append(best_feature)\n",
        "\n",
        "    print(f\" Step 9: Selected {len(selected_features)} features from {num_clusters} clusters.\")\n",
        "    return selected_features\n",
        "\n",
        "# Apply the function to get selected features\n",
        "selected_features = cluster_features(data_encoded, y, num_clusters=30)\n",
        "\n",
        "# Combine selected features with target column y\n",
        "data_selected = data_encoded[selected_features].copy()  # Copy the selected features to a new DataFrame\n",
        "data_selected['admitted_ind'] = y  # Add target column\n",
        "\n",
        "# Save the final data to a CSV file\n",
        "csv_filename = 'final_selected_data.csv'\n",
        "data_selected.to_csv(csv_filename, index=False)\n",
        "\n",
        "# Output the resulting DataFrame and save to CSV\n",
        "print(f\"Data with selected features and target column saved to: {csv_filename}\")\n",
        "print(data_selected.head())  # Preview the first few rows\n",
        "\n"
      ],
      "metadata": {
        "id": "WDmXMOznAMuH",
        "outputId": "57c24030-15b9-485b-8d3e-481df26919d7",
        "colab": {
          "base_uri": "https://localhost:8080/"
        }
      },
      "execution_count": 338,
      "outputs": [
        {
          "output_type": "stream",
          "name": "stdout",
          "text": [
            "Step 1: Extracting numeric columns...\n",
            "Step 2: Cleaning NaNs and infs...\n",
            " Step 3: Removed 11 constant columns. Remaining: 270\n",
            "Step 4: Computing correlation matrix...\n",
            " Step 5: Creating distance matrix...\n",
            " Step 6: Performing hierarchical clustering...\n",
            " Step 7: Forming clusters...\n",
            "Step 8: Selecting representative features per cluster...\n",
            " Step 9: Selected 30 features from 30 clusters.\n",
            "Data with selected features and target column saved to: final_selected_data.csv\n",
            "   mb_readmitted_ct  admission_type_Unknown  mb_admission_grp_2_ct  diabetesMed_No  metformin_No  is_clinic_or_transfer  dx_440_ind_sum  dx_707_ind_sum  dx_403_ind_sum  mb_num_procedures_ct  dx_404_ind_max  dx_396_ind_max  dx_536_ind_max  dx_304_ind_max  dx_453_ind_sum  dx_300_ind_sum  mb_number_outpatient_ct  payer_code_BC  dx_482_ind_max  dx_459_ind_sum  dx_595_ind_sum  dx_719_ind_max  gender_Male  miglitol_Steady  dx_515_ind_sum  dx_V49_ind_max  dx_V42_ind_sum  dx_790_ind_sum  dx_571_ind_sum  mb_discharge_grp_2_ct  admitted_ind\n",
            "1                 1                       0                      0               0             1                      0               0               0               0                     0               0               0               0               0               0               0                        0              0               0               0               0               0            0                0               0               0               0               0               0                      0             1\n",
            "2                 0                       0                      0               0             1                      0               0               0               0                     5               0               0               0               0               0               0                        2              0               0               0               0               0            0                0               0               0               0               0               0                      0             0\n",
            "3                 0                       0                      0               0             1                      0               0               0               1                     1               0               0               0               0               0               0                        0              0               0               0               0               0            1                0               0               0               0               0               0                      0             0\n",
            "4                 0                       0                      0               0             1                      0               0               0               0                     0               0               0               0               0               0               0                        0              0               0               0               0               0            1                0               0               0               0               0               0                      0             0\n",
            "5                 1                       0                      0               0             1                      1               0               0               0                     6               0               0               0               0               0               0                        0              0               0               0               0               0            1                0               0               0               0               0               0                      0             1\n"
          ]
        }
      ]
    }
  ],
  "metadata": {
    "kernelspec": {
      "display_name": "Python 3",
      "language": "python",
      "name": "python3"
    },
    "language_info": {
      "codemirror_mode": {
        "name": "ipython",
        "version": 3
      },
      "file_extension": ".py",
      "mimetype": "text/x-python",
      "name": "python",
      "nbconvert_exporter": "python",
      "pygments_lexer": "ipython3",
      "version": "3.8.10"
    },
    "colab": {
      "provenance": []
    }
  },
  "nbformat": 4,
  "nbformat_minor": 0
}