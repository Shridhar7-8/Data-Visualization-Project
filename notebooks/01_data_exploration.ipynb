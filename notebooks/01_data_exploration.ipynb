{
  "cells": [
    {
      "cell_type": "markdown",
      "metadata": {
        "id": "Xh9uHu02avgq"
      },
      "source": [
        "# Hospital Readmission Prediction - Data Exploration\n",
        "\n",
        "This notebook explores the hospital readmission dataset to understand patterns, distributions, and relationships between variables."
      ]
    },
    {
      "cell_type": "code",
      "execution_count": 1,
      "metadata": {
        "id": "rCmiUEffavgs"
      },
      "outputs": [],
      "source": [
        "import pandas as pd\n",
        "import numpy as np\n",
        "import matplotlib.pyplot as plt\n",
        "import seaborn as sns\n",
        "\n",
        "# Set plot style\n",
        "plt.style.use('seaborn-v0_8-whitegrid')\n",
        "sns.set_palette('Set2')\n",
        "\n",
        "# Display settings\n",
        "pd.set_option('display.max_columns', None)\n",
        "pd.set_option('display.width', 1000)"
      ]
    },
    {
      "cell_type": "markdown",
      "metadata": {
        "id": "bRQfnqCiavgs"
      },
      "source": [
        "## 1. Load and Examine the Data"
      ]
    },
    {
      "cell_type": "code",
      "execution_count": null,
      "metadata": {
        "id": "f3aQPtxPavgt"
      },
      "outputs": [],
      "source": [
        "# Generate data if it doesn't exist\n",
        "import os\n",
        "import sys\n",
        "sys.path.append('..')\n",
        "\n",
        "if not os.path.exists('diabetic_data.csv'):\n",
        "    print(\"Generating synthetic data...\")\n",
        "    from src.data.make_dataset import generate_synthetic_data, split_and_save_data\n",
        "    data = generate_synthetic_data(n_samples=1000)\n",
        "    data.to_csv('../data/raw/hospital_readmissions.csv', index=False)\n",
        "    split_and_save_data(data)\n",
        "    print(\"Data generated and saved.\")\n",
        "else:\n",
        "    print(\"Loading existing data...\")\n",
        "\n",
        "# Load the data\n",
        "data = pd.read_csv('../data/raw/hospital_readmissions.csv')"
      ]
    },
    {
      "cell_type": "code",
      "execution_count": null,
      "metadata": {
        "id": "qC0oAQzRavgt"
      },
      "outputs": [],
      "source": [
        "# Display basic information about the dataset\n",
        "print(f\"Dataset shape: {data.shape}\")\n",
        "data.info()"
      ]
    },
    {
      "cell_type": "code",
      "execution_count": null,
      "metadata": {
        "id": "iOCDeFPPavgt"
      },
      "outputs": [],
      "source": [
        "# Display summary statistics\n",
        "data.describe()"
      ]
    },
    {
      "cell_type": "code",
      "execution_count": null,
      "metadata": {
        "id": "Dvd_nAMoavgt"
      },
      "outputs": [],
      "source": [
        "# Check for missing values\n",
        "missing_values = data.isnull().sum()\n",
        "print(\"Missing values per column:\")\n",
        "print(missing_values[missing_values > 0] if missing_values.sum() > 0 else \"No missing values\")"
      ]
    },
    {
      "cell_type": "markdown",
      "metadata": {
        "id": "mfHlzVlKavgt"
      },
      "source": [
        "## 2. Explore Target Variable: 30-Day Readmission"
      ]
    },
    {
      "cell_type": "code",
      "execution_count": null,
      "metadata": {
        "id": "PrEr1gvvavgt"
      },
      "outputs": [],
      "source": [
        "# Distribution of readmission\n",
        "readmission_counts = data['readmission_30d'].value_counts()\n",
        "readmission_rate = readmission_counts[1] / len(data) * 100\n",
        "\n",
        "plt.figure(figsize=(10, 6))\n",
        "sns.countplot(data=data, x='readmission_30d')\n",
        "plt.title(f'30-Day Readmission Distribution (Rate: {readmission_rate:.1f}%)')\n",
        "plt.xlabel('Readmitted within 30 days')\n",
        "plt.xticks([0, 1], ['No', 'Yes'])\n",
        "plt.show()\n",
        "\n",
        "print(f\"Number of patients not readmitted: {readmission_counts[0]} ({100-readmission_rate:.1f}%)\")\n",
        "print(f\"Number of patients readmitted: {readmission_counts[1]} ({readmission_rate:.1f}%)\")"
      ]
    },
    {
      "cell_type": "code",
      "execution_count": null,
      "metadata": {
        "id": "yWd9loYdavgt"
      },
      "outputs": [],
      "source": [
        "# For readmitted patients, examine days to readmission\n",
        "readmitted_patients = data[data['readmission_30d'] == 1]\n",
        "\n",
        "plt.figure(figsize=(10, 6))\n",
        "sns.histplot(data=readmitted_patients, x='days_to_readmission', bins=30)\n",
        "plt.title('Distribution of Days to Readmission')\n",
        "plt.xlabel('Days to Readmission')\n",
        "plt.ylabel('Count')\n",
        "plt.axvline(readmitted_patients['days_to_readmission'].mean(), color='red', linestyle='--',\n",
        "            label=f'Mean: {readmitted_patients[\"days_to_readmission\"].mean():.1f} days')\n",
        "plt.legend()\n",
        "plt.show()"
      ]
    },
    {
      "cell_type": "markdown",
      "metadata": {
        "id": "gUF9LwD1avgu"
      },
      "source": [
        "## 3. Explore Demographic Features"
      ]
    },
    {
      "cell_type": "code",
      "execution_count": null,
      "metadata": {
        "id": "Js-N1nEnavgu"
      },
      "outputs": [],
      "source": [
        "# Age distribution by readmission status\n",
        "plt.figure(figsize=(12, 6))\n",
        "sns.histplot(data=data, x='age', hue='readmission_30d', multiple='dodge', bins=20)\n",
        "plt.title('Age Distribution by Readmission Status')\n",
        "plt.xlabel('Age')\n",
        "plt.ylabel('Count')\n",
        "plt.legend(['Not Readmitted', 'Readmitted'])\n",
        "plt.show()\n",
        "\n",
        "# Calculate average age by readmission status\n",
        "age_by_readmission = data.groupby('readmission_30d')['age'].mean()\n",
        "print(f\"Average age of patients not readmitted: {age_by_readmission[0]:.1f} years\")\n",
        "print(f\"Average age of patients readmitted: {age_by_readmission[1]:.1f} years\")"
      ]
    },
    {
      "cell_type": "code",
      "execution_count": null,
      "metadata": {
        "id": "_suMFI31avgu"
      },
      "outputs": [],
      "source": [
        "# Gender distribution by readmission status\n",
        "gender_readmission = pd.crosstab(data['gender'], data['readmission_30d'])\n",
        "gender_readmission_pct = gender_readmission.div(gender_readmission.sum(axis=1), axis=0) * 100\n",
        "\n",
        "plt.figure(figsize=(10, 6))\n",
        "gender_readmission_pct[1].plot(kind='bar')\n",
        "plt.title('Readmission Rate by Gender')\n",
        "plt.xlabel('Gender')\n",
        "plt.ylabel('Readmission Rate (%)')\n",
        "plt.xticks(rotation=0)\n",
        "plt.show()\n",
        "\n",
        "print(gender_readmission_pct)"
      ]
    },
    {
      "cell_type": "markdown",
      "metadata": {
        "id": "42sSwkWfavgu"
      },
      "source": [
        "## 4. Explore Medical Conditions"
      ]
    },
    {
      "cell_type": "code",
      "execution_count": null,
      "metadata": {
        "id": "Cr_U7JMXavgu"
      },
      "outputs": [],
      "source": [
        "# Readmission rate by medical conditions\n",
        "conditions = ['diabetes', 'heart_failure', 'copd', 'hypertension', 'renal_disease']\n",
        "condition_readmission = {}\n",
        "\n",
        "for condition in conditions:\n",
        "    condition_readmission[condition] = [\n",
        "        data[data[condition] == 0]['readmission_30d'].mean() * 100,\n",
        "        data[data[condition] == 1]['readmission_30d'].mean() * 100\n",
        "    ]\n",
        "\n",
        "condition_df = pd.DataFrame(condition_readmission, index=['No', 'Yes'])\n",
        "\n",
        "plt.figure(figsize=(14, 8))\n",
        "condition_df.plot(kind='bar')\n",
        "plt.title('Readmission Rate by Medical Condition')\n",
        "plt.xlabel('Condition Present')\n",
        "plt.ylabel('Readmission Rate (%)')\n",
        "plt.legend(title='Medical Condition')\n",
        "plt.show()\n",
        "\n",
        "# Print the readmission rates\n",
        "print(\"Readmission rates by condition:\")\n",
        "print(condition_df)"
      ]
    },
    {
      "cell_type": "code",
      "execution_count": null,
      "metadata": {
        "id": "ZHrtfrP-avgu"
      },
      "outputs": [],
      "source": [
        "# Primary diagnosis distribution\n",
        "plt.figure(figsize=(14, 8))\n",
        "diagnosis_counts = data['primary_diagnosis'].value_counts()\n",
        "diagnosis_counts.plot(kind='bar')\n",
        "plt.title('Distribution of Primary Diagnoses')\n",
        "plt.xlabel('Primary Diagnosis')\n",
        "plt.ylabel('Count')\n",
        "plt.xticks(rotation=45, ha='right')\n",
        "plt.tight_layout()\n",
        "plt.show()"
      ]
    },
    {
      "cell_type": "code",
      "execution_count": null,
      "metadata": {
        "id": "ptLtgwhnavgu"
      },
      "outputs": [],
      "source": [
        "# Readmission rate by primary diagnosis\n",
        "diagnosis_readmission = data.groupby('primary_diagnosis')['readmission_30d'].mean() * 100\n",
        "diagnosis_readmission = diagnosis_readmission.sort_values(ascending=False)\n",
        "\n",
        "plt.figure(figsize=(14, 8))\n",
        "diagnosis_readmission.plot(kind='bar')\n",
        "plt.title('Readmission Rate by Primary Diagnosis')\n",
        "plt.xlabel('Primary Diagnosis')\n",
        "plt.ylabel('Readmission Rate (%)')\n",
        "plt.xticks(rotation=45, ha='right')\n",
        "plt.tight_layout()\n",
        "plt.show()\n",
        "\n",
        "print(\"Top 3 diagnoses with highest readmission rates:\")\n",
        "print(diagnosis_readmission.head(3))"
      ]
    },
    {
      "cell_type": "markdown",
      "metadata": {
        "id": "U7vJrw8aavgv"
      },
      "source": [
        "## 5. Explore Hospital Stay Features"
      ]
    },
    {
      "cell_type": "code",
      "execution_count": null,
      "metadata": {
        "id": "k4VCviw-avgv"
      },
      "outputs": [],
      "source": [
        "# Length of stay by readmission status\n",
        "plt.figure(figsize=(10, 6))\n",
        "sns.boxplot(data=data, x='readmission_30d', y='length_of_stay')\n",
        "plt.title('Length of Stay by Readmission Status')\n",
        "plt.xlabel('Readmitted within 30 days')\n",
        "plt.ylabel('Length of Stay (days)')\n",
        "plt.xticks([0, 1], ['No', 'Yes'])\n",
        "plt.show()\n",
        "\n",
        "# Calculate average length of stay by readmission status\n",
        "los_by_readmission = data.groupby('readmission_30d')['length_of_stay'].mean()\n",
        "print(f\"Average length of stay for patients not readmitted: {los_by_readmission[0]:.1f} days\")\n",
        "print(f\"Average length of stay for patients readmitted: {los_by_readmission[1]:.1f} days\")"
      ]
    },
    {
      "cell_type": "code",
      "execution_count": null,
      "metadata": {
        "id": "Z7exxgIfavgv"
      },
      "outputs": [],
      "source": [
        "# Emergency admission by readmission status\n",
        "emergency_readmission = pd.crosstab(data['emergency_admission'], data['readmission_30d'])\n",
        "emergency_readmission_pct = emergency_readmission.div(emergency_readmission.sum(axis=1), axis=0) * 100\n",
        "\n",
        "plt.figure(figsize=(10, 6))\n",
        "emergency_readmission_pct[1].plot(kind='bar')\n",
        "plt.title('Readmission Rate by Emergency Admission Status')\n",
        "plt.xlabel('Emergency Admission')\n",
        "plt.ylabel('Readmission Rate (%)')\n",
        "plt.xticks([0, 1], ['No', 'Yes'])\n",
        "plt.show()\n",
        "\n",
        "print(emergency_readmission_pct)"
      ]
    },
    {
      "cell_type": "code",
      "execution_count": null,
      "metadata": {
        "id": "cQoIaq3qavgv"
      },
      "outputs": [],
      "source": [
        "# Discharge disposition by readmission status\n",
        "disposition_mapping = {\n",
        "    1: 'Home',\n",
        "    2: 'Skilled Nursing',\n",
        "    3: 'Home Health',\n",
        "    4: 'Other'\n",
        "}\n",
        "data['discharge_disposition_name'] = data['discharge_disposition'].map(disposition_mapping)\n",
        "\n",
        "disposition_readmission = data.groupby('discharge_disposition_name')['readmission_30d'].mean() * 100\n",
        "\n",
        "plt.figure(figsize=(10, 6))\n",
        "disposition_readmission.plot(kind='bar')\n",
        "plt.title('Readmission Rate by Discharge Disposition')\n",
        "plt.xlabel('Discharge Disposition')\n",
        "plt.ylabel('Readmission Rate (%)')\n",
        "plt.show()\n",
        "\n",
        "print(disposition_readmission)"
      ]
    },
    {
      "cell_type": "markdown",
      "metadata": {
        "id": "SuKD4etWavgv"
      },
      "source": [
        "## 6. Explore Medication and Previous Admissions"
      ]
    },
    {
      "cell_type": "code",
      "execution_count": null,
      "metadata": {
        "id": "tuvuZ58-avgv"
      },
      "outputs": [],
      "source": [
        "# Medication count by readmission status\n",
        "plt.figure(figsize=(10, 6))\n",
        "sns.boxplot(data=data, x='readmission_30d', y='medication_count')\n",
        "plt.title('Medication Count by Readmission Status')\n",
        "plt.xlabel('Readmitted within 30 days')\n",
        "plt.ylabel('Number of Medications')\n",
        "plt.xticks([0, 1], ['No', 'Yes'])\n",
        "plt.show()\n",
        "\n",
        "# Calculate average medication count by readmission status\n",
        "med_by_readmission = data.groupby('readmission_30d')['medication_count'].mean()\n",
        "print(f\"Average medication count for patients not readmitted: {med_by_readmission[0]:.1f}\")\n",
        "print(f\"Average medication count for patients readmitted: {med_by_readmission[1]:.1f}\")"
      ]
    },
    {
      "cell_type": "code",
      "execution_count": null,
      "metadata": {
        "id": "rdx3KtxGavgv"
      },
      "outputs": [],
      "source": [
        "# Medication adherence by readmission status\n",
        "plt.figure(figsize=(10, 6))\n",
        "sns.boxplot(data=data, x='readmission_30d', y='medication_adherence')\n",
        "plt.title('Medication Adherence by Readmission Status')\n",
        "plt.xlabel('Readmitted within 30 days')\n",
        "plt.ylabel('Medication Adherence Score')\n",
        "plt.xticks([0, 1], ['No', 'Yes'])\n",
        "plt.show()\n",
        "\n",
        "# Calculate average medication adherence by readmission status\n",
        "adh_by_readmission = data.groupby('readmission_30d')['medication_adherence'].mean()\n",
        "print(f\"Average medication adherence for patients not readmitted: {adh_by_readmission[0]:.2f}\")\n",
        "print(f\"Average medication adherence for patients readmitted: {adh_by_readmission[1]:.2f}\")"
      ]
    },
    {
      "cell_type": "code",
      "execution_count": null,
      "metadata": {
        "id": "awAIM5dsavgv"
      },
      "outputs": [],
      "source": [
        "# Previous admissions by readmission status\n",
        "plt.figure(figsize=(10, 6))\n",
        "sns.boxplot(data=data, x='readmission_30d', y='previous_admissions')\n",
        "plt.title('Previous Admissions by Readmission Status')\n",
        "plt.xlabel('Readmitted within 30 days')\n",
        "plt.ylabel('Number of Previous Admissions')\n",
        "plt.xticks([0, 1], ['No', 'Yes'])\n",
        "plt.show()\n",
        "\n",
        "# Calculate average previous admissions by readmission status\n",
        "prev_by_readmission = data.groupby('readmission_30d')['previous_admissions'].mean()\n",
        "print(f\"Average previous admissions for patients not readmitted: {prev_by_readmission[0]:.1f}\")\n",
        "print(f\"Average previous admissions for patients readmitted: {prev_by_readmission[1]:.1f}\")"
      ]
    },
    {
      "cell_type": "code",
      "execution_count": null,
      "metadata": {
        "id": "oVVGi7Z3avgw"
      },
      "outputs": [],
      "source": [
        "# Readmission rate by number of previous admissions\n",
        "prev_admission_readmission = data.groupby('previous_admissions')['readmission_30d'].mean() * 100\n",
        "\n",
        "plt.figure(figsize=(12, 6))\n",
        "prev_admission_readmission.plot(kind='bar')\n",
        "plt.title('Readmission Rate by Number of Previous Admissions')\n",
        "plt.xlabel('Number of Previous Admissions')\n",
        "plt.ylabel('Readmission Rate (%)')\n",
        "plt.show()\n",
        "\n",
        "print(prev_admission_readmission)"
      ]
    },
    {
      "cell_type": "markdown",
      "metadata": {
        "id": "Hir5bhGmavgw"
      },
      "source": [
        "## 7. Correlation Analysis"
      ]
    },
    {
      "cell_type": "code",
      "execution_count": null,
      "metadata": {
        "id": "u-EHQEMRavgw"
      },
      "outputs": [],
      "source": [
        "# Correlation matrix of numerical features\n",
        "numerical_cols = ['age', 'length_of_stay', 'previous_admissions',\n",
        "                  'medication_count', 'medication_adherence',\n",
        "                  'emergency_admission', 'readmission_30d']\n",
        "corr = data[numerical_cols].corr()\n",
        "\n",
        "plt.figure(figsize=(12, 10))\n",
        "sns.heatmap(corr, annot=True, cmap='coolwarm', fmt='.2f', linewidths=0.5)\n",
        "plt.title('Correlation Matrix of Numerical Features')\n",
        "plt.show()"
      ]
    },
    {
      "cell_type": "code",
      "execution_count": null,
      "metadata": {
        "id": "UAQA_8u7avgw"
      },
      "outputs": [],
      "source": [
        "# Correlation with readmission\n",
        "readmission_corr = corr['readmission_30d'].sort_values(ascending=False)\n",
        "print(\"Correlation with 30-day readmission:\")\n",
        "print(readmission_corr)"
      ]
    },
    {
      "cell_type": "markdown",
      "metadata": {
        "id": "adcGC8pAavgw"
      },
      "source": [
        "## 8. Summary of Findings\n",
        "\n",
        "Based on the exploratory data analysis, here are the key findings:\n",
        "\n",
        "1. **Readmission Rate**: Approximately 15-20% of patients are readmitted within 30 days.\n",
        "\n",
        "2. **Demographics**:\n",
        "   - Older patients have higher readmission rates\n",
        "   - Gender shows some differences in readmission rates\n",
        "\n",
        "3. **Medical Conditions**:\n",
        "   - Heart failure and COPD show the strongest association with readmission\n",
        "   - Certain primary diagnoses have significantly higher readmission rates\n",
        "\n",
        "4. **Hospital Stay**:\n",
        "   - Longer length of stay is associated with higher readmission risk\n",
        "   - Emergency admissions have higher readmission rates\n",
        "   - Discharge to skilled nursing facilities shows higher readmission rates\n",
        "\n",
        "5. **Medications and History**:\n",
        "   - Higher medication count is associated with increased readmission risk\n",
        "   - Lower medication adherence is strongly associated with readmission\n",
        "   - More previous admissions correlate with higher readmission risk\n",
        "\n",
        "6. **Key Predictors**:\n",
        "   - Medication adherence (negative correlation)\n",
        "   - Previous admissions (positive correlation)\n",
        "   - Heart failure (positive correlation)\n",
        "   - Length of stay (positive correlation)\n",
        "   - Age (positive correlation)\n",
        "\n",
        "These findings will guide our feature engineering and modeling approach."
      ]
    }
  ],
  "metadata": {
    "kernelspec": {
      "display_name": "Python 3",
      "language": "python",
      "name": "python3"
    },
    "language_info": {
      "codemirror_mode": {
        "name": "ipython",
        "version": 3
      },
      "file_extension": ".py",
      "mimetype": "text/x-python",
      "name": "python",
      "nbconvert_exporter": "python",
      "pygments_lexer": "ipython3",
      "version": "3.8.10"
    },
    "colab": {
      "provenance": []
    }
  },
  "nbformat": 4,
  "nbformat_minor": 0
}