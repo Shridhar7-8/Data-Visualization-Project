{
  "cells": [
    {
      "cell_type": "markdown",
      "metadata": {
        "id": "Xh9uHu02avgq"
      },
      "source": [
        "# Hospital Readmission Prediction - Data Exploration\n",
        "\n",
        "This notebook explores the hospital readmission dataset to understand patterns, distributions, and relationships between variables."
      ]
    },
    {
      "cell_type": "code",
      "execution_count": 2,
      "metadata": {
        "id": "rCmiUEffavgs"
      },
      "outputs": [],
      "source": [
        "import pandas as pd\n",
        "import numpy as np\n",
        "import matplotlib.pyplot as plt\n",
        "import seaborn as sns\n",
        "\n",
        "# Set plot style\n",
        "plt.style.use('seaborn-v0_8-whitegrid')\n",
        "sns.set_palette('Set2')\n",
        "\n",
        "# Display settings\n",
        "pd.set_option('display.max_columns', None)\n",
        "pd.set_option('display.width', 1000)"
      ]
    },
    {
      "cell_type": "markdown",
      "metadata": {
        "id": "bRQfnqCiavgs"
      },
      "source": [
        "## 1. Load and Examine the Data"
      ]
    },
    {
      "cell_type": "code",
      "execution_count": 3,
      "metadata": {
        "colab": {
          "base_uri": "https://localhost:8080/"
        },
        "id": "f3aQPtxPavgt",
        "outputId": "4461e029-a557-401c-8c87-39307f720c46"
      },
      "outputs": [
        {
          "output_type": "stream",
          "name": "stdout",
          "text": [
            "Loading existing data...\n"
          ]
        }
      ],
      "source": [
        "# Generate data if it doesn't exist\n",
        "import os\n",
        "import sys\n",
        "sys.path.append('..')\n",
        "\n",
        "if not os.path.exists('diabetic_data.csv'):\n",
        "    print(\"Generating synthetic data...\")\n",
        "    from src.data.make_dataset import generate_synthetic_data, split_and_save_data\n",
        "    data = generate_synthetic_data(n_samples=1000)\n",
        "    data.to_csv('diabetic_data.csv', index=False)\n",
        "    split_and_save_data(data)\n",
        "    print(\"Data generated and saved.\")\n",
        "else:\n",
        "    print(\"Loading existing data...\")\n",
        "\n",
        "# Load the data\n",
        "data = pd.read_csv('diabetic_data.csv')"
      ]
    },
    {
      "cell_type": "code",
      "execution_count": 4,
      "metadata": {
        "colab": {
          "base_uri": "https://localhost:8080/"
        },
        "id": "qC0oAQzRavgt",
        "outputId": "5e3e7285-0160-42a6-d358-e6dc5ab3b465"
      },
      "outputs": [
        {
          "output_type": "stream",
          "name": "stdout",
          "text": [
            "Dataset shape: (101766, 50)\n",
            "<class 'pandas.core.frame.DataFrame'>\n",
            "RangeIndex: 101766 entries, 0 to 101765\n",
            "Data columns (total 50 columns):\n",
            " #   Column                    Non-Null Count   Dtype \n",
            "---  ------                    --------------   ----- \n",
            " 0   encounter_id              101766 non-null  int64 \n",
            " 1   patient_nbr               101766 non-null  int64 \n",
            " 2   race                      101766 non-null  object\n",
            " 3   gender                    101766 non-null  object\n",
            " 4   age                       101766 non-null  object\n",
            " 5   weight                    101766 non-null  object\n",
            " 6   admission_type_id         101766 non-null  int64 \n",
            " 7   discharge_disposition_id  101766 non-null  int64 \n",
            " 8   admission_source_id       101766 non-null  int64 \n",
            " 9   time_in_hospital          101766 non-null  int64 \n",
            " 10  payer_code                101766 non-null  object\n",
            " 11  medical_specialty         101766 non-null  object\n",
            " 12  num_lab_procedures        101766 non-null  int64 \n",
            " 13  num_procedures            101766 non-null  int64 \n",
            " 14  num_medications           101766 non-null  int64 \n",
            " 15  number_outpatient         101766 non-null  int64 \n",
            " 16  number_emergency          101766 non-null  int64 \n",
            " 17  number_inpatient          101766 non-null  int64 \n",
            " 18  diag_1                    101766 non-null  object\n",
            " 19  diag_2                    101766 non-null  object\n",
            " 20  diag_3                    101766 non-null  object\n",
            " 21  number_diagnoses          101766 non-null  int64 \n",
            " 22  max_glu_serum             5346 non-null    object\n",
            " 23  A1Cresult                 17018 non-null   object\n",
            " 24  metformin                 101766 non-null  object\n",
            " 25  repaglinide               101766 non-null  object\n",
            " 26  nateglinide               101766 non-null  object\n",
            " 27  chlorpropamide            101766 non-null  object\n",
            " 28  glimepiride               101766 non-null  object\n",
            " 29  acetohexamide             101766 non-null  object\n",
            " 30  glipizide                 101766 non-null  object\n",
            " 31  glyburide                 101766 non-null  object\n",
            " 32  tolbutamide               101766 non-null  object\n",
            " 33  pioglitazone              101766 non-null  object\n",
            " 34  rosiglitazone             101766 non-null  object\n",
            " 35  acarbose                  101766 non-null  object\n",
            " 36  miglitol                  101766 non-null  object\n",
            " 37  troglitazone              101766 non-null  object\n",
            " 38  tolazamide                101766 non-null  object\n",
            " 39  examide                   101766 non-null  object\n",
            " 40  citoglipton               101766 non-null  object\n",
            " 41  insulin                   101766 non-null  object\n",
            " 42  glyburide-metformin       101766 non-null  object\n",
            " 43  glipizide-metformin       101766 non-null  object\n",
            " 44  glimepiride-pioglitazone  101766 non-null  object\n",
            " 45  metformin-rosiglitazone   101766 non-null  object\n",
            " 46  metformin-pioglitazone    101766 non-null  object\n",
            " 47  change                    101766 non-null  object\n",
            " 48  diabetesMed               101766 non-null  object\n",
            " 49  readmitted                101766 non-null  object\n",
            "dtypes: int64(13), object(37)\n",
            "memory usage: 38.8+ MB\n"
          ]
        }
      ],
      "source": [
        "# Display basic information about the dataset\n",
        "print(f\"Dataset shape: {data.shape}\")\n",
        "data.info()"
      ]
    },
    {
      "cell_type": "code",
      "execution_count": 5,
      "metadata": {
        "colab": {
          "base_uri": "https://localhost:8080/",
          "height": 320
        },
        "id": "iOCDeFPPavgt",
        "outputId": "17092a52-c75b-42cb-a514-578c577966ec"
      },
      "outputs": [
        {
          "output_type": "execute_result",
          "data": {
            "text/plain": [
              "       encounter_id   patient_nbr  admission_type_id  discharge_disposition_id  admission_source_id  time_in_hospital  num_lab_procedures  num_procedures  num_medications  number_outpatient  number_emergency  number_inpatient  number_diagnoses\n",
              "count  1.017660e+05  1.017660e+05      101766.000000             101766.000000        101766.000000     101766.000000       101766.000000   101766.000000    101766.000000      101766.000000     101766.000000     101766.000000     101766.000000\n",
              "mean   1.652016e+08  5.433040e+07           2.024006                  3.715642             5.754437          4.395987           43.095641        1.339730        16.021844           0.369357          0.197836          0.635566          7.422607\n",
              "std    1.026403e+08  3.869636e+07           1.445403                  5.280166             4.064081          2.985108           19.674362        1.705807         8.127566           1.267265          0.930472          1.262863          1.933600\n",
              "min    1.252200e+04  1.350000e+02           1.000000                  1.000000             1.000000          1.000000            1.000000        0.000000         1.000000           0.000000          0.000000          0.000000          1.000000\n",
              "25%    8.496119e+07  2.341322e+07           1.000000                  1.000000             1.000000          2.000000           31.000000        0.000000        10.000000           0.000000          0.000000          0.000000          6.000000\n",
              "50%    1.523890e+08  4.550514e+07           1.000000                  1.000000             7.000000          4.000000           44.000000        1.000000        15.000000           0.000000          0.000000          0.000000          8.000000\n",
              "75%    2.302709e+08  8.754595e+07           3.000000                  4.000000             7.000000          6.000000           57.000000        2.000000        20.000000           0.000000          0.000000          1.000000          9.000000\n",
              "max    4.438672e+08  1.895026e+08           8.000000                 28.000000            25.000000         14.000000          132.000000        6.000000        81.000000          42.000000         76.000000         21.000000         16.000000"
            ],
            "text/html": [
              "\n",
              "  <div id=\"df-e1fe1770-ab88-4f9a-934b-69957161855c\" class=\"colab-df-container\">\n",
              "    <div>\n",
              "<style scoped>\n",
              "    .dataframe tbody tr th:only-of-type {\n",
              "        vertical-align: middle;\n",
              "    }\n",
              "\n",
              "    .dataframe tbody tr th {\n",
              "        vertical-align: top;\n",
              "    }\n",
              "\n",
              "    .dataframe thead th {\n",
              "        text-align: right;\n",
              "    }\n",
              "</style>\n",
              "<table border=\"1\" class=\"dataframe\">\n",
              "  <thead>\n",
              "    <tr style=\"text-align: right;\">\n",
              "      <th></th>\n",
              "      <th>encounter_id</th>\n",
              "      <th>patient_nbr</th>\n",
              "      <th>admission_type_id</th>\n",
              "      <th>discharge_disposition_id</th>\n",
              "      <th>admission_source_id</th>\n",
              "      <th>time_in_hospital</th>\n",
              "      <th>num_lab_procedures</th>\n",
              "      <th>num_procedures</th>\n",
              "      <th>num_medications</th>\n",
              "      <th>number_outpatient</th>\n",
              "      <th>number_emergency</th>\n",
              "      <th>number_inpatient</th>\n",
              "      <th>number_diagnoses</th>\n",
              "    </tr>\n",
              "  </thead>\n",
              "  <tbody>\n",
              "    <tr>\n",
              "      <th>count</th>\n",
              "      <td>1.017660e+05</td>\n",
              "      <td>1.017660e+05</td>\n",
              "      <td>101766.000000</td>\n",
              "      <td>101766.000000</td>\n",
              "      <td>101766.000000</td>\n",
              "      <td>101766.000000</td>\n",
              "      <td>101766.000000</td>\n",
              "      <td>101766.000000</td>\n",
              "      <td>101766.000000</td>\n",
              "      <td>101766.000000</td>\n",
              "      <td>101766.000000</td>\n",
              "      <td>101766.000000</td>\n",
              "      <td>101766.000000</td>\n",
              "    </tr>\n",
              "    <tr>\n",
              "      <th>mean</th>\n",
              "      <td>1.652016e+08</td>\n",
              "      <td>5.433040e+07</td>\n",
              "      <td>2.024006</td>\n",
              "      <td>3.715642</td>\n",
              "      <td>5.754437</td>\n",
              "      <td>4.395987</td>\n",
              "      <td>43.095641</td>\n",
              "      <td>1.339730</td>\n",
              "      <td>16.021844</td>\n",
              "      <td>0.369357</td>\n",
              "      <td>0.197836</td>\n",
              "      <td>0.635566</td>\n",
              "      <td>7.422607</td>\n",
              "    </tr>\n",
              "    <tr>\n",
              "      <th>std</th>\n",
              "      <td>1.026403e+08</td>\n",
              "      <td>3.869636e+07</td>\n",
              "      <td>1.445403</td>\n",
              "      <td>5.280166</td>\n",
              "      <td>4.064081</td>\n",
              "      <td>2.985108</td>\n",
              "      <td>19.674362</td>\n",
              "      <td>1.705807</td>\n",
              "      <td>8.127566</td>\n",
              "      <td>1.267265</td>\n",
              "      <td>0.930472</td>\n",
              "      <td>1.262863</td>\n",
              "      <td>1.933600</td>\n",
              "    </tr>\n",
              "    <tr>\n",
              "      <th>min</th>\n",
              "      <td>1.252200e+04</td>\n",
              "      <td>1.350000e+02</td>\n",
              "      <td>1.000000</td>\n",
              "      <td>1.000000</td>\n",
              "      <td>1.000000</td>\n",
              "      <td>1.000000</td>\n",
              "      <td>1.000000</td>\n",
              "      <td>0.000000</td>\n",
              "      <td>1.000000</td>\n",
              "      <td>0.000000</td>\n",
              "      <td>0.000000</td>\n",
              "      <td>0.000000</td>\n",
              "      <td>1.000000</td>\n",
              "    </tr>\n",
              "    <tr>\n",
              "      <th>25%</th>\n",
              "      <td>8.496119e+07</td>\n",
              "      <td>2.341322e+07</td>\n",
              "      <td>1.000000</td>\n",
              "      <td>1.000000</td>\n",
              "      <td>1.000000</td>\n",
              "      <td>2.000000</td>\n",
              "      <td>31.000000</td>\n",
              "      <td>0.000000</td>\n",
              "      <td>10.000000</td>\n",
              "      <td>0.000000</td>\n",
              "      <td>0.000000</td>\n",
              "      <td>0.000000</td>\n",
              "      <td>6.000000</td>\n",
              "    </tr>\n",
              "    <tr>\n",
              "      <th>50%</th>\n",
              "      <td>1.523890e+08</td>\n",
              "      <td>4.550514e+07</td>\n",
              "      <td>1.000000</td>\n",
              "      <td>1.000000</td>\n",
              "      <td>7.000000</td>\n",
              "      <td>4.000000</td>\n",
              "      <td>44.000000</td>\n",
              "      <td>1.000000</td>\n",
              "      <td>15.000000</td>\n",
              "      <td>0.000000</td>\n",
              "      <td>0.000000</td>\n",
              "      <td>0.000000</td>\n",
              "      <td>8.000000</td>\n",
              "    </tr>\n",
              "    <tr>\n",
              "      <th>75%</th>\n",
              "      <td>2.302709e+08</td>\n",
              "      <td>8.754595e+07</td>\n",
              "      <td>3.000000</td>\n",
              "      <td>4.000000</td>\n",
              "      <td>7.000000</td>\n",
              "      <td>6.000000</td>\n",
              "      <td>57.000000</td>\n",
              "      <td>2.000000</td>\n",
              "      <td>20.000000</td>\n",
              "      <td>0.000000</td>\n",
              "      <td>0.000000</td>\n",
              "      <td>1.000000</td>\n",
              "      <td>9.000000</td>\n",
              "    </tr>\n",
              "    <tr>\n",
              "      <th>max</th>\n",
              "      <td>4.438672e+08</td>\n",
              "      <td>1.895026e+08</td>\n",
              "      <td>8.000000</td>\n",
              "      <td>28.000000</td>\n",
              "      <td>25.000000</td>\n",
              "      <td>14.000000</td>\n",
              "      <td>132.000000</td>\n",
              "      <td>6.000000</td>\n",
              "      <td>81.000000</td>\n",
              "      <td>42.000000</td>\n",
              "      <td>76.000000</td>\n",
              "      <td>21.000000</td>\n",
              "      <td>16.000000</td>\n",
              "    </tr>\n",
              "  </tbody>\n",
              "</table>\n",
              "</div>\n",
              "    <div class=\"colab-df-buttons\">\n",
              "\n",
              "  <div class=\"colab-df-container\">\n",
              "    <button class=\"colab-df-convert\" onclick=\"convertToInteractive('df-e1fe1770-ab88-4f9a-934b-69957161855c')\"\n",
              "            title=\"Convert this dataframe to an interactive table.\"\n",
              "            style=\"display:none;\">\n",
              "\n",
              "  <svg xmlns=\"http://www.w3.org/2000/svg\" height=\"24px\" viewBox=\"0 -960 960 960\">\n",
              "    <path d=\"M120-120v-720h720v720H120Zm60-500h600v-160H180v160Zm220 220h160v-160H400v160Zm0 220h160v-160H400v160ZM180-400h160v-160H180v160Zm440 0h160v-160H620v160ZM180-180h160v-160H180v160Zm440 0h160v-160H620v160Z\"/>\n",
              "  </svg>\n",
              "    </button>\n",
              "\n",
              "  <style>\n",
              "    .colab-df-container {\n",
              "      display:flex;\n",
              "      gap: 12px;\n",
              "    }\n",
              "\n",
              "    .colab-df-convert {\n",
              "      background-color: #E8F0FE;\n",
              "      border: none;\n",
              "      border-radius: 50%;\n",
              "      cursor: pointer;\n",
              "      display: none;\n",
              "      fill: #1967D2;\n",
              "      height: 32px;\n",
              "      padding: 0 0 0 0;\n",
              "      width: 32px;\n",
              "    }\n",
              "\n",
              "    .colab-df-convert:hover {\n",
              "      background-color: #E2EBFA;\n",
              "      box-shadow: 0px 1px 2px rgba(60, 64, 67, 0.3), 0px 1px 3px 1px rgba(60, 64, 67, 0.15);\n",
              "      fill: #174EA6;\n",
              "    }\n",
              "\n",
              "    .colab-df-buttons div {\n",
              "      margin-bottom: 4px;\n",
              "    }\n",
              "\n",
              "    [theme=dark] .colab-df-convert {\n",
              "      background-color: #3B4455;\n",
              "      fill: #D2E3FC;\n",
              "    }\n",
              "\n",
              "    [theme=dark] .colab-df-convert:hover {\n",
              "      background-color: #434B5C;\n",
              "      box-shadow: 0px 1px 3px 1px rgba(0, 0, 0, 0.15);\n",
              "      filter: drop-shadow(0px 1px 2px rgba(0, 0, 0, 0.3));\n",
              "      fill: #FFFFFF;\n",
              "    }\n",
              "  </style>\n",
              "\n",
              "    <script>\n",
              "      const buttonEl =\n",
              "        document.querySelector('#df-e1fe1770-ab88-4f9a-934b-69957161855c button.colab-df-convert');\n",
              "      buttonEl.style.display =\n",
              "        google.colab.kernel.accessAllowed ? 'block' : 'none';\n",
              "\n",
              "      async function convertToInteractive(key) {\n",
              "        const element = document.querySelector('#df-e1fe1770-ab88-4f9a-934b-69957161855c');\n",
              "        const dataTable =\n",
              "          await google.colab.kernel.invokeFunction('convertToInteractive',\n",
              "                                                    [key], {});\n",
              "        if (!dataTable) return;\n",
              "\n",
              "        const docLinkHtml = 'Like what you see? Visit the ' +\n",
              "          '<a target=\"_blank\" href=https://colab.research.google.com/notebooks/data_table.ipynb>data table notebook</a>'\n",
              "          + ' to learn more about interactive tables.';\n",
              "        element.innerHTML = '';\n",
              "        dataTable['output_type'] = 'display_data';\n",
              "        await google.colab.output.renderOutput(dataTable, element);\n",
              "        const docLink = document.createElement('div');\n",
              "        docLink.innerHTML = docLinkHtml;\n",
              "        element.appendChild(docLink);\n",
              "      }\n",
              "    </script>\n",
              "  </div>\n",
              "\n",
              "\n",
              "<div id=\"df-14cbe3be-51eb-422f-b539-33a6d338317b\">\n",
              "  <button class=\"colab-df-quickchart\" onclick=\"quickchart('df-14cbe3be-51eb-422f-b539-33a6d338317b')\"\n",
              "            title=\"Suggest charts\"\n",
              "            style=\"display:none;\">\n",
              "\n",
              "<svg xmlns=\"http://www.w3.org/2000/svg\" height=\"24px\"viewBox=\"0 0 24 24\"\n",
              "     width=\"24px\">\n",
              "    <g>\n",
              "        <path d=\"M19 3H5c-1.1 0-2 .9-2 2v14c0 1.1.9 2 2 2h14c1.1 0 2-.9 2-2V5c0-1.1-.9-2-2-2zM9 17H7v-7h2v7zm4 0h-2V7h2v10zm4 0h-2v-4h2v4z\"/>\n",
              "    </g>\n",
              "</svg>\n",
              "  </button>\n",
              "\n",
              "<style>\n",
              "  .colab-df-quickchart {\n",
              "      --bg-color: #E8F0FE;\n",
              "      --fill-color: #1967D2;\n",
              "      --hover-bg-color: #E2EBFA;\n",
              "      --hover-fill-color: #174EA6;\n",
              "      --disabled-fill-color: #AAA;\n",
              "      --disabled-bg-color: #DDD;\n",
              "  }\n",
              "\n",
              "  [theme=dark] .colab-df-quickchart {\n",
              "      --bg-color: #3B4455;\n",
              "      --fill-color: #D2E3FC;\n",
              "      --hover-bg-color: #434B5C;\n",
              "      --hover-fill-color: #FFFFFF;\n",
              "      --disabled-bg-color: #3B4455;\n",
              "      --disabled-fill-color: #666;\n",
              "  }\n",
              "\n",
              "  .colab-df-quickchart {\n",
              "    background-color: var(--bg-color);\n",
              "    border: none;\n",
              "    border-radius: 50%;\n",
              "    cursor: pointer;\n",
              "    display: none;\n",
              "    fill: var(--fill-color);\n",
              "    height: 32px;\n",
              "    padding: 0;\n",
              "    width: 32px;\n",
              "  }\n",
              "\n",
              "  .colab-df-quickchart:hover {\n",
              "    background-color: var(--hover-bg-color);\n",
              "    box-shadow: 0 1px 2px rgba(60, 64, 67, 0.3), 0 1px 3px 1px rgba(60, 64, 67, 0.15);\n",
              "    fill: var(--button-hover-fill-color);\n",
              "  }\n",
              "\n",
              "  .colab-df-quickchart-complete:disabled,\n",
              "  .colab-df-quickchart-complete:disabled:hover {\n",
              "    background-color: var(--disabled-bg-color);\n",
              "    fill: var(--disabled-fill-color);\n",
              "    box-shadow: none;\n",
              "  }\n",
              "\n",
              "  .colab-df-spinner {\n",
              "    border: 2px solid var(--fill-color);\n",
              "    border-color: transparent;\n",
              "    border-bottom-color: var(--fill-color);\n",
              "    animation:\n",
              "      spin 1s steps(1) infinite;\n",
              "  }\n",
              "\n",
              "  @keyframes spin {\n",
              "    0% {\n",
              "      border-color: transparent;\n",
              "      border-bottom-color: var(--fill-color);\n",
              "      border-left-color: var(--fill-color);\n",
              "    }\n",
              "    20% {\n",
              "      border-color: transparent;\n",
              "      border-left-color: var(--fill-color);\n",
              "      border-top-color: var(--fill-color);\n",
              "    }\n",
              "    30% {\n",
              "      border-color: transparent;\n",
              "      border-left-color: var(--fill-color);\n",
              "      border-top-color: var(--fill-color);\n",
              "      border-right-color: var(--fill-color);\n",
              "    }\n",
              "    40% {\n",
              "      border-color: transparent;\n",
              "      border-right-color: var(--fill-color);\n",
              "      border-top-color: var(--fill-color);\n",
              "    }\n",
              "    60% {\n",
              "      border-color: transparent;\n",
              "      border-right-color: var(--fill-color);\n",
              "    }\n",
              "    80% {\n",
              "      border-color: transparent;\n",
              "      border-right-color: var(--fill-color);\n",
              "      border-bottom-color: var(--fill-color);\n",
              "    }\n",
              "    90% {\n",
              "      border-color: transparent;\n",
              "      border-bottom-color: var(--fill-color);\n",
              "    }\n",
              "  }\n",
              "</style>\n",
              "\n",
              "  <script>\n",
              "    async function quickchart(key) {\n",
              "      const quickchartButtonEl =\n",
              "        document.querySelector('#' + key + ' button');\n",
              "      quickchartButtonEl.disabled = true;  // To prevent multiple clicks.\n",
              "      quickchartButtonEl.classList.add('colab-df-spinner');\n",
              "      try {\n",
              "        const charts = await google.colab.kernel.invokeFunction(\n",
              "            'suggestCharts', [key], {});\n",
              "      } catch (error) {\n",
              "        console.error('Error during call to suggestCharts:', error);\n",
              "      }\n",
              "      quickchartButtonEl.classList.remove('colab-df-spinner');\n",
              "      quickchartButtonEl.classList.add('colab-df-quickchart-complete');\n",
              "    }\n",
              "    (() => {\n",
              "      let quickchartButtonEl =\n",
              "        document.querySelector('#df-14cbe3be-51eb-422f-b539-33a6d338317b button');\n",
              "      quickchartButtonEl.style.display =\n",
              "        google.colab.kernel.accessAllowed ? 'block' : 'none';\n",
              "    })();\n",
              "  </script>\n",
              "</div>\n",
              "\n",
              "    </div>\n",
              "  </div>\n"
            ],
            "application/vnd.google.colaboratory.intrinsic+json": {
              "type": "dataframe",
              "summary": "{\n  \"name\": \"data\",\n  \"rows\": 8,\n  \"fields\": [\n    {\n      \"column\": \"encounter_id\",\n      \"properties\": {\n        \"dtype\": \"number\",\n        \"std\": 143638461.2385854,\n        \"min\": 12522.0,\n        \"max\": 443867222.0,\n        \"num_unique_values\": 8,\n        \"samples\": [\n          165201645.6229782,\n          152388987.0,\n          101766.0\n        ],\n        \"semantic_type\": \"\",\n        \"description\": \"\"\n      }\n    },\n    {\n      \"column\": \"patient_nbr\",\n      \"properties\": {\n        \"dtype\": \"number\",\n        \"std\": 61578087.87493657,\n        \"min\": 135.0,\n        \"max\": 189502619.0,\n        \"num_unique_values\": 8,\n        \"samples\": [\n          54330400.694947235,\n          45505143.0,\n          101766.0\n        ],\n        \"semantic_type\": \"\",\n        \"description\": \"\"\n      }\n    },\n    {\n      \"column\": \"admission_type_id\",\n      \"properties\": {\n        \"dtype\": \"number\",\n        \"std\": 35978.8320853331,\n        \"min\": 1.0,\n        \"max\": 101766.0,\n        \"num_unique_values\": 6,\n        \"samples\": [\n          101766.0,\n          2.024006053102215,\n          8.0\n        ],\n        \"semantic_type\": \"\",\n        \"description\": \"\"\n      }\n    },\n    {\n      \"column\": \"discharge_disposition_id\",\n      \"properties\": {\n        \"dtype\": \"number\",\n        \"std\": 35977.49335130319,\n        \"min\": 1.0,\n        \"max\": 101766.0,\n        \"num_unique_values\": 6,\n        \"samples\": [\n          101766.0,\n          3.7156417664052825,\n          28.0\n        ],\n        \"semantic_type\": \"\",\n        \"description\": \"\"\n      }\n    },\n    {\n      \"column\": \"admission_source_id\",\n      \"properties\": {\n        \"dtype\": \"number\",\n        \"std\": 35977.148429846675,\n        \"min\": 1.0,\n        \"max\": 101766.0,\n        \"num_unique_values\": 6,\n        \"samples\": [\n          101766.0,\n          5.754436648782501,\n          25.0\n        ],\n        \"semantic_type\": \"\",\n        \"description\": \"\"\n      }\n    },\n    {\n      \"column\": \"time_in_hospital\",\n      \"properties\": {\n        \"dtype\": \"number\",\n        \"std\": 35977.978062696006,\n        \"min\": 1.0,\n        \"max\": 101766.0,\n        \"num_unique_values\": 8,\n        \"samples\": [\n          4.395986871843248,\n          4.0,\n          101766.0\n        ],\n        \"semantic_type\": \"\",\n        \"description\": \"\"\n      }\n    },\n    {\n      \"column\": \"num_lab_procedures\",\n      \"properties\": {\n        \"dtype\": \"number\",\n        \"std\": 35963.18025252805,\n        \"min\": 1.0,\n        \"max\": 101766.0,\n        \"num_unique_values\": 8,\n        \"samples\": [\n          43.09564098028811,\n          44.0,\n          101766.0\n        ],\n        \"semantic_type\": \"\",\n        \"description\": \"\"\n      }\n    },\n    {\n      \"column\": \"num_procedures\",\n      \"properties\": {\n        \"dtype\": \"number\",\n        \"std\": 35979.10600519125,\n        \"min\": 0.0,\n        \"max\": 101766.0,\n        \"num_unique_values\": 7,\n        \"samples\": [\n          101766.0,\n          1.339730361810428,\n          2.0\n        ],\n        \"semantic_type\": \"\",\n        \"description\": \"\"\n      }\n    },\n    {\n      \"column\": \"num_medications\",\n      \"properties\": {\n        \"dtype\": \"number\",\n        \"std\": 35972.088778788086,\n        \"min\": 1.0,\n        \"max\": 101766.0,\n        \"num_unique_values\": 8,\n        \"samples\": [\n          16.021844230882614,\n          15.0,\n          101766.0\n        ],\n        \"semantic_type\": \"\",\n        \"description\": \"\"\n      }\n    },\n    {\n      \"column\": \"number_outpatient\",\n      \"properties\": {\n        \"dtype\": \"number\",\n        \"std\": 35977.513330448266,\n        \"min\": 0.0,\n        \"max\": 101766.0,\n        \"num_unique_values\": 5,\n        \"samples\": [\n          0.36935715268360747,\n          42.0,\n          1.2672650965325358\n        ],\n        \"semantic_type\": \"\",\n        \"description\": \"\"\n      }\n    },\n    {\n      \"column\": \"number_emergency\",\n      \"properties\": {\n        \"dtype\": \"number\",\n        \"std\": 35975.828561783186,\n        \"min\": 0.0,\n        \"max\": 101766.0,\n        \"num_unique_values\": 5,\n        \"samples\": [\n          0.19783621248747127,\n          76.0,\n          0.9304722684223071\n        ],\n        \"semantic_type\": \"\",\n        \"description\": \"\"\n      }\n    },\n    {\n      \"column\": \"number_inpatient\",\n      \"properties\": {\n        \"dtype\": \"number\",\n        \"std\": 35978.5080136551,\n        \"min\": 0.0,\n        \"max\": 101766.0,\n        \"num_unique_values\": 6,\n        \"samples\": [\n          101766.0,\n          0.635565906098304,\n          21.0\n        ],\n        \"semantic_type\": \"\",\n        \"description\": \"\"\n      }\n    },\n    {\n      \"column\": \"number_diagnoses\",\n      \"properties\": {\n        \"dtype\": \"number\",\n        \"std\": 35977.2217776975,\n        \"min\": 1.0,\n        \"max\": 101766.0,\n        \"num_unique_values\": 8,\n        \"samples\": [\n          7.422606764538254,\n          8.0,\n          101766.0\n        ],\n        \"semantic_type\": \"\",\n        \"description\": \"\"\n      }\n    }\n  ]\n}"
            }
          },
          "metadata": {},
          "execution_count": 5
        }
      ],
      "source": [
        "# Display summary statistics\n",
        "data.describe()"
      ]
    },
    {
      "cell_type": "code",
      "execution_count": 7,
      "metadata": {
        "colab": {
          "base_uri": "https://localhost:8080/"
        },
        "id": "Dvd_nAMoavgt",
        "outputId": "334d5469-e93e-454a-9767-520e98f14298"
      },
      "outputs": [
        {
          "output_type": "stream",
          "name": "stdout",
          "text": [
            "Missing values per column:\n",
            "race                  2273\n",
            "weight               98569\n",
            "payer_code           40256\n",
            "medical_specialty    49949\n",
            "diag_1                  21\n",
            "diag_2                 358\n",
            "diag_3                1423\n",
            "max_glu_serum        96420\n",
            "A1Cresult            84748\n",
            "dtype: int64\n"
          ]
        }
      ],
      "source": [
        "# Check for missing values\n",
        "data.replace('?', np.nan, inplace=True)\n",
        "missing_values = data.isnull().sum()\n",
        "print(\"Missing values per column:\")\n",
        "print(missing_values[missing_values > 0] if missing_values.sum() > 0 else \"No missing values\")"
      ]
    },
    {
      "cell_type": "code",
      "source": [
        "# Step 3: Plot\n",
        "plt.figure(figsize=(12, 6))\n",
        "missing_values.sort_values(ascending=False).plot(kind='bar', color='tomato') # Use missing_values instead of missing_counts\n",
        "plt.title('Missing Values per Column')\n",
        "plt.ylabel('Number of Missing Entries')\n",
        "plt.xlabel('Columns')\n",
        "plt.xticks(rotation=45, ha='right')\n",
        "plt.tight_layout()\n",
        "plt.show()"
      ],
      "metadata": {
        "id": "EERpf-XVCVTk",
        "outputId": "50e87e02-ec33-4729-8a85-758b72d702da",
        "colab": {
          "base_uri": "https://localhost:8080/",
          "height": 337
        }
      },
      "execution_count": 10,
      "outputs": [
        {
          "output_type": "display_data",
          "data": {
            "text/plain": [
              "<Figure size 1200x600 with 1 Axes>"
            ],
            "image/png": "[encoded data removed]"
          },
          "metadata": {}
        }
      ]
    },
    {
      "cell_type": "code",
      "source": [
        "# Frequency of each number of diagnoses\n",
        "diagnosis_counts = data['number_diagnoses'].value_counts().sort_index()\n",
        "\n",
        "# Display the counts\n",
        "print(diagnosis_counts)\n"
      ],
      "metadata": {
        "id": "jLuzgf3MhFlZ",
        "outputId": "322d5e8d-eb0b-404c-b5ce-1e106f65f5e3",
        "colab": {
          "base_uri": "https://localhost:8080/"
        }
      },
      "execution_count": 9,
      "outputs": [
        {
          "output_type": "stream",
          "name": "stdout",
          "text": [
            "number_diagnoses\n",
            "1       219\n",
            "2      1023\n",
            "3      2835\n",
            "4      5537\n",
            "5     11393\n",
            "6     10161\n",
            "7     10393\n",
            "8     10616\n",
            "9     49474\n",
            "10       17\n",
            "11       11\n",
            "12        9\n",
            "13       16\n",
            "14        7\n",
            "15       10\n",
            "16       45\n",
            "Name: count, dtype: int64\n"
          ]
        }
      ]
    },
    {
      "cell_type": "code",
      "source": [
        "# Filter patients with high glucose and A1C\n",
        "high_risk_patients = data[\n",
        "    (data['max_glu_serum'] == '>300') &\n",
        "    (data['A1Cresult'] == '>8')\n",
        "]\n",
        "\n",
        "# Show the first few high-risk patients\n",
        "print(high_risk_patients.head())\n"
      ],
      "metadata": {
        "id": "Yt7LtXCRjihF",
        "outputId": "1a292cbc-772e-4f57-d483-c28a738df144",
        "colab": {
          "base_uri": "https://localhost:8080/"
        }
      },
      "execution_count": 11,
      "outputs": [
        {
          "output_type": "stream",
          "name": "stdout",
          "text": [
            "      encounter_id  patient_nbr             race  gender      age weight  admission_type_id  discharge_disposition_id  admission_source_id  time_in_hospital payer_code medical_specialty  num_lab_procedures  num_procedures  num_medications  number_outpatient  number_emergency  number_inpatient  diag_1  diag_2  diag_3  number_diagnoses max_glu_serum A1Cresult metformin repaglinide nateglinide chlorpropamide glimepiride acetohexamide glipizide glyburide tolbutamide pioglitazone rosiglitazone acarbose miglitol troglitazone tolazamide examide citoglipton insulin glyburide-metformin glipizide-metformin glimepiride-pioglitazone metformin-rosiglitazone metformin-pioglitazone change diabetesMed readmitted\n",
            "192        2595612     89193870        Caucasian  Female  [40-50)      ?                  6                         1                    7                 2          ?                 ?                  53               0                4                  0                 0                 0  250.02     401       ?                 2          >300        >8        No          No          No             No          No            No        No        No          No           No            No       No       No           No         No      No          No      No                  No                  No                       No                      No                     No     No          No        >30\n",
            "460        4084524     76959585  AfricanAmerican  Female  [70-80)      ?                  6                         1                    7                10          ?                 ?                  72               1               19                  0                 0                 0  250.02     276     294                 5          >300        >8        No          No          No             No          No            No        Up        No          No           No            No       No       No           No         No      No          No      Up                  No                  No                       No                      No                     No     Ch         Yes        >30\n",
            "593        4804968    114960726        Caucasian  Female  [50-60)      ?                  6                         1                    7                 2          ?                 ?                  61               0                5                  0                 0                 0     276     780  250.03                 5          >300        >8        No          No          No             No          No            No        No        No          No           No            No       No       No           No         No      No          No  Steady                  No                  No                       No                      No                     No     No         Yes         NO\n",
            "2483      16202532      7113789         Hispanic  Female  [50-60)      ?                  6                         1                    7                 4          ?                 ?                  52               0                8                  0                 0                 0     786     250     401                 3          >300        >8        No          No          No             No          No            No    Steady        No          No           No            No       No       No           No         No      No          No      No                  No                  No                       No                      No                     No     No         Yes         NO\n",
            "5148      27399102    107744535        Caucasian    Male  [40-50)      ?                  6                         2                    7                 9          ?                 ?                  95               3               17                  0                 0                 0     486  250.13     428                 5          >300        >8        No          No          No             No          No            No        No        No          No           No            No       No       No           No         No      No          No  Steady                  No                  No                       No                      No                     No     No         Yes        >30\n"
          ]
        }
      ]
    },
    {
      "cell_type": "markdown",
      "metadata": {
        "id": "mfHlzVlKavgt"
      },
      "source": [
        "## 2. Explore Target Variable: 30-Day Readmission"
      ]
    },
    {
      "cell_type": "code",
      "source": [],
      "metadata": {
        "id": "mTLVNmTDCBDy",
        "outputId": "cb1b3f1b-d2ac-4c32-e820-b0dc6a40eb7a",
        "colab": {
          "base_uri": "https://localhost:8080/",
          "height": 141
        }
      },
      "execution_count": 1,
      "outputs": [
        {
          "output_type": "error",
          "ename": "NameError",
          "evalue": "name 'data' is not defined",
          "traceback": [
            "\u001b[0;31m---------------------------------------------------------------------------\u001b[0m",
            "\u001b[0;31mNameError\u001b[0m                                 Traceback (most recent call last)",
            "\u001b[0;32m<ipython-input-1-bacc259fefc6>\u001b[0m in \u001b[0;36m<cell line: 0>\u001b[0;34m()\u001b[0m\n\u001b[0;32m----> 1\u001b[0;31m \u001b[0mdata\u001b[0m\u001b[0;34m.\u001b[0m\u001b[0mreplace\u001b[0m\u001b[0;34m(\u001b[0m\u001b[0;34m'?'\u001b[0m\u001b[0;34m,\u001b[0m \u001b[0mnp\u001b[0m\u001b[0;34m.\u001b[0m\u001b[0mnan\u001b[0m\u001b[0;34m,\u001b[0m \u001b[0minplace\u001b[0m\u001b[0;34m=\u001b[0m\u001b[0;32mTrue\u001b[0m\u001b[0;34m)\u001b[0m\u001b[0;34m\u001b[0m\u001b[0;34m\u001b[0m\u001b[0m\n\u001b[0m",
            "\u001b[0;31mNameError\u001b[0m: name 'data' is not defined"
          ]
        }
      ]
    },
    {
      "cell_type": "code",
      "execution_count": null,
      "metadata": {
        "id": "PrEr1gvvavgt"
      },
      "outputs": [],
      "source": [
        "# Distribution of readmission\n",
        "readmission_counts = data['readmission_30d'].value_counts()\n",
        "readmission_rate = readmission_counts[1] / len(data) * 100\n",
        "\n",
        "plt.figure(figsize=(10, 6))\n",
        "sns.countplot(data=data, x='readmission_30d')\n",
        "plt.title(f'30-Day Readmission Distribution (Rate: {readmission_rate:.1f}%)')\n",
        "plt.xlabel('Readmitted within 30 days')\n",
        "plt.xticks([0, 1], ['No', 'Yes'])\n",
        "plt.show()\n",
        "\n",
        "print(f\"Number of patients not readmitted: {readmission_counts[0]} ({100-readmission_rate:.1f}%)\")\n",
        "print(f\"Number of patients readmitted: {readmission_counts[1]} ({readmission_rate:.1f}%)\")"
      ]
    },
    {
      "cell_type": "code",
      "execution_count": null,
      "metadata": {
        "id": "yWd9loYdavgt"
      },
      "outputs": [],
      "source": [
        "# For readmitted patients, examine days to readmission\n",
        "readmitted_patients = data[data['readmission_30d'] == 1]\n",
        "\n",
        "plt.figure(figsize=(10, 6))\n",
        "sns.histplot(data=readmitted_patients, x='days_to_readmission', bins=30)\n",
        "plt.title('Distribution of Days to Readmission')\n",
        "plt.xlabel('Days to Readmission')\n",
        "plt.ylabel('Count')\n",
        "plt.axvline(readmitted_patients['days_to_readmission'].mean(), color='red', linestyle='--',\n",
        "            label=f'Mean: {readmitted_patients[\"days_to_readmission\"].mean():.1f} days')\n",
        "plt.legend()\n",
        "plt.show()"
      ]
    },
    {
      "cell_type": "markdown",
      "metadata": {
        "id": "gUF9LwD1avgu"
      },
      "source": [
        "## 3. Explore Demographic Features"
      ]
    },
    {
      "cell_type": "code",
      "execution_count": null,
      "metadata": {
        "id": "Js-N1nEnavgu"
      },
      "outputs": [],
      "source": [
        "# Age distribution by readmission status\n",
        "plt.figure(figsize=(12, 6))\n",
        "sns.histplot(data=data, x='age', hue='readmission_30d', multiple='dodge', bins=20)\n",
        "plt.title('Age Distribution by Readmission Status')\n",
        "plt.xlabel('Age')\n",
        "plt.ylabel('Count')\n",
        "plt.legend(['Not Readmitted', 'Readmitted'])\n",
        "plt.show()\n",
        "\n",
        "# Calculate average age by readmission status\n",
        "age_by_readmission = data.groupby('readmission_30d')['age'].mean()\n",
        "print(f\"Average age of patients not readmitted: {age_by_readmission[0]:.1f} years\")\n",
        "print(f\"Average age of patients readmitted: {age_by_readmission[1]:.1f} years\")"
      ]
    },
    {
      "cell_type": "code",
      "execution_count": null,
      "metadata": {
        "id": "_suMFI31avgu"
      },
      "outputs": [],
      "source": [
        "# Gender distribution by readmission status\n",
        "gender_readmission = pd.crosstab(data['gender'], data['readmission_30d'])\n",
        "gender_readmission_pct = gender_readmission.div(gender_readmission.sum(axis=1), axis=0) * 100\n",
        "\n",
        "plt.figure(figsize=(10, 6))\n",
        "gender_readmission_pct[1].plot(kind='bar')\n",
        "plt.title('Readmission Rate by Gender')\n",
        "plt.xlabel('Gender')\n",
        "plt.ylabel('Readmission Rate (%)')\n",
        "plt.xticks(rotation=0)\n",
        "plt.show()\n",
        "\n",
        "print(gender_readmission_pct)"
      ]
    },
    {
      "cell_type": "markdown",
      "metadata": {
        "id": "42sSwkWfavgu"
      },
      "source": [
        "## 4. Explore Medical Conditions"
      ]
    },
    {
      "cell_type": "code",
      "execution_count": null,
      "metadata": {
        "id": "Cr_U7JMXavgu"
      },
      "outputs": [],
      "source": [
        "# Readmission rate by medical conditions\n",
        "conditions = ['diabetes', 'heart_failure', 'copd', 'hypertension', 'renal_disease']\n",
        "condition_readmission = {}\n",
        "\n",
        "for condition in conditions:\n",
        "    condition_readmission[condition] = [\n",
        "        data[data[condition] == 0]['readmission_30d'].mean() * 100,\n",
        "        data[data[condition] == 1]['readmission_30d'].mean() * 100\n",
        "    ]\n",
        "\n",
        "condition_df = pd.DataFrame(condition_readmission, index=['No', 'Yes'])\n",
        "\n",
        "plt.figure(figsize=(14, 8))\n",
        "condition_df.plot(kind='bar')\n",
        "plt.title('Readmission Rate by Medical Condition')\n",
        "plt.xlabel('Condition Present')\n",
        "plt.ylabel('Readmission Rate (%)')\n",
        "plt.legend(title='Medical Condition')\n",
        "plt.show()\n",
        "\n",
        "# Print the readmission rates\n",
        "print(\"Readmission rates by condition:\")\n",
        "print(condition_df)"
      ]
    },
    {
      "cell_type": "code",
      "execution_count": null,
      "metadata": {
        "id": "ZHrtfrP-avgu"
      },
      "outputs": [],
      "source": [
        "# Primary diagnosis distribution\n",
        "plt.figure(figsize=(14, 8))\n",
        "diagnosis_counts = data['primary_diagnosis'].value_counts()\n",
        "diagnosis_counts.plot(kind='bar')\n",
        "plt.title('Distribution of Primary Diagnoses')\n",
        "plt.xlabel('Primary Diagnosis')\n",
        "plt.ylabel('Count')\n",
        "plt.xticks(rotation=45, ha='right')\n",
        "plt.tight_layout()\n",
        "plt.show()"
      ]
    },
    {
      "cell_type": "code",
      "execution_count": null,
      "metadata": {
        "id": "ptLtgwhnavgu"
      },
      "outputs": [],
      "source": [
        "# Readmission rate by primary diagnosis\n",
        "diagnosis_readmission = data.groupby('primary_diagnosis')['readmission_30d'].mean() * 100\n",
        "diagnosis_readmission = diagnosis_readmission.sort_values(ascending=False)\n",
        "\n",
        "plt.figure(figsize=(14, 8))\n",
        "diagnosis_readmission.plot(kind='bar')\n",
        "plt.title('Readmission Rate by Primary Diagnosis')\n",
        "plt.xlabel('Primary Diagnosis')\n",
        "plt.ylabel('Readmission Rate (%)')\n",
        "plt.xticks(rotation=45, ha='right')\n",
        "plt.tight_layout()\n",
        "plt.show()\n",
        "\n",
        "print(\"Top 3 diagnoses with highest readmission rates:\")\n",
        "print(diagnosis_readmission.head(3))"
      ]
    },
    {
      "cell_type": "markdown",
      "metadata": {
        "id": "U7vJrw8aavgv"
      },
      "source": [
        "## 5. Explore Hospital Stay Features"
      ]
    },
    {
      "cell_type": "code",
      "execution_count": null,
      "metadata": {
        "id": "k4VCviw-avgv"
      },
      "outputs": [],
      "source": [
        "# Length of stay by readmission status\n",
        "plt.figure(figsize=(10, 6))\n",
        "sns.boxplot(data=data, x='readmission_30d', y='length_of_stay')\n",
        "plt.title('Length of Stay by Readmission Status')\n",
        "plt.xlabel('Readmitted within 30 days')\n",
        "plt.ylabel('Length of Stay (days)')\n",
        "plt.xticks([0, 1], ['No', 'Yes'])\n",
        "plt.show()\n",
        "\n",
        "# Calculate average length of stay by readmission status\n",
        "los_by_readmission = data.groupby('readmission_30d')['length_of_stay'].mean()\n",
        "print(f\"Average length of stay for patients not readmitted: {los_by_readmission[0]:.1f} days\")\n",
        "print(f\"Average length of stay for patients readmitted: {los_by_readmission[1]:.1f} days\")"
      ]
    },
    {
      "cell_type": "code",
      "execution_count": null,
      "metadata": {
        "id": "Z7exxgIfavgv"
      },
      "outputs": [],
      "source": [
        "# Emergency admission by readmission status\n",
        "emergency_readmission = pd.crosstab(data['emergency_admission'], data['readmission_30d'])\n",
        "emergency_readmission_pct = emergency_readmission.div(emergency_readmission.sum(axis=1), axis=0) * 100\n",
        "\n",
        "plt.figure(figsize=(10, 6))\n",
        "emergency_readmission_pct[1].plot(kind='bar')\n",
        "plt.title('Readmission Rate by Emergency Admission Status')\n",
        "plt.xlabel('Emergency Admission')\n",
        "plt.ylabel('Readmission Rate (%)')\n",
        "plt.xticks([0, 1], ['No', 'Yes'])\n",
        "plt.show()\n",
        "\n",
        "print(emergency_readmission_pct)"
      ]
    },
    {
      "cell_type": "code",
      "execution_count": null,
      "metadata": {
        "id": "cQoIaq3qavgv"
      },
      "outputs": [],
      "source": [
        "# Discharge disposition by readmission status\n",
        "disposition_mapping = {\n",
        "    1: 'Home',\n",
        "    2: 'Skilled Nursing',\n",
        "    3: 'Home Health',\n",
        "    4: 'Other'\n",
        "}\n",
        "data['discharge_disposition_name'] = data['discharge_disposition'].map(disposition_mapping)\n",
        "\n",
        "disposition_readmission = data.groupby('discharge_disposition_name')['readmission_30d'].mean() * 100\n",
        "\n",
        "plt.figure(figsize=(10, 6))\n",
        "disposition_readmission.plot(kind='bar')\n",
        "plt.title('Readmission Rate by Discharge Disposition')\n",
        "plt.xlabel('Discharge Disposition')\n",
        "plt.ylabel('Readmission Rate (%)')\n",
        "plt.show()\n",
        "\n",
        "print(disposition_readmission)"
      ]
    },
    {
      "cell_type": "markdown",
      "metadata": {
        "id": "SuKD4etWavgv"
      },
      "source": [
        "## 6. Explore Medication and Previous Admissions"
      ]
    },
    {
      "cell_type": "code",
      "execution_count": null,
      "metadata": {
        "id": "tuvuZ58-avgv"
      },
      "outputs": [],
      "source": [
        "# Medication count by readmission status\n",
        "plt.figure(figsize=(10, 6))\n",
        "sns.boxplot(data=data, x='readmission_30d', y='medication_count')\n",
        "plt.title('Medication Count by Readmission Status')\n",
        "plt.xlabel('Readmitted within 30 days')\n",
        "plt.ylabel('Number of Medications')\n",
        "plt.xticks([0, 1], ['No', 'Yes'])\n",
        "plt.show()\n",
        "\n",
        "# Calculate average medication count by readmission status\n",
        "med_by_readmission = data.groupby('readmission_30d')['medication_count'].mean()\n",
        "print(f\"Average medication count for patients not readmitted: {med_by_readmission[0]:.1f}\")\n",
        "print(f\"Average medication count for patients readmitted: {med_by_readmission[1]:.1f}\")"
      ]
    },
    {
      "cell_type": "code",
      "execution_count": null,
      "metadata": {
        "id": "rdx3KtxGavgv"
      },
      "outputs": [],
      "source": [
        "# Medication adherence by readmission status\n",
        "plt.figure(figsize=(10, 6))\n",
        "sns.boxplot(data=data, x='readmission_30d', y='medication_adherence')\n",
        "plt.title('Medication Adherence by Readmission Status')\n",
        "plt.xlabel('Readmitted within 30 days')\n",
        "plt.ylabel('Medication Adherence Score')\n",
        "plt.xticks([0, 1], ['No', 'Yes'])\n",
        "plt.show()\n",
        "\n",
        "# Calculate average medication adherence by readmission status\n",
        "adh_by_readmission = data.groupby('readmission_30d')['medication_adherence'].mean()\n",
        "print(f\"Average medication adherence for patients not readmitted: {adh_by_readmission[0]:.2f}\")\n",
        "print(f\"Average medication adherence for patients readmitted: {adh_by_readmission[1]:.2f}\")"
      ]
    },
    {
      "cell_type": "code",
      "execution_count": null,
      "metadata": {
        "id": "awAIM5dsavgv"
      },
      "outputs": [],
      "source": [
        "# Previous admissions by readmission status\n",
        "plt.figure(figsize=(10, 6))\n",
        "sns.boxplot(data=data, x='readmission_30d', y='previous_admissions')\n",
        "plt.title('Previous Admissions by Readmission Status')\n",
        "plt.xlabel('Readmitted within 30 days')\n",
        "plt.ylabel('Number of Previous Admissions')\n",
        "plt.xticks([0, 1], ['No', 'Yes'])\n",
        "plt.show()\n",
        "\n",
        "# Calculate average previous admissions by readmission status\n",
        "prev_by_readmission = data.groupby('readmission_30d')['previous_admissions'].mean()\n",
        "print(f\"Average previous admissions for patients not readmitted: {prev_by_readmission[0]:.1f}\")\n",
        "print(f\"Average previous admissions for patients readmitted: {prev_by_readmission[1]:.1f}\")"
      ]
    },
    {
      "cell_type": "code",
      "execution_count": null,
      "metadata": {
        "id": "oVVGi7Z3avgw"
      },
      "outputs": [],
      "source": [
        "# Readmission rate by number of previous admissions\n",
        "prev_admission_readmission = data.groupby('previous_admissions')['readmission_30d'].mean() * 100\n",
        "\n",
        "plt.figure(figsize=(12, 6))\n",
        "prev_admission_readmission.plot(kind='bar')\n",
        "plt.title('Readmission Rate by Number of Previous Admissions')\n",
        "plt.xlabel('Number of Previous Admissions')\n",
        "plt.ylabel('Readmission Rate (%)')\n",
        "plt.show()\n",
        "\n",
        "print(prev_admission_readmission)"
      ]
    },
    {
      "cell_type": "markdown",
      "metadata": {
        "id": "Hir5bhGmavgw"
      },
      "source": [
        "## 7. Correlation Analysis"
      ]
    },
    {
      "cell_type": "code",
      "execution_count": null,
      "metadata": {
        "id": "u-EHQEMRavgw"
      },
      "outputs": [],
      "source": [
        "# Correlation matrix of numerical features\n",
        "numerical_cols = ['age', 'length_of_stay', 'previous_admissions',\n",
        "                  'medication_count', 'medication_adherence',\n",
        "                  'emergency_admission', 'readmission_30d']\n",
        "corr = data[numerical_cols].corr()\n",
        "\n",
        "plt.figure(figsize=(12, 10))\n",
        "sns.heatmap(corr, annot=True, cmap='coolwarm', fmt='.2f', linewidths=0.5)\n",
        "plt.title('Correlation Matrix of Numerical Features')\n",
        "plt.show()"
      ]
    },
    {
      "cell_type": "code",
      "execution_count": null,
      "metadata": {
        "id": "UAQA_8u7avgw"
      },
      "outputs": [],
      "source": [
        "# Correlation with readmission\n",
        "readmission_corr = corr['readmission_30d'].sort_values(ascending=False)\n",
        "print(\"Correlation with 30-day readmission:\")\n",
        "print(readmission_corr)"
      ]
    },
    {
      "cell_type": "markdown",
      "metadata": {
        "id": "adcGC8pAavgw"
      },
      "source": [
        "## 8. Summary of Findings\n",
        "\n",
        "Based on the exploratory data analysis, here are the key findings:\n",
        "\n",
        "1. **Readmission Rate**: Approximately 15-20% of patients are readmitted within 30 days.\n",
        "\n",
        "2. **Demographics**:\n",
        "   - Older patients have higher readmission rates\n",
        "   - Gender shows some differences in readmission rates\n",
        "\n",
        "3. **Medical Conditions**:\n",
        "   - Heart failure and COPD show the strongest association with readmission\n",
        "   - Certain primary diagnoses have significantly higher readmission rates\n",
        "\n",
        "4. **Hospital Stay**:\n",
        "   - Longer length of stay is associated with higher readmission risk\n",
        "   - Emergency admissions have higher readmission rates\n",
        "   - Discharge to skilled nursing facilities shows higher readmission rates\n",
        "\n",
        "5. **Medications and History**:\n",
        "   - Higher medication count is associated with increased readmission risk\n",
        "   - Lower medication adherence is strongly associated with readmission\n",
        "   - More previous admissions correlate with higher readmission risk\n",
        "\n",
        "6. **Key Predictors**:\n",
        "   - Medication adherence (negative correlation)\n",
        "   - Previous admissions (positive correlation)\n",
        "   - Heart failure (positive correlation)\n",
        "   - Length of stay (positive correlation)\n",
        "   - Age (positive correlation)\n",
        "\n",
        "These findings will guide our feature engineering and modeling approach."
      ]
    }
  ],
  "metadata": {
    "kernelspec": {
      "display_name": "Python 3",
      "language": "python",
      "name": "python3"
    },
    "language_info": {
      "codemirror_mode": {
        "name": "ipython",
        "version": 3
      },
      "file_extension": ".py",
      "mimetype": "text/x-python",
      "name": "python",
      "nbconvert_exporter": "python",
      "pygments_lexer": "ipython3",
      "version": "3.8.10"
    },
    "colab": {
      "provenance": []
    }
  },
  "nbformat": 4,
  "nbformat_minor": 0
}